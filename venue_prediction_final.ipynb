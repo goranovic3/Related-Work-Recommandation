{
  "cells": [
    {
      "cell_type": "markdown",
      "source": [
        "###Installs and imports"
      ],
      "metadata": {
        "id": "GirwCX0D3cES"
      }
    },
    {
      "cell_type": "code",
      "execution_count": 1,
      "metadata": {
        "colab": {
          "base_uri": "https://localhost:8080/"
        },
        "id": "HYzB8MKP7sfm",
        "outputId": "56dbf9fc-2fce-460d-815c-748d86c0e5aa"
      },
      "outputs": [
        {
          "output_type": "stream",
          "name": "stdout",
          "text": [
            "Requirement already satisfied: transformers in /usr/local/lib/python3.11/dist-packages (4.48.3)\n",
            "Requirement already satisfied: filelock in /usr/local/lib/python3.11/dist-packages (from transformers) (3.17.0)\n",
            "Requirement already satisfied: huggingface-hub<1.0,>=0.24.0 in /usr/local/lib/python3.11/dist-packages (from transformers) (0.28.1)\n",
            "Requirement already satisfied: numpy>=1.17 in /usr/local/lib/python3.11/dist-packages (from transformers) (1.26.4)\n",
            "Requirement already satisfied: packaging>=20.0 in /usr/local/lib/python3.11/dist-packages (from transformers) (24.2)\n",
            "Requirement already satisfied: pyyaml>=5.1 in /usr/local/lib/python3.11/dist-packages (from transformers) (6.0.2)\n",
            "Requirement already satisfied: regex!=2019.12.17 in /usr/local/lib/python3.11/dist-packages (from transformers) (2024.11.6)\n",
            "Requirement already satisfied: requests in /usr/local/lib/python3.11/dist-packages (from transformers) (2.32.3)\n",
            "Requirement already satisfied: tokenizers<0.22,>=0.21 in /usr/local/lib/python3.11/dist-packages (from transformers) (0.21.0)\n",
            "Requirement already satisfied: safetensors>=0.4.1 in /usr/local/lib/python3.11/dist-packages (from transformers) (0.5.2)\n",
            "Requirement already satisfied: tqdm>=4.27 in /usr/local/lib/python3.11/dist-packages (from transformers) (4.67.1)\n",
            "Requirement already satisfied: fsspec>=2023.5.0 in /usr/local/lib/python3.11/dist-packages (from huggingface-hub<1.0,>=0.24.0->transformers) (2024.10.0)\n",
            "Requirement already satisfied: typing-extensions>=3.7.4.3 in /usr/local/lib/python3.11/dist-packages (from huggingface-hub<1.0,>=0.24.0->transformers) (4.12.2)\n",
            "Requirement already satisfied: charset-normalizer<4,>=2 in /usr/local/lib/python3.11/dist-packages (from requests->transformers) (3.4.1)\n",
            "Requirement already satisfied: idna<4,>=2.5 in /usr/local/lib/python3.11/dist-packages (from requests->transformers) (3.10)\n",
            "Requirement already satisfied: urllib3<3,>=1.21.1 in /usr/local/lib/python3.11/dist-packages (from requests->transformers) (2.3.0)\n",
            "Requirement already satisfied: certifi>=2017.4.17 in /usr/local/lib/python3.11/dist-packages (from requests->transformers) (2025.1.31)\n"
          ]
        }
      ],
      "source": [
        "!pip install transformers"
      ]
    },
    {
      "cell_type": "code",
      "execution_count": 2,
      "metadata": {
        "id": "6b5XxOWh7aWB"
      },
      "outputs": [],
      "source": [
        "import pandas as pd\n",
        "import numpy as np\n",
        "import torch\n",
        "\n",
        "from collections import Counter\n",
        "import re\n",
        "\n",
        "from sklearn.feature_extraction.text import TfidfVectorizer #\n",
        "\n",
        "from sklearn.model_selection import train_test_split, GridSearchCV #\n",
        "\n",
        "from sklearn.svm import SVC #\n",
        "\n",
        "from sklearn.naive_bayes import MultinomialNB #\n",
        "from sklearn.linear_model import SGDClassifier, LogisticRegression #\n",
        "from sklearn.multiclass import OneVsRestClassifier #\n",
        "from sklearn.metrics import accuracy_score, classification_report #\n",
        "\n",
        "from sklearn.ensemble import RandomForestClassifier\n",
        "\n",
        "\n",
        "import nltk #\n",
        "import string #\n",
        "from nltk.corpus import stopwords #\n",
        "from tqdm import tqdm\n",
        "import joblib\n",
        "\n",
        "\n",
        "from sklearn.preprocessing import LabelEncoder #\n",
        "\n",
        "from google.colab import drive\n",
        "\n",
        "from transformers import BertTokenizer, BertForSequenceClassification"
      ]
    },
    {
      "cell_type": "markdown",
      "source": [
        "###Drive mounting"
      ],
      "metadata": {
        "id": "XyKB860k3Z0E"
      }
    },
    {
      "cell_type": "code",
      "execution_count": 3,
      "metadata": {
        "id": "2G9I92Jp7cfs",
        "colab": {
          "base_uri": "https://localhost:8080/"
        },
        "outputId": "e4351027-43c7-4fb8-f79f-cf4e798ae5ce"
      },
      "outputs": [
        {
          "output_type": "stream",
          "name": "stdout",
          "text": [
            "Mounted at /content/drive\n"
          ]
        }
      ],
      "source": [
        "\n",
        "drive.mount('/content/drive')"
      ]
    },
    {
      "cell_type": "code",
      "execution_count": 4,
      "metadata": {
        "id": "TL3k85cJ8GzF"
      },
      "outputs": [],
      "source": [
        "data_path = r'/content/drive/My Drive/dblp-v10.csv'"
      ]
    },
    {
      "cell_type": "code",
      "execution_count": 5,
      "metadata": {
        "colab": {
          "base_uri": "https://localhost:8080/"
        },
        "id": "Yila22AG7aWI",
        "outputId": "abbcdb6b-deb4-42df-ff5b-2977999465a5"
      },
      "outputs": [
        {
          "output_type": "stream",
          "name": "stdout",
          "text": [
            "File opened successfully!\n"
          ]
        }
      ],
      "source": [
        "with open(data_path, \"r\") as f:\n",
        "    print(\"File opened successfully!\")\n"
      ]
    },
    {
      "cell_type": "markdown",
      "metadata": {
        "id": "K8XNgkoN7aWI"
      },
      "source": [
        "###Data load\n",
        "\n",
        "Our data, in the venue prediction case, is 1.000.000 data instances initially.\n",
        "\n",
        "Any data instance without an abstract or a venue is removed, so they aren't used in the training. This curation resulted in 723.768 different abstracts with their venues."
      ]
    },
    {
      "cell_type": "code",
      "execution_count": 6,
      "metadata": {
        "id": "Ise9UQXI7aWK",
        "colab": {
          "base_uri": "https://localhost:8080/"
        },
        "outputId": "161da99b-9373-4177-a694-1f2ecbae510b"
      },
      "outputs": [
        {
          "output_type": "stream",
          "name": "stdout",
          "text": [
            "Total papers before curation: 1000000\n"
          ]
        }
      ],
      "source": [
        "df = pd.read_csv(data_path)\n",
        "print(f'Total papers before curation: {df.shape[0]}')"
      ]
    },
    {
      "cell_type": "code",
      "execution_count": 7,
      "metadata": {
        "id": "vKWjXWzK7aWL",
        "colab": {
          "base_uri": "https://localhost:8080/"
        },
        "outputId": "17a15073-070e-4142-a499-354d4e96422b"
      },
      "outputs": [
        {
          "output_type": "stream",
          "name": "stdout",
          "text": [
            "Total papers after curation: 723768\n"
          ]
        }
      ],
      "source": [
        "df.dropna(subset=[\"abstract\", \"venue\"], inplace=True)\n",
        "df[\"abstract\"] = df[\"abstract\"].str.lower()\n",
        "print(f'Total papers after curation: {df.shape[0]}')\n"
      ]
    },
    {
      "cell_type": "markdown",
      "source": [
        "The abstracts are preprocessed by lowercasing them and removing punctuation."
      ],
      "metadata": {
        "id": "NXhsCmMb360I"
      }
    },
    {
      "cell_type": "code",
      "execution_count": 8,
      "metadata": {
        "id": "UwJY8VjQ7aWN"
      },
      "outputs": [],
      "source": [
        "\n",
        "def preprocess_text(text):\n",
        "    text = str(text)\n",
        "    text = text.lower()\n",
        "    text = text.translate(str.maketrans(\"\", \"\", string.punctuation))\n",
        "    return text\n",
        "\n",
        "df['processed_abstract'] = df['abstract'].apply(preprocess_text)"
      ]
    },
    {
      "cell_type": "markdown",
      "source": [
        "The dataset is very large, with over 3000 different labels. Such complexity makes it difficult to obtain accurate predictions and relevant reccomendations. Thus, we plot the distribution of the number of papers per venue to see if all of this data is relevant."
      ],
      "metadata": {
        "id": "RuizDS6L4cCo"
      }
    },
    {
      "cell_type": "code",
      "source": [
        "import pandas as pd\n",
        "import matplotlib.pyplot as plt\n",
        "\n",
        "label_counts = df[\"venue\"].value_counts()\n",
        "print(label_counts.describe())\n",
        "print(label_counts[:20])\n",
        "\n",
        "plt.figure(figsize=(10,5))\n",
        "label_counts.hist(bins=50)\n",
        "plt.yscale(\"log\")\n",
        "plt.title(\"Venue Label Distribution\")\n",
        "plt.xlabel(\"Venue ID\")\n",
        "plt.ylabel(\"Number of Papers\")\n",
        "plt.show()\n"
      ],
      "metadata": {
        "colab": {
          "base_uri": "https://localhost:8080/",
          "height": 968
        },
        "id": "8_yK9F_Mo0oU",
        "outputId": "d6044113-343b-41c4-c48e-fff7f5be9811"
      },
      "execution_count": 9,
      "outputs": [
        {
          "output_type": "stream",
          "name": "stdout",
          "text": [
            "count     3779.000000\n",
            "mean       191.523684\n",
            "std        587.955241\n",
            "min          1.000000\n",
            "25%          4.000000\n",
            "50%         38.000000\n",
            "75%        148.500000\n",
            "max      11770.000000\n",
            "Name: count, dtype: float64\n",
            "venue\n",
            "international conference on acoustics, speech, and signal processing    11770\n",
            "international conference on robotics and automation                      9573\n",
            "Lecture Notes in Computer Science                                        7606\n",
            "international conference on communications                               7272\n",
            "intelligent robots and systems                                           6968\n",
            "international conference on image processing                             6757\n",
            "global communications conference                                         6651\n",
            "international geoscience and remote sensing symposium                    6098\n",
            "Bioinformatics                                                           5875\n",
            "conference on decision and control                                       5771\n",
            "international symposium on circuits and systems                          5267\n",
            "IEEE Transactions on Signal Processing                                   5219\n",
            "computer vision and pattern recognition                                  5176\n",
            "vehicular technology conference                                          5031\n",
            "IEEE Transactions on Communications                                      4698\n",
            "IEEE Transactions on Information Theory                                  4658\n",
            "hawaii international conference on system sciences                       4584\n",
            "neural information processing systems                                    4471\n",
            "national conference on artificial intelligence                           4179\n",
            "IEEE Transactions on Industrial Electronics                              3922\n",
            "Name: count, dtype: int64\n"
          ]
        },
        {
          "output_type": "display_data",
          "data": {
            "text/plain": [
              "<Figure size 1000x500 with 1 Axes>"
            ],
            "image/png": "[encoded data removed]"
          },
          "metadata": {}
        }
      ]
    },
    {
      "cell_type": "markdown",
      "source": [
        "After plotting, we came to a realization that many venues have a very small number of submitted papers. Thus, we decided to simplify our data.\n",
        "\n",
        "Firstly, venues with less than 500 papers were grouped into a single class called \"Other\". This effectively reduced the number of classes to around 300, however, so many labels still made it too complex to train models.\n",
        "\n",
        "Thus, we decided to only consider N most popular venues. After exploration, we landed at 20 most popular venues, which yield 121.546 papers overall.\n",
        "\n",
        "Thus, we reduced the number of labels around 180 times, while the dataset size only got reduced 6 times."
      ],
      "metadata": {
        "id": "uf8NbLAj4vV9"
      }
    },
    {
      "cell_type": "code",
      "source": [
        "import pandas as pd\n",
        "\n",
        "venue_counts = df[\"venue\"].value_counts()\n",
        "\n",
        "top_venues = venue_counts.nlargest(20).index\n",
        "\n",
        "df = df[df[\"venue\"].isin(top_venues)].copy()\n",
        "\n",
        "df[\"venue\"], venue_mapping = pd.factorize(df[\"venue\"])\n",
        "\n",
        "print(f\"Number of venues after filtering: {df['venue'].nunique()}\")\n",
        "\n",
        "print(\"Updated Venue Mapping:\")\n",
        "print(dict(list(enumerate(venue_mapping))))\n",
        "print(df.shape)\n"
      ],
      "metadata": {
        "colab": {
          "base_uri": "https://localhost:8080/"
        },
        "id": "bwJWIQCmpgO0",
        "outputId": "4638c451-ade1-4ca2-f54f-6f0e5037808f"
      },
      "execution_count": 10,
      "outputs": [
        {
          "output_type": "stream",
          "name": "stdout",
          "text": [
            "Number of venues after filtering: 20\n",
            "Updated Venue Mapping:\n",
            "(121546, 9)\n"
          ]
        }
      ]
    },
    {
      "cell_type": "code",
      "source": [
        "venue_mapping_dict = dict(list(enumerate(venue_mapping)))"
      ],
      "metadata": {
        "id": "9e_L8IeAXRXJ"
      },
      "execution_count": 37,
      "outputs": []
    },
    {
      "cell_type": "code",
      "source": [
        "import pandas as pd\n",
        "import matplotlib.pyplot as plt\n",
        "\n",
        "label_counts = df[\"venue\"].value_counts()\n",
        "print(label_counts.describe())\n",
        "print(label_counts[:20])\n",
        "\n",
        "# Plot distribution\n",
        "plt.figure(figsize=(10,5))\n",
        "label_counts.hist(bins=50)\n",
        "plt.yscale(\"log\")\n",
        "plt.title(\"Venue Label Distribution\")\n",
        "plt.xlabel(\"Venue ID\")\n",
        "plt.ylabel(\"Number of Papers\")\n",
        "plt.show()\n"
      ],
      "metadata": {
        "id": "WxY3l5REpkhW",
        "colab": {
          "base_uri": "https://localhost:8080/",
          "height": 954
        },
        "outputId": "529b3227-7edc-4a35-da49-334634be4558"
      },
      "execution_count": 11,
      "outputs": [
        {
          "output_type": "stream",
          "name": "stdout",
          "text": [
            "count       20.000000\n",
            "mean      6077.300000\n",
            "std       1924.726422\n",
            "min       3922.000000\n",
            "25%       4688.000000\n",
            "50%       5519.000000\n",
            "75%       6809.750000\n",
            "max      11770.000000\n",
            "Name: count, dtype: float64\n",
            "venue\n",
            "10    11770\n",
            "0      9573\n",
            "16     7606\n",
            "3      7272\n",
            "8      6968\n",
            "12     6757\n",
            "7      6651\n",
            "13     6098\n",
            "5      5875\n",
            "14     5771\n",
            "1      5267\n",
            "19     5219\n",
            "6      5176\n",
            "11     5031\n",
            "4      4698\n",
            "18     4658\n",
            "2      4584\n",
            "9      4471\n",
            "17     4179\n",
            "15     3922\n",
            "Name: count, dtype: int64\n"
          ]
        },
        {
          "output_type": "display_data",
          "data": {
            "text/plain": [
              "<Figure size 1000x500 with 1 Axes>"
            ],
            "image/png": "[encoded data removed]"
          },
          "metadata": {}
        }
      ]
    },
    {
      "cell_type": "code",
      "source": [
        "print(df['venue'])"
      ],
      "metadata": {
        "id": "7PhgPJg8mG6z",
        "colab": {
          "base_uri": "https://localhost:8080/"
        },
        "outputId": "cd720142-a759-43cc-fc13-3c758e6f8596"
      },
      "execution_count": 12,
      "outputs": [
        {
          "output_type": "stream",
          "name": "stdout",
          "text": [
            "8          0\n",
            "13         1\n",
            "29         2\n",
            "42         3\n",
            "50         4\n",
            "          ..\n",
            "999742     4\n",
            "999745    11\n",
            "999873    18\n",
            "999883     2\n",
            "999933    19\n",
            "Name: venue, Length: 121546, dtype: int64\n"
          ]
        }
      ]
    },
    {
      "cell_type": "markdown",
      "source": [
        "Since some venues have a large amount of submitted papers, class weights are very useful for balancing data for BERT and ML models."
      ],
      "metadata": {
        "id": "0YgdyGFg58IM"
      }
    },
    {
      "cell_type": "code",
      "source": [
        "import torch\n",
        "\n",
        "class_counts = venue_counts.to_numpy()\n",
        "class_weights = 1.0 / (class_counts + 1e-5)\n",
        "\n",
        "class_weights = class_weights / class_weights.sum() * len(class_counts)\n",
        "\n",
        "class_weights = torch.tensor(class_weights, dtype=torch.float)\n",
        "\n",
        "print(\"Computed Class Weights:\", class_weights[:20])\n"
      ],
      "metadata": {
        "id": "1zn_UhhhrDY1",
        "colab": {
          "base_uri": "https://localhost:8080/"
        },
        "outputId": "711d2a6e-bd02-4094-9c0a-23680ae1f41c"
      },
      "execution_count": 13,
      "outputs": [
        {
          "output_type": "stream",
          "name": "stdout",
          "text": [
            "Computed Class Weights: tensor([0.0004, 0.0005, 0.0006, 0.0006, 0.0007, 0.0007, 0.0007, 0.0007, 0.0008,\n",
            "        0.0008, 0.0009, 0.0009, 0.0009, 0.0009, 0.0010, 0.0010, 0.0010, 0.0010,\n",
            "        0.0011, 0.0012])\n"
          ]
        }
      ]
    },
    {
      "cell_type": "markdown",
      "source": [
        "###ML Methods\n",
        "\n",
        "We first explore some classical machine learning methods seen in class, together with the TF-IDF vectorizer."
      ],
      "metadata": {
        "id": "TpZMWneRfybm"
      }
    },
    {
      "cell_type": "code",
      "execution_count": 15,
      "metadata": {
        "id": "vEFEfWxW7aWN"
      },
      "outputs": [],
      "source": [
        "\n",
        "vectorizer = TfidfVectorizer(max_features=5000)\n",
        "X = vectorizer.fit_transform(df['processed_abstract']).toarray()\n",
        "y = df['venue']\n"
      ]
    },
    {
      "cell_type": "code",
      "execution_count": 16,
      "metadata": {
        "id": "oz-LRgHG7aWO"
      },
      "outputs": [],
      "source": [
        "\n",
        "X_train, X_test, y_train, y_test = train_test_split(X, y, test_size=0.2, random_state=42)\n",
        "\n"
      ]
    },
    {
      "cell_type": "code",
      "source": [
        "from sklearn.utils.class_weight import compute_class_weight\n",
        "import numpy as np\n",
        "\n",
        "# Compute class weights using sklearn (for models that support it)\n",
        "class_weights = compute_class_weight(class_weight=\"balanced\", classes=np.unique(y_train), y=y_train)\n",
        "class_weights_dict = {i: weight for i, weight in enumerate(class_weights)}\n",
        "\n",
        "print(\"Computed Class Weights:\", class_weights_dict)\n"
      ],
      "metadata": {
        "id": "q-KCX2nMr8DX",
        "colab": {
          "base_uri": "https://localhost:8080/"
        },
        "outputId": "493fc9ed-b6c6-412c-f1cf-bf5c6889eae9"
      },
      "execution_count": 17,
      "outputs": [
        {
          "output_type": "stream",
          "name": "stdout",
          "text": [
            "Computed Class Weights: {0: 0.6298484259619122, 1: 1.143683839096683, 2: 1.3079903147699758, 3: 0.8393991712707183, 4: 1.2995990376904571, 5: 1.0370733788395905, 6: 1.1757678355501813, 7: 0.9150762281197063, 8: 0.876789900811542, 9: 1.3733898305084746, 10: 0.5157861234882241, 11: 1.2100049776007964, 12: 0.9031766672859001, 13: 0.9995476973684211, 14: 1.0455483870967741, 15: 1.5419600380589915, 16: 0.7984562325505009, 17: 1.46, 18: 1.3016867469879518, 19: 1.1723655654690137}\n"
          ]
        }
      ]
    },
    {
      "cell_type": "code",
      "source": [
        "\n",
        "num_labels = df[\"venue\"].nunique()\n",
        "print(f\"Number of unique labels: {num_labels}\")\n"
      ],
      "metadata": {
        "id": "Rv5_fAsxtAsH",
        "colab": {
          "base_uri": "https://localhost:8080/"
        },
        "outputId": "da4046ca-a197-420d-8afe-9dad7340c752"
      },
      "execution_count": 19,
      "outputs": [
        {
          "output_type": "stream",
          "name": "stdout",
          "text": [
            "Number of unique labels: 20\n"
          ]
        }
      ]
    },
    {
      "cell_type": "markdown",
      "source": [
        "Note: the A100 PGU usage tokens ran out, so we went back to CPU-based ML models, which is why SVM and RF are uncommented. They took a very long time to execute on CPU."
      ],
      "metadata": {
        "id": "7IsTvy0ORK8z"
      }
    },
    {
      "cell_type": "code",
      "execution_count": 21,
      "metadata": {
        "id": "BSkFWEAd7aWP",
        "colab": {
          "base_uri": "https://localhost:8080/",
          "height": 1000
        },
        "outputId": "8fba3e0f-ee06-4b5c-c8f1-a16b34fffb8c"
      },
      "outputs": [
        {
          "output_type": "stream",
          "name": "stderr",
          "text": [
            "/usr/local/lib/python3.11/dist-packages/sklearn/linear_model/_logistic.py:465: ConvergenceWarning: lbfgs failed to converge (status=1):\n",
            "STOP: TOTAL NO. of ITERATIONS REACHED LIMIT.\n",
            "\n",
            "Increase the number of iterations (max_iter) or scale the data as shown in:\n",
            "    https://scikit-learn.org/stable/modules/preprocessing.html\n",
            "Please also refer to the documentation for alternative solver options:\n",
            "    https://scikit-learn.org/stable/modules/linear_model.html#logistic-regression\n",
            "  n_iter_i = _check_optimize_result(\n"
          ]
        },
        {
          "output_type": "stream",
          "name": "stdout",
          "text": [
            "Logistic Regression: Accuracy = 0.5805\n",
            "Naive Bayes: Accuracy = 0.5283\n",
            "SGD + OneVsRest: Accuracy = 0.5653\n",
            "Classification Report for Logistic Regression:\n",
            "              precision    recall  f1-score   support\n",
            "\n",
            "           0       0.60      0.47      0.52      1854\n",
            "           1       0.65      0.66      0.65      1016\n",
            "           2       0.69      0.77      0.72       867\n",
            "           3       0.35      0.24      0.28      1480\n",
            "           4       0.45      0.56      0.50       957\n",
            "           5       0.96      0.96      0.96      1187\n",
            "           6       0.52      0.66      0.59      1041\n",
            "           7       0.34      0.30      0.32      1338\n",
            "           8       0.45      0.47      0.46      1423\n",
            "           9       0.58      0.71      0.64       931\n",
            "          10       0.71      0.40      0.51      2344\n",
            "          11       0.42      0.54      0.47      1013\n",
            "          12       0.51      0.57      0.54      1374\n",
            "          13       0.88      0.90      0.89      1234\n",
            "          14       0.69      0.76      0.72      1121\n",
            "          15       0.75      0.79      0.77       769\n",
            "          16       0.59      0.50      0.54      1517\n",
            "          17       0.49      0.61      0.54       849\n",
            "          18       0.61      0.74      0.67       923\n",
            "          19       0.45      0.61      0.52      1072\n",
            "\n",
            "    accuracy                           0.58     24310\n",
            "   macro avg       0.59      0.61      0.59     24310\n",
            "weighted avg       0.59      0.58      0.57     24310\n",
            "\n",
            "Classification Report for Naive Bayes:\n",
            "              precision    recall  f1-score   support\n",
            "\n",
            "           0       0.65      0.23      0.34      1854\n",
            "           1       0.64      0.62      0.63      1016\n",
            "           2       0.51      0.81      0.62       867\n",
            "           3       0.37      0.09      0.15      1480\n",
            "           4       0.34      0.59      0.44       957\n",
            "           5       0.93      0.96      0.95      1187\n",
            "           6       0.41      0.74      0.53      1041\n",
            "           7       0.36      0.39      0.38      1338\n",
            "           8       0.43      0.57      0.49      1423\n",
            "           9       0.46      0.72      0.56       931\n",
            "          10       0.88      0.23      0.36      2344\n",
            "          11       0.41      0.52      0.46      1013\n",
            "          12       0.52      0.49      0.51      1374\n",
            "          13       0.88      0.84      0.86      1234\n",
            "          14       0.68      0.71      0.69      1121\n",
            "          15       0.64      0.79      0.71       769\n",
            "          16       0.60      0.25      0.36      1517\n",
            "          17       0.41      0.63      0.50       849\n",
            "          18       0.58      0.72      0.65       923\n",
            "          19       0.38      0.64      0.48      1072\n",
            "\n",
            "    accuracy                           0.53     24310\n",
            "   macro avg       0.55      0.58      0.53     24310\n",
            "weighted avg       0.58      0.53      0.51     24310\n",
            "\n",
            "Classification Report for SGD + OneVsRest:\n",
            "              precision    recall  f1-score   support\n",
            "\n",
            "           0       0.53      0.71      0.61      1854\n",
            "           1       0.64      0.63      0.64      1016\n",
            "           2       0.64      0.77      0.70       867\n",
            "           3       0.36      0.11      0.17      1480\n",
            "           4       0.45      0.45      0.45       957\n",
            "           5       0.90      0.99      0.94      1187\n",
            "           6       0.49      0.63      0.55      1041\n",
            "           7       0.36      0.30      0.33      1338\n",
            "           8       0.44      0.23      0.31      1423\n",
            "           9       0.53      0.72      0.61       931\n",
            "          10       0.65      0.44      0.53      2344\n",
            "          11       0.40      0.54      0.46      1013\n",
            "          12       0.48      0.62      0.54      1374\n",
            "          13       0.78      0.94      0.85      1234\n",
            "          14       0.62      0.78      0.69      1121\n",
            "          15       0.81      0.70      0.75       769\n",
            "          16       0.60      0.48      0.54      1517\n",
            "          17       0.64      0.37      0.47       849\n",
            "          18       0.48      0.80      0.60       923\n",
            "          19       0.48      0.47      0.47      1072\n",
            "\n",
            "    accuracy                           0.57     24310\n",
            "   macro avg       0.56      0.58      0.56     24310\n",
            "weighted avg       0.56      0.57      0.55     24310\n",
            "\n"
          ]
        },
        {
          "output_type": "error",
          "ename": "KeyboardInterrupt",
          "evalue": "",
          "traceback": [
            "\u001b[0;31m---------------------------------------------------------------------------\u001b[0m",
            "\u001b[0;31mKeyboardInterrupt\u001b[0m                         Traceback (most recent call last)",
            "\u001b[0;32m<ipython-input-21-097952a62ecc>\u001b[0m in \u001b[0;36m<cell line: 0>\u001b[0;34m()\u001b[0m\n\u001b[1;32m     31\u001b[0m }\n\u001b[1;32m     32\u001b[0m \u001b[0mgrid_search_sgd\u001b[0m \u001b[0;34m=\u001b[0m \u001b[0mGridSearchCV\u001b[0m\u001b[0;34m(\u001b[0m\u001b[0mOneVsRestClassifier\u001b[0m\u001b[0;34m(\u001b[0m\u001b[0mSGDClassifier\u001b[0m\u001b[0;34m(\u001b[0m\u001b[0;34m)\u001b[0m\u001b[0;34m)\u001b[0m\u001b[0;34m,\u001b[0m \u001b[0mparam_grid_sgd\u001b[0m\u001b[0;34m,\u001b[0m \u001b[0mcv\u001b[0m\u001b[0;34m=\u001b[0m\u001b[0;36m5\u001b[0m\u001b[0;34m,\u001b[0m \u001b[0mscoring\u001b[0m\u001b[0;34m=\u001b[0m\u001b[0;34m\"accuracy\"\u001b[0m\u001b[0;34m,\u001b[0m \u001b[0mn_jobs\u001b[0m\u001b[0;34m=\u001b[0m\u001b[0;34m-\u001b[0m\u001b[0;36m1\u001b[0m\u001b[0;34m)\u001b[0m\u001b[0;34m\u001b[0m\u001b[0;34m\u001b[0m\u001b[0m\n\u001b[0;32m---> 33\u001b[0;31m \u001b[0mgrid_search_sgd\u001b[0m\u001b[0;34m.\u001b[0m\u001b[0mfit\u001b[0m\u001b[0;34m(\u001b[0m\u001b[0mX_train\u001b[0m\u001b[0;34m,\u001b[0m \u001b[0my_train\u001b[0m\u001b[0;34m)\u001b[0m\u001b[0;34m\u001b[0m\u001b[0;34m\u001b[0m\u001b[0m\n\u001b[0m\u001b[1;32m     34\u001b[0m \u001b[0;34m\u001b[0m\u001b[0m\n\u001b[1;32m     35\u001b[0m \u001b[0mprint\u001b[0m\u001b[0;34m(\u001b[0m\u001b[0;34m\"Best Parameters for SGD + OneVsRest:\"\u001b[0m\u001b[0;34m,\u001b[0m \u001b[0mgrid_search_sgd\u001b[0m\u001b[0;34m.\u001b[0m\u001b[0mbest_params_\u001b[0m\u001b[0;34m)\u001b[0m\u001b[0;34m\u001b[0m\u001b[0;34m\u001b[0m\u001b[0m\n",
            "\u001b[0;32m/usr/local/lib/python3.11/dist-packages/sklearn/base.py\u001b[0m in \u001b[0;36mwrapper\u001b[0;34m(estimator, *args, **kwargs)\u001b[0m\n\u001b[1;32m   1387\u001b[0m                 )\n\u001b[1;32m   1388\u001b[0m             ):\n\u001b[0;32m-> 1389\u001b[0;31m                 \u001b[0;32mreturn\u001b[0m \u001b[0mfit_method\u001b[0m\u001b[0;34m(\u001b[0m\u001b[0mestimator\u001b[0m\u001b[0;34m,\u001b[0m \u001b[0;34m*\u001b[0m\u001b[0margs\u001b[0m\u001b[0;34m,\u001b[0m \u001b[0;34m**\u001b[0m\u001b[0mkwargs\u001b[0m\u001b[0;34m)\u001b[0m\u001b[0;34m\u001b[0m\u001b[0;34m\u001b[0m\u001b[0m\n\u001b[0m\u001b[1;32m   1390\u001b[0m \u001b[0;34m\u001b[0m\u001b[0m\n\u001b[1;32m   1391\u001b[0m         \u001b[0;32mreturn\u001b[0m \u001b[0mwrapper\u001b[0m\u001b[0;34m\u001b[0m\u001b[0;34m\u001b[0m\u001b[0m\n",
            "\u001b[0;32m/usr/local/lib/python3.11/dist-packages/sklearn/model_selection/_search.py\u001b[0m in \u001b[0;36mfit\u001b[0;34m(self, X, y, **params)\u001b[0m\n\u001b[1;32m   1022\u001b[0m                 \u001b[0;32mreturn\u001b[0m \u001b[0mresults\u001b[0m\u001b[0;34m\u001b[0m\u001b[0;34m\u001b[0m\u001b[0m\n\u001b[1;32m   1023\u001b[0m \u001b[0;34m\u001b[0m\u001b[0m\n\u001b[0;32m-> 1024\u001b[0;31m             \u001b[0mself\u001b[0m\u001b[0;34m.\u001b[0m\u001b[0m_run_search\u001b[0m\u001b[0;34m(\u001b[0m\u001b[0mevaluate_candidates\u001b[0m\u001b[0;34m)\u001b[0m\u001b[0;34m\u001b[0m\u001b[0;34m\u001b[0m\u001b[0m\n\u001b[0m\u001b[1;32m   1025\u001b[0m \u001b[0;34m\u001b[0m\u001b[0m\n\u001b[1;32m   1026\u001b[0m             \u001b[0;31m# multimetric is determined here because in the case of a callable\u001b[0m\u001b[0;34m\u001b[0m\u001b[0;34m\u001b[0m\u001b[0m\n",
            "\u001b[0;32m/usr/local/lib/python3.11/dist-packages/sklearn/model_selection/_search.py\u001b[0m in \u001b[0;36m_run_search\u001b[0;34m(self, evaluate_candidates)\u001b[0m\n\u001b[1;32m   1569\u001b[0m     \u001b[0;32mdef\u001b[0m \u001b[0m_run_search\u001b[0m\u001b[0;34m(\u001b[0m\u001b[0mself\u001b[0m\u001b[0;34m,\u001b[0m \u001b[0mevaluate_candidates\u001b[0m\u001b[0;34m)\u001b[0m\u001b[0;34m:\u001b[0m\u001b[0;34m\u001b[0m\u001b[0;34m\u001b[0m\u001b[0m\n\u001b[1;32m   1570\u001b[0m         \u001b[0;34m\"\"\"Search all candidates in param_grid\"\"\"\u001b[0m\u001b[0;34m\u001b[0m\u001b[0;34m\u001b[0m\u001b[0m\n\u001b[0;32m-> 1571\u001b[0;31m         \u001b[0mevaluate_candidates\u001b[0m\u001b[0;34m(\u001b[0m\u001b[0mParameterGrid\u001b[0m\u001b[0;34m(\u001b[0m\u001b[0mself\u001b[0m\u001b[0;34m.\u001b[0m\u001b[0mparam_grid\u001b[0m\u001b[0;34m)\u001b[0m\u001b[0;34m)\u001b[0m\u001b[0;34m\u001b[0m\u001b[0;34m\u001b[0m\u001b[0m\n\u001b[0m\u001b[1;32m   1572\u001b[0m \u001b[0;34m\u001b[0m\u001b[0m\n\u001b[1;32m   1573\u001b[0m \u001b[0;34m\u001b[0m\u001b[0m\n",
            "\u001b[0;32m/usr/local/lib/python3.11/dist-packages/sklearn/model_selection/_search.py\u001b[0m in \u001b[0;36mevaluate_candidates\u001b[0;34m(candidate_params, cv, more_results)\u001b[0m\n\u001b[1;32m    968\u001b[0m                     )\n\u001b[1;32m    969\u001b[0m \u001b[0;34m\u001b[0m\u001b[0m\n\u001b[0;32m--> 970\u001b[0;31m                 out = parallel(\n\u001b[0m\u001b[1;32m    971\u001b[0m                     delayed(_fit_and_score)(\n\u001b[1;32m    972\u001b[0m                         \u001b[0mclone\u001b[0m\u001b[0;34m(\u001b[0m\u001b[0mbase_estimator\u001b[0m\u001b[0;34m)\u001b[0m\u001b[0;34m,\u001b[0m\u001b[0;34m\u001b[0m\u001b[0;34m\u001b[0m\u001b[0m\n",
            "\u001b[0;32m/usr/local/lib/python3.11/dist-packages/sklearn/utils/parallel.py\u001b[0m in \u001b[0;36m__call__\u001b[0;34m(self, iterable)\u001b[0m\n\u001b[1;32m     75\u001b[0m             \u001b[0;32mfor\u001b[0m \u001b[0mdelayed_func\u001b[0m\u001b[0;34m,\u001b[0m \u001b[0margs\u001b[0m\u001b[0;34m,\u001b[0m \u001b[0mkwargs\u001b[0m \u001b[0;32min\u001b[0m \u001b[0miterable\u001b[0m\u001b[0;34m\u001b[0m\u001b[0;34m\u001b[0m\u001b[0m\n\u001b[1;32m     76\u001b[0m         )\n\u001b[0;32m---> 77\u001b[0;31m         \u001b[0;32mreturn\u001b[0m \u001b[0msuper\u001b[0m\u001b[0;34m(\u001b[0m\u001b[0;34m)\u001b[0m\u001b[0;34m.\u001b[0m\u001b[0m__call__\u001b[0m\u001b[0;34m(\u001b[0m\u001b[0miterable_with_config\u001b[0m\u001b[0;34m)\u001b[0m\u001b[0;34m\u001b[0m\u001b[0;34m\u001b[0m\u001b[0m\n\u001b[0m\u001b[1;32m     78\u001b[0m \u001b[0;34m\u001b[0m\u001b[0m\n\u001b[1;32m     79\u001b[0m \u001b[0;34m\u001b[0m\u001b[0m\n",
            "\u001b[0;32m/usr/local/lib/python3.11/dist-packages/joblib/parallel.py\u001b[0m in \u001b[0;36m__call__\u001b[0;34m(self, iterable)\u001b[0m\n\u001b[1;32m   2005\u001b[0m         \u001b[0mnext\u001b[0m\u001b[0;34m(\u001b[0m\u001b[0moutput\u001b[0m\u001b[0;34m)\u001b[0m\u001b[0;34m\u001b[0m\u001b[0;34m\u001b[0m\u001b[0m\n\u001b[1;32m   2006\u001b[0m \u001b[0;34m\u001b[0m\u001b[0m\n\u001b[0;32m-> 2007\u001b[0;31m         \u001b[0;32mreturn\u001b[0m \u001b[0moutput\u001b[0m \u001b[0;32mif\u001b[0m \u001b[0mself\u001b[0m\u001b[0;34m.\u001b[0m\u001b[0mreturn_generator\u001b[0m \u001b[0;32melse\u001b[0m \u001b[0mlist\u001b[0m\u001b[0;34m(\u001b[0m\u001b[0moutput\u001b[0m\u001b[0;34m)\u001b[0m\u001b[0;34m\u001b[0m\u001b[0;34m\u001b[0m\u001b[0m\n\u001b[0m\u001b[1;32m   2008\u001b[0m \u001b[0;34m\u001b[0m\u001b[0m\n\u001b[1;32m   2009\u001b[0m     \u001b[0;32mdef\u001b[0m \u001b[0m__repr__\u001b[0m\u001b[0;34m(\u001b[0m\u001b[0mself\u001b[0m\u001b[0;34m)\u001b[0m\u001b[0;34m:\u001b[0m\u001b[0;34m\u001b[0m\u001b[0;34m\u001b[0m\u001b[0m\n",
            "\u001b[0;32m/usr/local/lib/python3.11/dist-packages/joblib/parallel.py\u001b[0m in \u001b[0;36m_get_outputs\u001b[0;34m(self, iterator, pre_dispatch)\u001b[0m\n\u001b[1;32m   1648\u001b[0m \u001b[0;34m\u001b[0m\u001b[0m\n\u001b[1;32m   1649\u001b[0m             \u001b[0;32mwith\u001b[0m \u001b[0mself\u001b[0m\u001b[0;34m.\u001b[0m\u001b[0m_backend\u001b[0m\u001b[0;34m.\u001b[0m\u001b[0mretrieval_context\u001b[0m\u001b[0;34m(\u001b[0m\u001b[0;34m)\u001b[0m\u001b[0;34m:\u001b[0m\u001b[0;34m\u001b[0m\u001b[0;34m\u001b[0m\u001b[0m\n\u001b[0;32m-> 1650\u001b[0;31m                 \u001b[0;32myield\u001b[0m \u001b[0;32mfrom\u001b[0m \u001b[0mself\u001b[0m\u001b[0;34m.\u001b[0m\u001b[0m_retrieve\u001b[0m\u001b[0;34m(\u001b[0m\u001b[0;34m)\u001b[0m\u001b[0;34m\u001b[0m\u001b[0;34m\u001b[0m\u001b[0m\n\u001b[0m\u001b[1;32m   1651\u001b[0m \u001b[0;34m\u001b[0m\u001b[0m\n\u001b[1;32m   1652\u001b[0m         \u001b[0;32mexcept\u001b[0m \u001b[0mGeneratorExit\u001b[0m\u001b[0;34m:\u001b[0m\u001b[0;34m\u001b[0m\u001b[0;34m\u001b[0m\u001b[0m\n",
            "\u001b[0;32m/usr/local/lib/python3.11/dist-packages/joblib/parallel.py\u001b[0m in \u001b[0;36m_retrieve\u001b[0;34m(self)\u001b[0m\n\u001b[1;32m   1760\u001b[0m                 (self._jobs[0].get_status(\n\u001b[1;32m   1761\u001b[0m                     timeout=self.timeout) == TASK_PENDING)):\n\u001b[0;32m-> 1762\u001b[0;31m                 \u001b[0mtime\u001b[0m\u001b[0;34m.\u001b[0m\u001b[0msleep\u001b[0m\u001b[0;34m(\u001b[0m\u001b[0;36m0.01\u001b[0m\u001b[0;34m)\u001b[0m\u001b[0;34m\u001b[0m\u001b[0;34m\u001b[0m\u001b[0m\n\u001b[0m\u001b[1;32m   1763\u001b[0m                 \u001b[0;32mcontinue\u001b[0m\u001b[0;34m\u001b[0m\u001b[0;34m\u001b[0m\u001b[0m\n\u001b[1;32m   1764\u001b[0m \u001b[0;34m\u001b[0m\u001b[0m\n",
            "\u001b[0;31mKeyboardInterrupt\u001b[0m: "
          ]
        }
      ],
      "source": [
        "priors = class_weights / class_weights.sum()\n",
        "\n",
        "models = {\n",
        "    \"Logistic Regression\": LogisticRegression(class_weight=class_weights_dict),\n",
        "   #\"SVM\": SVC(class_weight=\"balanced\"),\n",
        "   # \"Random Forest\": RandomForestClassifier(class_weight=\"balanced\"),\n",
        "    \"Naive Bayes\": MultinomialNB(class_prior=priors),\n",
        "    \"SGD + OneVsRest\": OneVsRestClassifier(SGDClassifier(class_weight=class_weights_dict))\n",
        "}\n",
        "\n",
        "results = {}\n",
        "for name, model in models.items():\n",
        "    model.fit(X_train, y_train)\n",
        "    y_pred = model.predict(X_test)\n",
        "    acc = accuracy_score(y_test, y_pred)\n",
        "    results[name] = acc\n",
        "    print(f\"{name}: Accuracy = {acc:.4f}\")\n",
        "\n",
        "for name, model in models.items():\n",
        "    y_pred = model.predict(X_test)\n",
        "    print(f\"Classification Report for {name}:\")\n",
        "    print(classification_report(y_test, y_pred))\n",
        "\n",
        "\n",
        "param_grid_sgd = {\n",
        "    \"estimator__loss\": [\"hinge\", \"log_loss\"],\n",
        "    \"estimator__alpha\": [1e-4, 1e-3],\n",
        "    \"estimator__max_iter\": [1000, 500],\n",
        "    \"estimator__tol\": [1e-3],\n",
        "    \"estimator__class_weight\": [\"balanced\", class_weights_dict],\n",
        "}\n",
        "''' Takes a very long time, output is larg\n",
        "grid_search_sgd = GridSearchCV(OneVsRestClassifier(SGDClassifier()), param_grid_sgd, cv=5, scoring=\"accuracy\", n_jobs=-1)\n",
        "grid_search_sgd.fit(X_train, y_train)\n",
        "\n",
        "print(\"Best Parameters for SGD + OneVsRest:\", grid_search_sgd.best_params_)\n",
        "print(\"Best Score:\", grid_search_sgd.best_score_)\n",
        "'''\n"
      ]
    },
    {
      "cell_type": "markdown",
      "source": [
        "###BERT\n",
        "\n",
        "To further improve the system, we explore the BERT tokenizer and model for classification."
      ],
      "metadata": {
        "id": "IhbvRLhZfS3L"
      }
    },
    {
      "cell_type": "code",
      "source": [
        "import torch\n",
        "\n",
        "labels = torch.tensor(df[\"venue\"].values, dtype=torch.long)\n",
        "\n",
        "device = torch.device(\"cuda\" if torch.cuda.is_available() else \"cpu\")\n",
        "class_counts = torch.bincount(labels)\n",
        "class_weights = 1.0 / class_counts.float()\n",
        "class_weights /= class_weights.sum()  # Normalize\n",
        "\n",
        "criterion_class = torch.nn.CrossEntropyLoss(weight=class_weights.to(device))\n"
      ],
      "metadata": {
        "id": "Jb0NtOgRc9JO"
      },
      "execution_count": 22,
      "outputs": []
    },
    {
      "cell_type": "code",
      "execution_count": 23,
      "metadata": {
        "id": "07564114",
        "colab": {
          "base_uri": "https://localhost:8080/",
          "height": 286,
          "referenced_widgets": [
            "6ec91aafcfd34ee6a33db74e2ae87d34",
            "e75b1bea0fd94a6b9335241f4a128402",
            "0c7f40d577034a03be7ab22b68143995",
            "549006a1ad0943d3982939be59cf8d79",
            "db70a989d27d4519a5f55e4726de2888",
            "92bd6576de894f03b852553a0a01af87",
            "f405bccfb0294959b1fa50c43d00805f",
            "51e5af672de0495a8de04983074af0cd",
            "bb942f37d2e44da1b1973d37c9e2070d",
            "d827bbfb135542b59d6c566d38e80f09",
            "ca751d418d394d71ba7942a758e33c8f",
            "5f27608d73244b1f8b0eb003bdb18c11",
            "0e41dec67a00400182f1d5cf6e6683b8",
            "077eaefe501c40e482252096b0a34181",
            "0790c35b905b410e88027f95ace1fe87",
            "a3ff262aaec445dc985a815c24d845ed",
            "0310409c4acf433c99c45f9827b210de",
            "787c3c5e9e8c4c50a4d802275f29f305",
            "9e5a644bf8284626ae2ef0315df952a3",
            "abcb658e08f543b8ab84d2fa7b4677a0",
            "82983295fd9e4e89841366c7b5c7f226",
            "69276c45cc344170b2a0d76ec135e8a3",
            "7471195b790d4fe38eceeeccafd6d196",
            "1ea780550c04473eb48714a0bce20a7f",
            "84295e0c506145a99ce6a0c41137749c",
            "d359665f14674b9cad67e217b39bcc7b",
            "089b9854903a412a827c78901243eec6",
            "261a0b1b4aee4a878392842d1121ca9f",
            "2120b34c78c94499a1d0bffe948b1ef8",
            "e3a35d466aec4e52912fef784305c1fa",
            "62620dc2bdc14e7e8d56c20f35fa65d1",
            "eca468bffe2c475c98f89e3a86e726a5",
            "72caeca459d540c2a279fd5d18d00bfb",
            "90bf8d147e774eed8f23a7ce8ddd512d",
            "1bcacf066a2f415a97b02376b12eda0a",
            "1b2063b67d8e48f3a0963a3177b8d1ee",
            "945652b6711248ff8ce1714bea4b9893",
            "674f21f78b6f4c04a6288220a32d89c0",
            "d0a65c880d0f4c9a8b018f52abdb5c3d",
            "fe726ae861ee47a38a79121f4c48a48a",
            "df4e6f6eb4ba403b94eb541ebcb1334a",
            "a6916f36d0f54224bdb90e0833c5283b",
            "d69ce36f60b44543ae53b69369146e36",
            "c578f3f71f6b4aaaa53b9f54d858492b"
          ]
        },
        "outputId": "ca9958be-8f01-409f-d3d6-5e6fb0eb8b9c"
      },
      "outputs": [
        {
          "output_type": "stream",
          "name": "stderr",
          "text": [
            "/usr/local/lib/python3.11/dist-packages/huggingface_hub/utils/_auth.py:94: UserWarning: \n",
            "The secret `HF_TOKEN` does not exist in your Colab secrets.\n",
            "To authenticate with the Hugging Face Hub, create a token in your settings tab (https://huggingface.co/settings/tokens), set it as secret in your Google Colab and restart your session.\n",
            "You will be able to reuse this secret in all of your notebooks.\n",
            "Please note that authentication is recommended but still optional to access public models or datasets.\n",
            "  warnings.warn(\n"
          ]
        },
        {
          "output_type": "display_data",
          "data": {
            "text/plain": [
              "tokenizer_config.json:   0%|          | 0.00/48.0 [00:00<?, ?B/s]"
            ],
            "application/vnd.jupyter.widget-view+json": {
              "version_major": 2,
              "version_minor": 0,
              "model_id": "6ec91aafcfd34ee6a33db74e2ae87d34"
            }
          },
          "metadata": {}
        },
        {
          "output_type": "display_data",
          "data": {
            "text/plain": [
              "vocab.txt:   0%|          | 0.00/232k [00:00<?, ?B/s]"
            ],
            "application/vnd.jupyter.widget-view+json": {
              "version_major": 2,
              "version_minor": 0,
              "model_id": "5f27608d73244b1f8b0eb003bdb18c11"
            }
          },
          "metadata": {}
        },
        {
          "output_type": "display_data",
          "data": {
            "text/plain": [
              "tokenizer.json:   0%|          | 0.00/466k [00:00<?, ?B/s]"
            ],
            "application/vnd.jupyter.widget-view+json": {
              "version_major": 2,
              "version_minor": 0,
              "model_id": "7471195b790d4fe38eceeeccafd6d196"
            }
          },
          "metadata": {}
        },
        {
          "output_type": "display_data",
          "data": {
            "text/plain": [
              "config.json:   0%|          | 0.00/570 [00:00<?, ?B/s]"
            ],
            "application/vnd.jupyter.widget-view+json": {
              "version_major": 2,
              "version_minor": 0,
              "model_id": "90bf8d147e774eed8f23a7ce8ddd512d"
            }
          },
          "metadata": {}
        },
        {
          "output_type": "stream",
          "name": "stdout",
          "text": [
            "Using device: cuda\n"
          ]
        }
      ],
      "source": [
        "import torch\n",
        "from transformers import BertTokenizer, BertForSequenceClassification, get_scheduler\n",
        "from torch.utils.data import DataLoader, TensorDataset\n",
        "from torch.optim import AdamW\n",
        "from sklearn.model_selection import train_test_split\n",
        "\n",
        "tokenizer = BertTokenizer.from_pretrained(\"bert-base-uncased\", use_fast=True)\n",
        "\n",
        "device = torch.device(\"cuda\" if torch.cuda.is_available() else \"cpu\")\n",
        "print(f\"Using device: {device}\")\n",
        "\n",
        "tokens = tokenizer(df[\"processed_abstract\"].tolist(), padding=True, truncation=True, return_tensors=\"pt\", max_length=512)\n",
        "\n",
        "\n"
      ]
    },
    {
      "cell_type": "code",
      "source": [
        "\n",
        "input_ids = tokens[\"input_ids\"]\n",
        "attention_mask = tokens[\"attention_mask\"]\n",
        "labels = torch.tensor(df[\"venue\"].values, dtype=torch.long)"
      ],
      "metadata": {
        "id": "nlvFpJqw6SLg"
      },
      "execution_count": 24,
      "outputs": []
    },
    {
      "cell_type": "code",
      "source": [
        "input_ids = input_ids.cpu()\n",
        "attention_mask = attention_mask.cpu()\n",
        "labels = labels.cpu()\n"
      ],
      "metadata": {
        "id": "3eoaVfKd2fD2"
      },
      "execution_count": 25,
      "outputs": []
    },
    {
      "cell_type": "markdown",
      "source": [
        "###Data loaders"
      ],
      "metadata": {
        "id": "vbmmNpzOPoB2"
      }
    },
    {
      "cell_type": "code",
      "source": [
        "\n",
        "train_indices, test_indices = train_test_split(range(len(labels)), test_size=0.2, stratify=labels.cpu().numpy())\n",
        "train_dataset = torch.utils.data.Subset(TensorDataset(input_ids, attention_mask, labels), train_indices)\n",
        "test_dataset = torch.utils.data.Subset(TensorDataset(input_ids, attention_mask, labels), test_indices)\n",
        "\n",
        "train_dataloader = DataLoader(train_dataset, batch_size=128, shuffle=True, pin_memory=torch.cuda.is_available())\n",
        "test_dataloader = DataLoader(test_dataset, batch_size=128, shuffle=False, pin_memory=torch.cuda.is_available())\n",
        "\n",
        "num_labels = len(torch.unique(labels))\n",
        "print(num_labels)\n",
        "model = BertForSequenceClassification.from_pretrained(\"bert-base-uncased\", num_labels=num_labels).to(device)\n",
        "\n",
        "\n",
        "class_counts = torch.bincount(labels)\n",
        "class_weights = 1.0 / class_counts.float()\n",
        "class_weights /= class_weights.sum()\n",
        "criterion = torch.nn.CrossEntropyLoss(weight=class_weights.to(device))\n",
        "\n"
      ],
      "metadata": {
        "id": "EBYzIS3Wzuqa",
        "colab": {
          "base_uri": "https://localhost:8080/",
          "height": 121,
          "referenced_widgets": [
            "6c265de722204e14ac345b294117e899",
            "1c19fa28db4d47759ad5b38130a8536a",
            "a0c37f4bbb42496c8ad282531fe4b710",
            "fdb9927d33d94d718b237b335b94f25b",
            "937e896912d741a68f9cb6f088f3f66e",
            "50635eab96bf4bbb85eb4ec40416b5c4",
            "2865da3197c54d0b81ce26e8718cd207",
            "b23f77096d3f481fb36c704aabe836e1",
            "9746b297c7af40fe9263cc26066d6d07",
            "36740f0168d54e9386238653d07802d1",
            "1b497e73fb42473791d700aa6aa8d61f"
          ]
        },
        "outputId": "d0280250-b1c8-4bf4-92c5-285c72a96170"
      },
      "execution_count": 26,
      "outputs": [
        {
          "output_type": "stream",
          "name": "stdout",
          "text": [
            "20\n"
          ]
        },
        {
          "output_type": "display_data",
          "data": {
            "text/plain": [
              "model.safetensors:   0%|          | 0.00/440M [00:00<?, ?B/s]"
            ],
            "application/vnd.jupyter.widget-view+json": {
              "version_major": 2,
              "version_minor": 0,
              "model_id": "6c265de722204e14ac345b294117e899"
            }
          },
          "metadata": {}
        },
        {
          "output_type": "stream",
          "name": "stderr",
          "text": [
            "Some weights of BertForSequenceClassification were not initialized from the model checkpoint at bert-base-uncased and are newly initialized: ['classifier.bias', 'classifier.weight']\n",
            "You should probably TRAIN this model on a down-stream task to be able to use it for predictions and inference.\n"
          ]
        }
      ]
    },
    {
      "cell_type": "markdown",
      "source": [
        "###BERT training"
      ],
      "metadata": {
        "id": "lz0WFyuxPsjM"
      }
    },
    {
      "cell_type": "code",
      "source": [
        "\n",
        "optimizer = AdamW([\n",
        "    {\"params\": model.bert.parameters(), \"lr\": 1e-5},\n",
        "    {\"params\": model.classifier.parameters(), \"lr\": 5e-5}\n",
        "], eps=1e-8, weight_decay=0.01)\n",
        "scheduler = get_scheduler(\"linear\", optimizer=optimizer, num_warmup_steps=0, num_training_steps=10 * len(train_dataloader))\n",
        "\n",
        "# Mixed Precision\n",
        "scaler = torch.cuda.amp.GradScaler()\n",
        "accumulation_steps = 1\n",
        "\n",
        "epochs = 10\n",
        "model.train()\n",
        "\n",
        "for epoch in range(epochs):\n",
        "    total_loss = 0\n",
        "    correct, total = 0, 0\n",
        "\n",
        "    for step, batch in enumerate(train_dataloader):\n",
        "\n",
        "        input_ids, attention_mask, labels = [t.to(device, non_blocking=True) for t in batch]\n",
        "        optimizer.zero_grad()\n",
        "        with torch.cuda.amp.autocast(dtype=torch.float16):\n",
        "            outputs = model(input_ids, attention_mask=attention_mask)\n",
        "            loss = criterion(outputs.logits, labels)\n",
        "\n",
        "        scaler.scale(loss / accumulation_steps).backward()\n",
        "        if (step + 1) % accumulation_steps == 0:\n",
        "            scaler.step(optimizer)\n",
        "            scaler.update()\n",
        "            scheduler.step()\n",
        "            optimizer.zero_grad()\n",
        "\n",
        "        total_loss += loss.item()\n",
        "        with torch.no_grad():\n",
        "            preds = torch.argmax(outputs.logits.softmax(dim=1), dim=1)\n",
        "            correct += (preds == labels).sum().item()\n",
        "            total += labels.size(0)\n",
        "\n",
        "    print(f\"Epoch {epoch+1}/{epochs}, Loss: {total_loss/len(train_dataloader):.4f}, Accuracy: {correct/total:.4f}\")\n",
        "\n",
        "    # Unfreeze BERT after 3 epochs for faster training, but its a bit worse on performance\n",
        "    if epoch == 2:\n",
        "        for param in model.bert.parameters():\n",
        "            param.requires_grad = True\n"
      ],
      "metadata": {
        "id": "-bAGx2Nwt7ww",
        "colab": {
          "base_uri": "https://localhost:8080/"
        },
        "outputId": "63cc7774-348d-45e7-dfb9-bce7724908be"
      },
      "execution_count": 27,
      "outputs": [
        {
          "output_type": "stream",
          "name": "stderr",
          "text": [
            "<ipython-input-27-312fa56d83b0>:9: FutureWarning: `torch.cuda.amp.GradScaler(args...)` is deprecated. Please use `torch.amp.GradScaler('cuda', args...)` instead.\n",
            "  scaler = torch.cuda.amp.GradScaler()\n",
            "<ipython-input-27-312fa56d83b0>:24: FutureWarning: `torch.cuda.amp.autocast(args...)` is deprecated. Please use `torch.amp.autocast('cuda', args...)` instead.\n",
            "  with torch.cuda.amp.autocast(dtype=torch.float16):  # Ensure efficient mixed precision\n"
          ]
        },
        {
          "output_type": "stream",
          "name": "stdout",
          "text": [
            "Epoch 1/10, Loss: 1.5273, Accuracy: 0.4779\n",
            "Epoch 2/10, Loss: 1.1015, Accuracy: 0.5825\n",
            "Epoch 3/10, Loss: 0.9895, Accuracy: 0.6143\n",
            "Epoch 4/10, Loss: 0.9098, Accuracy: 0.6393\n",
            "Epoch 5/10, Loss: 0.8494, Accuracy: 0.6575\n",
            "Epoch 6/10, Loss: 0.7944, Accuracy: 0.6740\n",
            "Epoch 7/10, Loss: 0.7499, Accuracy: 0.6886\n",
            "Epoch 8/10, Loss: 0.7172, Accuracy: 0.6986\n",
            "Epoch 9/10, Loss: 0.6935, Accuracy: 0.7065\n",
            "Epoch 10/10, Loss: 0.6770, Accuracy: 0.7126\n"
          ]
        }
      ]
    },
    {
      "cell_type": "markdown",
      "source": [
        "###Token saving"
      ],
      "metadata": {
        "id": "ZM0Tql1RPvu5"
      }
    },
    {
      "cell_type": "code",
      "execution_count": null,
      "metadata": {
        "id": "di9-Qu5gKWcr"
      },
      "outputs": [],
      "source": [
        "import torch\n",
        "\n",
        "# Assuming 'tokens' is your tokenized data (e.g., from tokenizer(...))\n",
        "torch.save(tokens['input_ids'], 'input_ids.pt')\n",
        "torch.save(tokens['attention_mask'], 'attention_mask.pt')"
      ]
    },
    {
      "cell_type": "code",
      "execution_count": null,
      "metadata": {
        "id": "tTX3vAuaUpQd"
      },
      "outputs": [],
      "source": [
        "from google.colab import files\n",
        "files.download('input_ids.pt')\n",
        "files.download('attention_mask.pt')"
      ]
    },
    {
      "cell_type": "markdown",
      "source": [
        "###Evaluation"
      ],
      "metadata": {
        "id": "fq5BI3aEPyjj"
      }
    },
    {
      "cell_type": "code",
      "execution_count": 28,
      "metadata": {
        "id": "2b833d0d",
        "colab": {
          "base_uri": "https://localhost:8080/"
        },
        "outputId": "3cfdf116-c699-47e5-dcaf-cf34e5c3cce7"
      },
      "outputs": [
        {
          "output_type": "stream",
          "name": "stdout",
          "text": [
            "Test Accuracy: 0.6144\n",
            "              precision    recall  f1-score   support\n",
            "\n",
            "           0       0.62      0.50      0.56      1915\n",
            "           1       0.64      0.64      0.64      1053\n",
            "           2       0.76      0.76      0.76       917\n",
            "           3       0.29      0.14      0.19      1455\n",
            "           4       0.49      0.66      0.56       940\n",
            "           5       0.99      0.99      0.99      1175\n",
            "           6       0.57      0.67      0.62      1035\n",
            "           7       0.35      0.41      0.38      1330\n",
            "           8       0.49      0.57      0.53      1394\n",
            "           9       0.63      0.75      0.69       894\n",
            "          10       0.69      0.45      0.55      2354\n",
            "          11       0.43      0.58      0.50      1006\n",
            "          12       0.51      0.68      0.58      1351\n",
            "          13       0.92      0.94      0.93      1220\n",
            "          14       0.73      0.75      0.74      1154\n",
            "          15       0.77      0.81      0.79       784\n",
            "          16       0.68      0.53      0.59      1521\n",
            "          17       0.62      0.60      0.61       836\n",
            "          18       0.75      0.75      0.75       932\n",
            "          19       0.51      0.65      0.57      1044\n",
            "\n",
            "    accuracy                           0.61     24310\n",
            "   macro avg       0.62      0.64      0.63     24310\n",
            "weighted avg       0.62      0.61      0.61     24310\n",
            "\n"
          ]
        }
      ],
      "source": [
        "# Evaluate the trained model\n",
        "from sklearn.metrics import accuracy_score, classification_report\n",
        "\n",
        "model.eval()\n",
        "all_preds, all_labels = [], []\n",
        "\n",
        "with torch.no_grad():\n",
        "    for batch in test_dataloader:\n",
        "        input_ids, attention_mask, labels = [t.to(device) for t in batch]\n",
        "        outputs = model(input_ids, attention_mask=attention_mask)\n",
        "        preds = torch.argmax(outputs.logits, dim=1)\n",
        "\n",
        "        all_preds.extend(preds.cpu().numpy())\n",
        "        all_labels.extend(labels.cpu().numpy())\n",
        "\n",
        "accuracy = accuracy_score(all_labels, all_preds)\n",
        "print(f\"Test Accuracy: {accuracy:.4f}\")\n",
        "print(classification_report(all_labels, all_preds))"
      ]
    },
    {
      "cell_type": "code",
      "execution_count": 29,
      "metadata": {
        "id": "a8d408cd",
        "colab": {
          "base_uri": "https://localhost:8080/"
        },
        "outputId": "36dcf3e1-a600-47da-a162-5b2a4f86eae1"
      },
      "outputs": [
        {
          "output_type": "stream",
          "name": "stdout",
          "text": [
            "Model and tokenizer saved successfully!\n"
          ]
        }
      ],
      "source": [
        "\n",
        "model.save_pretrained(\"bert_venue_prediction\")\n",
        "tokenizer.save_pretrained(\"bert_venue_prediction\")\n",
        "\n",
        "print(\"Model and tokenizer saved successfully!\")"
      ]
    },
    {
      "cell_type": "markdown",
      "source": [
        "###Testing"
      ],
      "metadata": {
        "id": "acvx7p4JP02i"
      }
    },
    {
      "cell_type": "code",
      "source": [
        "import torch\n",
        "from transformers import BertTokenizer, BertModel\n",
        "\n",
        "def test_my_model_on_sample_abstract(abstract: str):\n",
        "    tokenizer = BertTokenizer.from_pretrained('./bert_venue_prediction')\n",
        "    model = BertForSequenceClassification.from_pretrained('./bert_venue_prediction')\n",
        "\n",
        "    inputs = tokenizer(abstract, return_tensors='pt', max_length=512, truncation=True, padding='max_length')\n",
        "\n",
        "    model.eval()\n",
        "\n",
        "    with torch.no_grad():\n",
        "        outputs = model(**inputs)\n",
        "\n",
        "    logits = outputs.logits\n",
        "    predicted_class = torch.argmax(logits, dim=1).item()\n",
        "\n",
        "    predicted_venue = predicted_class\n",
        "    print(\"Predicted Venue Name:\", venue_mapping_dict[predicted_venue])\n",
        "    return predicted_venue\n",
        "\n",
        "sample_abstract = ( #given by chat gpt\n",
        "        \"Recent advances in artificial intelligence have significantly improved natural language processing tasks. \"\n",
        "        \"This paper discusses state-of-the-art techniques in deep learning, particularly focusing on transformer architectures \"\n",
        "        \"and their applications in language understanding.\"\n",
        "    )\n",
        "\n",
        "test_outputs = test_my_model_on_sample_abstract(sample_abstract)\n"
      ],
      "metadata": {
        "colab": {
          "base_uri": "https://localhost:8080/"
        },
        "id": "CETxjJWzVuF-",
        "outputId": "f91ab1f9-ce7f-49e3-ae33-4f67cb1bfdbc"
      },
      "execution_count": 40,
      "outputs": [
        {
          "output_type": "stream",
          "name": "stdout",
          "text": [
            "Predicted Venue Name: neural information processing systems\n"
          ]
        }
      ]
    },
    {
      "cell_type": "markdown",
      "source": [
        "###Real-life example\n",
        "Now that we have a working reccomendation system, lets see where it would suggest Dimitrije to send his Bachelor thesis"
      ],
      "metadata": {
        "id": "gmG4uy5pXz6y"
      }
    },
    {
      "cell_type": "code",
      "source": [
        "thesis_abstract_dimitrije = (\"Complex urban environments are among the most difficult situations for Autonomous Vehicles.\"\n",
        "\"Because of this, (Autonomous Driving) AD algorithms have to be tested in large amounts of scenarios, which in turn increases costs and development time.\"\n",
        "\"Large amounts of generated data, as well as risks of accidents, with both material and human cost, make the physical approach to testing difficult.\"\n",
        "\"Thus, it is beneficial to shift focus towards hyper-realistic traffic simulators to train and improve the AD algorithms. \"\n",
        "\"In this project, we use CARLA traffic simulator, combined with Robot Operating System (ROS2) to construct a data pipeline using the Heex SDK trigger detection. \"\n",
        "\n",
        ")\n",
        "\n",
        "test_outputs_thesis = test_my_model_on_sample_abstract(thesis_abstract_dimitrije)"
      ],
      "metadata": {
        "colab": {
          "base_uri": "https://localhost:8080/"
        },
        "id": "lRS254hcV7Lk",
        "outputId": "451217fb-8361-4ec2-ea4c-9473ec1abcdd"
      },
      "execution_count": 41,
      "outputs": [
        {
          "output_type": "stream",
          "name": "stdout",
          "text": [
            "Predicted Venue Name: intelligent robots and systems\n"
          ]
        }
      ]
    },
    {
      "cell_type": "markdown",
      "source": [
        "Note from Dimitrije: Since my thesis was done in Robot Operating System (ROS2) and dealt with autonomous robotic systems, this venue seems very relevant!"
      ],
      "metadata": {
        "id": "blkg8WnzYX1e"
      }
    }
  ],
  "metadata": {
    "accelerator": "GPU",
    "colab": {
      "gpuType": "A100",
      "provenance": [],
      "collapsed_sections": [
        "GirwCX0D3cES",
        "XyKB860k3Z0E"
      ]
    },
    "kernelspec": {
      "display_name": "Python 3",
      "name": "python3"
    },
    "language_info": {
      "codemirror_mode": {
        "name": "ipython",
        "version": 3
      },
      "file_extension": ".py",
      "mimetype": "text/x-python",
      "name": "python",
      "nbconvert_exporter": "python",
      "pygments_lexer": "ipython3",
      "version": "3.12.9"
    },
    "widgets": {
      "application/vnd.jupyter.widget-state+json": {
        "6ec91aafcfd34ee6a33db74e2ae87d34": {
          "model_module": "@jupyter-widgets/controls",
          "model_name": "HBoxModel",
          "model_module_version": "1.5.0",
          "state": {
            "_dom_classes": [],
            "_model_module": "@jupyter-widgets/controls",
            "_model_module_version": "1.5.0",
            "_model_name": "HBoxModel",
            "_view_count": null,
            "_view_module": "@jupyter-widgets/controls",
            "_view_module_version": "1.5.0",
            "_view_name": "HBoxView",
            "box_style": "",
            "children": [
              "IPY_MODEL_e75b1bea0fd94a6b9335241f4a128402",
              "IPY_MODEL_0c7f40d577034a03be7ab22b68143995",
              "IPY_MODEL_549006a1ad0943d3982939be59cf8d79"
            ],
            "layout": "IPY_MODEL_db70a989d27d4519a5f55e4726de2888"
          }
        },
        "e75b1bea0fd94a6b9335241f4a128402": {
          "model_module": "@jupyter-widgets/controls",
          "model_name": "HTMLModel",
          "model_module_version": "1.5.0",
          "state": {
            "_dom_classes": [],
            "_model_module": "@jupyter-widgets/controls",
            "_model_module_version": "1.5.0",
            "_model_name": "HTMLModel",
            "_view_count": null,
            "_view_module": "@jupyter-widgets/controls",
            "_view_module_version": "1.5.0",
            "_view_name": "HTMLView",
            "description": "",
            "description_tooltip": null,
            "layout": "IPY_MODEL_92bd6576de894f03b852553a0a01af87",
            "placeholder": "​",
            "style": "IPY_MODEL_f405bccfb0294959b1fa50c43d00805f",
            "value": "tokenizer_config.json: 100%"
          }
        },
        "0c7f40d577034a03be7ab22b68143995": {
          "model_module": "@jupyter-widgets/controls",
          "model_name": "FloatProgressModel",
          "model_module_version": "1.5.0",
          "state": {
            "_dom_classes": [],
            "_model_module": "@jupyter-widgets/controls",
            "_model_module_version": "1.5.0",
            "_model_name": "FloatProgressModel",
            "_view_count": null,
            "_view_module": "@jupyter-widgets/controls",
            "_view_module_version": "1.5.0",
            "_view_name": "ProgressView",
            "bar_style": "success",
            "description": "",
            "description_tooltip": null,
            "layout": "IPY_MODEL_51e5af672de0495a8de04983074af0cd",
            "max": 48,
            "min": 0,
            "orientation": "horizontal",
            "style": "IPY_MODEL_bb942f37d2e44da1b1973d37c9e2070d",
            "value": 48
          }
        },
        "549006a1ad0943d3982939be59cf8d79": {
          "model_module": "@jupyter-widgets/controls",
          "model_name": "HTMLModel",
          "model_module_version": "1.5.0",
          "state": {
            "_dom_classes": [],
            "_model_module": "@jupyter-widgets/controls",
            "_model_module_version": "1.5.0",
            "_model_name": "HTMLModel",
            "_view_count": null,
            "_view_module": "@jupyter-widgets/controls",
            "_view_module_version": "1.5.0",
            "_view_name": "HTMLView",
            "description": "",
            "description_tooltip": null,
            "layout": "IPY_MODEL_d827bbfb135542b59d6c566d38e80f09",
            "placeholder": "​",
            "style": "IPY_MODEL_ca751d418d394d71ba7942a758e33c8f",
            "value": " 48.0/48.0 [00:00&lt;00:00, 3.89kB/s]"
          }
        },
        "db70a989d27d4519a5f55e4726de2888": {
          "model_module": "@jupyter-widgets/base",
          "model_name": "LayoutModel",
          "model_module_version": "1.2.0",
          "state": {
            "_model_module": "@jupyter-widgets/base",
            "_model_module_version": "1.2.0",
            "_model_name": "LayoutModel",
            "_view_count": null,
            "_view_module": "@jupyter-widgets/base",
            "_view_module_version": "1.2.0",
            "_view_name": "LayoutView",
            "align_content": null,
            "align_items": null,
            "align_self": null,
            "border": null,
            "bottom": null,
            "display": null,
            "flex": null,
            "flex_flow": null,
            "grid_area": null,
            "grid_auto_columns": null,
            "grid_auto_flow": null,
            "grid_auto_rows": null,
            "grid_column": null,
            "grid_gap": null,
            "grid_row": null,
            "grid_template_areas": null,
            "grid_template_columns": null,
            "grid_template_rows": null,
            "height": null,
            "justify_content": null,
            "justify_items": null,
            "left": null,
            "margin": null,
            "max_height": null,
            "max_width": null,
            "min_height": null,
            "min_width": null,
            "object_fit": null,
            "object_position": null,
            "order": null,
            "overflow": null,
            "overflow_x": null,
            "overflow_y": null,
            "padding": null,
            "right": null,
            "top": null,
            "visibility": null,
            "width": null
          }
        },
        "92bd6576de894f03b852553a0a01af87": {
          "model_module": "@jupyter-widgets/base",
          "model_name": "LayoutModel",
          "model_module_version": "1.2.0",
          "state": {
            "_model_module": "@jupyter-widgets/base",
            "_model_module_version": "1.2.0",
            "_model_name": "LayoutModel",
            "_view_count": null,
            "_view_module": "@jupyter-widgets/base",
            "_view_module_version": "1.2.0",
            "_view_name": "LayoutView",
            "align_content": null,
            "align_items": null,
            "align_self": null,
            "border": null,
            "bottom": null,
            "display": null,
            "flex": null,
            "flex_flow": null,
            "grid_area": null,
            "grid_auto_columns": null,
            "grid_auto_flow": null,
            "grid_auto_rows": null,
            "grid_column": null,
            "grid_gap": null,
            "grid_row": null,
            "grid_template_areas": null,
            "grid_template_columns": null,
            "grid_template_rows": null,
            "height": null,
            "justify_content": null,
            "justify_items": null,
            "left": null,
            "margin": null,
            "max_height": null,
            "max_width": null,
            "min_height": null,
            "min_width": null,
            "object_fit": null,
            "object_position": null,
            "order": null,
            "overflow": null,
            "overflow_x": null,
            "overflow_y": null,
            "padding": null,
            "right": null,
            "top": null,
            "visibility": null,
            "width": null
          }
        },
        "f405bccfb0294959b1fa50c43d00805f": {
          "model_module": "@jupyter-widgets/controls",
          "model_name": "DescriptionStyleModel",
          "model_module_version": "1.5.0",
          "state": {
            "_model_module": "@jupyter-widgets/controls",
            "_model_module_version": "1.5.0",
            "_model_name": "DescriptionStyleModel",
            "_view_count": null,
            "_view_module": "@jupyter-widgets/base",
            "_view_module_version": "1.2.0",
            "_view_name": "StyleView",
            "description_width": ""
          }
        },
        "51e5af672de0495a8de04983074af0cd": {
          "model_module": "@jupyter-widgets/base",
          "model_name": "LayoutModel",
          "model_module_version": "1.2.0",
          "state": {
            "_model_module": "@jupyter-widgets/base",
            "_model_module_version": "1.2.0",
            "_model_name": "LayoutModel",
            "_view_count": null,
            "_view_module": "@jupyter-widgets/base",
            "_view_module_version": "1.2.0",
            "_view_name": "LayoutView",
            "align_content": null,
            "align_items": null,
            "align_self": null,
            "border": null,
            "bottom": null,
            "display": null,
            "flex": null,
            "flex_flow": null,
            "grid_area": null,
            "grid_auto_columns": null,
            "grid_auto_flow": null,
            "grid_auto_rows": null,
            "grid_column": null,
            "grid_gap": null,
            "grid_row": null,
            "grid_template_areas": null,
            "grid_template_columns": null,
            "grid_template_rows": null,
            "height": null,
            "justify_content": null,
            "justify_items": null,
            "left": null,
            "margin": null,
            "max_height": null,
            "max_width": null,
            "min_height": null,
            "min_width": null,
            "object_fit": null,
            "object_position": null,
            "order": null,
            "overflow": null,
            "overflow_x": null,
            "overflow_y": null,
            "padding": null,
            "right": null,
            "top": null,
            "visibility": null,
            "width": null
          }
        },
        "bb942f37d2e44da1b1973d37c9e2070d": {
          "model_module": "@jupyter-widgets/controls",
          "model_name": "ProgressStyleModel",
          "model_module_version": "1.5.0",
          "state": {
            "_model_module": "@jupyter-widgets/controls",
            "_model_module_version": "1.5.0",
            "_model_name": "ProgressStyleModel",
            "_view_count": null,
            "_view_module": "@jupyter-widgets/base",
            "_view_module_version": "1.2.0",
            "_view_name": "StyleView",
            "bar_color": null,
            "description_width": ""
          }
        },
        "d827bbfb135542b59d6c566d38e80f09": {
          "model_module": "@jupyter-widgets/base",
          "model_name": "LayoutModel",
          "model_module_version": "1.2.0",
          "state": {
            "_model_module": "@jupyter-widgets/base",
            "_model_module_version": "1.2.0",
            "_model_name": "LayoutModel",
            "_view_count": null,
            "_view_module": "@jupyter-widgets/base",
            "_view_module_version": "1.2.0",
            "_view_name": "LayoutView",
            "align_content": null,
            "align_items": null,
            "align_self": null,
            "border": null,
            "bottom": null,
            "display": null,
            "flex": null,
            "flex_flow": null,
            "grid_area": null,
            "grid_auto_columns": null,
            "grid_auto_flow": null,
            "grid_auto_rows": null,
            "grid_column": null,
            "grid_gap": null,
            "grid_row": null,
            "grid_template_areas": null,
            "grid_template_columns": null,
            "grid_template_rows": null,
            "height": null,
            "justify_content": null,
            "justify_items": null,
            "left": null,
            "margin": null,
            "max_height": null,
            "max_width": null,
            "min_height": null,
            "min_width": null,
            "object_fit": null,
            "object_position": null,
            "order": null,
            "overflow": null,
            "overflow_x": null,
            "overflow_y": null,
            "padding": null,
            "right": null,
            "top": null,
            "visibility": null,
            "width": null
          }
        },
        "ca751d418d394d71ba7942a758e33c8f": {
          "model_module": "@jupyter-widgets/controls",
          "model_name": "DescriptionStyleModel",
          "model_module_version": "1.5.0",
          "state": {
            "_model_module": "@jupyter-widgets/controls",
            "_model_module_version": "1.5.0",
            "_model_name": "DescriptionStyleModel",
            "_view_count": null,
            "_view_module": "@jupyter-widgets/base",
            "_view_module_version": "1.2.0",
            "_view_name": "StyleView",
            "description_width": ""
          }
        },
        "5f27608d73244b1f8b0eb003bdb18c11": {
          "model_module": "@jupyter-widgets/controls",
          "model_name": "HBoxModel",
          "model_module_version": "1.5.0",
          "state": {
            "_dom_classes": [],
            "_model_module": "@jupyter-widgets/controls",
            "_model_module_version": "1.5.0",
            "_model_name": "HBoxModel",
            "_view_count": null,
            "_view_module": "@jupyter-widgets/controls",
            "_view_module_version": "1.5.0",
            "_view_name": "HBoxView",
            "box_style": "",
            "children": [
              "IPY_MODEL_0e41dec67a00400182f1d5cf6e6683b8",
              "IPY_MODEL_077eaefe501c40e482252096b0a34181",
              "IPY_MODEL_0790c35b905b410e88027f95ace1fe87"
            ],
            "layout": "IPY_MODEL_a3ff262aaec445dc985a815c24d845ed"
          }
        },
        "0e41dec67a00400182f1d5cf6e6683b8": {
          "model_module": "@jupyter-widgets/controls",
          "model_name": "HTMLModel",
          "model_module_version": "1.5.0",
          "state": {
            "_dom_classes": [],
            "_model_module": "@jupyter-widgets/controls",
            "_model_module_version": "1.5.0",
            "_model_name": "HTMLModel",
            "_view_count": null,
            "_view_module": "@jupyter-widgets/controls",
            "_view_module_version": "1.5.0",
            "_view_name": "HTMLView",
            "description": "",
            "description_tooltip": null,
            "layout": "IPY_MODEL_0310409c4acf433c99c45f9827b210de",
            "placeholder": "​",
            "style": "IPY_MODEL_787c3c5e9e8c4c50a4d802275f29f305",
            "value": "vocab.txt: 100%"
          }
        },
        "077eaefe501c40e482252096b0a34181": {
          "model_module": "@jupyter-widgets/controls",
          "model_name": "FloatProgressModel",
          "model_module_version": "1.5.0",
          "state": {
            "_dom_classes": [],
            "_model_module": "@jupyter-widgets/controls",
            "_model_module_version": "1.5.0",
            "_model_name": "FloatProgressModel",
            "_view_count": null,
            "_view_module": "@jupyter-widgets/controls",
            "_view_module_version": "1.5.0",
            "_view_name": "ProgressView",
            "bar_style": "success",
            "description": "",
            "description_tooltip": null,
            "layout": "IPY_MODEL_9e5a644bf8284626ae2ef0315df952a3",
            "max": 231508,
            "min": 0,
            "orientation": "horizontal",
            "style": "IPY_MODEL_abcb658e08f543b8ab84d2fa7b4677a0",
            "value": 231508
          }
        },
        "0790c35b905b410e88027f95ace1fe87": {
          "model_module": "@jupyter-widgets/controls",
          "model_name": "HTMLModel",
          "model_module_version": "1.5.0",
          "state": {
            "_dom_classes": [],
            "_model_module": "@jupyter-widgets/controls",
            "_model_module_version": "1.5.0",
            "_model_name": "HTMLModel",
            "_view_count": null,
            "_view_module": "@jupyter-widgets/controls",
            "_view_module_version": "1.5.0",
            "_view_name": "HTMLView",
            "description": "",
            "description_tooltip": null,
            "layout": "IPY_MODEL_82983295fd9e4e89841366c7b5c7f226",
            "placeholder": "​",
            "style": "IPY_MODEL_69276c45cc344170b2a0d76ec135e8a3",
            "value": " 232k/232k [00:00&lt;00:00, 535kB/s]"
          }
        },
        "a3ff262aaec445dc985a815c24d845ed": {
          "model_module": "@jupyter-widgets/base",
          "model_name": "LayoutModel",
          "model_module_version": "1.2.0",
          "state": {
            "_model_module": "@jupyter-widgets/base",
            "_model_module_version": "1.2.0",
            "_model_name": "LayoutModel",
            "_view_count": null,
            "_view_module": "@jupyter-widgets/base",
            "_view_module_version": "1.2.0",
            "_view_name": "LayoutView",
            "align_content": null,
            "align_items": null,
            "align_self": null,
            "border": null,
            "bottom": null,
            "display": null,
            "flex": null,
            "flex_flow": null,
            "grid_area": null,
            "grid_auto_columns": null,
            "grid_auto_flow": null,
            "grid_auto_rows": null,
            "grid_column": null,
            "grid_gap": null,
            "grid_row": null,
            "grid_template_areas": null,
            "grid_template_columns": null,
            "grid_template_rows": null,
            "height": null,
            "justify_content": null,
            "justify_items": null,
            "left": null,
            "margin": null,
            "max_height": null,
            "max_width": null,
            "min_height": null,
            "min_width": null,
            "object_fit": null,
            "object_position": null,
            "order": null,
            "overflow": null,
            "overflow_x": null,
            "overflow_y": null,
            "padding": null,
            "right": null,
            "top": null,
            "visibility": null,
            "width": null
          }
        },
        "0310409c4acf433c99c45f9827b210de": {
          "model_module": "@jupyter-widgets/base",
          "model_name": "LayoutModel",
          "model_module_version": "1.2.0",
          "state": {
            "_model_module": "@jupyter-widgets/base",
            "_model_module_version": "1.2.0",
            "_model_name": "LayoutModel",
            "_view_count": null,
            "_view_module": "@jupyter-widgets/base",
            "_view_module_version": "1.2.0",
            "_view_name": "LayoutView",
            "align_content": null,
            "align_items": null,
            "align_self": null,
            "border": null,
            "bottom": null,
            "display": null,
            "flex": null,
            "flex_flow": null,
            "grid_area": null,
            "grid_auto_columns": null,
            "grid_auto_flow": null,
            "grid_auto_rows": null,
            "grid_column": null,
            "grid_gap": null,
            "grid_row": null,
            "grid_template_areas": null,
            "grid_template_columns": null,
            "grid_template_rows": null,
            "height": null,
            "justify_content": null,
            "justify_items": null,
            "left": null,
            "margin": null,
            "max_height": null,
            "max_width": null,
            "min_height": null,
            "min_width": null,
            "object_fit": null,
            "object_position": null,
            "order": null,
            "overflow": null,
            "overflow_x": null,
            "overflow_y": null,
            "padding": null,
            "right": null,
            "top": null,
            "visibility": null,
            "width": null
          }
        },
        "787c3c5e9e8c4c50a4d802275f29f305": {
          "model_module": "@jupyter-widgets/controls",
          "model_name": "DescriptionStyleModel",
          "model_module_version": "1.5.0",
          "state": {
            "_model_module": "@jupyter-widgets/controls",
            "_model_module_version": "1.5.0",
            "_model_name": "DescriptionStyleModel",
            "_view_count": null,
            "_view_module": "@jupyter-widgets/base",
            "_view_module_version": "1.2.0",
            "_view_name": "StyleView",
            "description_width": ""
          }
        },
        "9e5a644bf8284626ae2ef0315df952a3": {
          "model_module": "@jupyter-widgets/base",
          "model_name": "LayoutModel",
          "model_module_version": "1.2.0",
          "state": {
            "_model_module": "@jupyter-widgets/base",
            "_model_module_version": "1.2.0",
            "_model_name": "LayoutModel",
            "_view_count": null,
            "_view_module": "@jupyter-widgets/base",
            "_view_module_version": "1.2.0",
            "_view_name": "LayoutView",
            "align_content": null,
            "align_items": null,
            "align_self": null,
            "border": null,
            "bottom": null,
            "display": null,
            "flex": null,
            "flex_flow": null,
            "grid_area": null,
            "grid_auto_columns": null,
            "grid_auto_flow": null,
            "grid_auto_rows": null,
            "grid_column": null,
            "grid_gap": null,
            "grid_row": null,
            "grid_template_areas": null,
            "grid_template_columns": null,
            "grid_template_rows": null,
            "height": null,
            "justify_content": null,
            "justify_items": null,
            "left": null,
            "margin": null,
            "max_height": null,
            "max_width": null,
            "min_height": null,
            "min_width": null,
            "object_fit": null,
            "object_position": null,
            "order": null,
            "overflow": null,
            "overflow_x": null,
            "overflow_y": null,
            "padding": null,
            "right": null,
            "top": null,
            "visibility": null,
            "width": null
          }
        },
        "abcb658e08f543b8ab84d2fa7b4677a0": {
          "model_module": "@jupyter-widgets/controls",
          "model_name": "ProgressStyleModel",
          "model_module_version": "1.5.0",
          "state": {
            "_model_module": "@jupyter-widgets/controls",
            "_model_module_version": "1.5.0",
            "_model_name": "ProgressStyleModel",
            "_view_count": null,
            "_view_module": "@jupyter-widgets/base",
            "_view_module_version": "1.2.0",
            "_view_name": "StyleView",
            "bar_color": null,
            "description_width": ""
          }
        },
        "82983295fd9e4e89841366c7b5c7f226": {
          "model_module": "@jupyter-widgets/base",
          "model_name": "LayoutModel",
          "model_module_version": "1.2.0",
          "state": {
            "_model_module": "@jupyter-widgets/base",
            "_model_module_version": "1.2.0",
            "_model_name": "LayoutModel",
            "_view_count": null,
            "_view_module": "@jupyter-widgets/base",
            "_view_module_version": "1.2.0",
            "_view_name": "LayoutView",
            "align_content": null,
            "align_items": null,
            "align_self": null,
            "border": null,
            "bottom": null,
            "display": null,
            "flex": null,
            "flex_flow": null,
            "grid_area": null,
            "grid_auto_columns": null,
            "grid_auto_flow": null,
            "grid_auto_rows": null,
            "grid_column": null,
            "grid_gap": null,
            "grid_row": null,
            "grid_template_areas": null,
            "grid_template_columns": null,
            "grid_template_rows": null,
            "height": null,
            "justify_content": null,
            "justify_items": null,
            "left": null,
            "margin": null,
            "max_height": null,
            "max_width": null,
            "min_height": null,
            "min_width": null,
            "object_fit": null,
            "object_position": null,
            "order": null,
            "overflow": null,
            "overflow_x": null,
            "overflow_y": null,
            "padding": null,
            "right": null,
            "top": null,
            "visibility": null,
            "width": null
          }
        },
        "69276c45cc344170b2a0d76ec135e8a3": {
          "model_module": "@jupyter-widgets/controls",
          "model_name": "DescriptionStyleModel",
          "model_module_version": "1.5.0",
          "state": {
            "_model_module": "@jupyter-widgets/controls",
            "_model_module_version": "1.5.0",
            "_model_name": "DescriptionStyleModel",
            "_view_count": null,
            "_view_module": "@jupyter-widgets/base",
            "_view_module_version": "1.2.0",
            "_view_name": "StyleView",
            "description_width": ""
          }
        },
        "7471195b790d4fe38eceeeccafd6d196": {
          "model_module": "@jupyter-widgets/controls",
          "model_name": "HBoxModel",
          "model_module_version": "1.5.0",
          "state": {
            "_dom_classes": [],
            "_model_module": "@jupyter-widgets/controls",
            "_model_module_version": "1.5.0",
            "_model_name": "HBoxModel",
            "_view_count": null,
            "_view_module": "@jupyter-widgets/controls",
            "_view_module_version": "1.5.0",
            "_view_name": "HBoxView",
            "box_style": "",
            "children": [
              "IPY_MODEL_1ea780550c04473eb48714a0bce20a7f",
              "IPY_MODEL_84295e0c506145a99ce6a0c41137749c",
              "IPY_MODEL_d359665f14674b9cad67e217b39bcc7b"
            ],
            "layout": "IPY_MODEL_089b9854903a412a827c78901243eec6"
          }
        },
        "1ea780550c04473eb48714a0bce20a7f": {
          "model_module": "@jupyter-widgets/controls",
          "model_name": "HTMLModel",
          "model_module_version": "1.5.0",
          "state": {
            "_dom_classes": [],
            "_model_module": "@jupyter-widgets/controls",
            "_model_module_version": "1.5.0",
            "_model_name": "HTMLModel",
            "_view_count": null,
            "_view_module": "@jupyter-widgets/controls",
            "_view_module_version": "1.5.0",
            "_view_name": "HTMLView",
            "description": "",
            "description_tooltip": null,
            "layout": "IPY_MODEL_261a0b1b4aee4a878392842d1121ca9f",
            "placeholder": "​",
            "style": "IPY_MODEL_2120b34c78c94499a1d0bffe948b1ef8",
            "value": "tokenizer.json: 100%"
          }
        },
        "84295e0c506145a99ce6a0c41137749c": {
          "model_module": "@jupyter-widgets/controls",
          "model_name": "FloatProgressModel",
          "model_module_version": "1.5.0",
          "state": {
            "_dom_classes": [],
            "_model_module": "@jupyter-widgets/controls",
            "_model_module_version": "1.5.0",
            "_model_name": "FloatProgressModel",
            "_view_count": null,
            "_view_module": "@jupyter-widgets/controls",
            "_view_module_version": "1.5.0",
            "_view_name": "ProgressView",
            "bar_style": "success",
            "description": "",
            "description_tooltip": null,
            "layout": "IPY_MODEL_e3a35d466aec4e52912fef784305c1fa",
            "max": 466062,
            "min": 0,
            "orientation": "horizontal",
            "style": "IPY_MODEL_62620dc2bdc14e7e8d56c20f35fa65d1",
            "value": 466062
          }
        },
        "d359665f14674b9cad67e217b39bcc7b": {
          "model_module": "@jupyter-widgets/controls",
          "model_name": "HTMLModel",
          "model_module_version": "1.5.0",
          "state": {
            "_dom_classes": [],
            "_model_module": "@jupyter-widgets/controls",
            "_model_module_version": "1.5.0",
            "_model_name": "HTMLModel",
            "_view_count": null,
            "_view_module": "@jupyter-widgets/controls",
            "_view_module_version": "1.5.0",
            "_view_name": "HTMLView",
            "description": "",
            "description_tooltip": null,
            "layout": "IPY_MODEL_eca468bffe2c475c98f89e3a86e726a5",
            "placeholder": "​",
            "style": "IPY_MODEL_72caeca459d540c2a279fd5d18d00bfb",
            "value": " 466k/466k [00:00&lt;00:00, 1.09MB/s]"
          }
        },
        "089b9854903a412a827c78901243eec6": {
          "model_module": "@jupyter-widgets/base",
          "model_name": "LayoutModel",
          "model_module_version": "1.2.0",
          "state": {
            "_model_module": "@jupyter-widgets/base",
            "_model_module_version": "1.2.0",
            "_model_name": "LayoutModel",
            "_view_count": null,
            "_view_module": "@jupyter-widgets/base",
            "_view_module_version": "1.2.0",
            "_view_name": "LayoutView",
            "align_content": null,
            "align_items": null,
            "align_self": null,
            "border": null,
            "bottom": null,
            "display": null,
            "flex": null,
            "flex_flow": null,
            "grid_area": null,
            "grid_auto_columns": null,
            "grid_auto_flow": null,
            "grid_auto_rows": null,
            "grid_column": null,
            "grid_gap": null,
            "grid_row": null,
            "grid_template_areas": null,
            "grid_template_columns": null,
            "grid_template_rows": null,
            "height": null,
            "justify_content": null,
            "justify_items": null,
            "left": null,
            "margin": null,
            "max_height": null,
            "max_width": null,
            "min_height": null,
            "min_width": null,
            "object_fit": null,
            "object_position": null,
            "order": null,
            "overflow": null,
            "overflow_x": null,
            "overflow_y": null,
            "padding": null,
            "right": null,
            "top": null,
            "visibility": null,
            "width": null
          }
        },
        "261a0b1b4aee4a878392842d1121ca9f": {
          "model_module": "@jupyter-widgets/base",
          "model_name": "LayoutModel",
          "model_module_version": "1.2.0",
          "state": {
            "_model_module": "@jupyter-widgets/base",
            "_model_module_version": "1.2.0",
            "_model_name": "LayoutModel",
            "_view_count": null,
            "_view_module": "@jupyter-widgets/base",
            "_view_module_version": "1.2.0",
            "_view_name": "LayoutView",
            "align_content": null,
            "align_items": null,
            "align_self": null,
            "border": null,
            "bottom": null,
            "display": null,
            "flex": null,
            "flex_flow": null,
            "grid_area": null,
            "grid_auto_columns": null,
            "grid_auto_flow": null,
            "grid_auto_rows": null,
            "grid_column": null,
            "grid_gap": null,
            "grid_row": null,
            "grid_template_areas": null,
            "grid_template_columns": null,
            "grid_template_rows": null,
            "height": null,
            "justify_content": null,
            "justify_items": null,
            "left": null,
            "margin": null,
            "max_height": null,
            "max_width": null,
            "min_height": null,
            "min_width": null,
            "object_fit": null,
            "object_position": null,
            "order": null,
            "overflow": null,
            "overflow_x": null,
            "overflow_y": null,
            "padding": null,
            "right": null,
            "top": null,
            "visibility": null,
            "width": null
          }
        },
        "2120b34c78c94499a1d0bffe948b1ef8": {
          "model_module": "@jupyter-widgets/controls",
          "model_name": "DescriptionStyleModel",
          "model_module_version": "1.5.0",
          "state": {
            "_model_module": "@jupyter-widgets/controls",
            "_model_module_version": "1.5.0",
            "_model_name": "DescriptionStyleModel",
            "_view_count": null,
            "_view_module": "@jupyter-widgets/base",
            "_view_module_version": "1.2.0",
            "_view_name": "StyleView",
            "description_width": ""
          }
        },
        "e3a35d466aec4e52912fef784305c1fa": {
          "model_module": "@jupyter-widgets/base",
          "model_name": "LayoutModel",
          "model_module_version": "1.2.0",
          "state": {
            "_model_module": "@jupyter-widgets/base",
            "_model_module_version": "1.2.0",
            "_model_name": "LayoutModel",
            "_view_count": null,
            "_view_module": "@jupyter-widgets/base",
            "_view_module_version": "1.2.0",
            "_view_name": "LayoutView",
            "align_content": null,
            "align_items": null,
            "align_self": null,
            "border": null,
            "bottom": null,
            "display": null,
            "flex": null,
            "flex_flow": null,
            "grid_area": null,
            "grid_auto_columns": null,
            "grid_auto_flow": null,
            "grid_auto_rows": null,
            "grid_column": null,
            "grid_gap": null,
            "grid_row": null,
            "grid_template_areas": null,
            "grid_template_columns": null,
            "grid_template_rows": null,
            "height": null,
            "justify_content": null,
            "justify_items": null,
            "left": null,
            "margin": null,
            "max_height": null,
            "max_width": null,
            "min_height": null,
            "min_width": null,
            "object_fit": null,
            "object_position": null,
            "order": null,
            "overflow": null,
            "overflow_x": null,
            "overflow_y": null,
            "padding": null,
            "right": null,
            "top": null,
            "visibility": null,
            "width": null
          }
        },
        "62620dc2bdc14e7e8d56c20f35fa65d1": {
          "model_module": "@jupyter-widgets/controls",
          "model_name": "ProgressStyleModel",
          "model_module_version": "1.5.0",
          "state": {
            "_model_module": "@jupyter-widgets/controls",
            "_model_module_version": "1.5.0",
            "_model_name": "ProgressStyleModel",
            "_view_count": null,
            "_view_module": "@jupyter-widgets/base",
            "_view_module_version": "1.2.0",
            "_view_name": "StyleView",
            "bar_color": null,
            "description_width": ""
          }
        },
        "eca468bffe2c475c98f89e3a86e726a5": {
          "model_module": "@jupyter-widgets/base",
          "model_name": "LayoutModel",
          "model_module_version": "1.2.0",
          "state": {
            "_model_module": "@jupyter-widgets/base",
            "_model_module_version": "1.2.0",
            "_model_name": "LayoutModel",
            "_view_count": null,
            "_view_module": "@jupyter-widgets/base",
            "_view_module_version": "1.2.0",
            "_view_name": "LayoutView",
            "align_content": null,
            "align_items": null,
            "align_self": null,
            "border": null,
            "bottom": null,
            "display": null,
            "flex": null,
            "flex_flow": null,
            "grid_area": null,
            "grid_auto_columns": null,
            "grid_auto_flow": null,
            "grid_auto_rows": null,
            "grid_column": null,
            "grid_gap": null,
            "grid_row": null,
            "grid_template_areas": null,
            "grid_template_columns": null,
            "grid_template_rows": null,
            "height": null,
            "justify_content": null,
            "justify_items": null,
            "left": null,
            "margin": null,
            "max_height": null,
            "max_width": null,
            "min_height": null,
            "min_width": null,
            "object_fit": null,
            "object_position": null,
            "order": null,
            "overflow": null,
            "overflow_x": null,
            "overflow_y": null,
            "padding": null,
            "right": null,
            "top": null,
            "visibility": null,
            "width": null
          }
        },
        "72caeca459d540c2a279fd5d18d00bfb": {
          "model_module": "@jupyter-widgets/controls",
          "model_name": "DescriptionStyleModel",
          "model_module_version": "1.5.0",
          "state": {
            "_model_module": "@jupyter-widgets/controls",
            "_model_module_version": "1.5.0",
            "_model_name": "DescriptionStyleModel",
            "_view_count": null,
            "_view_module": "@jupyter-widgets/base",
            "_view_module_version": "1.2.0",
            "_view_name": "StyleView",
            "description_width": ""
          }
        },
        "90bf8d147e774eed8f23a7ce8ddd512d": {
          "model_module": "@jupyter-widgets/controls",
          "model_name": "HBoxModel",
          "model_module_version": "1.5.0",
          "state": {
            "_dom_classes": [],
            "_model_module": "@jupyter-widgets/controls",
            "_model_module_version": "1.5.0",
            "_model_name": "HBoxModel",
            "_view_count": null,
            "_view_module": "@jupyter-widgets/controls",
            "_view_module_version": "1.5.0",
            "_view_name": "HBoxView",
            "box_style": "",
            "children": [
              "IPY_MODEL_1bcacf066a2f415a97b02376b12eda0a",
              "IPY_MODEL_1b2063b67d8e48f3a0963a3177b8d1ee",
              "IPY_MODEL_945652b6711248ff8ce1714bea4b9893"
            ],
            "layout": "IPY_MODEL_674f21f78b6f4c04a6288220a32d89c0"
          }
        },
        "1bcacf066a2f415a97b02376b12eda0a": {
          "model_module": "@jupyter-widgets/controls",
          "model_name": "HTMLModel",
          "model_module_version": "1.5.0",
          "state": {
            "_dom_classes": [],
            "_model_module": "@jupyter-widgets/controls",
            "_model_module_version": "1.5.0",
            "_model_name": "HTMLModel",
            "_view_count": null,
            "_view_module": "@jupyter-widgets/controls",
            "_view_module_version": "1.5.0",
            "_view_name": "HTMLView",
            "description": "",
            "description_tooltip": null,
            "layout": "IPY_MODEL_d0a65c880d0f4c9a8b018f52abdb5c3d",
            "placeholder": "​",
            "style": "IPY_MODEL_fe726ae861ee47a38a79121f4c48a48a",
            "value": "config.json: 100%"
          }
        },
        "1b2063b67d8e48f3a0963a3177b8d1ee": {
          "model_module": "@jupyter-widgets/controls",
          "model_name": "FloatProgressModel",
          "model_module_version": "1.5.0",
          "state": {
            "_dom_classes": [],
            "_model_module": "@jupyter-widgets/controls",
            "_model_module_version": "1.5.0",
            "_model_name": "FloatProgressModel",
            "_view_count": null,
            "_view_module": "@jupyter-widgets/controls",
            "_view_module_version": "1.5.0",
            "_view_name": "ProgressView",
            "bar_style": "success",
            "description": "",
            "description_tooltip": null,
            "layout": "IPY_MODEL_df4e6f6eb4ba403b94eb541ebcb1334a",
            "max": 570,
            "min": 0,
            "orientation": "horizontal",
            "style": "IPY_MODEL_a6916f36d0f54224bdb90e0833c5283b",
            "value": 570
          }
        },
        "945652b6711248ff8ce1714bea4b9893": {
          "model_module": "@jupyter-widgets/controls",
          "model_name": "HTMLModel",
          "model_module_version": "1.5.0",
          "state": {
            "_dom_classes": [],
            "_model_module": "@jupyter-widgets/controls",
            "_model_module_version": "1.5.0",
            "_model_name": "HTMLModel",
            "_view_count": null,
            "_view_module": "@jupyter-widgets/controls",
            "_view_module_version": "1.5.0",
            "_view_name": "HTMLView",
            "description": "",
            "description_tooltip": null,
            "layout": "IPY_MODEL_d69ce36f60b44543ae53b69369146e36",
            "placeholder": "​",
            "style": "IPY_MODEL_c578f3f71f6b4aaaa53b9f54d858492b",
            "value": " 570/570 [00:00&lt;00:00, 73.7kB/s]"
          }
        },
        "674f21f78b6f4c04a6288220a32d89c0": {
          "model_module": "@jupyter-widgets/base",
          "model_name": "LayoutModel",
          "model_module_version": "1.2.0",
          "state": {
            "_model_module": "@jupyter-widgets/base",
            "_model_module_version": "1.2.0",
            "_model_name": "LayoutModel",
            "_view_count": null,
            "_view_module": "@jupyter-widgets/base",
            "_view_module_version": "1.2.0",
            "_view_name": "LayoutView",
            "align_content": null,
            "align_items": null,
            "align_self": null,
            "border": null,
            "bottom": null,
            "display": null,
            "flex": null,
            "flex_flow": null,
            "grid_area": null,
            "grid_auto_columns": null,
            "grid_auto_flow": null,
            "grid_auto_rows": null,
            "grid_column": null,
            "grid_gap": null,
            "grid_row": null,
            "grid_template_areas": null,
            "grid_template_columns": null,
            "grid_template_rows": null,
            "height": null,
            "justify_content": null,
            "justify_items": null,
            "left": null,
            "margin": null,
            "max_height": null,
            "max_width": null,
            "min_height": null,
            "min_width": null,
            "object_fit": null,
            "object_position": null,
            "order": null,
            "overflow": null,
            "overflow_x": null,
            "overflow_y": null,
            "padding": null,
            "right": null,
            "top": null,
            "visibility": null,
            "width": null
          }
        },
        "d0a65c880d0f4c9a8b018f52abdb5c3d": {
          "model_module": "@jupyter-widgets/base",
          "model_name": "LayoutModel",
          "model_module_version": "1.2.0",
          "state": {
            "_model_module": "@jupyter-widgets/base",
            "_model_module_version": "1.2.0",
            "_model_name": "LayoutModel",
            "_view_count": null,
            "_view_module": "@jupyter-widgets/base",
            "_view_module_version": "1.2.0",
            "_view_name": "LayoutView",
            "align_content": null,
            "align_items": null,
            "align_self": null,
            "border": null,
            "bottom": null,
            "display": null,
            "flex": null,
            "flex_flow": null,
            "grid_area": null,
            "grid_auto_columns": null,
            "grid_auto_flow": null,
            "grid_auto_rows": null,
            "grid_column": null,
            "grid_gap": null,
            "grid_row": null,
            "grid_template_areas": null,
            "grid_template_columns": null,
            "grid_template_rows": null,
            "height": null,
            "justify_content": null,
            "justify_items": null,
            "left": null,
            "margin": null,
            "max_height": null,
            "max_width": null,
            "min_height": null,
            "min_width": null,
            "object_fit": null,
            "object_position": null,
            "order": null,
            "overflow": null,
            "overflow_x": null,
            "overflow_y": null,
            "padding": null,
            "right": null,
            "top": null,
            "visibility": null,
            "width": null
          }
        },
        "fe726ae861ee47a38a79121f4c48a48a": {
          "model_module": "@jupyter-widgets/controls",
          "model_name": "DescriptionStyleModel",
          "model_module_version": "1.5.0",
          "state": {
            "_model_module": "@jupyter-widgets/controls",
            "_model_module_version": "1.5.0",
            "_model_name": "DescriptionStyleModel",
            "_view_count": null,
            "_view_module": "@jupyter-widgets/base",
            "_view_module_version": "1.2.0",
            "_view_name": "StyleView",
            "description_width": ""
          }
        },
        "df4e6f6eb4ba403b94eb541ebcb1334a": {
          "model_module": "@jupyter-widgets/base",
          "model_name": "LayoutModel",
          "model_module_version": "1.2.0",
          "state": {
            "_model_module": "@jupyter-widgets/base",
            "_model_module_version": "1.2.0",
            "_model_name": "LayoutModel",
            "_view_count": null,
            "_view_module": "@jupyter-widgets/base",
            "_view_module_version": "1.2.0",
            "_view_name": "LayoutView",
            "align_content": null,
            "align_items": null,
            "align_self": null,
            "border": null,
            "bottom": null,
            "display": null,
            "flex": null,
            "flex_flow": null,
            "grid_area": null,
            "grid_auto_columns": null,
            "grid_auto_flow": null,
            "grid_auto_rows": null,
            "grid_column": null,
            "grid_gap": null,
            "grid_row": null,
            "grid_template_areas": null,
            "grid_template_columns": null,
            "grid_template_rows": null,
            "height": null,
            "justify_content": null,
            "justify_items": null,
            "left": null,
            "margin": null,
            "max_height": null,
            "max_width": null,
            "min_height": null,
            "min_width": null,
            "object_fit": null,
            "object_position": null,
            "order": null,
            "overflow": null,
            "overflow_x": null,
            "overflow_y": null,
            "padding": null,
            "right": null,
            "top": null,
            "visibility": null,
            "width": null
          }
        },
        "a6916f36d0f54224bdb90e0833c5283b": {
          "model_module": "@jupyter-widgets/controls",
          "model_name": "ProgressStyleModel",
          "model_module_version": "1.5.0",
          "state": {
            "_model_module": "@jupyter-widgets/controls",
            "_model_module_version": "1.5.0",
            "_model_name": "ProgressStyleModel",
            "_view_count": null,
            "_view_module": "@jupyter-widgets/base",
            "_view_module_version": "1.2.0",
            "_view_name": "StyleView",
            "bar_color": null,
            "description_width": ""
          }
        },
        "d69ce36f60b44543ae53b69369146e36": {
          "model_module": "@jupyter-widgets/base",
          "model_name": "LayoutModel",
          "model_module_version": "1.2.0",
          "state": {
            "_model_module": "@jupyter-widgets/base",
            "_model_module_version": "1.2.0",
            "_model_name": "LayoutModel",
            "_view_count": null,
            "_view_module": "@jupyter-widgets/base",
            "_view_module_version": "1.2.0",
            "_view_name": "LayoutView",
            "align_content": null,
            "align_items": null,
            "align_self": null,
            "border": null,
            "bottom": null,
            "display": null,
            "flex": null,
            "flex_flow": null,
            "grid_area": null,
            "grid_auto_columns": null,
            "grid_auto_flow": null,
            "grid_auto_rows": null,
            "grid_column": null,
            "grid_gap": null,
            "grid_row": null,
            "grid_template_areas": null,
            "grid_template_columns": null,
            "grid_template_rows": null,
            "height": null,
            "justify_content": null,
            "justify_items": null,
            "left": null,
            "margin": null,
            "max_height": null,
            "max_width": null,
            "min_height": null,
            "min_width": null,
            "object_fit": null,
            "object_position": null,
            "order": null,
            "overflow": null,
            "overflow_x": null,
            "overflow_y": null,
            "padding": null,
            "right": null,
            "top": null,
            "visibility": null,
            "width": null
          }
        },
        "c578f3f71f6b4aaaa53b9f54d858492b": {
          "model_module": "@jupyter-widgets/controls",
          "model_name": "DescriptionStyleModel",
          "model_module_version": "1.5.0",
          "state": {
            "_model_module": "@jupyter-widgets/controls",
            "_model_module_version": "1.5.0",
            "_model_name": "DescriptionStyleModel",
            "_view_count": null,
            "_view_module": "@jupyter-widgets/base",
            "_view_module_version": "1.2.0",
            "_view_name": "StyleView",
            "description_width": ""
          }
        },
        "6c265de722204e14ac345b294117e899": {
          "model_module": "@jupyter-widgets/controls",
          "model_name": "HBoxModel",
          "model_module_version": "1.5.0",
          "state": {
            "_dom_classes": [],
            "_model_module": "@jupyter-widgets/controls",
            "_model_module_version": "1.5.0",
            "_model_name": "HBoxModel",
            "_view_count": null,
            "_view_module": "@jupyter-widgets/controls",
            "_view_module_version": "1.5.0",
            "_view_name": "HBoxView",
            "box_style": "",
            "children": [
              "IPY_MODEL_1c19fa28db4d47759ad5b38130a8536a",
              "IPY_MODEL_a0c37f4bbb42496c8ad282531fe4b710",
              "IPY_MODEL_fdb9927d33d94d718b237b335b94f25b"
            ],
            "layout": "IPY_MODEL_937e896912d741a68f9cb6f088f3f66e"
          }
        },
        "1c19fa28db4d47759ad5b38130a8536a": {
          "model_module": "@jupyter-widgets/controls",
          "model_name": "HTMLModel",
          "model_module_version": "1.5.0",
          "state": {
            "_dom_classes": [],
            "_model_module": "@jupyter-widgets/controls",
            "_model_module_version": "1.5.0",
            "_model_name": "HTMLModel",
            "_view_count": null,
            "_view_module": "@jupyter-widgets/controls",
            "_view_module_version": "1.5.0",
            "_view_name": "HTMLView",
            "description": "",
            "description_tooltip": null,
            "layout": "IPY_MODEL_50635eab96bf4bbb85eb4ec40416b5c4",
            "placeholder": "​",
            "style": "IPY_MODEL_2865da3197c54d0b81ce26e8718cd207",
            "value": "model.safetensors: 100%"
          }
        },
        "a0c37f4bbb42496c8ad282531fe4b710": {
          "model_module": "@jupyter-widgets/controls",
          "model_name": "FloatProgressModel",
          "model_module_version": "1.5.0",
          "state": {
            "_dom_classes": [],
            "_model_module": "@jupyter-widgets/controls",
            "_model_module_version": "1.5.0",
            "_model_name": "FloatProgressModel",
            "_view_count": null,
            "_view_module": "@jupyter-widgets/controls",
            "_view_module_version": "1.5.0",
            "_view_name": "ProgressView",
            "bar_style": "success",
            "description": "",
            "description_tooltip": null,
            "layout": "IPY_MODEL_b23f77096d3f481fb36c704aabe836e1",
            "max": 440449768,
            "min": 0,
            "orientation": "horizontal",
            "style": "IPY_MODEL_9746b297c7af40fe9263cc26066d6d07",
            "value": 440449768
          }
        },
        "fdb9927d33d94d718b237b335b94f25b": {
          "model_module": "@jupyter-widgets/controls",
          "model_name": "HTMLModel",
          "model_module_version": "1.5.0",
          "state": {
            "_dom_classes": [],
            "_model_module": "@jupyter-widgets/controls",
            "_model_module_version": "1.5.0",
            "_model_name": "HTMLModel",
            "_view_count": null,
            "_view_module": "@jupyter-widgets/controls",
            "_view_module_version": "1.5.0",
            "_view_name": "HTMLView",
            "description": "",
            "description_tooltip": null,
            "layout": "IPY_MODEL_36740f0168d54e9386238653d07802d1",
            "placeholder": "​",
            "style": "IPY_MODEL_1b497e73fb42473791d700aa6aa8d61f",
            "value": " 440M/440M [00:02&lt;00:00, 191MB/s]"
          }
        },
        "937e896912d741a68f9cb6f088f3f66e": {
          "model_module": "@jupyter-widgets/base",
          "model_name": "LayoutModel",
          "model_module_version": "1.2.0",
          "state": {
            "_model_module": "@jupyter-widgets/base",
            "_model_module_version": "1.2.0",
            "_model_name": "LayoutModel",
            "_view_count": null,
            "_view_module": "@jupyter-widgets/base",
            "_view_module_version": "1.2.0",
            "_view_name": "LayoutView",
            "align_content": null,
            "align_items": null,
            "align_self": null,
            "border": null,
            "bottom": null,
            "display": null,
            "flex": null,
            "flex_flow": null,
            "grid_area": null,
            "grid_auto_columns": null,
            "grid_auto_flow": null,
            "grid_auto_rows": null,
            "grid_column": null,
            "grid_gap": null,
            "grid_row": null,
            "grid_template_areas": null,
            "grid_template_columns": null,
            "grid_template_rows": null,
            "height": null,
            "justify_content": null,
            "justify_items": null,
            "left": null,
            "margin": null,
            "max_height": null,
            "max_width": null,
            "min_height": null,
            "min_width": null,
            "object_fit": null,
            "object_position": null,
            "order": null,
            "overflow": null,
            "overflow_x": null,
            "overflow_y": null,
            "padding": null,
            "right": null,
            "top": null,
            "visibility": null,
            "width": null
          }
        },
        "50635eab96bf4bbb85eb4ec40416b5c4": {
          "model_module": "@jupyter-widgets/base",
          "model_name": "LayoutModel",
          "model_module_version": "1.2.0",
          "state": {
            "_model_module": "@jupyter-widgets/base",
            "_model_module_version": "1.2.0",
            "_model_name": "LayoutModel",
            "_view_count": null,
            "_view_module": "@jupyter-widgets/base",
            "_view_module_version": "1.2.0",
            "_view_name": "LayoutView",
            "align_content": null,
            "align_items": null,
            "align_self": null,
            "border": null,
            "bottom": null,
            "display": null,
            "flex": null,
            "flex_flow": null,
            "grid_area": null,
            "grid_auto_columns": null,
            "grid_auto_flow": null,
            "grid_auto_rows": null,
            "grid_column": null,
            "grid_gap": null,
            "grid_row": null,
            "grid_template_areas": null,
            "grid_template_columns": null,
            "grid_template_rows": null,
            "height": null,
            "justify_content": null,
            "justify_items": null,
            "left": null,
            "margin": null,
            "max_height": null,
            "max_width": null,
            "min_height": null,
            "min_width": null,
            "object_fit": null,
            "object_position": null,
            "order": null,
            "overflow": null,
            "overflow_x": null,
            "overflow_y": null,
            "padding": null,
            "right": null,
            "top": null,
            "visibility": null,
            "width": null
          }
        },
        "2865da3197c54d0b81ce26e8718cd207": {
          "model_module": "@jupyter-widgets/controls",
          "model_name": "DescriptionStyleModel",
          "model_module_version": "1.5.0",
          "state": {
            "_model_module": "@jupyter-widgets/controls",
            "_model_module_version": "1.5.0",
            "_model_name": "DescriptionStyleModel",
            "_view_count": null,
            "_view_module": "@jupyter-widgets/base",
            "_view_module_version": "1.2.0",
            "_view_name": "StyleView",
            "description_width": ""
          }
        },
        "b23f77096d3f481fb36c704aabe836e1": {
          "model_module": "@jupyter-widgets/base",
          "model_name": "LayoutModel",
          "model_module_version": "1.2.0",
          "state": {
            "_model_module": "@jupyter-widgets/base",
            "_model_module_version": "1.2.0",
            "_model_name": "LayoutModel",
            "_view_count": null,
            "_view_module": "@jupyter-widgets/base",
            "_view_module_version": "1.2.0",
            "_view_name": "LayoutView",
            "align_content": null,
            "align_items": null,
            "align_self": null,
            "border": null,
            "bottom": null,
            "display": null,
            "flex": null,
            "flex_flow": null,
            "grid_area": null,
            "grid_auto_columns": null,
            "grid_auto_flow": null,
            "grid_auto_rows": null,
            "grid_column": null,
            "grid_gap": null,
            "grid_row": null,
            "grid_template_areas": null,
            "grid_template_columns": null,
            "grid_template_rows": null,
            "height": null,
            "justify_content": null,
            "justify_items": null,
            "left": null,
            "margin": null,
            "max_height": null,
            "max_width": null,
            "min_height": null,
            "min_width": null,
            "object_fit": null,
            "object_position": null,
            "order": null,
            "overflow": null,
            "overflow_x": null,
            "overflow_y": null,
            "padding": null,
            "right": null,
            "top": null,
            "visibility": null,
            "width": null
          }
        },
        "9746b297c7af40fe9263cc26066d6d07": {
          "model_module": "@jupyter-widgets/controls",
          "model_name": "ProgressStyleModel",
          "model_module_version": "1.5.0",
          "state": {
            "_model_module": "@jupyter-widgets/controls",
            "_model_module_version": "1.5.0",
            "_model_name": "ProgressStyleModel",
            "_view_count": null,
            "_view_module": "@jupyter-widgets/base",
            "_view_module_version": "1.2.0",
            "_view_name": "StyleView",
            "bar_color": null,
            "description_width": ""
          }
        },
        "36740f0168d54e9386238653d07802d1": {
          "model_module": "@jupyter-widgets/base",
          "model_name": "LayoutModel",
          "model_module_version": "1.2.0",
          "state": {
            "_model_module": "@jupyter-widgets/base",
            "_model_module_version": "1.2.0",
            "_model_name": "LayoutModel",
            "_view_count": null,
            "_view_module": "@jupyter-widgets/base",
            "_view_module_version": "1.2.0",
            "_view_name": "LayoutView",
            "align_content": null,
            "align_items": null,
            "align_self": null,
            "border": null,
            "bottom": null,
            "display": null,
            "flex": null,
            "flex_flow": null,
            "grid_area": null,
            "grid_auto_columns": null,
            "grid_auto_flow": null,
            "grid_auto_rows": null,
            "grid_column": null,
            "grid_gap": null,
            "grid_row": null,
            "grid_template_areas": null,
            "grid_template_columns": null,
            "grid_template_rows": null,
            "height": null,
            "justify_content": null,
            "justify_items": null,
            "left": null,
            "margin": null,
            "max_height": null,
            "max_width": null,
            "min_height": null,
            "min_width": null,
            "object_fit": null,
            "object_position": null,
            "order": null,
            "overflow": null,
            "overflow_x": null,
            "overflow_y": null,
            "padding": null,
            "right": null,
            "top": null,
            "visibility": null,
            "width": null
          }
        },
        "1b497e73fb42473791d700aa6aa8d61f": {
          "model_module": "@jupyter-widgets/controls",
          "model_name": "DescriptionStyleModel",
          "model_module_version": "1.5.0",
          "state": {
            "_model_module": "@jupyter-widgets/controls",
            "_model_module_version": "1.5.0",
            "_model_name": "DescriptionStyleModel",
            "_view_count": null,
            "_view_module": "@jupyter-widgets/base",
            "_view_module_version": "1.2.0",
            "_view_name": "StyleView",
            "description_width": ""
          }
        }
      }
    }
  },
  "nbformat": 4,
  "nbformat_minor": 0
}