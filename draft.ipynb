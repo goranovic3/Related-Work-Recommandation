{
 "cells": [
  {
   "cell_type": "markdown",
   "metadata": {},
   "source": [
    "# Related Work recommandation system for research papers"
   ]
  },
  {
   "cell_type": "code",
   "execution_count": 40,
   "metadata": {},
   "outputs": [],
   "source": [
    "################################################################\n",
    "# Get the libraries\n",
    "import pandas as pd\n",
    "from tqdm import tqdm\n",
    "import matplotlib.pyplot as plt\n",
    "import numpy as np\n",
    "import scienceplots\n",
    "plt.style.use(['science', 'notebook', 'grid'])\n"
   ]
  },
  {
   "cell_type": "markdown",
   "metadata": {},
   "source": [
    "##  Get data\n",
    "\n",
    "\n",
    "Source : https://www.kaggle.com/datasets/nechbamohammed/research-papers-dataset\n",
    "\n",
    "The dataset is obtained from the kaggle platform and it gives little context about the selection process and its temporality.\n",
    "\n",
    "One important aspect of every Machine Learning project is the Data Quality Analysis. This means that *before starting to analyse the data* we want to ensure that the dataset reflects the reality, meaning that it is :\n",
    "1. Valid\n",
    "2. Reliable\n",
    "\n",
    "This is why we will create a sort of data dictionary that will allow us to define data quality rules, think about the expected data types and list the coherence rules to check. This way, we will ensure we work will data that reflect reality and that we know how to adequatly exploit and interpret them.\n",
    "\n",
    "NB : Even though the data quality is differently measured between tabular numerical data and the textual ones, there are certain \"common sense\" rules we should be able to confirm before modelling.\n",
    "\n"
   ]
  },
  {
   "cell_type": "code",
   "execution_count": 11,
   "metadata": {},
   "outputs": [
    {
     "data": {
      "text/plain": [
       "(1000000, 8)"
      ]
     },
     "execution_count": 11,
     "metadata": {},
     "output_type": "execute_result"
    }
   ],
   "source": [
    "df = pd.read_csv(\"./data/dblp-v10.csv\")\n",
    "\n",
    "df.shape"
   ]
  },
  {
   "cell_type": "markdown",
   "metadata": {},
   "source": [
    "| col_name     | description                                     | dtype          | value rules                          | DQ rules                                       | example value |\n",
    "|--------------|-------------------------------------------------|----------------|--------------------------------------|-----------------------------------------------|---------------|\n",
    "| abstract         | Paper abstract text                      | string         | free format                     | Always assigned                                | 'In this paper, a robust 3D triangular mesh watermarking algorithm based on 3D segmentation is proposed. In this algorithm three classes of watermarking are combined. First, we segment the original image to many different regions. Then we mark every type of region with the corresponding algorithm based on their curvature value. The experiments show that our watermarking is robust against numerous attacks including RST transformations, smoothing, additive random noise, cropping, simplification and remeshing.'\n",
    "| authors          | List of authors of the paper                   | string        | ['Name Lastname1', 'Name Lastname2', ...]               | Always assigned, same name always in the same format                                | \"['S. Ben Jabra', 'Ezzeddine Zagrouba']\"        |\n",
    "| n_citation          | Number of citations at the sampling date                         |  integer        | non-negative              | Always assigned                             | 50          |\n",
    "| references          | List of paper_ids of all papers references in the paper                                 | string        | ['paperid1', 'paperid2', ...]                 | Always assigned                                | \"['09cb2d7d-47d1-4a85-bfe5-faa8221e644b', '10aa16da-3cc8-4af6-9d66-48037e915d76', '35cb45c3-9408-4096-ab30-bc2e4de3fb5d', '661a342e-a911-4420-b67d-51c75d3b14e9', '779553f3-e4c1-456e-bc01-5eb9d9567541', 'b24ba5c0-fee8-4a3e-9330-17f6564856cd', 'fd1c676d-1296-4f19-89b4-17c7ecd270f3']\"           |\n",
    "| title          | Official title of the paper                            | string        | free format                 | Always assigned                                | 'A new approach of 3D watermarking based on image segmentation'           |\n",
    "| venue          | Name of conference where the paper was submitted                         | string        | free format                 | Not always assigned                                | 'international symposium on computers and communications'           |\n",
    "| year          | Year of publishing                          | integer        | <= 19000 <= 2025               | Always assigned        | 2008          |\n",
    "| id       | Paper identifier                     | string        | Unique                 | Always assigned                                | \t4ab3735c-80f1-472d-b953-fa0557fed28b           |\n"
   ]
  },
  {
   "cell_type": "code",
   "execution_count": 15,
   "metadata": {},
   "outputs": [
    {
     "data": {
      "text/html": [
       "<div>\n",
       "<style scoped>\n",
       "    .dataframe tbody tr th:only-of-type {\n",
       "        vertical-align: middle;\n",
       "    }\n",
       "\n",
       "    .dataframe tbody tr th {\n",
       "        vertical-align: top;\n",
       "    }\n",
       "\n",
       "    .dataframe thead th {\n",
       "        text-align: right;\n",
       "    }\n",
       "</style>\n",
       "<table border=\"1\" class=\"dataframe\">\n",
       "  <thead>\n",
       "    <tr style=\"text-align: right;\">\n",
       "      <th></th>\n",
       "      <th>abstract</th>\n",
       "      <th>authors</th>\n",
       "      <th>n_citation</th>\n",
       "      <th>references</th>\n",
       "      <th>title</th>\n",
       "      <th>venue</th>\n",
       "      <th>year</th>\n",
       "      <th>id</th>\n",
       "    </tr>\n",
       "  </thead>\n",
       "  <tbody>\n",
       "    <tr>\n",
       "      <th>0</th>\n",
       "      <td>In this paper, a robust 3D triangular mesh wat...</td>\n",
       "      <td>['S. Ben Jabra', 'Ezzeddine Zagrouba']</td>\n",
       "      <td>50</td>\n",
       "      <td>['09cb2d7d-47d1-4a85-bfe5-faa8221e644b', '10aa...</td>\n",
       "      <td>A new approach of 3D watermarking based on ima...</td>\n",
       "      <td>international symposium on computers and commu...</td>\n",
       "      <td>2008</td>\n",
       "      <td>4ab3735c-80f1-472d-b953-fa0557fed28b</td>\n",
       "    </tr>\n",
       "    <tr>\n",
       "      <th>1</th>\n",
       "      <td>We studied an autoassociative neural network w...</td>\n",
       "      <td>['Joaquín J. Torres', 'Jesús M. Cortés', 'Joaq...</td>\n",
       "      <td>50</td>\n",
       "      <td>['4017c9d2-9845-4ad2-ad5b-ba65523727c5', 'b118...</td>\n",
       "      <td>Attractor neural networks with activity-depend...</td>\n",
       "      <td>Neurocomputing</td>\n",
       "      <td>2007</td>\n",
       "      <td>4ab39729-af77-46f7-a662-16984fb9c1db</td>\n",
       "    </tr>\n",
       "    <tr>\n",
       "      <th>2</th>\n",
       "      <td>It is well-known that Sturmian sequences are t...</td>\n",
       "      <td>['Genevi eve Paquin', 'Laurent Vuillon']</td>\n",
       "      <td>50</td>\n",
       "      <td>['1c655ee2-067d-4bc4-b8cc-bc779e9a7f10', '2e4e...</td>\n",
       "      <td>A characterization of balanced episturmian seq...</td>\n",
       "      <td>Electronic Journal of Combinatorics</td>\n",
       "      <td>2007</td>\n",
       "      <td>4ab3a4cf-1d96-4ce5-ab6f-b3e19fc260de</td>\n",
       "    </tr>\n",
       "    <tr>\n",
       "      <th>3</th>\n",
       "      <td>One of the fundamental challenges of recognizi...</td>\n",
       "      <td>['Yaser Sheikh', 'Mumtaz Sheikh', 'Mubarak Shah']</td>\n",
       "      <td>221</td>\n",
       "      <td>['056116c1-9e7a-4f9b-a918-44eb199e67d6', '05ac...</td>\n",
       "      <td>Exploring the space of a human action</td>\n",
       "      <td>international conference on computer vision</td>\n",
       "      <td>2005</td>\n",
       "      <td>4ab3a98c-3620-47ec-b578-884ecf4a6206</td>\n",
       "    </tr>\n",
       "    <tr>\n",
       "      <th>4</th>\n",
       "      <td>This paper generalizes previous optimal upper ...</td>\n",
       "      <td>['Efraim Laksman', 'Håkan Lennerstad', 'Magnus...</td>\n",
       "      <td>0</td>\n",
       "      <td>['01a765b8-0cb3-495c-996f-29c36756b435', '5dbc...</td>\n",
       "      <td>Generalized upper bounds on the minimum distan...</td>\n",
       "      <td>Ima Journal of Mathematical Control and Inform...</td>\n",
       "      <td>2015</td>\n",
       "      <td>4ab3b585-82b4-4207-91dd-b6bce7e27c4e</td>\n",
       "    </tr>\n",
       "  </tbody>\n",
       "</table>\n",
       "</div>"
      ],
      "text/plain": [
       "                                            abstract  \\\n",
       "0  In this paper, a robust 3D triangular mesh wat...   \n",
       "1  We studied an autoassociative neural network w...   \n",
       "2  It is well-known that Sturmian sequences are t...   \n",
       "3  One of the fundamental challenges of recognizi...   \n",
       "4  This paper generalizes previous optimal upper ...   \n",
       "\n",
       "                                             authors  n_citation  \\\n",
       "0             ['S. Ben Jabra', 'Ezzeddine Zagrouba']          50   \n",
       "1  ['Joaquín J. Torres', 'Jesús M. Cortés', 'Joaq...          50   \n",
       "2           ['Genevi eve Paquin', 'Laurent Vuillon']          50   \n",
       "3  ['Yaser Sheikh', 'Mumtaz Sheikh', 'Mubarak Shah']         221   \n",
       "4  ['Efraim Laksman', 'Håkan Lennerstad', 'Magnus...           0   \n",
       "\n",
       "                                          references  \\\n",
       "0  ['09cb2d7d-47d1-4a85-bfe5-faa8221e644b', '10aa...   \n",
       "1  ['4017c9d2-9845-4ad2-ad5b-ba65523727c5', 'b118...   \n",
       "2  ['1c655ee2-067d-4bc4-b8cc-bc779e9a7f10', '2e4e...   \n",
       "3  ['056116c1-9e7a-4f9b-a918-44eb199e67d6', '05ac...   \n",
       "4  ['01a765b8-0cb3-495c-996f-29c36756b435', '5dbc...   \n",
       "\n",
       "                                               title  \\\n",
       "0  A new approach of 3D watermarking based on ima...   \n",
       "1  Attractor neural networks with activity-depend...   \n",
       "2  A characterization of balanced episturmian seq...   \n",
       "3              Exploring the space of a human action   \n",
       "4  Generalized upper bounds on the minimum distan...   \n",
       "\n",
       "                                               venue  year  \\\n",
       "0  international symposium on computers and commu...  2008   \n",
       "1                                     Neurocomputing  2007   \n",
       "2                Electronic Journal of Combinatorics  2007   \n",
       "3        international conference on computer vision  2005   \n",
       "4  Ima Journal of Mathematical Control and Inform...  2015   \n",
       "\n",
       "                                     id  \n",
       "0  4ab3735c-80f1-472d-b953-fa0557fed28b  \n",
       "1  4ab39729-af77-46f7-a662-16984fb9c1db  \n",
       "2  4ab3a4cf-1d96-4ce5-ab6f-b3e19fc260de  \n",
       "3  4ab3a98c-3620-47ec-b578-884ecf4a6206  \n",
       "4  4ab3b585-82b4-4207-91dd-b6bce7e27c4e  "
      ]
     },
     "execution_count": 15,
     "metadata": {},
     "output_type": "execute_result"
    }
   ],
   "source": [
    "df.head()"
   ]
  },
  {
   "cell_type": "markdown",
   "metadata": {},
   "source": [
    "# 1. Data quality\n",
    "\n",
    "In this section we confirm (or not) the rules we assumed in the data dictionary above. We take appropriate actions for each analysis we take."
   ]
  },
  {
   "cell_type": "markdown",
   "metadata": {},
   "source": [
    "## 1.1. Nan check\n",
    "\n",
    "- Where do we have not assigned data and does it bother us?\n"
   ]
  },
  {
   "cell_type": "code",
   "execution_count": 30,
   "metadata": {},
   "outputs": [],
   "source": [
    "def check_for_nans(df: 'pd.DataFrame', col: str) -> float:    \n",
    "    nan_percentage = df[col].isna().mean() * 100\n",
    "    \n",
    "    if nan_percentage == 0:\n",
    "        print(f\"There are no NaN values in the column '{col}'.\")\n",
    "    else:\n",
    "        print(f\"The column '{col}' contains {nan_percentage:.2f}% NaN values.\")\n",
    "    \n",
    "    return nan_percentage"
   ]
  },
  {
   "cell_type": "code",
   "execution_count": 31,
   "metadata": {},
   "outputs": [
    {
     "name": "stdout",
     "output_type": "stream",
     "text": [
      "The column 'abstract' contains 17.25% NaN values.\n",
      "The column 'authors' contains 0.00% NaN values.\n",
      "There are no NaN values in the column 'n_citation'.\n",
      "The column 'references' contains 12.44% NaN values.\n",
      "There are no NaN values in the column 'title'.\n",
      "The column 'venue' contains 17.78% NaN values.\n",
      "There are no NaN values in the column 'year'.\n",
      "There are no NaN values in the column 'id'.\n"
     ]
    }
   ],
   "source": [
    "for col in df.columns:\n",
    "    df[col] = df[col].replace([\"\", \" \", \"NA\", \"null\", \"N/A\", 'Nan'], pd.NA)\n",
    "    check_for_nans(df, col)"
   ]
  },
  {
   "cell_type": "code",
   "execution_count": 41,
   "metadata": {},
   "outputs": [
    {
     "data": {
      "text/html": [
       "<div>\n",
       "<style scoped>\n",
       "    .dataframe tbody tr th:only-of-type {\n",
       "        vertical-align: middle;\n",
       "    }\n",
       "\n",
       "    .dataframe tbody tr th {\n",
       "        vertical-align: top;\n",
       "    }\n",
       "\n",
       "    .dataframe thead th {\n",
       "        text-align: right;\n",
       "    }\n",
       "</style>\n",
       "<table border=\"1\" class=\"dataframe\">\n",
       "  <thead>\n",
       "    <tr style=\"text-align: right;\">\n",
       "      <th></th>\n",
       "      <th>abstract</th>\n",
       "      <th>authors</th>\n",
       "      <th>n_citation</th>\n",
       "      <th>references</th>\n",
       "      <th>title</th>\n",
       "      <th>venue</th>\n",
       "      <th>year</th>\n",
       "      <th>id</th>\n",
       "    </tr>\n",
       "  </thead>\n",
       "  <tbody>\n",
       "    <tr>\n",
       "      <th>9</th>\n",
       "      <td>NaN</td>\n",
       "      <td>['Zhanjun Bai', 'Xing Zhou', 'Ralph Mason']</td>\n",
       "      <td>3</td>\n",
       "      <td>['54f270aa-ce44-4ece-a2ca-c63a9f266cb3', '638c...</td>\n",
       "      <td>A novel Injection Locked Rotary Traveling Wave...</td>\n",
       "      <td>international symposium on circuits and systems</td>\n",
       "      <td>2014</td>\n",
       "      <td>4ab439a4-9379-44f5-b98b-87125ae7366e</td>\n",
       "    </tr>\n",
       "    <tr>\n",
       "      <th>36</th>\n",
       "      <td>NaN</td>\n",
       "      <td>['Ruiz-Huerta']</td>\n",
       "      <td>50</td>\n",
       "      <td>NaN</td>\n",
       "      <td>The Programmable Compiler</td>\n",
       "      <td>IEEE Computer</td>\n",
       "      <td>1983</td>\n",
       "      <td>4ab689ab-506e-457c-b0b2-192829c34035</td>\n",
       "    </tr>\n",
       "    <tr>\n",
       "      <th>74</th>\n",
       "      <td>NaN</td>\n",
       "      <td>['Shin Ya Abe', 'Youhua Shi', 'Kimiyoshi Usami...</td>\n",
       "      <td>0</td>\n",
       "      <td>['04159258-4dfc-45f4-8ee8-5709e9700049', '09f5...</td>\n",
       "      <td>Floorplan driven architecture and high-level s...</td>\n",
       "      <td>IEICE Transactions on Fundamentals of Electron...</td>\n",
       "      <td>2013</td>\n",
       "      <td>4ab90243-f09f-4a20-bfe8-37e199ff6c95</td>\n",
       "    </tr>\n",
       "    <tr>\n",
       "      <th>77</th>\n",
       "      <td>NaN</td>\n",
       "      <td>['Willard L. Eastman', 'Shimon Even']</td>\n",
       "      <td>0</td>\n",
       "      <td>['bddb9051-acc8-4eb0-b770-6fbb8ca5871f']</td>\n",
       "      <td>Some further results on synchronizable block c...</td>\n",
       "      <td>IEEE Transactions on Information Theory</td>\n",
       "      <td>1966</td>\n",
       "      <td>4ab93ae9-278c-468d-8077-371bfedb576a</td>\n",
       "    </tr>\n",
       "    <tr>\n",
       "      <th>97</th>\n",
       "      <td>NaN</td>\n",
       "      <td>['Chulhoon Jang', 'Chansoo Kim', 'Dongchul Kim...</td>\n",
       "      <td>21</td>\n",
       "      <td>['5384be17-46f4-412b-9c95-834d90d83297', '971d...</td>\n",
       "      <td>Multiple exposure images based traffic light r...</td>\n",
       "      <td>NaN</td>\n",
       "      <td>2014</td>\n",
       "      <td>4aba3206-6232-4aa9-9e89-d178da94e865</td>\n",
       "    </tr>\n",
       "    <tr>\n",
       "      <th>...</th>\n",
       "      <td>...</td>\n",
       "      <td>...</td>\n",
       "      <td>...</td>\n",
       "      <td>...</td>\n",
       "      <td>...</td>\n",
       "      <td>...</td>\n",
       "      <td>...</td>\n",
       "      <td>...</td>\n",
       "    </tr>\n",
       "    <tr>\n",
       "      <th>999983</th>\n",
       "      <td>NaN</td>\n",
       "      <td>['Chao Wang', 'Yizhong Yuan', 'Xiaohui Tian']</td>\n",
       "      <td>0</td>\n",
       "      <td>['03208590-7f63-4a9c-be3b-89afc2ce58a1', '7b42...</td>\n",
       "      <td>Assessment of range‐separated exchange functio...</td>\n",
       "      <td>Journal of Computational Chemistry</td>\n",
       "      <td>2017</td>\n",
       "      <td>fd14f60b-9577-4461-824c-57611090cd02</td>\n",
       "    </tr>\n",
       "    <tr>\n",
       "      <th>999984</th>\n",
       "      <td>NaN</td>\n",
       "      <td>['Oliver Kroemer', 'Jan Peters']</td>\n",
       "      <td>0</td>\n",
       "      <td>['01f07b38-7038-4ac1-b9b5-4b79a13f307b', '0a15...</td>\n",
       "      <td>A Comparison of Autoregressive Hidden Markov M...</td>\n",
       "      <td>international conference on robotics and autom...</td>\n",
       "      <td>2017</td>\n",
       "      <td>fd256ca3-41df-40c2-80a8-a3286d4b982f</td>\n",
       "    </tr>\n",
       "    <tr>\n",
       "      <th>999986</th>\n",
       "      <td>NaN</td>\n",
       "      <td>['Xian-He Sun', 'Yuhang Liu']</td>\n",
       "      <td>0</td>\n",
       "      <td>['26031e0e-3b83-4ab8-bcda-e1a342814b70', '6666...</td>\n",
       "      <td>Utilizing Concurrency: A New Theory for Memory...</td>\n",
       "      <td>languages and compilers for parallel computing</td>\n",
       "      <td>2016</td>\n",
       "      <td>fd6bbc97-1107-4857-86f0-4c1a5aff8a4c</td>\n",
       "    </tr>\n",
       "    <tr>\n",
       "      <th>999988</th>\n",
       "      <td>NaN</td>\n",
       "      <td>['Prabhakar Dixit', 'Joos C. A. M. Buijs', 'Wi...</td>\n",
       "      <td>0</td>\n",
       "      <td>['00c59fef-26e6-4c07-8388-9784a05306a3', '0a0e...</td>\n",
       "      <td>Using Domain Knowledge to Enhance Process Mini...</td>\n",
       "      <td>NaN</td>\n",
       "      <td>2015</td>\n",
       "      <td>fdf08a4d-1002-405f-b0e9-4c9df4632ff9</td>\n",
       "    </tr>\n",
       "    <tr>\n",
       "      <th>999998</th>\n",
       "      <td>NaN</td>\n",
       "      <td>['Ben London', 'Bert Huang', 'Lise Getoor']</td>\n",
       "      <td>50</td>\n",
       "      <td>['1c152bbb-3f77-4f83-a7d0-2a9b662f93b1', '218e...</td>\n",
       "      <td>Stability and Generalization in Structured Pre...</td>\n",
       "      <td>Journal of Machine Learning Research</td>\n",
       "      <td>2016</td>\n",
       "      <td>ff7553fa-88c0-431c-be85-8ec30024e420</td>\n",
       "    </tr>\n",
       "  </tbody>\n",
       "</table>\n",
       "<p>172467 rows × 8 columns</p>\n",
       "</div>"
      ],
      "text/plain": [
       "       abstract                                            authors  \\\n",
       "9           NaN        ['Zhanjun Bai', 'Xing Zhou', 'Ralph Mason']   \n",
       "36          NaN                                    ['Ruiz-Huerta']   \n",
       "74          NaN  ['Shin Ya Abe', 'Youhua Shi', 'Kimiyoshi Usami...   \n",
       "77          NaN              ['Willard L. Eastman', 'Shimon Even']   \n",
       "97          NaN  ['Chulhoon Jang', 'Chansoo Kim', 'Dongchul Kim...   \n",
       "...         ...                                                ...   \n",
       "999983      NaN      ['Chao Wang', 'Yizhong Yuan', 'Xiaohui Tian']   \n",
       "999984      NaN                   ['Oliver Kroemer', 'Jan Peters']   \n",
       "999986      NaN                      ['Xian-He Sun', 'Yuhang Liu']   \n",
       "999988      NaN  ['Prabhakar Dixit', 'Joos C. A. M. Buijs', 'Wi...   \n",
       "999998      NaN        ['Ben London', 'Bert Huang', 'Lise Getoor']   \n",
       "\n",
       "        n_citation                                         references  \\\n",
       "9                3  ['54f270aa-ce44-4ece-a2ca-c63a9f266cb3', '638c...   \n",
       "36              50                                                NaN   \n",
       "74               0  ['04159258-4dfc-45f4-8ee8-5709e9700049', '09f5...   \n",
       "77               0           ['bddb9051-acc8-4eb0-b770-6fbb8ca5871f']   \n",
       "97              21  ['5384be17-46f4-412b-9c95-834d90d83297', '971d...   \n",
       "...            ...                                                ...   \n",
       "999983           0  ['03208590-7f63-4a9c-be3b-89afc2ce58a1', '7b42...   \n",
       "999984           0  ['01f07b38-7038-4ac1-b9b5-4b79a13f307b', '0a15...   \n",
       "999986           0  ['26031e0e-3b83-4ab8-bcda-e1a342814b70', '6666...   \n",
       "999988           0  ['00c59fef-26e6-4c07-8388-9784a05306a3', '0a0e...   \n",
       "999998          50  ['1c152bbb-3f77-4f83-a7d0-2a9b662f93b1', '218e...   \n",
       "\n",
       "                                                    title  \\\n",
       "9       A novel Injection Locked Rotary Traveling Wave...   \n",
       "36                              The Programmable Compiler   \n",
       "74      Floorplan driven architecture and high-level s...   \n",
       "77      Some further results on synchronizable block c...   \n",
       "97      Multiple exposure images based traffic light r...   \n",
       "...                                                   ...   \n",
       "999983  Assessment of range‐separated exchange functio...   \n",
       "999984  A Comparison of Autoregressive Hidden Markov M...   \n",
       "999986  Utilizing Concurrency: A New Theory for Memory...   \n",
       "999988  Using Domain Knowledge to Enhance Process Mini...   \n",
       "999998  Stability and Generalization in Structured Pre...   \n",
       "\n",
       "                                                    venue  year  \\\n",
       "9         international symposium on circuits and systems  2014   \n",
       "36                                          IEEE Computer  1983   \n",
       "74      IEICE Transactions on Fundamentals of Electron...  2013   \n",
       "77                IEEE Transactions on Information Theory  1966   \n",
       "97                                                    NaN  2014   \n",
       "...                                                   ...   ...   \n",
       "999983                 Journal of Computational Chemistry  2017   \n",
       "999984  international conference on robotics and autom...  2017   \n",
       "999986     languages and compilers for parallel computing  2016   \n",
       "999988                                                NaN  2015   \n",
       "999998               Journal of Machine Learning Research  2016   \n",
       "\n",
       "                                          id  \n",
       "9       4ab439a4-9379-44f5-b98b-87125ae7366e  \n",
       "36      4ab689ab-506e-457c-b0b2-192829c34035  \n",
       "74      4ab90243-f09f-4a20-bfe8-37e199ff6c95  \n",
       "77      4ab93ae9-278c-468d-8077-371bfedb576a  \n",
       "97      4aba3206-6232-4aa9-9e89-d178da94e865  \n",
       "...                                      ...  \n",
       "999983  fd14f60b-9577-4461-824c-57611090cd02  \n",
       "999984  fd256ca3-41df-40c2-80a8-a3286d4b982f  \n",
       "999986  fd6bbc97-1107-4857-86f0-4c1a5aff8a4c  \n",
       "999988  fdf08a4d-1002-405f-b0e9-4c9df4632ff9  \n",
       "999998  ff7553fa-88c0-431c-be85-8ec30024e420  \n",
       "\n",
       "[172467 rows x 8 columns]"
      ]
     },
     "execution_count": 41,
     "metadata": {},
     "output_type": "execute_result"
    }
   ],
   "source": [
    "df[df['abstract'].isna()]"
   ]
  },
  {
   "cell_type": "code",
   "execution_count": 51,
   "metadata": {},
   "outputs": [
    {
     "data": {
      "text/html": [
       "<div>\n",
       "<style scoped>\n",
       "    .dataframe tbody tr th:only-of-type {\n",
       "        vertical-align: middle;\n",
       "    }\n",
       "\n",
       "    .dataframe tbody tr th {\n",
       "        vertical-align: top;\n",
       "    }\n",
       "\n",
       "    .dataframe thead th {\n",
       "        text-align: right;\n",
       "    }\n",
       "</style>\n",
       "<table border=\"1\" class=\"dataframe\">\n",
       "  <thead>\n",
       "    <tr style=\"text-align: right;\">\n",
       "      <th></th>\n",
       "      <th>abstract</th>\n",
       "      <th>authors</th>\n",
       "      <th>n_citation</th>\n",
       "      <th>references</th>\n",
       "      <th>title</th>\n",
       "      <th>venue</th>\n",
       "      <th>year</th>\n",
       "      <th>id</th>\n",
       "    </tr>\n",
       "  </thead>\n",
       "  <tbody>\n",
       "  </tbody>\n",
       "</table>\n",
       "</div>"
      ],
      "text/plain": [
       "Empty DataFrame\n",
       "Columns: [abstract, authors, n_citation, references, title, venue, year, id]\n",
       "Index: []"
      ]
     },
     "execution_count": 51,
     "metadata": {},
     "output_type": "execute_result"
    }
   ],
   "source": [
    "df = df.dropna(subset=['abstract'])\n",
    "df[df['abstract'].isna()]"
   ]
  },
  {
   "cell_type": "code",
   "execution_count": 52,
   "metadata": {},
   "outputs": [
    {
     "data": {
      "text/html": [
       "<div>\n",
       "<style scoped>\n",
       "    .dataframe tbody tr th:only-of-type {\n",
       "        vertical-align: middle;\n",
       "    }\n",
       "\n",
       "    .dataframe tbody tr th {\n",
       "        vertical-align: top;\n",
       "    }\n",
       "\n",
       "    .dataframe thead th {\n",
       "        text-align: right;\n",
       "    }\n",
       "</style>\n",
       "<table border=\"1\" class=\"dataframe\">\n",
       "  <thead>\n",
       "    <tr style=\"text-align: right;\">\n",
       "      <th></th>\n",
       "      <th>abstract</th>\n",
       "      <th>authors</th>\n",
       "      <th>n_citation</th>\n",
       "      <th>references</th>\n",
       "      <th>title</th>\n",
       "      <th>venue</th>\n",
       "      <th>year</th>\n",
       "      <th>id</th>\n",
       "    </tr>\n",
       "  </thead>\n",
       "  <tbody>\n",
       "    <tr>\n",
       "      <th>594452</th>\n",
       "      <td>This paper proposes a new intra-mode decision ...</td>\n",
       "      <td>NaN</td>\n",
       "      <td>1</td>\n",
       "      <td>['1a6ecea3-bad3-4139-8c15-9a35247b8be4', '93cf...</td>\n",
       "      <td>An efficient intra-mode decision method for HEVC</td>\n",
       "      <td>Signal, Image and Video Processing</td>\n",
       "      <td>2016</td>\n",
       "      <td>9c4cf6a4-3d7a-4892-9acd-dc30336c73f1</td>\n",
       "    </tr>\n",
       "  </tbody>\n",
       "</table>\n",
       "</div>"
      ],
      "text/plain": [
       "                                                 abstract authors  n_citation  \\\n",
       "594452  This paper proposes a new intra-mode decision ...     NaN           1   \n",
       "\n",
       "                                               references  \\\n",
       "594452  ['1a6ecea3-bad3-4139-8c15-9a35247b8be4', '93cf...   \n",
       "\n",
       "                                                   title  \\\n",
       "594452  An efficient intra-mode decision method for HEVC   \n",
       "\n",
       "                                     venue  year  \\\n",
       "594452  Signal, Image and Video Processing  2016   \n",
       "\n",
       "                                          id  \n",
       "594452  9c4cf6a4-3d7a-4892-9acd-dc30336c73f1  "
      ]
     },
     "execution_count": 52,
     "metadata": {},
     "output_type": "execute_result"
    }
   ],
   "source": [
    "df[df['authors'].isna()]"
   ]
  },
  {
   "cell_type": "code",
   "execution_count": 53,
   "metadata": {},
   "outputs": [
    {
     "data": {
      "text/html": [
       "<div>\n",
       "<style scoped>\n",
       "    .dataframe tbody tr th:only-of-type {\n",
       "        vertical-align: middle;\n",
       "    }\n",
       "\n",
       "    .dataframe tbody tr th {\n",
       "        vertical-align: top;\n",
       "    }\n",
       "\n",
       "    .dataframe thead th {\n",
       "        text-align: right;\n",
       "    }\n",
       "</style>\n",
       "<table border=\"1\" class=\"dataframe\">\n",
       "  <thead>\n",
       "    <tr style=\"text-align: right;\">\n",
       "      <th></th>\n",
       "      <th>abstract</th>\n",
       "      <th>authors</th>\n",
       "      <th>n_citation</th>\n",
       "      <th>references</th>\n",
       "      <th>title</th>\n",
       "      <th>venue</th>\n",
       "      <th>year</th>\n",
       "      <th>id</th>\n",
       "    </tr>\n",
       "  </thead>\n",
       "  <tbody>\n",
       "  </tbody>\n",
       "</table>\n",
       "</div>"
      ],
      "text/plain": [
       "Empty DataFrame\n",
       "Columns: [abstract, authors, n_citation, references, title, venue, year, id]\n",
       "Index: []"
      ]
     },
     "execution_count": 53,
     "metadata": {},
     "output_type": "execute_result"
    }
   ],
   "source": [
    "df = df.dropna(subset=['authors'])\n",
    "df[df['authors'].isna()]"
   ]
  },
  {
   "cell_type": "code",
   "execution_count": 54,
   "metadata": {},
   "outputs": [
    {
     "data": {
      "text/plain": [
       "(40309, 8)"
      ]
     },
     "execution_count": 54,
     "metadata": {},
     "output_type": "execute_result"
    }
   ],
   "source": [
    "df[df['references'].isna()].shape"
   ]
  },
  {
   "cell_type": "markdown",
   "metadata": {},
   "source": [
    "to do : Comment on the deleting decision and understand whether to delete the rows where references are not present"
   ]
  },
  {
   "cell_type": "markdown",
   "metadata": {},
   "source": [
    "## 1.2. Value rules\n",
    "- years format range\n",
    "- citation number range and typr\n"
   ]
  },
  {
   "cell_type": "code",
   "execution_count": 55,
   "metadata": {},
   "outputs": [],
   "source": [
    "def check_nonnegative_integer(df: 'pd.DataFrame', col: str) -> float:\n",
    "    \n",
    "    positive_int_percentage = (df[col].apply(lambda x: isinstance(x, int) and x >= 0).mean()) * 100\n",
    "    \n",
    "    if positive_int_percentage == 100:\n",
    "        print(f\"All values in the column '{col}' are non negative  integers.\")\n",
    "    else:\n",
    "        print(f\"{100 - positive_int_percentage:.2f}% of values in the column '{col}' are negative integers.\")\n",
    "    \n",
    "    return positive_int_percentage\n"
   ]
  },
  {
   "cell_type": "code",
   "execution_count": 56,
   "metadata": {},
   "outputs": [],
   "source": [
    "def check_int_1900_to_2025(df: 'pd.DataFrame', col: str) -> float:\n",
    "\n",
    "    int_1900_to_2025_percentage = (df[col].apply(lambda x: isinstance(x, (int, int)) and 1900 <= x <= 2025).mean()) * 100\n",
    "    \n",
    "    if int_1900_to_2025_percentage == 100:\n",
    "        print(f\"All values in the column '{col}' are real numbers between 1900 and 2025.\")\n",
    "    else:\n",
    "        print(f\"{100 - int_1900_to_2025_percentage:.2f}% of values in the column '{col}' are not real numbers between 19000 and 2025.\")\n",
    "        \n",
    "    return int_1900_to_2025_percentage"
   ]
  },
  {
   "cell_type": "code",
   "execution_count": 39,
   "metadata": {},
   "outputs": [
    {
     "name": "stdout",
     "output_type": "stream",
     "text": [
      "All values in the column 'year' are real numbers between 1900 and 2025.\n",
      "All values in the column 'n_citation' are non negative  integers.\n"
     ]
    }
   ],
   "source": [
    "def validate_columns(df):\n",
    "    validation_rules = {\n",
    "        \"year\": check_int_1900_to_2025,\n",
    "        \"n_citation\": check_nonnegative_integer\n",
    "    }\n",
    "    \n",
    "    for col, func in validation_rules.items():\n",
    "        if col in df.columns:  \n",
    "            func(df, col) \n",
    "        else:\n",
    "            print(f'The column {col} does not exist in the dataframe!')\n",
    "            \n",
    "validate_columns(df)"
   ]
  },
  {
   "cell_type": "markdown",
   "metadata": {},
   "source": [
    "## 1.3. Uniqueness check\n",
    "- unique id column\n",
    "- unique title column \n",
    "- no doubled rows "
   ]
  },
  {
   "cell_type": "code",
   "execution_count": 58,
   "metadata": {},
   "outputs": [
    {
     "data": {
      "text/plain": [
       "0"
      ]
     },
     "execution_count": 58,
     "metadata": {},
     "output_type": "execute_result"
    }
   ],
   "source": [
    "df.duplicated().sum()"
   ]
  },
  {
   "cell_type": "code",
   "execution_count": 59,
   "metadata": {},
   "outputs": [
    {
     "data": {
      "text/plain": [
       "0"
      ]
     },
     "execution_count": 59,
     "metadata": {},
     "output_type": "execute_result"
    }
   ],
   "source": [
    "df['id'].duplicated().sum()"
   ]
  },
  {
   "cell_type": "code",
   "execution_count": 60,
   "metadata": {},
   "outputs": [
    {
     "data": {
      "text/plain": [
       "629"
      ]
     },
     "execution_count": 60,
     "metadata": {},
     "output_type": "execute_result"
    }
   ],
   "source": [
    "df['title'].duplicated().sum()"
   ]
  },
  {
   "cell_type": "markdown",
   "metadata": {},
   "source": [
    "to do : decide whether we should delete the doubled titles or not, given that ids are unique"
   ]
  },
  {
   "cell_type": "markdown",
   "metadata": {},
   "source": [
    "## Save cleaned dataset"
   ]
  },
  {
   "cell_type": "code",
   "execution_count": 62,
   "metadata": {},
   "outputs": [],
   "source": [
    "def save_df_to_csv(df: pd.DataFrame, path: str, filename: str) -> None:\n",
    "    if not filename.endswith('.csv'):\n",
    "        raise ValueError(\"Filename must have a .csv extension !\")\n",
    "    \n",
    "    full_path = f\"{path}/{filename}\"\n",
    "    df.to_csv(full_path, index=False)\n",
    "    print(f\"DataFrame saved as {full_path}\")\n",
    "    return"
   ]
  },
  {
   "cell_type": "code",
   "execution_count": 63,
   "metadata": {},
   "outputs": [
    {
     "data": {
      "text/plain": [
       "(827532, 8)"
      ]
     },
     "execution_count": 63,
     "metadata": {},
     "output_type": "execute_result"
    }
   ],
   "source": [
    "df.shape"
   ]
  },
  {
   "cell_type": "code",
   "execution_count": 65,
   "metadata": {},
   "outputs": [
    {
     "name": "stdout",
     "output_type": "stream",
     "text": [
      "DataFrame saved as ./data/cleaned/research_papers_cleaned.csv\n"
     ]
    }
   ],
   "source": [
    "save_df_to_csv(df, './data/cleaned', 'research_papers_cleaned.csv')"
   ]
  },
  {
   "cell_type": "markdown",
   "metadata": {},
   "source": [
    "# 2. Exploratory Descriptive Analysis - EDA"
   ]
  }
 ],
 "metadata": {
  "kernelspec": {
   "display_name": "base",
   "language": "python",
   "name": "python3"
  },
  "language_info": {
   "codemirror_mode": {
    "name": "ipython",
    "version": 3
   },
   "file_extension": ".py",
   "mimetype": "text/x-python",
   "name": "python",
   "nbconvert_exporter": "python",
   "pygments_lexer": "ipython3",
   "version": "3.9.13"
  }
 },
 "nbformat": 4,
 "nbformat_minor": 2
}
