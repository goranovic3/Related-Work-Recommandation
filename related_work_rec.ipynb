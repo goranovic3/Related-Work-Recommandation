{
  "nbformat": 4,
  "nbformat_minor": 0,
  "metadata": {
    "colab": {
      "provenance": [],
      "gpuType": "T4",
      "collapsed_sections": [
        "r2ZcTTQnbUqF",
        "8IkqPseUvqW0"
      ]
    },
    "kernelspec": {
      "name": "python3",
      "display_name": "Python 3"
    },
    "language_info": {
      "name": "python"
    },
    "accelerator": "GPU",
    "widgets": {
      "application/vnd.jupyter.widget-state+json": {
        "3309a99c12404555bbd3f77b5f315c45": {
          "model_module": "@jupyter-widgets/controls",
          "model_name": "HBoxModel",
          "model_module_version": "1.5.0",
          "state": {
            "_dom_classes": [],
            "_model_module": "@jupyter-widgets/controls",
            "_model_module_version": "1.5.0",
            "_model_name": "HBoxModel",
            "_view_count": null,
            "_view_module": "@jupyter-widgets/controls",
            "_view_module_version": "1.5.0",
            "_view_name": "HBoxView",
            "box_style": "",
            "children": [
              "IPY_MODEL_83e4302e25224871adda88b6a4a309e0",
              "IPY_MODEL_6e9c799cb3ce4669b5a55c457707a7c6",
              "IPY_MODEL_e2cd41329e9b450197da5bfe015d6bf4"
            ],
            "layout": "IPY_MODEL_479cde705d3c49d8a1de3411870059ed"
          }
        },
        "83e4302e25224871adda88b6a4a309e0": {
          "model_module": "@jupyter-widgets/controls",
          "model_name": "HTMLModel",
          "model_module_version": "1.5.0",
          "state": {
            "_dom_classes": [],
            "_model_module": "@jupyter-widgets/controls",
            "_model_module_version": "1.5.0",
            "_model_name": "HTMLModel",
            "_view_count": null,
            "_view_module": "@jupyter-widgets/controls",
            "_view_module_version": "1.5.0",
            "_view_name": "HTMLView",
            "description": "",
            "description_tooltip": null,
            "layout": "IPY_MODEL_eff5fd012f5e442eb278877ff791bdc3",
            "placeholder": "​",
            "style": "IPY_MODEL_99e5cf46f6354cf998ec0db393e17cde",
            "value": "tokenizer_config.json: 100%"
          }
        },
        "6e9c799cb3ce4669b5a55c457707a7c6": {
          "model_module": "@jupyter-widgets/controls",
          "model_name": "FloatProgressModel",
          "model_module_version": "1.5.0",
          "state": {
            "_dom_classes": [],
            "_model_module": "@jupyter-widgets/controls",
            "_model_module_version": "1.5.0",
            "_model_name": "FloatProgressModel",
            "_view_count": null,
            "_view_module": "@jupyter-widgets/controls",
            "_view_module_version": "1.5.0",
            "_view_name": "ProgressView",
            "bar_style": "success",
            "description": "",
            "description_tooltip": null,
            "layout": "IPY_MODEL_53d3bdd415de4d45aa8d5400356556dc",
            "max": 48,
            "min": 0,
            "orientation": "horizontal",
            "style": "IPY_MODEL_bcb27f9446a64b8c948956909e6c301a",
            "value": 48
          }
        },
        "e2cd41329e9b450197da5bfe015d6bf4": {
          "model_module": "@jupyter-widgets/controls",
          "model_name": "HTMLModel",
          "model_module_version": "1.5.0",
          "state": {
            "_dom_classes": [],
            "_model_module": "@jupyter-widgets/controls",
            "_model_module_version": "1.5.0",
            "_model_name": "HTMLModel",
            "_view_count": null,
            "_view_module": "@jupyter-widgets/controls",
            "_view_module_version": "1.5.0",
            "_view_name": "HTMLView",
            "description": "",
            "description_tooltip": null,
            "layout": "IPY_MODEL_5a97a778b57b47459f52deb94dbb194a",
            "placeholder": "​",
            "style": "IPY_MODEL_d18ad229c10646c2bfb207cccb614b89",
            "value": " 48.0/48.0 [00:00&lt;00:00, 1.26kB/s]"
          }
        },
        "479cde705d3c49d8a1de3411870059ed": {
          "model_module": "@jupyter-widgets/base",
          "model_name": "LayoutModel",
          "model_module_version": "1.2.0",
          "state": {
            "_model_module": "@jupyter-widgets/base",
            "_model_module_version": "1.2.0",
            "_model_name": "LayoutModel",
            "_view_count": null,
            "_view_module": "@jupyter-widgets/base",
            "_view_module_version": "1.2.0",
            "_view_name": "LayoutView",
            "align_content": null,
            "align_items": null,
            "align_self": null,
            "border": null,
            "bottom": null,
            "display": null,
            "flex": null,
            "flex_flow": null,
            "grid_area": null,
            "grid_auto_columns": null,
            "grid_auto_flow": null,
            "grid_auto_rows": null,
            "grid_column": null,
            "grid_gap": null,
            "grid_row": null,
            "grid_template_areas": null,
            "grid_template_columns": null,
            "grid_template_rows": null,
            "height": null,
            "justify_content": null,
            "justify_items": null,
            "left": null,
            "margin": null,
            "max_height": null,
            "max_width": null,
            "min_height": null,
            "min_width": null,
            "object_fit": null,
            "object_position": null,
            "order": null,
            "overflow": null,
            "overflow_x": null,
            "overflow_y": null,
            "padding": null,
            "right": null,
            "top": null,
            "visibility": null,
            "width": null
          }
        },
        "eff5fd012f5e442eb278877ff791bdc3": {
          "model_module": "@jupyter-widgets/base",
          "model_name": "LayoutModel",
          "model_module_version": "1.2.0",
          "state": {
            "_model_module": "@jupyter-widgets/base",
            "_model_module_version": "1.2.0",
            "_model_name": "LayoutModel",
            "_view_count": null,
            "_view_module": "@jupyter-widgets/base",
            "_view_module_version": "1.2.0",
            "_view_name": "LayoutView",
            "align_content": null,
            "align_items": null,
            "align_self": null,
            "border": null,
            "bottom": null,
            "display": null,
            "flex": null,
            "flex_flow": null,
            "grid_area": null,
            "grid_auto_columns": null,
            "grid_auto_flow": null,
            "grid_auto_rows": null,
            "grid_column": null,
            "grid_gap": null,
            "grid_row": null,
            "grid_template_areas": null,
            "grid_template_columns": null,
            "grid_template_rows": null,
            "height": null,
            "justify_content": null,
            "justify_items": null,
            "left": null,
            "margin": null,
            "max_height": null,
            "max_width": null,
            "min_height": null,
            "min_width": null,
            "object_fit": null,
            "object_position": null,
            "order": null,
            "overflow": null,
            "overflow_x": null,
            "overflow_y": null,
            "padding": null,
            "right": null,
            "top": null,
            "visibility": null,
            "width": null
          }
        },
        "99e5cf46f6354cf998ec0db393e17cde": {
          "model_module": "@jupyter-widgets/controls",
          "model_name": "DescriptionStyleModel",
          "model_module_version": "1.5.0",
          "state": {
            "_model_module": "@jupyter-widgets/controls",
            "_model_module_version": "1.5.0",
            "_model_name": "DescriptionStyleModel",
            "_view_count": null,
            "_view_module": "@jupyter-widgets/base",
            "_view_module_version": "1.2.0",
            "_view_name": "StyleView",
            "description_width": ""
          }
        },
        "53d3bdd415de4d45aa8d5400356556dc": {
          "model_module": "@jupyter-widgets/base",
          "model_name": "LayoutModel",
          "model_module_version": "1.2.0",
          "state": {
            "_model_module": "@jupyter-widgets/base",
            "_model_module_version": "1.2.0",
            "_model_name": "LayoutModel",
            "_view_count": null,
            "_view_module": "@jupyter-widgets/base",
            "_view_module_version": "1.2.0",
            "_view_name": "LayoutView",
            "align_content": null,
            "align_items": null,
            "align_self": null,
            "border": null,
            "bottom": null,
            "display": null,
            "flex": null,
            "flex_flow": null,
            "grid_area": null,
            "grid_auto_columns": null,
            "grid_auto_flow": null,
            "grid_auto_rows": null,
            "grid_column": null,
            "grid_gap": null,
            "grid_row": null,
            "grid_template_areas": null,
            "grid_template_columns": null,
            "grid_template_rows": null,
            "height": null,
            "justify_content": null,
            "justify_items": null,
            "left": null,
            "margin": null,
            "max_height": null,
            "max_width": null,
            "min_height": null,
            "min_width": null,
            "object_fit": null,
            "object_position": null,
            "order": null,
            "overflow": null,
            "overflow_x": null,
            "overflow_y": null,
            "padding": null,
            "right": null,
            "top": null,
            "visibility": null,
            "width": null
          }
        },
        "bcb27f9446a64b8c948956909e6c301a": {
          "model_module": "@jupyter-widgets/controls",
          "model_name": "ProgressStyleModel",
          "model_module_version": "1.5.0",
          "state": {
            "_model_module": "@jupyter-widgets/controls",
            "_model_module_version": "1.5.0",
            "_model_name": "ProgressStyleModel",
            "_view_count": null,
            "_view_module": "@jupyter-widgets/base",
            "_view_module_version": "1.2.0",
            "_view_name": "StyleView",
            "bar_color": null,
            "description_width": ""
          }
        },
        "5a97a778b57b47459f52deb94dbb194a": {
          "model_module": "@jupyter-widgets/base",
          "model_name": "LayoutModel",
          "model_module_version": "1.2.0",
          "state": {
            "_model_module": "@jupyter-widgets/base",
            "_model_module_version": "1.2.0",
            "_model_name": "LayoutModel",
            "_view_count": null,
            "_view_module": "@jupyter-widgets/base",
            "_view_module_version": "1.2.0",
            "_view_name": "LayoutView",
            "align_content": null,
            "align_items": null,
            "align_self": null,
            "border": null,
            "bottom": null,
            "display": null,
            "flex": null,
            "flex_flow": null,
            "grid_area": null,
            "grid_auto_columns": null,
            "grid_auto_flow": null,
            "grid_auto_rows": null,
            "grid_column": null,
            "grid_gap": null,
            "grid_row": null,
            "grid_template_areas": null,
            "grid_template_columns": null,
            "grid_template_rows": null,
            "height": null,
            "justify_content": null,
            "justify_items": null,
            "left": null,
            "margin": null,
            "max_height": null,
            "max_width": null,
            "min_height": null,
            "min_width": null,
            "object_fit": null,
            "object_position": null,
            "order": null,
            "overflow": null,
            "overflow_x": null,
            "overflow_y": null,
            "padding": null,
            "right": null,
            "top": null,
            "visibility": null,
            "width": null
          }
        },
        "d18ad229c10646c2bfb207cccb614b89": {
          "model_module": "@jupyter-widgets/controls",
          "model_name": "DescriptionStyleModel",
          "model_module_version": "1.5.0",
          "state": {
            "_model_module": "@jupyter-widgets/controls",
            "_model_module_version": "1.5.0",
            "_model_name": "DescriptionStyleModel",
            "_view_count": null,
            "_view_module": "@jupyter-widgets/base",
            "_view_module_version": "1.2.0",
            "_view_name": "StyleView",
            "description_width": ""
          }
        },
        "53f6b1662bfc40fc82a30bbc13152f0c": {
          "model_module": "@jupyter-widgets/controls",
          "model_name": "HBoxModel",
          "model_module_version": "1.5.0",
          "state": {
            "_dom_classes": [],
            "_model_module": "@jupyter-widgets/controls",
            "_model_module_version": "1.5.0",
            "_model_name": "HBoxModel",
            "_view_count": null,
            "_view_module": "@jupyter-widgets/controls",
            "_view_module_version": "1.5.0",
            "_view_name": "HBoxView",
            "box_style": "",
            "children": [
              "IPY_MODEL_2c19e06116804c069dde624fe1986373",
              "IPY_MODEL_97006150d9114bc6a3734861dea661dc",
              "IPY_MODEL_b66494b7cff94d10b96fe30e3941883b"
            ],
            "layout": "IPY_MODEL_f9526b0859fc4452a897c70b2de3aaff"
          }
        },
        "2c19e06116804c069dde624fe1986373": {
          "model_module": "@jupyter-widgets/controls",
          "model_name": "HTMLModel",
          "model_module_version": "1.5.0",
          "state": {
            "_dom_classes": [],
            "_model_module": "@jupyter-widgets/controls",
            "_model_module_version": "1.5.0",
            "_model_name": "HTMLModel",
            "_view_count": null,
            "_view_module": "@jupyter-widgets/controls",
            "_view_module_version": "1.5.0",
            "_view_name": "HTMLView",
            "description": "",
            "description_tooltip": null,
            "layout": "IPY_MODEL_b5a7314f0fc84ce2ba11f8a2e4bb0474",
            "placeholder": "​",
            "style": "IPY_MODEL_d95a6fc51aa24b78acbab766bf16d6ae",
            "value": "vocab.txt: 100%"
          }
        },
        "97006150d9114bc6a3734861dea661dc": {
          "model_module": "@jupyter-widgets/controls",
          "model_name": "FloatProgressModel",
          "model_module_version": "1.5.0",
          "state": {
            "_dom_classes": [],
            "_model_module": "@jupyter-widgets/controls",
            "_model_module_version": "1.5.0",
            "_model_name": "FloatProgressModel",
            "_view_count": null,
            "_view_module": "@jupyter-widgets/controls",
            "_view_module_version": "1.5.0",
            "_view_name": "ProgressView",
            "bar_style": "success",
            "description": "",
            "description_tooltip": null,
            "layout": "IPY_MODEL_5a5d26e0e93941cd8f8467dc55c95196",
            "max": 231508,
            "min": 0,
            "orientation": "horizontal",
            "style": "IPY_MODEL_df0ac8c913c54cce84a953298adc5861",
            "value": 231508
          }
        },
        "b66494b7cff94d10b96fe30e3941883b": {
          "model_module": "@jupyter-widgets/controls",
          "model_name": "HTMLModel",
          "model_module_version": "1.5.0",
          "state": {
            "_dom_classes": [],
            "_model_module": "@jupyter-widgets/controls",
            "_model_module_version": "1.5.0",
            "_model_name": "HTMLModel",
            "_view_count": null,
            "_view_module": "@jupyter-widgets/controls",
            "_view_module_version": "1.5.0",
            "_view_name": "HTMLView",
            "description": "",
            "description_tooltip": null,
            "layout": "IPY_MODEL_0060f2e88bc148088098e20f406a8be0",
            "placeholder": "​",
            "style": "IPY_MODEL_5cd84b6e94af495bb77cc2c657abb0f1",
            "value": " 232k/232k [00:00&lt;00:00, 550kB/s]"
          }
        },
        "f9526b0859fc4452a897c70b2de3aaff": {
          "model_module": "@jupyter-widgets/base",
          "model_name": "LayoutModel",
          "model_module_version": "1.2.0",
          "state": {
            "_model_module": "@jupyter-widgets/base",
            "_model_module_version": "1.2.0",
            "_model_name": "LayoutModel",
            "_view_count": null,
            "_view_module": "@jupyter-widgets/base",
            "_view_module_version": "1.2.0",
            "_view_name": "LayoutView",
            "align_content": null,
            "align_items": null,
            "align_self": null,
            "border": null,
            "bottom": null,
            "display": null,
            "flex": null,
            "flex_flow": null,
            "grid_area": null,
            "grid_auto_columns": null,
            "grid_auto_flow": null,
            "grid_auto_rows": null,
            "grid_column": null,
            "grid_gap": null,
            "grid_row": null,
            "grid_template_areas": null,
            "grid_template_columns": null,
            "grid_template_rows": null,
            "height": null,
            "justify_content": null,
            "justify_items": null,
            "left": null,
            "margin": null,
            "max_height": null,
            "max_width": null,
            "min_height": null,
            "min_width": null,
            "object_fit": null,
            "object_position": null,
            "order": null,
            "overflow": null,
            "overflow_x": null,
            "overflow_y": null,
            "padding": null,
            "right": null,
            "top": null,
            "visibility": null,
            "width": null
          }
        },
        "b5a7314f0fc84ce2ba11f8a2e4bb0474": {
          "model_module": "@jupyter-widgets/base",
          "model_name": "LayoutModel",
          "model_module_version": "1.2.0",
          "state": {
            "_model_module": "@jupyter-widgets/base",
            "_model_module_version": "1.2.0",
            "_model_name": "LayoutModel",
            "_view_count": null,
            "_view_module": "@jupyter-widgets/base",
            "_view_module_version": "1.2.0",
            "_view_name": "LayoutView",
            "align_content": null,
            "align_items": null,
            "align_self": null,
            "border": null,
            "bottom": null,
            "display": null,
            "flex": null,
            "flex_flow": null,
            "grid_area": null,
            "grid_auto_columns": null,
            "grid_auto_flow": null,
            "grid_auto_rows": null,
            "grid_column": null,
            "grid_gap": null,
            "grid_row": null,
            "grid_template_areas": null,
            "grid_template_columns": null,
            "grid_template_rows": null,
            "height": null,
            "justify_content": null,
            "justify_items": null,
            "left": null,
            "margin": null,
            "max_height": null,
            "max_width": null,
            "min_height": null,
            "min_width": null,
            "object_fit": null,
            "object_position": null,
            "order": null,
            "overflow": null,
            "overflow_x": null,
            "overflow_y": null,
            "padding": null,
            "right": null,
            "top": null,
            "visibility": null,
            "width": null
          }
        },
        "d95a6fc51aa24b78acbab766bf16d6ae": {
          "model_module": "@jupyter-widgets/controls",
          "model_name": "DescriptionStyleModel",
          "model_module_version": "1.5.0",
          "state": {
            "_model_module": "@jupyter-widgets/controls",
            "_model_module_version": "1.5.0",
            "_model_name": "DescriptionStyleModel",
            "_view_count": null,
            "_view_module": "@jupyter-widgets/base",
            "_view_module_version": "1.2.0",
            "_view_name": "StyleView",
            "description_width": ""
          }
        },
        "5a5d26e0e93941cd8f8467dc55c95196": {
          "model_module": "@jupyter-widgets/base",
          "model_name": "LayoutModel",
          "model_module_version": "1.2.0",
          "state": {
            "_model_module": "@jupyter-widgets/base",
            "_model_module_version": "1.2.0",
            "_model_name": "LayoutModel",
            "_view_count": null,
            "_view_module": "@jupyter-widgets/base",
            "_view_module_version": "1.2.0",
            "_view_name": "LayoutView",
            "align_content": null,
            "align_items": null,
            "align_self": null,
            "border": null,
            "bottom": null,
            "display": null,
            "flex": null,
            "flex_flow": null,
            "grid_area": null,
            "grid_auto_columns": null,
            "grid_auto_flow": null,
            "grid_auto_rows": null,
            "grid_column": null,
            "grid_gap": null,
            "grid_row": null,
            "grid_template_areas": null,
            "grid_template_columns": null,
            "grid_template_rows": null,
            "height": null,
            "justify_content": null,
            "justify_items": null,
            "left": null,
            "margin": null,
            "max_height": null,
            "max_width": null,
            "min_height": null,
            "min_width": null,
            "object_fit": null,
            "object_position": null,
            "order": null,
            "overflow": null,
            "overflow_x": null,
            "overflow_y": null,
            "padding": null,
            "right": null,
            "top": null,
            "visibility": null,
            "width": null
          }
        },
        "df0ac8c913c54cce84a953298adc5861": {
          "model_module": "@jupyter-widgets/controls",
          "model_name": "ProgressStyleModel",
          "model_module_version": "1.5.0",
          "state": {
            "_model_module": "@jupyter-widgets/controls",
            "_model_module_version": "1.5.0",
            "_model_name": "ProgressStyleModel",
            "_view_count": null,
            "_view_module": "@jupyter-widgets/base",
            "_view_module_version": "1.2.0",
            "_view_name": "StyleView",
            "bar_color": null,
            "description_width": ""
          }
        },
        "0060f2e88bc148088098e20f406a8be0": {
          "model_module": "@jupyter-widgets/base",
          "model_name": "LayoutModel",
          "model_module_version": "1.2.0",
          "state": {
            "_model_module": "@jupyter-widgets/base",
            "_model_module_version": "1.2.0",
            "_model_name": "LayoutModel",
            "_view_count": null,
            "_view_module": "@jupyter-widgets/base",
            "_view_module_version": "1.2.0",
            "_view_name": "LayoutView",
            "align_content": null,
            "align_items": null,
            "align_self": null,
            "border": null,
            "bottom": null,
            "display": null,
            "flex": null,
            "flex_flow": null,
            "grid_area": null,
            "grid_auto_columns": null,
            "grid_auto_flow": null,
            "grid_auto_rows": null,
            "grid_column": null,
            "grid_gap": null,
            "grid_row": null,
            "grid_template_areas": null,
            "grid_template_columns": null,
            "grid_template_rows": null,
            "height": null,
            "justify_content": null,
            "justify_items": null,
            "left": null,
            "margin": null,
            "max_height": null,
            "max_width": null,
            "min_height": null,
            "min_width": null,
            "object_fit": null,
            "object_position": null,
            "order": null,
            "overflow": null,
            "overflow_x": null,
            "overflow_y": null,
            "padding": null,
            "right": null,
            "top": null,
            "visibility": null,
            "width": null
          }
        },
        "5cd84b6e94af495bb77cc2c657abb0f1": {
          "model_module": "@jupyter-widgets/controls",
          "model_name": "DescriptionStyleModel",
          "model_module_version": "1.5.0",
          "state": {
            "_model_module": "@jupyter-widgets/controls",
            "_model_module_version": "1.5.0",
            "_model_name": "DescriptionStyleModel",
            "_view_count": null,
            "_view_module": "@jupyter-widgets/base",
            "_view_module_version": "1.2.0",
            "_view_name": "StyleView",
            "description_width": ""
          }
        },
        "f5b5c4e81aae4709b674515ba471e20c": {
          "model_module": "@jupyter-widgets/controls",
          "model_name": "HBoxModel",
          "model_module_version": "1.5.0",
          "state": {
            "_dom_classes": [],
            "_model_module": "@jupyter-widgets/controls",
            "_model_module_version": "1.5.0",
            "_model_name": "HBoxModel",
            "_view_count": null,
            "_view_module": "@jupyter-widgets/controls",
            "_view_module_version": "1.5.0",
            "_view_name": "HBoxView",
            "box_style": "",
            "children": [
              "IPY_MODEL_28758dc2cfff417c931739c115081219",
              "IPY_MODEL_5ec35252f93f4c8b8a9a614daea49ee9",
              "IPY_MODEL_bbb9b7e9e26c4dc385ead54dcda3ab9d"
            ],
            "layout": "IPY_MODEL_b1743784bfa4454a87a8c12c64e77fac"
          }
        },
        "28758dc2cfff417c931739c115081219": {
          "model_module": "@jupyter-widgets/controls",
          "model_name": "HTMLModel",
          "model_module_version": "1.5.0",
          "state": {
            "_dom_classes": [],
            "_model_module": "@jupyter-widgets/controls",
            "_model_module_version": "1.5.0",
            "_model_name": "HTMLModel",
            "_view_count": null,
            "_view_module": "@jupyter-widgets/controls",
            "_view_module_version": "1.5.0",
            "_view_name": "HTMLView",
            "description": "",
            "description_tooltip": null,
            "layout": "IPY_MODEL_fcf42468497040a8b93742d630a23195",
            "placeholder": "​",
            "style": "IPY_MODEL_efd9138877714d0db02e969092b31d67",
            "value": "tokenizer.json: 100%"
          }
        },
        "5ec35252f93f4c8b8a9a614daea49ee9": {
          "model_module": "@jupyter-widgets/controls",
          "model_name": "FloatProgressModel",
          "model_module_version": "1.5.0",
          "state": {
            "_dom_classes": [],
            "_model_module": "@jupyter-widgets/controls",
            "_model_module_version": "1.5.0",
            "_model_name": "FloatProgressModel",
            "_view_count": null,
            "_view_module": "@jupyter-widgets/controls",
            "_view_module_version": "1.5.0",
            "_view_name": "ProgressView",
            "bar_style": "success",
            "description": "",
            "description_tooltip": null,
            "layout": "IPY_MODEL_d7c68fefd66e4ecda71d8e8c34ecce24",
            "max": 466062,
            "min": 0,
            "orientation": "horizontal",
            "style": "IPY_MODEL_00962375460948b58a4490d24ff0f832",
            "value": 466062
          }
        },
        "bbb9b7e9e26c4dc385ead54dcda3ab9d": {
          "model_module": "@jupyter-widgets/controls",
          "model_name": "HTMLModel",
          "model_module_version": "1.5.0",
          "state": {
            "_dom_classes": [],
            "_model_module": "@jupyter-widgets/controls",
            "_model_module_version": "1.5.0",
            "_model_name": "HTMLModel",
            "_view_count": null,
            "_view_module": "@jupyter-widgets/controls",
            "_view_module_version": "1.5.0",
            "_view_name": "HTMLView",
            "description": "",
            "description_tooltip": null,
            "layout": "IPY_MODEL_b0d33d256db04d6494c2f8c5df4f5c95",
            "placeholder": "​",
            "style": "IPY_MODEL_c81cd70c1f014bc7928635d57a528d0e",
            "value": " 466k/466k [00:00&lt;00:00, 1.10MB/s]"
          }
        },
        "b1743784bfa4454a87a8c12c64e77fac": {
          "model_module": "@jupyter-widgets/base",
          "model_name": "LayoutModel",
          "model_module_version": "1.2.0",
          "state": {
            "_model_module": "@jupyter-widgets/base",
            "_model_module_version": "1.2.0",
            "_model_name": "LayoutModel",
            "_view_count": null,
            "_view_module": "@jupyter-widgets/base",
            "_view_module_version": "1.2.0",
            "_view_name": "LayoutView",
            "align_content": null,
            "align_items": null,
            "align_self": null,
            "border": null,
            "bottom": null,
            "display": null,
            "flex": null,
            "flex_flow": null,
            "grid_area": null,
            "grid_auto_columns": null,
            "grid_auto_flow": null,
            "grid_auto_rows": null,
            "grid_column": null,
            "grid_gap": null,
            "grid_row": null,
            "grid_template_areas": null,
            "grid_template_columns": null,
            "grid_template_rows": null,
            "height": null,
            "justify_content": null,
            "justify_items": null,
            "left": null,
            "margin": null,
            "max_height": null,
            "max_width": null,
            "min_height": null,
            "min_width": null,
            "object_fit": null,
            "object_position": null,
            "order": null,
            "overflow": null,
            "overflow_x": null,
            "overflow_y": null,
            "padding": null,
            "right": null,
            "top": null,
            "visibility": null,
            "width": null
          }
        },
        "fcf42468497040a8b93742d630a23195": {
          "model_module": "@jupyter-widgets/base",
          "model_name": "LayoutModel",
          "model_module_version": "1.2.0",
          "state": {
            "_model_module": "@jupyter-widgets/base",
            "_model_module_version": "1.2.0",
            "_model_name": "LayoutModel",
            "_view_count": null,
            "_view_module": "@jupyter-widgets/base",
            "_view_module_version": "1.2.0",
            "_view_name": "LayoutView",
            "align_content": null,
            "align_items": null,
            "align_self": null,
            "border": null,
            "bottom": null,
            "display": null,
            "flex": null,
            "flex_flow": null,
            "grid_area": null,
            "grid_auto_columns": null,
            "grid_auto_flow": null,
            "grid_auto_rows": null,
            "grid_column": null,
            "grid_gap": null,
            "grid_row": null,
            "grid_template_areas": null,
            "grid_template_columns": null,
            "grid_template_rows": null,
            "height": null,
            "justify_content": null,
            "justify_items": null,
            "left": null,
            "margin": null,
            "max_height": null,
            "max_width": null,
            "min_height": null,
            "min_width": null,
            "object_fit": null,
            "object_position": null,
            "order": null,
            "overflow": null,
            "overflow_x": null,
            "overflow_y": null,
            "padding": null,
            "right": null,
            "top": null,
            "visibility": null,
            "width": null
          }
        },
        "efd9138877714d0db02e969092b31d67": {
          "model_module": "@jupyter-widgets/controls",
          "model_name": "DescriptionStyleModel",
          "model_module_version": "1.5.0",
          "state": {
            "_model_module": "@jupyter-widgets/controls",
            "_model_module_version": "1.5.0",
            "_model_name": "DescriptionStyleModel",
            "_view_count": null,
            "_view_module": "@jupyter-widgets/base",
            "_view_module_version": "1.2.0",
            "_view_name": "StyleView",
            "description_width": ""
          }
        },
        "d7c68fefd66e4ecda71d8e8c34ecce24": {
          "model_module": "@jupyter-widgets/base",
          "model_name": "LayoutModel",
          "model_module_version": "1.2.0",
          "state": {
            "_model_module": "@jupyter-widgets/base",
            "_model_module_version": "1.2.0",
            "_model_name": "LayoutModel",
            "_view_count": null,
            "_view_module": "@jupyter-widgets/base",
            "_view_module_version": "1.2.0",
            "_view_name": "LayoutView",
            "align_content": null,
            "align_items": null,
            "align_self": null,
            "border": null,
            "bottom": null,
            "display": null,
            "flex": null,
            "flex_flow": null,
            "grid_area": null,
            "grid_auto_columns": null,
            "grid_auto_flow": null,
            "grid_auto_rows": null,
            "grid_column": null,
            "grid_gap": null,
            "grid_row": null,
            "grid_template_areas": null,
            "grid_template_columns": null,
            "grid_template_rows": null,
            "height": null,
            "justify_content": null,
            "justify_items": null,
            "left": null,
            "margin": null,
            "max_height": null,
            "max_width": null,
            "min_height": null,
            "min_width": null,
            "object_fit": null,
            "object_position": null,
            "order": null,
            "overflow": null,
            "overflow_x": null,
            "overflow_y": null,
            "padding": null,
            "right": null,
            "top": null,
            "visibility": null,
            "width": null
          }
        },
        "00962375460948b58a4490d24ff0f832": {
          "model_module": "@jupyter-widgets/controls",
          "model_name": "ProgressStyleModel",
          "model_module_version": "1.5.0",
          "state": {
            "_model_module": "@jupyter-widgets/controls",
            "_model_module_version": "1.5.0",
            "_model_name": "ProgressStyleModel",
            "_view_count": null,
            "_view_module": "@jupyter-widgets/base",
            "_view_module_version": "1.2.0",
            "_view_name": "StyleView",
            "bar_color": null,
            "description_width": ""
          }
        },
        "b0d33d256db04d6494c2f8c5df4f5c95": {
          "model_module": "@jupyter-widgets/base",
          "model_name": "LayoutModel",
          "model_module_version": "1.2.0",
          "state": {
            "_model_module": "@jupyter-widgets/base",
            "_model_module_version": "1.2.0",
            "_model_name": "LayoutModel",
            "_view_count": null,
            "_view_module": "@jupyter-widgets/base",
            "_view_module_version": "1.2.0",
            "_view_name": "LayoutView",
            "align_content": null,
            "align_items": null,
            "align_self": null,
            "border": null,
            "bottom": null,
            "display": null,
            "flex": null,
            "flex_flow": null,
            "grid_area": null,
            "grid_auto_columns": null,
            "grid_auto_flow": null,
            "grid_auto_rows": null,
            "grid_column": null,
            "grid_gap": null,
            "grid_row": null,
            "grid_template_areas": null,
            "grid_template_columns": null,
            "grid_template_rows": null,
            "height": null,
            "justify_content": null,
            "justify_items": null,
            "left": null,
            "margin": null,
            "max_height": null,
            "max_width": null,
            "min_height": null,
            "min_width": null,
            "object_fit": null,
            "object_position": null,
            "order": null,
            "overflow": null,
            "overflow_x": null,
            "overflow_y": null,
            "padding": null,
            "right": null,
            "top": null,
            "visibility": null,
            "width": null
          }
        },
        "c81cd70c1f014bc7928635d57a528d0e": {
          "model_module": "@jupyter-widgets/controls",
          "model_name": "DescriptionStyleModel",
          "model_module_version": "1.5.0",
          "state": {
            "_model_module": "@jupyter-widgets/controls",
            "_model_module_version": "1.5.0",
            "_model_name": "DescriptionStyleModel",
            "_view_count": null,
            "_view_module": "@jupyter-widgets/base",
            "_view_module_version": "1.2.0",
            "_view_name": "StyleView",
            "description_width": ""
          }
        },
        "8602052be01b4535861bf757b598efab": {
          "model_module": "@jupyter-widgets/controls",
          "model_name": "HBoxModel",
          "model_module_version": "1.5.0",
          "state": {
            "_dom_classes": [],
            "_model_module": "@jupyter-widgets/controls",
            "_model_module_version": "1.5.0",
            "_model_name": "HBoxModel",
            "_view_count": null,
            "_view_module": "@jupyter-widgets/controls",
            "_view_module_version": "1.5.0",
            "_view_name": "HBoxView",
            "box_style": "",
            "children": [
              "IPY_MODEL_c768d3644c0d489191a732d10ab904a7",
              "IPY_MODEL_ca9fb1f7ff12416eb6f5cecd90a76acf",
              "IPY_MODEL_0b62ad8054914e7ca6098508f84e0b9e"
            ],
            "layout": "IPY_MODEL_72b42878fd0442c1b88fb9add060f1d3"
          }
        },
        "c768d3644c0d489191a732d10ab904a7": {
          "model_module": "@jupyter-widgets/controls",
          "model_name": "HTMLModel",
          "model_module_version": "1.5.0",
          "state": {
            "_dom_classes": [],
            "_model_module": "@jupyter-widgets/controls",
            "_model_module_version": "1.5.0",
            "_model_name": "HTMLModel",
            "_view_count": null,
            "_view_module": "@jupyter-widgets/controls",
            "_view_module_version": "1.5.0",
            "_view_name": "HTMLView",
            "description": "",
            "description_tooltip": null,
            "layout": "IPY_MODEL_11e1823eeaf342a29381f71b22e3bdae",
            "placeholder": "​",
            "style": "IPY_MODEL_88f07cfb37624679aa87614b312febb1",
            "value": "config.json: 100%"
          }
        },
        "ca9fb1f7ff12416eb6f5cecd90a76acf": {
          "model_module": "@jupyter-widgets/controls",
          "model_name": "FloatProgressModel",
          "model_module_version": "1.5.0",
          "state": {
            "_dom_classes": [],
            "_model_module": "@jupyter-widgets/controls",
            "_model_module_version": "1.5.0",
            "_model_name": "FloatProgressModel",
            "_view_count": null,
            "_view_module": "@jupyter-widgets/controls",
            "_view_module_version": "1.5.0",
            "_view_name": "ProgressView",
            "bar_style": "success",
            "description": "",
            "description_tooltip": null,
            "layout": "IPY_MODEL_83c4d44772fd40e3ac34863fd1889d80",
            "max": 570,
            "min": 0,
            "orientation": "horizontal",
            "style": "IPY_MODEL_9687416cd6204c38b67ed174eefbe67d",
            "value": 570
          }
        },
        "0b62ad8054914e7ca6098508f84e0b9e": {
          "model_module": "@jupyter-widgets/controls",
          "model_name": "HTMLModel",
          "model_module_version": "1.5.0",
          "state": {
            "_dom_classes": [],
            "_model_module": "@jupyter-widgets/controls",
            "_model_module_version": "1.5.0",
            "_model_name": "HTMLModel",
            "_view_count": null,
            "_view_module": "@jupyter-widgets/controls",
            "_view_module_version": "1.5.0",
            "_view_name": "HTMLView",
            "description": "",
            "description_tooltip": null,
            "layout": "IPY_MODEL_c875358251994b71b51b4b156832910f",
            "placeholder": "​",
            "style": "IPY_MODEL_19dd50fa5d3c46708c6fc719839f81be",
            "value": " 570/570 [00:00&lt;00:00, 16.7kB/s]"
          }
        },
        "72b42878fd0442c1b88fb9add060f1d3": {
          "model_module": "@jupyter-widgets/base",
          "model_name": "LayoutModel",
          "model_module_version": "1.2.0",
          "state": {
            "_model_module": "@jupyter-widgets/base",
            "_model_module_version": "1.2.0",
            "_model_name": "LayoutModel",
            "_view_count": null,
            "_view_module": "@jupyter-widgets/base",
            "_view_module_version": "1.2.0",
            "_view_name": "LayoutView",
            "align_content": null,
            "align_items": null,
            "align_self": null,
            "border": null,
            "bottom": null,
            "display": null,
            "flex": null,
            "flex_flow": null,
            "grid_area": null,
            "grid_auto_columns": null,
            "grid_auto_flow": null,
            "grid_auto_rows": null,
            "grid_column": null,
            "grid_gap": null,
            "grid_row": null,
            "grid_template_areas": null,
            "grid_template_columns": null,
            "grid_template_rows": null,
            "height": null,
            "justify_content": null,
            "justify_items": null,
            "left": null,
            "margin": null,
            "max_height": null,
            "max_width": null,
            "min_height": null,
            "min_width": null,
            "object_fit": null,
            "object_position": null,
            "order": null,
            "overflow": null,
            "overflow_x": null,
            "overflow_y": null,
            "padding": null,
            "right": null,
            "top": null,
            "visibility": null,
            "width": null
          }
        },
        "11e1823eeaf342a29381f71b22e3bdae": {
          "model_module": "@jupyter-widgets/base",
          "model_name": "LayoutModel",
          "model_module_version": "1.2.0",
          "state": {
            "_model_module": "@jupyter-widgets/base",
            "_model_module_version": "1.2.0",
            "_model_name": "LayoutModel",
            "_view_count": null,
            "_view_module": "@jupyter-widgets/base",
            "_view_module_version": "1.2.0",
            "_view_name": "LayoutView",
            "align_content": null,
            "align_items": null,
            "align_self": null,
            "border": null,
            "bottom": null,
            "display": null,
            "flex": null,
            "flex_flow": null,
            "grid_area": null,
            "grid_auto_columns": null,
            "grid_auto_flow": null,
            "grid_auto_rows": null,
            "grid_column": null,
            "grid_gap": null,
            "grid_row": null,
            "grid_template_areas": null,
            "grid_template_columns": null,
            "grid_template_rows": null,
            "height": null,
            "justify_content": null,
            "justify_items": null,
            "left": null,
            "margin": null,
            "max_height": null,
            "max_width": null,
            "min_height": null,
            "min_width": null,
            "object_fit": null,
            "object_position": null,
            "order": null,
            "overflow": null,
            "overflow_x": null,
            "overflow_y": null,
            "padding": null,
            "right": null,
            "top": null,
            "visibility": null,
            "width": null
          }
        },
        "88f07cfb37624679aa87614b312febb1": {
          "model_module": "@jupyter-widgets/controls",
          "model_name": "DescriptionStyleModel",
          "model_module_version": "1.5.0",
          "state": {
            "_model_module": "@jupyter-widgets/controls",
            "_model_module_version": "1.5.0",
            "_model_name": "DescriptionStyleModel",
            "_view_count": null,
            "_view_module": "@jupyter-widgets/base",
            "_view_module_version": "1.2.0",
            "_view_name": "StyleView",
            "description_width": ""
          }
        },
        "83c4d44772fd40e3ac34863fd1889d80": {
          "model_module": "@jupyter-widgets/base",
          "model_name": "LayoutModel",
          "model_module_version": "1.2.0",
          "state": {
            "_model_module": "@jupyter-widgets/base",
            "_model_module_version": "1.2.0",
            "_model_name": "LayoutModel",
            "_view_count": null,
            "_view_module": "@jupyter-widgets/base",
            "_view_module_version": "1.2.0",
            "_view_name": "LayoutView",
            "align_content": null,
            "align_items": null,
            "align_self": null,
            "border": null,
            "bottom": null,
            "display": null,
            "flex": null,
            "flex_flow": null,
            "grid_area": null,
            "grid_auto_columns": null,
            "grid_auto_flow": null,
            "grid_auto_rows": null,
            "grid_column": null,
            "grid_gap": null,
            "grid_row": null,
            "grid_template_areas": null,
            "grid_template_columns": null,
            "grid_template_rows": null,
            "height": null,
            "justify_content": null,
            "justify_items": null,
            "left": null,
            "margin": null,
            "max_height": null,
            "max_width": null,
            "min_height": null,
            "min_width": null,
            "object_fit": null,
            "object_position": null,
            "order": null,
            "overflow": null,
            "overflow_x": null,
            "overflow_y": null,
            "padding": null,
            "right": null,
            "top": null,
            "visibility": null,
            "width": null
          }
        },
        "9687416cd6204c38b67ed174eefbe67d": {
          "model_module": "@jupyter-widgets/controls",
          "model_name": "ProgressStyleModel",
          "model_module_version": "1.5.0",
          "state": {
            "_model_module": "@jupyter-widgets/controls",
            "_model_module_version": "1.5.0",
            "_model_name": "ProgressStyleModel",
            "_view_count": null,
            "_view_module": "@jupyter-widgets/base",
            "_view_module_version": "1.2.0",
            "_view_name": "StyleView",
            "bar_color": null,
            "description_width": ""
          }
        },
        "c875358251994b71b51b4b156832910f": {
          "model_module": "@jupyter-widgets/base",
          "model_name": "LayoutModel",
          "model_module_version": "1.2.0",
          "state": {
            "_model_module": "@jupyter-widgets/base",
            "_model_module_version": "1.2.0",
            "_model_name": "LayoutModel",
            "_view_count": null,
            "_view_module": "@jupyter-widgets/base",
            "_view_module_version": "1.2.0",
            "_view_name": "LayoutView",
            "align_content": null,
            "align_items": null,
            "align_self": null,
            "border": null,
            "bottom": null,
            "display": null,
            "flex": null,
            "flex_flow": null,
            "grid_area": null,
            "grid_auto_columns": null,
            "grid_auto_flow": null,
            "grid_auto_rows": null,
            "grid_column": null,
            "grid_gap": null,
            "grid_row": null,
            "grid_template_areas": null,
            "grid_template_columns": null,
            "grid_template_rows": null,
            "height": null,
            "justify_content": null,
            "justify_items": null,
            "left": null,
            "margin": null,
            "max_height": null,
            "max_width": null,
            "min_height": null,
            "min_width": null,
            "object_fit": null,
            "object_position": null,
            "order": null,
            "overflow": null,
            "overflow_x": null,
            "overflow_y": null,
            "padding": null,
            "right": null,
            "top": null,
            "visibility": null,
            "width": null
          }
        },
        "19dd50fa5d3c46708c6fc719839f81be": {
          "model_module": "@jupyter-widgets/controls",
          "model_name": "DescriptionStyleModel",
          "model_module_version": "1.5.0",
          "state": {
            "_model_module": "@jupyter-widgets/controls",
            "_model_module_version": "1.5.0",
            "_model_name": "DescriptionStyleModel",
            "_view_count": null,
            "_view_module": "@jupyter-widgets/base",
            "_view_module_version": "1.2.0",
            "_view_name": "StyleView",
            "description_width": ""
          }
        },
        "eb4328019b17485a8b9a3c13282a2e13": {
          "model_module": "@jupyter-widgets/controls",
          "model_name": "HBoxModel",
          "model_module_version": "1.5.0",
          "state": {
            "_dom_classes": [],
            "_model_module": "@jupyter-widgets/controls",
            "_model_module_version": "1.5.0",
            "_model_name": "HBoxModel",
            "_view_count": null,
            "_view_module": "@jupyter-widgets/controls",
            "_view_module_version": "1.5.0",
            "_view_name": "HBoxView",
            "box_style": "",
            "children": [
              "IPY_MODEL_e7956496060f405eb4720ce451c3a212",
              "IPY_MODEL_fd4cb1fcf59e4c5b8a76786275120d16",
              "IPY_MODEL_40c442c8751c41ceb37db9d49135db49"
            ],
            "layout": "IPY_MODEL_cbcc4192dedd409593ae07641a22c4ab"
          }
        },
        "e7956496060f405eb4720ce451c3a212": {
          "model_module": "@jupyter-widgets/controls",
          "model_name": "HTMLModel",
          "model_module_version": "1.5.0",
          "state": {
            "_dom_classes": [],
            "_model_module": "@jupyter-widgets/controls",
            "_model_module_version": "1.5.0",
            "_model_name": "HTMLModel",
            "_view_count": null,
            "_view_module": "@jupyter-widgets/controls",
            "_view_module_version": "1.5.0",
            "_view_name": "HTMLView",
            "description": "",
            "description_tooltip": null,
            "layout": "IPY_MODEL_f723882fd30b467f98521d4037709959",
            "placeholder": "​",
            "style": "IPY_MODEL_513fd3a9e5a84e9eae8a7642d5b5e130",
            "value": "model.safetensors: 100%"
          }
        },
        "fd4cb1fcf59e4c5b8a76786275120d16": {
          "model_module": "@jupyter-widgets/controls",
          "model_name": "FloatProgressModel",
          "model_module_version": "1.5.0",
          "state": {
            "_dom_classes": [],
            "_model_module": "@jupyter-widgets/controls",
            "_model_module_version": "1.5.0",
            "_model_name": "FloatProgressModel",
            "_view_count": null,
            "_view_module": "@jupyter-widgets/controls",
            "_view_module_version": "1.5.0",
            "_view_name": "ProgressView",
            "bar_style": "success",
            "description": "",
            "description_tooltip": null,
            "layout": "IPY_MODEL_ec66c4ef5f4c4c0299bd08193fff0d78",
            "max": 440449768,
            "min": 0,
            "orientation": "horizontal",
            "style": "IPY_MODEL_4acc4c1f30d44481a7afc1e3193fa0f7",
            "value": 440449768
          }
        },
        "40c442c8751c41ceb37db9d49135db49": {
          "model_module": "@jupyter-widgets/controls",
          "model_name": "HTMLModel",
          "model_module_version": "1.5.0",
          "state": {
            "_dom_classes": [],
            "_model_module": "@jupyter-widgets/controls",
            "_model_module_version": "1.5.0",
            "_model_name": "HTMLModel",
            "_view_count": null,
            "_view_module": "@jupyter-widgets/controls",
            "_view_module_version": "1.5.0",
            "_view_name": "HTMLView",
            "description": "",
            "description_tooltip": null,
            "layout": "IPY_MODEL_2029116eb22046b39c14a9111ddadd9c",
            "placeholder": "​",
            "style": "IPY_MODEL_a23788af033f4889a0f77d6fba455d96",
            "value": " 440M/440M [00:02&lt;00:00, 166MB/s]"
          }
        },
        "cbcc4192dedd409593ae07641a22c4ab": {
          "model_module": "@jupyter-widgets/base",
          "model_name": "LayoutModel",
          "model_module_version": "1.2.0",
          "state": {
            "_model_module": "@jupyter-widgets/base",
            "_model_module_version": "1.2.0",
            "_model_name": "LayoutModel",
            "_view_count": null,
            "_view_module": "@jupyter-widgets/base",
            "_view_module_version": "1.2.0",
            "_view_name": "LayoutView",
            "align_content": null,
            "align_items": null,
            "align_self": null,
            "border": null,
            "bottom": null,
            "display": null,
            "flex": null,
            "flex_flow": null,
            "grid_area": null,
            "grid_auto_columns": null,
            "grid_auto_flow": null,
            "grid_auto_rows": null,
            "grid_column": null,
            "grid_gap": null,
            "grid_row": null,
            "grid_template_areas": null,
            "grid_template_columns": null,
            "grid_template_rows": null,
            "height": null,
            "justify_content": null,
            "justify_items": null,
            "left": null,
            "margin": null,
            "max_height": null,
            "max_width": null,
            "min_height": null,
            "min_width": null,
            "object_fit": null,
            "object_position": null,
            "order": null,
            "overflow": null,
            "overflow_x": null,
            "overflow_y": null,
            "padding": null,
            "right": null,
            "top": null,
            "visibility": null,
            "width": null
          }
        },
        "f723882fd30b467f98521d4037709959": {
          "model_module": "@jupyter-widgets/base",
          "model_name": "LayoutModel",
          "model_module_version": "1.2.0",
          "state": {
            "_model_module": "@jupyter-widgets/base",
            "_model_module_version": "1.2.0",
            "_model_name": "LayoutModel",
            "_view_count": null,
            "_view_module": "@jupyter-widgets/base",
            "_view_module_version": "1.2.0",
            "_view_name": "LayoutView",
            "align_content": null,
            "align_items": null,
            "align_self": null,
            "border": null,
            "bottom": null,
            "display": null,
            "flex": null,
            "flex_flow": null,
            "grid_area": null,
            "grid_auto_columns": null,
            "grid_auto_flow": null,
            "grid_auto_rows": null,
            "grid_column": null,
            "grid_gap": null,
            "grid_row": null,
            "grid_template_areas": null,
            "grid_template_columns": null,
            "grid_template_rows": null,
            "height": null,
            "justify_content": null,
            "justify_items": null,
            "left": null,
            "margin": null,
            "max_height": null,
            "max_width": null,
            "min_height": null,
            "min_width": null,
            "object_fit": null,
            "object_position": null,
            "order": null,
            "overflow": null,
            "overflow_x": null,
            "overflow_y": null,
            "padding": null,
            "right": null,
            "top": null,
            "visibility": null,
            "width": null
          }
        },
        "513fd3a9e5a84e9eae8a7642d5b5e130": {
          "model_module": "@jupyter-widgets/controls",
          "model_name": "DescriptionStyleModel",
          "model_module_version": "1.5.0",
          "state": {
            "_model_module": "@jupyter-widgets/controls",
            "_model_module_version": "1.5.0",
            "_model_name": "DescriptionStyleModel",
            "_view_count": null,
            "_view_module": "@jupyter-widgets/base",
            "_view_module_version": "1.2.0",
            "_view_name": "StyleView",
            "description_width": ""
          }
        },
        "ec66c4ef5f4c4c0299bd08193fff0d78": {
          "model_module": "@jupyter-widgets/base",
          "model_name": "LayoutModel",
          "model_module_version": "1.2.0",
          "state": {
            "_model_module": "@jupyter-widgets/base",
            "_model_module_version": "1.2.0",
            "_model_name": "LayoutModel",
            "_view_count": null,
            "_view_module": "@jupyter-widgets/base",
            "_view_module_version": "1.2.0",
            "_view_name": "LayoutView",
            "align_content": null,
            "align_items": null,
            "align_self": null,
            "border": null,
            "bottom": null,
            "display": null,
            "flex": null,
            "flex_flow": null,
            "grid_area": null,
            "grid_auto_columns": null,
            "grid_auto_flow": null,
            "grid_auto_rows": null,
            "grid_column": null,
            "grid_gap": null,
            "grid_row": null,
            "grid_template_areas": null,
            "grid_template_columns": null,
            "grid_template_rows": null,
            "height": null,
            "justify_content": null,
            "justify_items": null,
            "left": null,
            "margin": null,
            "max_height": null,
            "max_width": null,
            "min_height": null,
            "min_width": null,
            "object_fit": null,
            "object_position": null,
            "order": null,
            "overflow": null,
            "overflow_x": null,
            "overflow_y": null,
            "padding": null,
            "right": null,
            "top": null,
            "visibility": null,
            "width": null
          }
        },
        "4acc4c1f30d44481a7afc1e3193fa0f7": {
          "model_module": "@jupyter-widgets/controls",
          "model_name": "ProgressStyleModel",
          "model_module_version": "1.5.0",
          "state": {
            "_model_module": "@jupyter-widgets/controls",
            "_model_module_version": "1.5.0",
            "_model_name": "ProgressStyleModel",
            "_view_count": null,
            "_view_module": "@jupyter-widgets/base",
            "_view_module_version": "1.2.0",
            "_view_name": "StyleView",
            "bar_color": null,
            "description_width": ""
          }
        },
        "2029116eb22046b39c14a9111ddadd9c": {
          "model_module": "@jupyter-widgets/base",
          "model_name": "LayoutModel",
          "model_module_version": "1.2.0",
          "state": {
            "_model_module": "@jupyter-widgets/base",
            "_model_module_version": "1.2.0",
            "_model_name": "LayoutModel",
            "_view_count": null,
            "_view_module": "@jupyter-widgets/base",
            "_view_module_version": "1.2.0",
            "_view_name": "LayoutView",
            "align_content": null,
            "align_items": null,
            "align_self": null,
            "border": null,
            "bottom": null,
            "display": null,
            "flex": null,
            "flex_flow": null,
            "grid_area": null,
            "grid_auto_columns": null,
            "grid_auto_flow": null,
            "grid_auto_rows": null,
            "grid_column": null,
            "grid_gap": null,
            "grid_row": null,
            "grid_template_areas": null,
            "grid_template_columns": null,
            "grid_template_rows": null,
            "height": null,
            "justify_content": null,
            "justify_items": null,
            "left": null,
            "margin": null,
            "max_height": null,
            "max_width": null,
            "min_height": null,
            "min_width": null,
            "object_fit": null,
            "object_position": null,
            "order": null,
            "overflow": null,
            "overflow_x": null,
            "overflow_y": null,
            "padding": null,
            "right": null,
            "top": null,
            "visibility": null,
            "width": null
          }
        },
        "a23788af033f4889a0f77d6fba455d96": {
          "model_module": "@jupyter-widgets/controls",
          "model_name": "DescriptionStyleModel",
          "model_module_version": "1.5.0",
          "state": {
            "_model_module": "@jupyter-widgets/controls",
            "_model_module_version": "1.5.0",
            "_model_name": "DescriptionStyleModel",
            "_view_count": null,
            "_view_module": "@jupyter-widgets/base",
            "_view_module_version": "1.2.0",
            "_view_name": "StyleView",
            "description_width": ""
          }
        }
      }
    }
  },
  "cells": [
    {
      "cell_type": "markdown",
      "source": [
        "# **Author prediction**"
      ],
      "metadata": {
        "id": "DiR6yHE0uSL4"
      }
    },
    {
      "cell_type": "markdown",
      "source": [
        "Through this notebook we will focus on predicting authors, our goal is to recommend the most likely authors for a given research paper based on its title, abstract, and references.\n",
        "Type of task is similar to multi-label classification."
      ],
      "metadata": {
        "id": "CcJEnl-iuMpX"
      }
    },
    {
      "cell_type": "code",
      "source": [
        "import pandas as pd\n",
        "import numpy as np\n",
        "import matplotlib.pyplot as plt\n",
        "import seaborn as sns\n",
        "import networkx as nx\n",
        "from wordcloud import WordCloud\n",
        "from multiprocessing import process\n",
        "from collections import Counter\n",
        "import re\n",
        "from nltk.tokenize import word_tokenize\n",
        "from sklearn.preprocessing import MultiLabelBinarizer, OneHotEncoder\n",
        "from sklearn.feature_extraction.text import TfidfVectorizer\n",
        "from sklearn.model_selection import train_test_split\n",
        "from sklearn.linear_model import SGDClassifier\n",
        "from sklearn.multiclass import OneVsRestClassifier\n",
        "from sklearn.metrics import f1_score, precision_score, recall_score\n",
        "from scipy.sparse import hstack\n",
        "import nltk\n",
        "import ast\n",
        "from nltk.corpus import stopwords\n",
        "from nltk.stem import WordNetLemmatizer\n",
        "from tqdm import tqdm\n",
        "import joblib"
      ],
      "metadata": {
        "id": "DRng8QSIxVbu"
      },
      "execution_count": 1,
      "outputs": []
    },
    {
      "cell_type": "code",
      "source": [
        "# Download NLTK resources\n",
        "nltk.download('stopwords')\n",
        "nltk.download('wordnet')\n",
        "nltk.download('punkt_tab')\n",
        "nltk.download('punkt_tab')"
      ],
      "metadata": {
        "colab": {
          "base_uri": "https://localhost:8080/"
        },
        "id": "NAeZQcGzxXuH",
        "outputId": "847866ef-8b84-4f23-8af5-52c065c39a24"
      },
      "execution_count": 2,
      "outputs": [
        {
          "output_type": "stream",
          "name": "stderr",
          "text": [
            "[nltk_data] Downloading package stopwords to /root/nltk_data...\n",
            "[nltk_data]   Package stopwords is already up-to-date!\n",
            "[nltk_data] Downloading package wordnet to /root/nltk_data...\n",
            "[nltk_data]   Package wordnet is already up-to-date!\n",
            "[nltk_data] Downloading package punkt_tab to /root/nltk_data...\n",
            "[nltk_data]   Package punkt_tab is already up-to-date!\n",
            "[nltk_data] Downloading package punkt_tab to /root/nltk_data...\n",
            "[nltk_data]   Package punkt_tab is already up-to-date!\n"
          ]
        },
        {
          "output_type": "execute_result",
          "data": {
            "text/plain": [
              "True"
            ]
          },
          "metadata": {},
          "execution_count": 2
        }
      ]
    },
    {
      "cell_type": "markdown",
      "source": [
        "# Loading the Data"
      ],
      "metadata": {
        "id": "YN1r6vKFeo61"
      }
    },
    {
      "cell_type": "code",
      "execution_count": 3,
      "metadata": {
        "id": "5NZZnlltvqzR",
        "colab": {
          "base_uri": "https://localhost:8080/"
        },
        "outputId": "7f1e653b-1e3b-4bf0-9589-eb2cbb214d62"
      },
      "outputs": [
        {
          "output_type": "stream",
          "name": "stdout",
          "text": [
            "Drive already mounted at /content/drive; to attempt to forcibly remount, call drive.mount(\"/content/drive\", force_remount=True).\n"
          ]
        }
      ],
      "source": [
        "import zipfile\n",
        "import pandas as pd\n",
        "from google.colab import drive\n",
        "\n",
        "drive.mount('/content/drive')\n",
        "\n",
        "zip_file_path = '/content/drive/My Drive/dblp-v10.zip'\n",
        "csv_file_name = 'dblp-v10.csv'\n",
        "\n",
        "try:\n",
        "  with zipfile.ZipFile(zip_file_path, 'r') as zip_ref:\n",
        "    zip_ref.extractall('/content/temp_data')\n",
        "\n",
        "  df = pd.read_csv(f'/content/temp_data/{csv_file_name}')\n",
        "\n",
        "except FileNotFoundError:\n",
        "  print(f\"Error: File not found at {zip_file_path}\")\n",
        "except KeyError:\n",
        "    print(f\"Error: File {csv_file_name} not found inside the zip archive.\")\n",
        "except Exception as e:\n",
        "  print(f\"An unexpected error occurred: {e}\")\n"
      ]
    },
    {
      "cell_type": "code",
      "source": [
        "# Preprocess the authors column\n",
        "def preprocess_authors(df):\n",
        "    # Convert string lists to actual lists\n",
        "    df['authors'] = df['authors'].apply(lambda x: ast.literal_eval(x) if isinstance(x, str) else x)\n",
        "    # Normalize names (lowercase, strip whitespace)\n",
        "    df['authors'] = df['authors'].apply(lambda x: [i.lower() for i in x] if isinstance(x, list) else x)\n",
        "    return df\n",
        "\n",
        "def filter_papers(df, min_authors=1, max_authors=7):\n",
        "    # Filter papers that have between min_authors and max_authors\n",
        "    df = df[df['authors'].apply(lambda lst: min_authors <= len(lst) <= max_authors)]\n",
        "\n",
        "    return df\n",
        "\n",
        "\n",
        "def create_author_matrix(df):\n",
        "    mlb = MultiLabelBinarizer()\n",
        "    author_matrix = mlb.fit_transform(df['authors'])\n",
        "    return author_matrix, mlb\n",
        "\n",
        "# Preprocess text (abstract + title)\n",
        "def preprocess_text(df):\n",
        "    stop_words = set(stopwords.words('english'))\n",
        "    lemmatizer = WordNetLemmatizer()\n",
        "\n",
        "    def clean(text):\n",
        "        text = text.lower() # lowercase the text\n",
        "        text = re.sub(r'\\W+', ' ', text)  # Remove non-word characters\n",
        "        tokens =  word_tokenize(text)# tokenize\n",
        "        tokens = [lemmatizer.lemmatize(token) for token in tokens if token not in stop_words]\n",
        "        return ' '.join(tokens)\n",
        "\n",
        "    # Cleaning the title and abstract columns\n",
        "    df['clean_title'] = df['title'].astype(str).apply(clean)\n",
        "    df['clean_abstract'] = df['abstract'].astype(str).apply(clean)\n",
        "\n",
        "    # Combine title and abstract for feature extraction\n",
        "    df['combined_text'] = df['clean_title'] + ' ' + df['clean_abstract']\n",
        "\n",
        "    return df\n",
        "\n",
        "# Feature engineering\n",
        "def create_features(df):\n",
        "    # TF-IDF for text\n",
        "    tfidf = TfidfVectorizer(max_features=5000)\n",
        "    X_text = tfidf.fit_transform(df['combined_text'])\n",
        "\n",
        "    # One-hot encode venue\n",
        "    venue_encoder = OneHotEncoder(handle_unknown='ignore')\n",
        "    X_venue = venue_encoder.fit_transform(df[['venue']])\n",
        "\n",
        "    # Normalize year\n",
        "    df['year'] = (df['year'] - df['year'].min()) / (df['year'].max() - df['year'].min())\n",
        "    X_year = df['year'].values.reshape(-1, 1)\n",
        "\n",
        "    # Combine all features\n",
        "    X = hstack([X_text, X_venue, X_year])\n",
        "    return X, tfidf\n",
        "\n",
        "# Train and evaluate the model\n",
        "def train_and_evaluate(X, y):\n",
        "    # Split data\n",
        "    X_train, X_test, y_train, y_test = train_test_split(X, y, test_size=0.3, random_state=42)\n",
        "    print(X_train.shape)\n",
        "    print(y_train.shape)\n",
        "    print(X_test.shape)\n",
        "    print(y_test.shape)\n",
        "    # Train a classifier\n",
        "    # Creating the OneVsRestClassifier using SGDClassifier\n",
        "    sgd = SGDClassifier(loss='log_loss', max_iter=5, tol=None)\n",
        "    model = OneVsRestClassifier(sgd)\n",
        "\n",
        "    # fiting\n",
        "    model.fit(X_train, y_train)\n",
        "\n",
        "    # Evaluate\n",
        "    y_pred = model.predict(X_test)\n",
        "    print(\"F1 Score (Micro):\", f1_score(y_test, y_pred, average='micro'))\n",
        "    print(\"Precision (Micro):\", precision_score(y_test, y_pred, average='micro'))\n",
        "    print(\"Recall (Micro):\", recall_score(y_test, y_pred, average='micro'))\n",
        "\n",
        "    return model\n",
        "\n",
        "\n",
        "def get_top_k_predictions(model, X, mlb, k=5):\n",
        "    \"\"\"\n",
        "    Returns a list of top-k predicted authors for each sample.\n",
        "    Uses decision_function if available, otherwise predict_proba.\n",
        "    \"\"\"\n",
        "    if hasattr(model, \"decision_function\"):\n",
        "        scores = model.decision_function(X)\n",
        "    elif hasattr(model, \"predict_proba\"):\n",
        "        scores = model.predict_proba(X)\n",
        "    else:\n",
        "        raise AttributeError(\"Model does not support decision_function or predict_proba.\")\n",
        "\n",
        "    top_k_authors = []\n",
        "    for score in scores:\n",
        "        top_indices = score.argsort()[-k:][::-1]\n",
        "        top_k_authors.append([mlb.classes_[i] for i in top_indices])\n",
        "    return top_k_authors"
      ],
      "metadata": {
        "id": "az-hiw1IwtRg"
      },
      "execution_count": 4,
      "outputs": []
    },
    {
      "cell_type": "markdown",
      "source": [
        "# Data exploration"
      ],
      "metadata": {
        "id": "dZc8JX0dfTrB"
      }
    },
    {
      "cell_type": "code",
      "source": [
        "df.shape"
      ],
      "metadata": {
        "colab": {
          "base_uri": "https://localhost:8080/"
        },
        "id": "BQUh2Tf79kmM",
        "outputId": "eeca1943-7561-454b-ab55-200f9d990247"
      },
      "execution_count": 6,
      "outputs": [
        {
          "output_type": "execute_result",
          "data": {
            "text/plain": [
              "(1000000, 8)"
            ]
          },
          "metadata": {},
          "execution_count": 6
        }
      ]
    },
    {
      "cell_type": "code",
      "source": [
        "df.head()"
      ],
      "metadata": {
        "colab": {
          "base_uri": "https://localhost:8080/",
          "height": 310
        },
        "id": "_EiyFhRqwdRy",
        "outputId": "00974e29-d46d-40bc-a216-a2d90caa7c96"
      },
      "execution_count": 6,
      "outputs": [
        {
          "output_type": "execute_result",
          "data": {
            "text/plain": [
              "                                            abstract  \\\n",
              "0  In this paper, a robust 3D triangular mesh wat...   \n",
              "1  We studied an autoassociative neural network w...   \n",
              "2  It is well-known that Sturmian sequences are t...   \n",
              "3  One of the fundamental challenges of recognizi...   \n",
              "4  This paper generalizes previous optimal upper ...   \n",
              "\n",
              "                                             authors  n_citation  \\\n",
              "0             ['S. Ben Jabra', 'Ezzeddine Zagrouba']          50   \n",
              "1  ['Joaquín J. Torres', 'Jesús M. Cortés', 'Joaq...          50   \n",
              "2           ['Genevi eve Paquin', 'Laurent Vuillon']          50   \n",
              "3  ['Yaser Sheikh', 'Mumtaz Sheikh', 'Mubarak Shah']         221   \n",
              "4  ['Efraim Laksman', 'Håkan Lennerstad', 'Magnus...           0   \n",
              "\n",
              "                                          references  \\\n",
              "0  ['09cb2d7d-47d1-4a85-bfe5-faa8221e644b', '10aa...   \n",
              "1  ['4017c9d2-9845-4ad2-ad5b-ba65523727c5', 'b118...   \n",
              "2  ['1c655ee2-067d-4bc4-b8cc-bc779e9a7f10', '2e4e...   \n",
              "3  ['056116c1-9e7a-4f9b-a918-44eb199e67d6', '05ac...   \n",
              "4  ['01a765b8-0cb3-495c-996f-29c36756b435', '5dbc...   \n",
              "\n",
              "                                               title  \\\n",
              "0  A new approach of 3D watermarking based on ima...   \n",
              "1  Attractor neural networks with activity-depend...   \n",
              "2  A characterization of balanced episturmian seq...   \n",
              "3              Exploring the space of a human action   \n",
              "4  Generalized upper bounds on the minimum distan...   \n",
              "\n",
              "                                               venue  year  \\\n",
              "0  international symposium on computers and commu...  2008   \n",
              "1                                     Neurocomputing  2007   \n",
              "2                Electronic Journal of Combinatorics  2007   \n",
              "3        international conference on computer vision  2005   \n",
              "4  Ima Journal of Mathematical Control and Inform...  2015   \n",
              "\n",
              "                                     id  \n",
              "0  4ab3735c-80f1-472d-b953-fa0557fed28b  \n",
              "1  4ab39729-af77-46f7-a662-16984fb9c1db  \n",
              "2  4ab3a4cf-1d96-4ce5-ab6f-b3e19fc260de  \n",
              "3  4ab3a98c-3620-47ec-b578-884ecf4a6206  \n",
              "4  4ab3b585-82b4-4207-91dd-b6bce7e27c4e  "
            ],
            "text/html": [
              "\n",
              "  <div id=\"df-6f45d790-49f8-446f-aa0c-8f8f9c668235\" class=\"colab-df-container\">\n",
              "    <div>\n",
              "<style scoped>\n",
              "    .dataframe tbody tr th:only-of-type {\n",
              "        vertical-align: middle;\n",
              "    }\n",
              "\n",
              "    .dataframe tbody tr th {\n",
              "        vertical-align: top;\n",
              "    }\n",
              "\n",
              "    .dataframe thead th {\n",
              "        text-align: right;\n",
              "    }\n",
              "</style>\n",
              "<table border=\"1\" class=\"dataframe\">\n",
              "  <thead>\n",
              "    <tr style=\"text-align: right;\">\n",
              "      <th></th>\n",
              "      <th>abstract</th>\n",
              "      <th>authors</th>\n",
              "      <th>n_citation</th>\n",
              "      <th>references</th>\n",
              "      <th>title</th>\n",
              "      <th>venue</th>\n",
              "      <th>year</th>\n",
              "      <th>id</th>\n",
              "    </tr>\n",
              "  </thead>\n",
              "  <tbody>\n",
              "    <tr>\n",
              "      <th>0</th>\n",
              "      <td>In this paper, a robust 3D triangular mesh wat...</td>\n",
              "      <td>['S. Ben Jabra', 'Ezzeddine Zagrouba']</td>\n",
              "      <td>50</td>\n",
              "      <td>['09cb2d7d-47d1-4a85-bfe5-faa8221e644b', '10aa...</td>\n",
              "      <td>A new approach of 3D watermarking based on ima...</td>\n",
              "      <td>international symposium on computers and commu...</td>\n",
              "      <td>2008</td>\n",
              "      <td>4ab3735c-80f1-472d-b953-fa0557fed28b</td>\n",
              "    </tr>\n",
              "    <tr>\n",
              "      <th>1</th>\n",
              "      <td>We studied an autoassociative neural network w...</td>\n",
              "      <td>['Joaquín J. Torres', 'Jesús M. Cortés', 'Joaq...</td>\n",
              "      <td>50</td>\n",
              "      <td>['4017c9d2-9845-4ad2-ad5b-ba65523727c5', 'b118...</td>\n",
              "      <td>Attractor neural networks with activity-depend...</td>\n",
              "      <td>Neurocomputing</td>\n",
              "      <td>2007</td>\n",
              "      <td>4ab39729-af77-46f7-a662-16984fb9c1db</td>\n",
              "    </tr>\n",
              "    <tr>\n",
              "      <th>2</th>\n",
              "      <td>It is well-known that Sturmian sequences are t...</td>\n",
              "      <td>['Genevi eve Paquin', 'Laurent Vuillon']</td>\n",
              "      <td>50</td>\n",
              "      <td>['1c655ee2-067d-4bc4-b8cc-bc779e9a7f10', '2e4e...</td>\n",
              "      <td>A characterization of balanced episturmian seq...</td>\n",
              "      <td>Electronic Journal of Combinatorics</td>\n",
              "      <td>2007</td>\n",
              "      <td>4ab3a4cf-1d96-4ce5-ab6f-b3e19fc260de</td>\n",
              "    </tr>\n",
              "    <tr>\n",
              "      <th>3</th>\n",
              "      <td>One of the fundamental challenges of recognizi...</td>\n",
              "      <td>['Yaser Sheikh', 'Mumtaz Sheikh', 'Mubarak Shah']</td>\n",
              "      <td>221</td>\n",
              "      <td>['056116c1-9e7a-4f9b-a918-44eb199e67d6', '05ac...</td>\n",
              "      <td>Exploring the space of a human action</td>\n",
              "      <td>international conference on computer vision</td>\n",
              "      <td>2005</td>\n",
              "      <td>4ab3a98c-3620-47ec-b578-884ecf4a6206</td>\n",
              "    </tr>\n",
              "    <tr>\n",
              "      <th>4</th>\n",
              "      <td>This paper generalizes previous optimal upper ...</td>\n",
              "      <td>['Efraim Laksman', 'Håkan Lennerstad', 'Magnus...</td>\n",
              "      <td>0</td>\n",
              "      <td>['01a765b8-0cb3-495c-996f-29c36756b435', '5dbc...</td>\n",
              "      <td>Generalized upper bounds on the minimum distan...</td>\n",
              "      <td>Ima Journal of Mathematical Control and Inform...</td>\n",
              "      <td>2015</td>\n",
              "      <td>4ab3b585-82b4-4207-91dd-b6bce7e27c4e</td>\n",
              "    </tr>\n",
              "  </tbody>\n",
              "</table>\n",
              "</div>\n",
              "    <div class=\"colab-df-buttons\">\n",
              "\n",
              "  <div class=\"colab-df-container\">\n",
              "    <button class=\"colab-df-convert\" onclick=\"convertToInteractive('df-6f45d790-49f8-446f-aa0c-8f8f9c668235')\"\n",
              "            title=\"Convert this dataframe to an interactive table.\"\n",
              "            style=\"display:none;\">\n",
              "\n",
              "  <svg xmlns=\"http://www.w3.org/2000/svg\" height=\"24px\" viewBox=\"0 -960 960 960\">\n",
              "    <path d=\"M120-120v-720h720v720H120Zm60-500h600v-160H180v160Zm220 220h160v-160H400v160Zm0 220h160v-160H400v160ZM180-400h160v-160H180v160Zm440 0h160v-160H620v160ZM180-180h160v-160H180v160Zm440 0h160v-160H620v160Z\"/>\n",
              "  </svg>\n",
              "    </button>\n",
              "\n",
              "  <style>\n",
              "    .colab-df-container {\n",
              "      display:flex;\n",
              "      gap: 12px;\n",
              "    }\n",
              "\n",
              "    .colab-df-convert {\n",
              "      background-color: #E8F0FE;\n",
              "      border: none;\n",
              "      border-radius: 50%;\n",
              "      cursor: pointer;\n",
              "      display: none;\n",
              "      fill: #1967D2;\n",
              "      height: 32px;\n",
              "      padding: 0 0 0 0;\n",
              "      width: 32px;\n",
              "    }\n",
              "\n",
              "    .colab-df-convert:hover {\n",
              "      background-color: #E2EBFA;\n",
              "      box-shadow: 0px 1px 2px rgba(60, 64, 67, 0.3), 0px 1px 3px 1px rgba(60, 64, 67, 0.15);\n",
              "      fill: #174EA6;\n",
              "    }\n",
              "\n",
              "    .colab-df-buttons div {\n",
              "      margin-bottom: 4px;\n",
              "    }\n",
              "\n",
              "    [theme=dark] .colab-df-convert {\n",
              "      background-color: #3B4455;\n",
              "      fill: #D2E3FC;\n",
              "    }\n",
              "\n",
              "    [theme=dark] .colab-df-convert:hover {\n",
              "      background-color: #434B5C;\n",
              "      box-shadow: 0px 1px 3px 1px rgba(0, 0, 0, 0.15);\n",
              "      filter: drop-shadow(0px 1px 2px rgba(0, 0, 0, 0.3));\n",
              "      fill: #FFFFFF;\n",
              "    }\n",
              "  </style>\n",
              "\n",
              "    <script>\n",
              "      const buttonEl =\n",
              "        document.querySelector('#df-6f45d790-49f8-446f-aa0c-8f8f9c668235 button.colab-df-convert');\n",
              "      buttonEl.style.display =\n",
              "        google.colab.kernel.accessAllowed ? 'block' : 'none';\n",
              "\n",
              "      async function convertToInteractive(key) {\n",
              "        const element = document.querySelector('#df-6f45d790-49f8-446f-aa0c-8f8f9c668235');\n",
              "        const dataTable =\n",
              "          await google.colab.kernel.invokeFunction('convertToInteractive',\n",
              "                                                    [key], {});\n",
              "        if (!dataTable) return;\n",
              "\n",
              "        const docLinkHtml = 'Like what you see? Visit the ' +\n",
              "          '<a target=\"_blank\" href=https://colab.research.google.com/notebooks/data_table.ipynb>data table notebook</a>'\n",
              "          + ' to learn more about interactive tables.';\n",
              "        element.innerHTML = '';\n",
              "        dataTable['output_type'] = 'display_data';\n",
              "        await google.colab.output.renderOutput(dataTable, element);\n",
              "        const docLink = document.createElement('div');\n",
              "        docLink.innerHTML = docLinkHtml;\n",
              "        element.appendChild(docLink);\n",
              "      }\n",
              "    </script>\n",
              "  </div>\n",
              "\n",
              "\n",
              "<div id=\"df-15c0e0cd-f2cd-4530-8b1e-bb511f17f215\">\n",
              "  <button class=\"colab-df-quickchart\" onclick=\"quickchart('df-15c0e0cd-f2cd-4530-8b1e-bb511f17f215')\"\n",
              "            title=\"Suggest charts\"\n",
              "            style=\"display:none;\">\n",
              "\n",
              "<svg xmlns=\"http://www.w3.org/2000/svg\" height=\"24px\"viewBox=\"0 0 24 24\"\n",
              "     width=\"24px\">\n",
              "    <g>\n",
              "        <path d=\"M19 3H5c-1.1 0-2 .9-2 2v14c0 1.1.9 2 2 2h14c1.1 0 2-.9 2-2V5c0-1.1-.9-2-2-2zM9 17H7v-7h2v7zm4 0h-2V7h2v10zm4 0h-2v-4h2v4z\"/>\n",
              "    </g>\n",
              "</svg>\n",
              "  </button>\n",
              "\n",
              "<style>\n",
              "  .colab-df-quickchart {\n",
              "      --bg-color: #E8F0FE;\n",
              "      --fill-color: #1967D2;\n",
              "      --hover-bg-color: #E2EBFA;\n",
              "      --hover-fill-color: #174EA6;\n",
              "      --disabled-fill-color: #AAA;\n",
              "      --disabled-bg-color: #DDD;\n",
              "  }\n",
              "\n",
              "  [theme=dark] .colab-df-quickchart {\n",
              "      --bg-color: #3B4455;\n",
              "      --fill-color: #D2E3FC;\n",
              "      --hover-bg-color: #434B5C;\n",
              "      --hover-fill-color: #FFFFFF;\n",
              "      --disabled-bg-color: #3B4455;\n",
              "      --disabled-fill-color: #666;\n",
              "  }\n",
              "\n",
              "  .colab-df-quickchart {\n",
              "    background-color: var(--bg-color);\n",
              "    border: none;\n",
              "    border-radius: 50%;\n",
              "    cursor: pointer;\n",
              "    display: none;\n",
              "    fill: var(--fill-color);\n",
              "    height: 32px;\n",
              "    padding: 0;\n",
              "    width: 32px;\n",
              "  }\n",
              "\n",
              "  .colab-df-quickchart:hover {\n",
              "    background-color: var(--hover-bg-color);\n",
              "    box-shadow: 0 1px 2px rgba(60, 64, 67, 0.3), 0 1px 3px 1px rgba(60, 64, 67, 0.15);\n",
              "    fill: var(--button-hover-fill-color);\n",
              "  }\n",
              "\n",
              "  .colab-df-quickchart-complete:disabled,\n",
              "  .colab-df-quickchart-complete:disabled:hover {\n",
              "    background-color: var(--disabled-bg-color);\n",
              "    fill: var(--disabled-fill-color);\n",
              "    box-shadow: none;\n",
              "  }\n",
              "\n",
              "  .colab-df-spinner {\n",
              "    border: 2px solid var(--fill-color);\n",
              "    border-color: transparent;\n",
              "    border-bottom-color: var(--fill-color);\n",
              "    animation:\n",
              "      spin 1s steps(1) infinite;\n",
              "  }\n",
              "\n",
              "  @keyframes spin {\n",
              "    0% {\n",
              "      border-color: transparent;\n",
              "      border-bottom-color: var(--fill-color);\n",
              "      border-left-color: var(--fill-color);\n",
              "    }\n",
              "    20% {\n",
              "      border-color: transparent;\n",
              "      border-left-color: var(--fill-color);\n",
              "      border-top-color: var(--fill-color);\n",
              "    }\n",
              "    30% {\n",
              "      border-color: transparent;\n",
              "      border-left-color: var(--fill-color);\n",
              "      border-top-color: var(--fill-color);\n",
              "      border-right-color: var(--fill-color);\n",
              "    }\n",
              "    40% {\n",
              "      border-color: transparent;\n",
              "      border-right-color: var(--fill-color);\n",
              "      border-top-color: var(--fill-color);\n",
              "    }\n",
              "    60% {\n",
              "      border-color: transparent;\n",
              "      border-right-color: var(--fill-color);\n",
              "    }\n",
              "    80% {\n",
              "      border-color: transparent;\n",
              "      border-right-color: var(--fill-color);\n",
              "      border-bottom-color: var(--fill-color);\n",
              "    }\n",
              "    90% {\n",
              "      border-color: transparent;\n",
              "      border-bottom-color: var(--fill-color);\n",
              "    }\n",
              "  }\n",
              "</style>\n",
              "\n",
              "  <script>\n",
              "    async function quickchart(key) {\n",
              "      const quickchartButtonEl =\n",
              "        document.querySelector('#' + key + ' button');\n",
              "      quickchartButtonEl.disabled = true;  // To prevent multiple clicks.\n",
              "      quickchartButtonEl.classList.add('colab-df-spinner');\n",
              "      try {\n",
              "        const charts = await google.colab.kernel.invokeFunction(\n",
              "            'suggestCharts', [key], {});\n",
              "      } catch (error) {\n",
              "        console.error('Error during call to suggestCharts:', error);\n",
              "      }\n",
              "      quickchartButtonEl.classList.remove('colab-df-spinner');\n",
              "      quickchartButtonEl.classList.add('colab-df-quickchart-complete');\n",
              "    }\n",
              "    (() => {\n",
              "      let quickchartButtonEl =\n",
              "        document.querySelector('#df-15c0e0cd-f2cd-4530-8b1e-bb511f17f215 button');\n",
              "      quickchartButtonEl.style.display =\n",
              "        google.colab.kernel.accessAllowed ? 'block' : 'none';\n",
              "    })();\n",
              "  </script>\n",
              "</div>\n",
              "\n",
              "    </div>\n",
              "  </div>\n"
            ],
            "application/vnd.google.colaboratory.intrinsic+json": {
              "type": "dataframe",
              "variable_name": "df"
            }
          },
          "metadata": {},
          "execution_count": 6
        }
      ]
    },
    {
      "cell_type": "code",
      "source": [
        "df[\"authors\"]"
      ],
      "metadata": {
        "colab": {
          "base_uri": "https://localhost:8080/",
          "height": 458
        },
        "id": "yNTbEY65Dm91",
        "outputId": "84a1e468-61b0-4684-dacf-f452e61aa526"
      },
      "execution_count": 7,
      "outputs": [
        {
          "output_type": "execute_result",
          "data": {
            "text/plain": [
              "0                    ['S. Ben Jabra', 'Ezzeddine Zagrouba']\n",
              "1         ['Joaquín J. Torres', 'Jesús M. Cortés', 'Joaq...\n",
              "2                  ['Genevi eve Paquin', 'Laurent Vuillon']\n",
              "3         ['Yaser Sheikh', 'Mumtaz Sheikh', 'Mubarak Shah']\n",
              "4         ['Efraim Laksman', 'Håkan Lennerstad', 'Magnus...\n",
              "                                ...                        \n",
              "999995                 ['Jeril Kuriakose', 'Sandeep Joshi']\n",
              "999996        ['Anh Khoa Bui', 'ZheKai Xiao', 'Liter Siek']\n",
              "999997            ['Sarah E. Ballinger', 'Thomas A. Adams']\n",
              "999998          ['Ben London', 'Bert Huang', 'Lise Getoor']\n",
              "999999                       ['Andrea Mesiarová-Zemánková']\n",
              "Name: authors, Length: 1000000, dtype: object"
            ],
            "text/html": [
              "<div>\n",
              "<style scoped>\n",
              "    .dataframe tbody tr th:only-of-type {\n",
              "        vertical-align: middle;\n",
              "    }\n",
              "\n",
              "    .dataframe tbody tr th {\n",
              "        vertical-align: top;\n",
              "    }\n",
              "\n",
              "    .dataframe thead th {\n",
              "        text-align: right;\n",
              "    }\n",
              "</style>\n",
              "<table border=\"1\" class=\"dataframe\">\n",
              "  <thead>\n",
              "    <tr style=\"text-align: right;\">\n",
              "      <th></th>\n",
              "      <th>authors</th>\n",
              "    </tr>\n",
              "  </thead>\n",
              "  <tbody>\n",
              "    <tr>\n",
              "      <th>0</th>\n",
              "      <td>['S. Ben Jabra', 'Ezzeddine Zagrouba']</td>\n",
              "    </tr>\n",
              "    <tr>\n",
              "      <th>1</th>\n",
              "      <td>['Joaquín J. Torres', 'Jesús M. Cortés', 'Joaq...</td>\n",
              "    </tr>\n",
              "    <tr>\n",
              "      <th>2</th>\n",
              "      <td>['Genevi eve Paquin', 'Laurent Vuillon']</td>\n",
              "    </tr>\n",
              "    <tr>\n",
              "      <th>3</th>\n",
              "      <td>['Yaser Sheikh', 'Mumtaz Sheikh', 'Mubarak Shah']</td>\n",
              "    </tr>\n",
              "    <tr>\n",
              "      <th>4</th>\n",
              "      <td>['Efraim Laksman', 'Håkan Lennerstad', 'Magnus...</td>\n",
              "    </tr>\n",
              "    <tr>\n",
              "      <th>...</th>\n",
              "      <td>...</td>\n",
              "    </tr>\n",
              "    <tr>\n",
              "      <th>999995</th>\n",
              "      <td>['Jeril Kuriakose', 'Sandeep Joshi']</td>\n",
              "    </tr>\n",
              "    <tr>\n",
              "      <th>999996</th>\n",
              "      <td>['Anh Khoa Bui', 'ZheKai Xiao', 'Liter Siek']</td>\n",
              "    </tr>\n",
              "    <tr>\n",
              "      <th>999997</th>\n",
              "      <td>['Sarah E. Ballinger', 'Thomas A. Adams']</td>\n",
              "    </tr>\n",
              "    <tr>\n",
              "      <th>999998</th>\n",
              "      <td>['Ben London', 'Bert Huang', 'Lise Getoor']</td>\n",
              "    </tr>\n",
              "    <tr>\n",
              "      <th>999999</th>\n",
              "      <td>['Andrea Mesiarová-Zemánková']</td>\n",
              "    </tr>\n",
              "  </tbody>\n",
              "</table>\n",
              "<p>1000000 rows × 1 columns</p>\n",
              "</div><br><label><b>dtype:</b> object</label>"
            ]
          },
          "metadata": {},
          "execution_count": 7
        }
      ]
    },
    {
      "cell_type": "code",
      "source": [
        "# Check for null values in each column of the DataFram\n",
        "df.isnull().sum()\n"
      ],
      "metadata": {
        "colab": {
          "base_uri": "https://localhost:8080/",
          "height": 335
        },
        "id": "6TZZ_hcUfXwD",
        "outputId": "bca6281d-9d98-404f-9226-028a84bd47b9"
      },
      "execution_count": 8,
      "outputs": [
        {
          "output_type": "execute_result",
          "data": {
            "text/plain": [
              "abstract      172467\n",
              "authors            2\n",
              "n_citation         0\n",
              "references    124417\n",
              "title              0\n",
              "venue         177755\n",
              "year               0\n",
              "id                 0\n",
              "dtype: int64"
            ],
            "text/html": [
              "<div>\n",
              "<style scoped>\n",
              "    .dataframe tbody tr th:only-of-type {\n",
              "        vertical-align: middle;\n",
              "    }\n",
              "\n",
              "    .dataframe tbody tr th {\n",
              "        vertical-align: top;\n",
              "    }\n",
              "\n",
              "    .dataframe thead th {\n",
              "        text-align: right;\n",
              "    }\n",
              "</style>\n",
              "<table border=\"1\" class=\"dataframe\">\n",
              "  <thead>\n",
              "    <tr style=\"text-align: right;\">\n",
              "      <th></th>\n",
              "      <th>0</th>\n",
              "    </tr>\n",
              "  </thead>\n",
              "  <tbody>\n",
              "    <tr>\n",
              "      <th>abstract</th>\n",
              "      <td>172467</td>\n",
              "    </tr>\n",
              "    <tr>\n",
              "      <th>authors</th>\n",
              "      <td>2</td>\n",
              "    </tr>\n",
              "    <tr>\n",
              "      <th>n_citation</th>\n",
              "      <td>0</td>\n",
              "    </tr>\n",
              "    <tr>\n",
              "      <th>references</th>\n",
              "      <td>124417</td>\n",
              "    </tr>\n",
              "    <tr>\n",
              "      <th>title</th>\n",
              "      <td>0</td>\n",
              "    </tr>\n",
              "    <tr>\n",
              "      <th>venue</th>\n",
              "      <td>177755</td>\n",
              "    </tr>\n",
              "    <tr>\n",
              "      <th>year</th>\n",
              "      <td>0</td>\n",
              "    </tr>\n",
              "    <tr>\n",
              "      <th>id</th>\n",
              "      <td>0</td>\n",
              "    </tr>\n",
              "  </tbody>\n",
              "</table>\n",
              "</div><br><label><b>dtype:</b> int64</label>"
            ]
          },
          "metadata": {},
          "execution_count": 8
        }
      ]
    },
    {
      "cell_type": "code",
      "source": [
        "# Check the data type of each column\n",
        "df.dtypes\n"
      ],
      "metadata": {
        "colab": {
          "base_uri": "https://localhost:8080/",
          "height": 335
        },
        "id": "ui8MZIs-fh4B",
        "outputId": "5de99f1b-e8be-4c35-e550-228618e35e2b"
      },
      "execution_count": 9,
      "outputs": [
        {
          "output_type": "execute_result",
          "data": {
            "text/plain": [
              "abstract      object\n",
              "authors       object\n",
              "n_citation     int64\n",
              "references    object\n",
              "title         object\n",
              "venue         object\n",
              "year           int64\n",
              "id            object\n",
              "dtype: object"
            ],
            "text/html": [
              "<div>\n",
              "<style scoped>\n",
              "    .dataframe tbody tr th:only-of-type {\n",
              "        vertical-align: middle;\n",
              "    }\n",
              "\n",
              "    .dataframe tbody tr th {\n",
              "        vertical-align: top;\n",
              "    }\n",
              "\n",
              "    .dataframe thead th {\n",
              "        text-align: right;\n",
              "    }\n",
              "</style>\n",
              "<table border=\"1\" class=\"dataframe\">\n",
              "  <thead>\n",
              "    <tr style=\"text-align: right;\">\n",
              "      <th></th>\n",
              "      <th>0</th>\n",
              "    </tr>\n",
              "  </thead>\n",
              "  <tbody>\n",
              "    <tr>\n",
              "      <th>abstract</th>\n",
              "      <td>object</td>\n",
              "    </tr>\n",
              "    <tr>\n",
              "      <th>authors</th>\n",
              "      <td>object</td>\n",
              "    </tr>\n",
              "    <tr>\n",
              "      <th>n_citation</th>\n",
              "      <td>int64</td>\n",
              "    </tr>\n",
              "    <tr>\n",
              "      <th>references</th>\n",
              "      <td>object</td>\n",
              "    </tr>\n",
              "    <tr>\n",
              "      <th>title</th>\n",
              "      <td>object</td>\n",
              "    </tr>\n",
              "    <tr>\n",
              "      <th>venue</th>\n",
              "      <td>object</td>\n",
              "    </tr>\n",
              "    <tr>\n",
              "      <th>year</th>\n",
              "      <td>int64</td>\n",
              "    </tr>\n",
              "    <tr>\n",
              "      <th>id</th>\n",
              "      <td>object</td>\n",
              "    </tr>\n",
              "  </tbody>\n",
              "</table>\n",
              "</div><br><label><b>dtype:</b> object</label>"
            ]
          },
          "metadata": {},
          "execution_count": 9
        }
      ]
    },
    {
      "cell_type": "code",
      "source": [
        "# Display some descriptive statistics for numerical columns\n",
        "print(df.describe())\n"
      ],
      "metadata": {
        "colab": {
          "base_uri": "https://localhost:8080/"
        },
        "id": "YMM1V1H5fmzp",
        "outputId": "c6b65130-2d2e-4d0e-e8f2-0385e1eabeed"
      },
      "execution_count": 10,
      "outputs": [
        {
          "output_type": "stream",
          "name": "stdout",
          "text": [
            "           n_citation            year\n",
            "count  1000000.000000  1000000.000000\n",
            "mean        36.000933     2009.447896\n",
            "std        190.784498        7.032415\n",
            "min          0.000000     1937.000000\n",
            "25%          0.000000     2006.000000\n",
            "50%          7.000000     2011.000000\n",
            "75%         50.000000     2015.000000\n",
            "max      42508.000000     2017.000000\n"
          ]
        }
      ]
    },
    {
      "cell_type": "code",
      "source": [
        "# Numerical columns\n",
        "numerical_cols = df.select_dtypes(include=np.number).columns.tolist()\n",
        "print(\"Numerical columns:\", numerical_cols)\n",
        "\n",
        "# Categorical columns\n",
        "categorical_cols = df.select_dtypes(exclude=np.number).columns.tolist()\n",
        "print(\"Categorical columns:\", categorical_cols)\n"
      ],
      "metadata": {
        "colab": {
          "base_uri": "https://localhost:8080/"
        },
        "id": "0JacEgdFfvO6",
        "outputId": "a5ef9754-6d27-49c2-ff1c-8844e90e1b7c"
      },
      "execution_count": 11,
      "outputs": [
        {
          "output_type": "stream",
          "name": "stdout",
          "text": [
            "Numerical columns: ['n_citation', 'year']\n",
            "Categorical columns: ['abstract', 'authors', 'references', 'title', 'venue', 'id']\n"
          ]
        }
      ]
    },
    {
      "cell_type": "markdown",
      "source": [
        "# Data cleaning and preparation"
      ],
      "metadata": {
        "id": "uAFLYr0getep"
      }
    },
    {
      "cell_type": "code",
      "source": [
        "# keeping a copy of the original datafram\n",
        "df_original = df.copy()"
      ],
      "metadata": {
        "id": "guyJfjQFDghu"
      },
      "execution_count": 7,
      "outputs": []
    },
    {
      "cell_type": "code",
      "source": [
        "df.dropna(inplace=True)"
      ],
      "metadata": {
        "id": "yYTI4lJ9DTm4"
      },
      "execution_count": 5,
      "outputs": []
    },
    {
      "cell_type": "code",
      "source": [
        "df.shape"
      ],
      "metadata": {
        "colab": {
          "base_uri": "https://localhost:8080/"
        },
        "id": "TEZt4W1q-bSy",
        "outputId": "c431984b-7bd6-49f3-b25d-d935be05b2d0"
      },
      "execution_count": 14,
      "outputs": [
        {
          "output_type": "execute_result",
          "data": {
            "text/plain": [
              "(693622, 8)"
            ]
          },
          "metadata": {},
          "execution_count": 14
        }
      ]
    },
    {
      "cell_type": "code",
      "source": [
        "#Preprocess authors (convert string lists to actual lists and normalizing the text of authors\n",
        "df = preprocess_authors(df)"
      ],
      "metadata": {
        "id": "xhrJ71gkEBKN"
      },
      "execution_count": 6,
      "outputs": []
    },
    {
      "cell_type": "code",
      "source": [
        "# Check for empty author lists\n",
        "empty_author_instances = df[df['authors'].apply(lambda x: len(x) == 0)]\n",
        "print(f\"Number of instances with empty author lists: {len(empty_author_instances)}\")\n",
        "\n",
        "if not empty_author_instances.empty:\n",
        "    print(\"Indices of instances with empty author lists:\")\n",
        "    print(empty_author_instances.index.tolist())\n"
      ],
      "metadata": {
        "colab": {
          "base_uri": "https://localhost:8080/"
        },
        "id": "ZRfBJpfijoQ6",
        "outputId": "08b10e3e-74e6-4b67-c020-3a35ca70b68f"
      },
      "execution_count": 7,
      "outputs": [
        {
          "output_type": "stream",
          "name": "stdout",
          "text": [
            "Number of instances with empty author lists: 0\n"
          ]
        }
      ]
    },
    {
      "cell_type": "code",
      "source": [
        "#delete instances with empty list of authors\n",
        "dfNoEmpty = df[df['authors'].apply(lambda x: isinstance(x, list) and len(x) > 0)]\n"
      ],
      "metadata": {
        "id": "HtZrpDAlGEaU"
      },
      "execution_count": 8,
      "outputs": []
    },
    {
      "cell_type": "markdown",
      "source": [
        "# Data analysis"
      ],
      "metadata": {
        "id": "MlvYXC4XejwU"
      }
    },
    {
      "cell_type": "markdown",
      "source": [
        "## 1. Unique Authors and Frequency Distribution\n"
      ],
      "metadata": {
        "id": "6uni0ncnkQ9f"
      }
    },
    {
      "cell_type": "code",
      "source": [
        "# nb of unique authors\n",
        "all_authors = [author for authors_list in dfNoEmpty['authors'] for author in authors_list]\n",
        "unique_authors = set(all_authors)\n",
        "print(\"Total unique authors:\", len(unique_authors))\n",
        "\n",
        "# count number of papers per author\n",
        "author_counts = Counter(all_authors)\n",
        "author_freq_df = pd.DataFrame(author_counts.items(), columns=['author', 'nbPapers'])\n",
        "author_freq_df = author_freq_df.sort_values('nbPapers', ascending=False)\n",
        "print(\"Top 20 most prolific authors:\")\n",
        "print(author_freq_df.head(20))\n",
        "\n",
        "print(\"20 least prolific authors:\")\n",
        "print(author_freq_df.tail(20))\n",
        "\n",
        "# Histogram of frequency distribution (log-log scale)\n",
        "plt.figure(figsize=(10,6))\n",
        "sns.histplot(author_freq_df['nbPapers'], bins=50, log_scale=(True, True))\n",
        "plt.title(\"Frequency Distribution of Papers per Author (log-log scale)\")\n",
        "plt.xlabel(\"Number of papers\")\n",
        "plt.ylabel(\"Frequency\")\n",
        "plt.show()"
      ],
      "metadata": {
        "colab": {
          "base_uri": "https://localhost:8080/",
          "height": 1000
        },
        "id": "fHL89LxUj8XK",
        "outputId": "c84ca0f9-df73-4eeb-f451-04e55ae411c3"
      },
      "execution_count": 18,
      "outputs": [
        {
          "output_type": "stream",
          "name": "stdout",
          "text": [
            "Total unique authors: 741291\n",
            "Top 20 most prolific authors:\n",
            "                author  nbPapers\n",
            "3874          wei wang       761\n",
            "4495         wei zhang       520\n",
            "1804         lei zhang       463\n",
            "7590          yang liu       447\n",
            "2536            wei li       444\n",
            "2916       lajos hanzo       429\n",
            "6132          jun wang       422\n",
            "6166         jun zhang       369\n",
            "5773          lei wang       363\n",
            "3764           wen gao       356\n",
            "2670           wei liu       350\n",
            "2498            xin li       326\n",
            "7300          xin wang       322\n",
            "461    thomas s. huang       321\n",
            "30273         wei chen       318\n",
            "4801            jie wu       313\n",
            "12960         li zhang       310\n",
            "13506        jing wang       309\n",
            "731          jie zhang       308\n",
            "7073          yu zhang       304\n",
            "20 least prolific authors:\n",
            "                        author  nbPapers\n",
            "385253            umair qidwai         1\n",
            "385251            yu-jen hsieh         1\n",
            "385246             andrew ward         1\n",
            "385242      peter robert woods         1\n",
            "385241  michelle carmel barker         1\n",
            "385240            colin baskin         1\n",
            "385239     eva b. vedel jensen         1\n",
            "385237             shilpa ajit         1\n",
            "385236     jayalekshmi s. nair         1\n",
            "385235        pramukh r. karla         1\n",
            "385234     richard r. selvaggi         1\n",
            "385232           alberto arena         1\n",
            "385231           l.l. gardener         1\n",
            "385230   raghunathan srivatsan         1\n",
            "385228            arun h patil         1\n",
            "385227   subhashini srinivasan         1\n",
            "385226    thomas j. steenburgh         1\n",
            "385225         bernhard littel         1\n",
            "385221         gernot urschler         1\n",
            "741290      sarah e. ballinger         1\n"
          ]
        },
        {
          "output_type": "display_data",
          "data": {
            "text/plain": [
              "<Figure size 1000x600 with 1 Axes>"
            ],
            "image/png": "[encoded data removed]"
          },
          "metadata": {}
        }
      ]
    },
    {
      "cell_type": "markdown",
      "source": [
        "## 2. Number of Authors per Paper\n"
      ],
      "metadata": {
        "id": "MpJI8Ok1ktW1"
      }
    },
    {
      "cell_type": "code",
      "source": [
        "# number of authors per paper\n",
        "dfNoEmpty['num_authors'] = dfNoEmpty['authors'].apply(len)\n",
        "\n",
        "#  number of authors per paper\n",
        "plt.figure(figsize=(8,5))\n",
        "sns.histplot(dfNoEmpty['num_authors'], bins=range(1, 25), kde=False)\n",
        "plt.title(\"Distribution of Number of Authors per Paper\")\n",
        "plt.xlabel(\"Number of Authors\")\n",
        "plt.ylabel(\"Number of Papers\")\n",
        "plt.show()\n",
        "\n",
        "# Boxplot\n",
        "plt.figure(figsize=(6,4))\n",
        "sns.boxplot(x=dfNoEmpty['num_authors'])\n",
        "plt.title(\"Boxplot of Number of Authors per Paper\")\n",
        "plt.xlabel(\"Number of Authors\")\n",
        "plt.show()\n",
        "\n",
        "# zoom in the boxplot\n",
        "plt.figure(figsize=(6,4))\n",
        "sns.boxplot(x=dfNoEmpty['num_authors'])\n",
        "plt.title(\"Boxplot of Number of Authors per Paper\")\n",
        "plt.xlabel(\"Number of Authors\")\n",
        "plt.xlim(0, 10)\n",
        "plt.show()\n",
        "\n",
        "\n",
        "# Summary statistics\n",
        "print(\"Summary statistics for number of authors per paper:\")\n",
        "print(dfNoEmpty['num_authors'].describe())"
      ],
      "metadata": {
        "id": "xGKFaGzmk4g1",
        "colab": {
          "base_uri": "https://localhost:8080/",
          "height": 1000
        },
        "outputId": "3f66d4e5-66e1-474e-ad58-bbda2f6892b4"
      },
      "execution_count": 19,
      "outputs": [
        {
          "output_type": "display_data",
          "data": {
            "text/plain": [
              "<Figure size 800x500 with 1 Axes>"
            ],
            "image/png": "[encoded data removed]"
          },
          "metadata": {}
        },
        {
          "output_type": "display_data",
          "data": {
            "text/plain": [
              "<Figure size 600x400 with 1 Axes>"
            ],
            "image/png": "[encoded data removed]"
          },
          "metadata": {}
        },
        {
          "output_type": "display_data",
          "data": {
            "text/plain": [
              "<Figure size 600x400 with 1 Axes>"
            ],
            "image/png": "[encoded data removed]"
          },
          "metadata": {}
        },
        {
          "output_type": "stream",
          "name": "stdout",
          "text": [
            "Summary statistics for number of authors per paper:\n",
            "count    693622.000000\n",
            "mean          3.258355\n",
            "std           1.852833\n",
            "min           1.000000\n",
            "25%           2.000000\n",
            "50%           3.000000\n",
            "75%           4.000000\n",
            "max         119.000000\n",
            "Name: num_authors, dtype: float64\n"
          ]
        }
      ]
    },
    {
      "cell_type": "markdown",
      "source": [
        "## 3. Co-Authorship Analysis\n"
      ],
      "metadata": {
        "id": "N2tmDnv9oAA5"
      }
    },
    {
      "cell_type": "code",
      "source": [
        "# Building a co-authorship network\n",
        "G = nx.Graph()\n",
        "# Add nodes\n",
        "for author in unique_authors:\n",
        "    G.add_node(author)\n",
        "\n",
        "# Add edges: for each paper, add an edge between every pair of authors\n",
        "for authors_list in dfNoEmpty['authors']:\n",
        "    for i in range(len(authors_list)):\n",
        "        for j in range(i+1, len(authors_list)):\n",
        "            a1 = authors_list[i]\n",
        "            a2 = authors_list[j]\n",
        "            if G.has_edge(a1, a2):\n",
        "                G[a1][a2]['weight'] += 1\n",
        "            else:\n",
        "                G.add_edge(a1, a2, weight=1)\n",
        "\n",
        "print(\"Co-authorship network: Nodes =\", G.number_of_nodes(), \"Edges =\", G.number_of_edges())\n",
        "\n",
        "# Plot a subgraph of the top 50 most prolific authors\n",
        "top_authors = author_freq_df.head(50)['author'].tolist()\n",
        "subG = G.subgraph(top_authors)\n",
        "plt.figure(figsize=(12,8))\n",
        "pos = nx.spring_layout(subG, k=0.5)\n",
        "nx.draw(subG, pos, with_labels=True, node_size=500, font_size=8)\n",
        "plt.title(\"Co-authorship Network of Top 50 Authors\")\n",
        "plt.show()\n",
        "\n",
        "# Compute degree centrality (top 10)\n",
        "degree_centrality = nx.degree_centrality(G)\n",
        "top_degree = sorted(degree_centrality.items(), key=lambda x: x[1], reverse=True)[:20]\n",
        "print(\"Top 20 authors by degree centrality:\")\n",
        "for author, centrality in top_degree:\n",
        "    print(author, centrality)\n"
      ],
      "metadata": {
        "colab": {
          "base_uri": "https://localhost:8080/",
          "height": 1000
        },
        "id": "qTiVErahnrGI",
        "outputId": "a18bb794-69e6-4c08-b3a9-57f25103c782"
      },
      "execution_count": 20,
      "outputs": [
        {
          "output_type": "stream",
          "name": "stdout",
          "text": [
            "Co-authorship network: Nodes = 741291 Edges = 2810307\n"
          ]
        },
        {
          "output_type": "display_data",
          "data": {
            "text/plain": [
              "<Figure size 1200x800 with 1 Axes>"
            ],
            "image/png": "[encoded data removed]"
          },
          "metadata": {}
        },
        {
          "output_type": "stream",
          "name": "stdout",
          "text": [
            "Top 20 authors by degree centrality:\n",
            "wei wang 0.0021017415586342724\n",
            "wei li 0.001612054661468521\n",
            "wei zhang 0.0014420806971630535\n",
            "yang liu 0.0014366846982962133\n",
            "lei wang 0.0013719327118941304\n",
            "lei zhang 0.0012478247379568048\n",
            "jun wang 0.0011655357552374913\n",
            "wei liu 0.0010994347691186985\n",
            "wei chen 0.0010319847832831954\n",
            "xin li 0.0010252397846996452\n",
            "li zhang 0.0009861187929150535\n",
            "yu zhang 0.000976675794898083\n",
            "jun zhang 0.0009726287957479528\n",
            "jing wang 0.0009658837971644026\n",
            "yang yang 0.0009604877982975623\n",
            "yan zhang 0.0009456488014137517\n",
            "yu wang 0.0009240648059463907\n",
            "jun li 0.0009200178067962605\n",
            "jing li 0.0009159708076461303\n",
            "bo li 0.0008674068178445681\n"
          ]
        }
      ]
    },
    {
      "cell_type": "markdown",
      "source": [
        "### Comments:\n",
        "\n",
        "#### **1. Large Author Pool with a Long-Tail Distribution**\n",
        "- **741,291 Unique Authors:** The dataset includes a vast number of contributors, most of whom appear only a few times.  \n",
        "- **Top 20 Prolific Authors:** Each has over 300 publications (e.g., Wei Wang at 761), indicating a small core of highly active researchers.  \n",
        "\n",
        "**Implication for Classification (prediction):**  \n",
        "- The label space is enormous and **long-tailed**, with a tiny fraction of authors publishing prolifically and a large number publishing infrequently. This poses challenges in building a stable multi-label classification model, as many labels (authors) have very few samples.\n",
        "\n",
        "**Possible Actions:**\n",
        "  \n",
        "We can consider excluding authors with very few papers to reduce label noise.  \n",
        "\n",
        "#### **2. Typical Collaboration Size and Outliers**\n",
        "- **Mean:** ~3 authors per paper.  \n",
        "- **Median:** 3 authors.  \n",
        "- **Right-Skewed Distribution:** Most papers have 2–4 authors, but some have many more.  \n",
        "- **Maximum:** 119 authors on a single paper, likely large multi-institutional collaborations.  \n",
        "- **Outliers:** Papers with 7+ authors are flagged as outliers in the boxplot.\n",
        "\n",
        "**Implication for Classification:**  \n",
        "- Papers with a very large number of authors create **high-dimensional target vectors** for multi-label classification (one paper might be associated with dozens of authors).  \n",
        "- The presence of such extreme outliers can skew training and negatively impact performance, especially if these cases are relatively rare and require special handling.\n",
        "\n",
        "#### **3. Decision: Removing Outlier Papers for Multi-Label Classification**\n",
        "\n",
        "Given the complexities of handling:\n",
        "- A **massive label space** (hundreds of thousands of authors),\n",
        "- **Outliers** with 7+ authors per paper,\n",
        "\n",
        "we propose the following **practical decision** to improve the feasibility of multi-label classification:\n",
        "\n",
        "1. **Exclude Papers with ≥7 Authors:**  \n",
        "   - These papers are outliers that can disproportionately inflate the complexity of the model.  \n",
        "   - By removing them, we reduce the maximum label dimensionality per sample.  \n",
        "   - While this excludes some large-scale collaborations, it yields a more homogeneous subset of papers with typical collaboration sizes (2–6 authors).\n",
        "\n",
        "2. **Filter Very Rare Authors:**  \n",
        "   - If an author appears only once, it is extremely difficult for the model to learn meaningful patterns about that author.  \n",
        "   - Removing authors with minimal activity can further reduce noise and the size of the label space.\n",
        "\n",
        "**Pros of This Approach**  \n",
        "- **Reduced Model Complexity:** Fewer extreme cases (papers with dozens of authors) and fewer single-appearance labels.  \n",
        "- **More Reliable Training:** The model can focus on the most common collaboration patterns, improving generalization.\n",
        "\n",
        "**Cons of This Approach**  \n",
        "- **Loss of Data:** Excluding large-collaboration papers removes potentially interesting cases (e.g., high-impact studies).  \n",
        "- **Potential Bias:** Filtering rare authors may overlook emerging researchers or niche fields.\n"
      ],
      "metadata": {
        "id": "jqoAdxuZ8fqF"
      }
    },
    {
      "cell_type": "markdown",
      "source": [
        "## 4. Assess Impact on Citations (Does Collaboration Size Correlate with Citations?)\n",
        "\n",
        "We define “high-author” papers as those with 7 or more authors (based on your outlier threshold)\n"
      ],
      "metadata": {
        "id": "yWCl-E-HwnVl"
      }
    },
    {
      "cell_type": "code",
      "source": [
        "# a simple scatter plot of num_authors vs. citations\n",
        "plt.figure(figsize=(8,5))\n",
        "sns.scatterplot(x='num_authors', y='n_citation', data=dfNoEmpty, alpha=0.3)\n",
        "plt.title(\"Number of Authors vs. Citation Counts\")\n",
        "plt.xlabel(\"Number of Authors\")\n",
        "plt.ylabel(\"Citations\")\n",
        "plt.show()\n",
        "\n",
        "# check the  correlation\n",
        "corr_value = dfNoEmpty[['num_authors', 'n_citation']].corr().iloc[0,1]\n",
        "print(f\"Correlation between number of authors and citations: {corr_value:.3f}\")\n",
        "\n",
        "# grouping the papers by author count and computing the average citations\n",
        "df_author_bins = dfNoEmpty.groupby('num_authors')['n_citation'].mean().reset_index()\n",
        "plt.figure(figsize=(20,5))\n",
        "sns.barplot(x='num_authors', y='n_citation', data=df_author_bins, palette='viridis')\n",
        "plt.title(\"Average Citations by Number of Authors\")\n",
        "plt.xlabel(\"Number of Authors\")\n",
        "plt.ylabel(\"Average Citations\")\n",
        "plt.show()\n"
      ],
      "metadata": {
        "colab": {
          "base_uri": "https://localhost:8080/",
          "height": 988
        },
        "id": "OPlsWWaO9tlb",
        "outputId": "21aa6cc8-98ff-4c2d-9862-9c9b2837d976"
      },
      "execution_count": 21,
      "outputs": [
        {
          "output_type": "display_data",
          "data": {
            "text/plain": [
              "<Figure size 800x500 with 1 Axes>"
            ],
            "image/png": "[encoded data removed]"
          },
          "metadata": {}
        },
        {
          "output_type": "stream",
          "name": "stdout",
          "text": [
            "Correlation between number of authors and citations: -0.001\n"
          ]
        },
        {
          "output_type": "stream",
          "name": "stderr",
          "text": [
            "<ipython-input-21-9fc1b74a7d56>:16: FutureWarning: \n",
            "\n",
            "Passing `palette` without assigning `hue` is deprecated and will be removed in v0.14.0. Assign the `x` variable to `hue` and set `legend=False` for the same effect.\n",
            "\n",
            "  sns.barplot(x='num_authors', y='n_citation', data=df_author_bins, palette='viridis')\n"
          ]
        },
        {
          "output_type": "display_data",
          "data": {
            "text/plain": [
              "<Figure size 2000x500 with 1 Axes>"
            ],
            "image/png": "[encoded data removed]"
          },
          "metadata": {}
        }
      ]
    },
    {
      "cell_type": "markdown",
      "source": [
        "### Comments:\n",
        "**1.Number of Authors vs. Citation Counts**  \n",
        "The scatter plot shows how citation counts vary across papers with different numbers of authors. Most papers cluster around 1–10 authors, and there is no clear linear trend indicating that “more authors” always lead to higher citations. A few high-citation outliers exist at both low and high author counts, suggesting that while large collaborations can attract many citations, smaller teams can also produce highly cited work. Overall, the relationship appears weak or non-linear, indicating that collaboration size is just one factor influencing a paper’s impact.\n",
        "\n",
        "**2. Average Citations by Number of Authors**  \n",
        "In the bar chart illustrating average citations for each exact number of authors, the distribution is quite uneven. There are notable spikes at certain author counts—likely reflecting small clusters of highly cited papers within specific fields. Meanwhile, many other author counts show only moderate citation averages. This irregular pattern reinforces the idea that large collaborations sometimes yield highly cited papers, but it is not a universal rule.\n",
        "\n",
        "### **Decision to Include Papers with 1–7 Authors Only (no outliers)**\n",
        "These two plots highlight that while large-author papers can occasionally be very highly cited, they are relatively rare and tend to behave as outliers. For a multi-label classification task focusing on typical collaboration patterns, excluding papers with more than 7 authors reduces complexity and outlier influence. This trade-off removes a small subset of high-author papers that might skew the dataset, simplifying model training while still retaining the vast majority of “standard” papers where 1–7 authors is the norm."
      ],
      "metadata": {
        "id": "wf5cIta-AIx7"
      }
    },
    {
      "cell_type": "markdown",
      "source": [
        "# Data preprocessing"
      ],
      "metadata": {
        "id": "oTAVSEjH-UcU"
      }
    },
    {
      "cell_type": "code",
      "source": [
        "df_filtered = filter_papers(dfNoEmpty, min_authors=1, max_authors=7)"
      ],
      "metadata": {
        "id": "twSsp6BuEDYC"
      },
      "execution_count": 37,
      "outputs": []
    },
    {
      "cell_type": "code",
      "source": [
        "df_filtered.shape"
      ],
      "metadata": {
        "colab": {
          "base_uri": "https://localhost:8080/"
        },
        "id": "MgEjj-W72gDg",
        "outputId": "56b1662d-e7b5-47ce-b869-c7e36cae0836"
      },
      "execution_count": 38,
      "outputs": [
        {
          "output_type": "execute_result",
          "data": {
            "text/plain": [
              "(678287, 8)"
            ]
          },
          "metadata": {},
          "execution_count": 38
        }
      ]
    },
    {
      "cell_type": "code",
      "source": [
        "print(\"Total unique authors in df_filtered:\", len(set([author for authors_list in df_filtered['authors'] for author in authors_list])))\n"
      ],
      "metadata": {
        "colab": {
          "base_uri": "https://localhost:8080/"
        },
        "id": "90YQw0rHIQB3",
        "outputId": "235f7d9c-8ce5-4b7c-9deb-d2b6ff666d90"
      },
      "execution_count": 39,
      "outputs": [
        {
          "output_type": "stream",
          "name": "stdout",
          "text": [
            "Total unique authors in df_filtered: 685983\n"
          ]
        }
      ]
    },
    {
      "cell_type": "code",
      "source": [
        "#  delete from df_filtered the lines with authors is an emplty list\n",
        "df_filtered = df_filtered[df_filtered['authors'].apply(lambda x: len(x) > 0)]\n"
      ],
      "metadata": {
        "id": "gUFek1-QBD23"
      },
      "execution_count": 40,
      "outputs": []
    },
    {
      "cell_type": "code",
      "source": [
        "dfNoEmpty.shape, df_filtered.shape"
      ],
      "metadata": {
        "colab": {
          "base_uri": "https://localhost:8080/"
        },
        "id": "W9uYs3mTMy34",
        "outputId": "3f27bad1-ded7-4bcc-8c5a-13dafb439942"
      },
      "execution_count": 41,
      "outputs": [
        {
          "output_type": "execute_result",
          "data": {
            "text/plain": [
              "((693622, 8), (678287, 8))"
            ]
          },
          "metadata": {},
          "execution_count": 41
        }
      ]
    },
    {
      "cell_type": "code",
      "source": [
        "df_filtered['authors']"
      ],
      "metadata": {
        "colab": {
          "base_uri": "https://localhost:8080/",
          "height": 458
        },
        "id": "9zTkE1Di2wAV",
        "outputId": "795e48c9-610f-4f15-fc84-6da534ec7d1b"
      },
      "execution_count": 27,
      "outputs": [
        {
          "output_type": "execute_result",
          "data": {
            "text/plain": [
              "0                        [s. ben jabra, ezzeddine zagrouba]\n",
              "1         [joaquín j. torres, jesús m. cortés, joaquín m...\n",
              "2                      [genevi eve paquin, laurent vuillon]\n",
              "3               [yaser sheikh, mumtaz sheikh, mubarak shah]\n",
              "4         [efraim laksman, håkan lennerstad, magnus nils...\n",
              "                                ...                        \n",
              "999991    [katharina prinz, andreas steinboeck, martin k...\n",
              "999993                       [yang long, li liu, ling shao]\n",
              "999994    [jingbo meng, lourdes martinez, amanda j. holm...\n",
              "999997                [sarah e. ballinger, thomas a. adams]\n",
              "999999                         [andrea mesiarová-zemánková]\n",
              "Name: authors, Length: 678287, dtype: object"
            ],
            "text/html": [
              "<div>\n",
              "<style scoped>\n",
              "    .dataframe tbody tr th:only-of-type {\n",
              "        vertical-align: middle;\n",
              "    }\n",
              "\n",
              "    .dataframe tbody tr th {\n",
              "        vertical-align: top;\n",
              "    }\n",
              "\n",
              "    .dataframe thead th {\n",
              "        text-align: right;\n",
              "    }\n",
              "</style>\n",
              "<table border=\"1\" class=\"dataframe\">\n",
              "  <thead>\n",
              "    <tr style=\"text-align: right;\">\n",
              "      <th></th>\n",
              "      <th>authors</th>\n",
              "    </tr>\n",
              "  </thead>\n",
              "  <tbody>\n",
              "    <tr>\n",
              "      <th>0</th>\n",
              "      <td>[s. ben jabra, ezzeddine zagrouba]</td>\n",
              "    </tr>\n",
              "    <tr>\n",
              "      <th>1</th>\n",
              "      <td>[joaquín j. torres, jesús m. cortés, joaquín m...</td>\n",
              "    </tr>\n",
              "    <tr>\n",
              "      <th>2</th>\n",
              "      <td>[genevi eve paquin, laurent vuillon]</td>\n",
              "    </tr>\n",
              "    <tr>\n",
              "      <th>3</th>\n",
              "      <td>[yaser sheikh, mumtaz sheikh, mubarak shah]</td>\n",
              "    </tr>\n",
              "    <tr>\n",
              "      <th>4</th>\n",
              "      <td>[efraim laksman, håkan lennerstad, magnus nils...</td>\n",
              "    </tr>\n",
              "    <tr>\n",
              "      <th>...</th>\n",
              "      <td>...</td>\n",
              "    </tr>\n",
              "    <tr>\n",
              "      <th>999991</th>\n",
              "      <td>[katharina prinz, andreas steinboeck, martin k...</td>\n",
              "    </tr>\n",
              "    <tr>\n",
              "      <th>999993</th>\n",
              "      <td>[yang long, li liu, ling shao]</td>\n",
              "    </tr>\n",
              "    <tr>\n",
              "      <th>999994</th>\n",
              "      <td>[jingbo meng, lourdes martinez, amanda j. holm...</td>\n",
              "    </tr>\n",
              "    <tr>\n",
              "      <th>999997</th>\n",
              "      <td>[sarah e. ballinger, thomas a. adams]</td>\n",
              "    </tr>\n",
              "    <tr>\n",
              "      <th>999999</th>\n",
              "      <td>[andrea mesiarová-zemánková]</td>\n",
              "    </tr>\n",
              "  </tbody>\n",
              "</table>\n",
              "<p>678287 rows × 1 columns</p>\n",
              "</div><br><label><b>dtype:</b> object</label>"
            ]
          },
          "metadata": {},
          "execution_count": 27
        }
      ]
    },
    {
      "cell_type": "code",
      "source": [
        "df_sampled = df_filtered.sample(n=10000, random_state=42)  # random_state for reproducibility\n"
      ],
      "metadata": {
        "id": "jagWcXN5FMQ_"
      },
      "execution_count": 13,
      "outputs": []
    },
    {
      "cell_type": "code",
      "source": [
        "# Create author matrix (labels)\n",
        "author_matrix, mlb = create_author_matrix(df_sampled)"
      ],
      "metadata": {
        "id": "LJhzfdvszXPO"
      },
      "execution_count": 19,
      "outputs": []
    },
    {
      "cell_type": "code",
      "source": [
        "author_matrix, mlb"
      ],
      "metadata": {
        "id": "Yzkc-IkWE9fr",
        "colab": {
          "base_uri": "https://localhost:8080/"
        },
        "outputId": "e1811456-9494-4938-ccbd-8a2aedd3ecca"
      },
      "execution_count": 20,
      "outputs": [
        {
          "output_type": "execute_result",
          "data": {
            "text/plain": [
              "(array([[0, 0, 0, ..., 0, 0, 0],\n",
              "        [0, 0, 0, ..., 0, 0, 0],\n",
              "        [0, 0, 0, ..., 0, 0, 0],\n",
              "        ...,\n",
              "        [0, 0, 0, ..., 0, 0, 0],\n",
              "        [0, 0, 0, ..., 0, 0, 0],\n",
              "        [0, 0, 0, ..., 0, 0, 0]]),\n",
              " MultiLabelBinarizer())"
            ]
          },
          "metadata": {},
          "execution_count": 20
        }
      ]
    },
    {
      "cell_type": "code",
      "source": [
        "author_matrix.shape"
      ],
      "metadata": {
        "id": "SUUA68FY29Od",
        "colab": {
          "base_uri": "https://localhost:8080/"
        },
        "outputId": "e238b97d-705f-4660-a65f-2860221c126d"
      },
      "execution_count": 21,
      "outputs": [
        {
          "output_type": "execute_result",
          "data": {
            "text/plain": [
              "(10000, 27892)"
            ]
          },
          "metadata": {},
          "execution_count": 21
        }
      ]
    },
    {
      "cell_type": "code",
      "source": [
        "# preprocess text\n",
        "df_sampled = preprocess_text(df_sampled)"
      ],
      "metadata": {
        "id": "xUn98VioE8vD"
      },
      "execution_count": 43,
      "outputs": []
    },
    {
      "cell_type": "code",
      "source": [
        "# save the preproced dataframe to a new csv file\n",
        "df_filtered.to_csv('preprocessed_data.csv', index=False)"
      ],
      "metadata": {
        "id": "3-XpPpk33w4n"
      },
      "execution_count": null,
      "outputs": []
    },
    {
      "cell_type": "code",
      "source": [
        "# Step 6: Create features\n",
        "X, tfidf = create_features(df_sampled)"
      ],
      "metadata": {
        "id": "0bL0RYRV7BKs"
      },
      "execution_count": 44,
      "outputs": []
    },
    {
      "cell_type": "code",
      "source": [
        "# Verify shapes\n",
        "print(\"Shape of X:\", X.shape)\n",
        "print(\"Shape of author_matrix:\", author_matrix.shape)\n",
        "print(\"Rows in df_filtered:\", df_filtered.shape[0])"
      ],
      "metadata": {
        "colab": {
          "base_uri": "https://localhost:8080/"
        },
        "id": "fsv98hi56jIf",
        "outputId": "4d33cae1-81e0-498c-9889-979dac796a93"
      },
      "execution_count": 45,
      "outputs": [
        {
          "output_type": "stream",
          "name": "stdout",
          "text": [
            "Shape of X: (10000, 6705)\n",
            "Shape of author_matrix: (10000, 27892)\n",
            "Rows in df_filtered: 678287\n"
          ]
        }
      ]
    },
    {
      "cell_type": "code",
      "source": [
        "import joblib\n",
        "\n",
        "# Cache the TF-IDF vectorizer, the feature matrix, and the preprocessed DataFrame.\n",
        "joblib.dump(tfidf, 'tfidf_vectorizer.pkl')\n",
        "joblib.dump(X, 'features_X.pkl')\n",
        "joblib.dump(df_filtered, 'df_filtered.pkl')\n"
      ],
      "metadata": {
        "colab": {
          "base_uri": "https://localhost:8080/"
        },
        "id": "6RAa3vBA8kMS",
        "outputId": "d7d63d1f-0ff7-450d-a337-62790162d259"
      },
      "execution_count": 46,
      "outputs": [
        {
          "output_type": "execute_result",
          "data": {
            "text/plain": [
              "['df_filtered.pkl']"
            ]
          },
          "metadata": {},
          "execution_count": 46
        }
      ]
    },
    {
      "cell_type": "markdown",
      "source": [
        "### Using  BERT tokenzation and classification"
      ],
      "metadata": {
        "id": "yTGbJpFuNvxW"
      }
    },
    {
      "cell_type": "code",
      "source": [
        "pip install transformers torch pandas numpy scikit-learn"
      ],
      "metadata": {
        "colab": {
          "base_uri": "https://localhost:8080/"
        },
        "id": "posCNi4VMPXB",
        "outputId": "3804a2ed-bc5c-4746-dff6-4a3542c3c7db"
      },
      "execution_count": 47,
      "outputs": [
        {
          "output_type": "stream",
          "name": "stdout",
          "text": [
            "Requirement already satisfied: transformers in /usr/local/lib/python3.11/dist-packages (4.48.2)\n",
            "Requirement already satisfied: torch in /usr/local/lib/python3.11/dist-packages (2.5.1+cu124)\n",
            "Requirement already satisfied: pandas in /usr/local/lib/python3.11/dist-packages (2.2.2)\n",
            "Requirement already satisfied: numpy in /usr/local/lib/python3.11/dist-packages (1.26.4)\n",
            "Requirement already satisfied: scikit-learn in /usr/local/lib/python3.11/dist-packages (1.6.1)\n",
            "Requirement already satisfied: filelock in /usr/local/lib/python3.11/dist-packages (from transformers) (3.17.0)\n",
            "Requirement already satisfied: huggingface-hub<1.0,>=0.24.0 in /usr/local/lib/python3.11/dist-packages (from transformers) (0.28.1)\n",
            "Requirement already satisfied: packaging>=20.0 in /usr/local/lib/python3.11/dist-packages (from transformers) (24.2)\n",
            "Requirement already satisfied: pyyaml>=5.1 in /usr/local/lib/python3.11/dist-packages (from transformers) (6.0.2)\n",
            "Requirement already satisfied: regex!=2019.12.17 in /usr/local/lib/python3.11/dist-packages (from transformers) (2024.11.6)\n",
            "Requirement already satisfied: requests in /usr/local/lib/python3.11/dist-packages (from transformers) (2.32.3)\n",
            "Requirement already satisfied: tokenizers<0.22,>=0.21 in /usr/local/lib/python3.11/dist-packages (from transformers) (0.21.0)\n",
            "Requirement already satisfied: safetensors>=0.4.1 in /usr/local/lib/python3.11/dist-packages (from transformers) (0.5.2)\n",
            "Requirement already satisfied: tqdm>=4.27 in /usr/local/lib/python3.11/dist-packages (from transformers) (4.67.1)\n",
            "Requirement already satisfied: typing-extensions>=4.8.0 in /usr/local/lib/python3.11/dist-packages (from torch) (4.12.2)\n",
            "Requirement already satisfied: networkx in /usr/local/lib/python3.11/dist-packages (from torch) (3.4.2)\n",
            "Requirement already satisfied: jinja2 in /usr/local/lib/python3.11/dist-packages (from torch) (3.1.5)\n",
            "Requirement already satisfied: fsspec in /usr/local/lib/python3.11/dist-packages (from torch) (2024.10.0)\n",
            "Collecting nvidia-cuda-nvrtc-cu12==12.4.127 (from torch)\n",
            "  Downloading nvidia_cuda_nvrtc_cu12-12.4.127-py3-none-manylinux2014_x86_64.whl.metadata (1.5 kB)\n",
            "Collecting nvidia-cuda-runtime-cu12==12.4.127 (from torch)\n",
            "  Downloading nvidia_cuda_runtime_cu12-12.4.127-py3-none-manylinux2014_x86_64.whl.metadata (1.5 kB)\n",
            "Collecting nvidia-cuda-cupti-cu12==12.4.127 (from torch)\n",
            "  Downloading nvidia_cuda_cupti_cu12-12.4.127-py3-none-manylinux2014_x86_64.whl.metadata (1.6 kB)\n",
            "Collecting nvidia-cudnn-cu12==9.1.0.70 (from torch)\n",
            "  Downloading nvidia_cudnn_cu12-9.1.0.70-py3-none-manylinux2014_x86_64.whl.metadata (1.6 kB)\n",
            "Collecting nvidia-cublas-cu12==12.4.5.8 (from torch)\n",
            "  Downloading nvidia_cublas_cu12-12.4.5.8-py3-none-manylinux2014_x86_64.whl.metadata (1.5 kB)\n",
            "Collecting nvidia-cufft-cu12==11.2.1.3 (from torch)\n",
            "  Downloading nvidia_cufft_cu12-11.2.1.3-py3-none-manylinux2014_x86_64.whl.metadata (1.5 kB)\n",
            "Collecting nvidia-curand-cu12==10.3.5.147 (from torch)\n",
            "  Downloading nvidia_curand_cu12-10.3.5.147-py3-none-manylinux2014_x86_64.whl.metadata (1.5 kB)\n",
            "Collecting nvidia-cusolver-cu12==11.6.1.9 (from torch)\n",
            "  Downloading nvidia_cusolver_cu12-11.6.1.9-py3-none-manylinux2014_x86_64.whl.metadata (1.6 kB)\n",
            "Collecting nvidia-cusparse-cu12==12.3.1.170 (from torch)\n",
            "  Downloading nvidia_cusparse_cu12-12.3.1.170-py3-none-manylinux2014_x86_64.whl.metadata (1.6 kB)\n",
            "Requirement already satisfied: nvidia-nccl-cu12==2.21.5 in /usr/local/lib/python3.11/dist-packages (from torch) (2.21.5)\n",
            "Requirement already satisfied: nvidia-nvtx-cu12==12.4.127 in /usr/local/lib/python3.11/dist-packages (from torch) (12.4.127)\n",
            "Collecting nvidia-nvjitlink-cu12==12.4.127 (from torch)\n",
            "  Downloading nvidia_nvjitlink_cu12-12.4.127-py3-none-manylinux2014_x86_64.whl.metadata (1.5 kB)\n",
            "Requirement already satisfied: triton==3.1.0 in /usr/local/lib/python3.11/dist-packages (from torch) (3.1.0)\n",
            "Requirement already satisfied: sympy==1.13.1 in /usr/local/lib/python3.11/dist-packages (from torch) (1.13.1)\n",
            "Requirement already satisfied: mpmath<1.4,>=1.1.0 in /usr/local/lib/python3.11/dist-packages (from sympy==1.13.1->torch) (1.3.0)\n",
            "Requirement already satisfied: python-dateutil>=2.8.2 in /usr/local/lib/python3.11/dist-packages (from pandas) (2.8.2)\n",
            "Requirement already satisfied: pytz>=2020.1 in /usr/local/lib/python3.11/dist-packages (from pandas) (2025.1)\n",
            "Requirement already satisfied: tzdata>=2022.7 in /usr/local/lib/python3.11/dist-packages (from pandas) (2025.1)\n",
            "Requirement already satisfied: scipy>=1.6.0 in /usr/local/lib/python3.11/dist-packages (from scikit-learn) (1.13.1)\n",
            "Requirement already satisfied: joblib>=1.2.0 in /usr/local/lib/python3.11/dist-packages (from scikit-learn) (1.4.2)\n",
            "Requirement already satisfied: threadpoolctl>=3.1.0 in /usr/local/lib/python3.11/dist-packages (from scikit-learn) (3.5.0)\n",
            "Requirement already satisfied: six>=1.5 in /usr/local/lib/python3.11/dist-packages (from python-dateutil>=2.8.2->pandas) (1.17.0)\n",
            "Requirement already satisfied: MarkupSafe>=2.0 in /usr/local/lib/python3.11/dist-packages (from jinja2->torch) (3.0.2)\n",
            "Requirement already satisfied: charset-normalizer<4,>=2 in /usr/local/lib/python3.11/dist-packages (from requests->transformers) (3.4.1)\n",
            "Requirement already satisfied: idna<4,>=2.5 in /usr/local/lib/python3.11/dist-packages (from requests->transformers) (3.10)\n",
            "Requirement already satisfied: urllib3<3,>=1.21.1 in /usr/local/lib/python3.11/dist-packages (from requests->transformers) (2.3.0)\n",
            "Requirement already satisfied: certifi>=2017.4.17 in /usr/local/lib/python3.11/dist-packages (from requests->transformers) (2025.1.31)\n",
            "Downloading nvidia_cublas_cu12-12.4.5.8-py3-none-manylinux2014_x86_64.whl (363.4 MB)\n",
            "\u001b[2K   \u001b[90m━━━━━━━━━━━━━━━━━━━━━━━━━━━━━━━━━━━━━━━━\u001b[0m \u001b[32m363.4/363.4 MB\u001b[0m \u001b[31m4.8 MB/s\u001b[0m eta \u001b[36m0:00:00\u001b[0m\n",
            "\u001b[?25hDownloading nvidia_cuda_cupti_cu12-12.4.127-py3-none-manylinux2014_x86_64.whl (13.8 MB)\n",
            "\u001b[2K   \u001b[90m━━━━━━━━━━━━━━━━━━━━━━━━━━━━━━━━━━━━━━━━\u001b[0m \u001b[32m13.8/13.8 MB\u001b[0m \u001b[31m58.9 MB/s\u001b[0m eta \u001b[36m0:00:00\u001b[0m\n",
            "\u001b[?25hDownloading nvidia_cuda_nvrtc_cu12-12.4.127-py3-none-manylinux2014_x86_64.whl (24.6 MB)\n",
            "\u001b[2K   \u001b[90m━━━━━━━━━━━━━━━━━━━━━━━━━━━━━━━━━━━━━━━━\u001b[0m \u001b[32m24.6/24.6 MB\u001b[0m \u001b[31m28.2 MB/s\u001b[0m eta \u001b[36m0:00:00\u001b[0m\n",
            "\u001b[?25hDownloading nvidia_cuda_runtime_cu12-12.4.127-py3-none-manylinux2014_x86_64.whl (883 kB)\n",
            "\u001b[2K   \u001b[90m━━━━━━━━━━━━━━━━━━━━━━━━━━━━━━━━━━━━━━━━\u001b[0m \u001b[32m883.7/883.7 kB\u001b[0m \u001b[31m39.2 MB/s\u001b[0m eta \u001b[36m0:00:00\u001b[0m\n",
            "\u001b[?25hDownloading nvidia_cudnn_cu12-9.1.0.70-py3-none-manylinux2014_x86_64.whl (664.8 MB)\n",
            "\u001b[2K   \u001b[90m━━━━━━━━━━━━━━━━━━━━━━━━━━━━━━━━━━━━━━━━\u001b[0m \u001b[32m664.8/664.8 MB\u001b[0m \u001b[31m2.1 MB/s\u001b[0m eta \u001b[36m0:00:00\u001b[0m\n",
            "\u001b[?25hDownloading nvidia_cufft_cu12-11.2.1.3-py3-none-manylinux2014_x86_64.whl (211.5 MB)\n",
            "\u001b[2K   \u001b[90m━━━━━━━━━━━━━━━━━━━━━━━━━━━━━━━━━━━━━━━━\u001b[0m \u001b[32m211.5/211.5 MB\u001b[0m \u001b[31m1.7 MB/s\u001b[0m eta \u001b[36m0:00:00\u001b[0m\n",
            "\u001b[?25hDownloading nvidia_curand_cu12-10.3.5.147-py3-none-manylinux2014_x86_64.whl (56.3 MB)\n",
            "\u001b[2K   \u001b[90m━━━━━━━━━━━━━━━━━━━━━━━━━━━━━━━━━━━━━━━━\u001b[0m \u001b[32m56.3/56.3 MB\u001b[0m \u001b[31m14.9 MB/s\u001b[0m eta \u001b[36m0:00:00\u001b[0m\n",
            "\u001b[?25hDownloading nvidia_cusolver_cu12-11.6.1.9-py3-none-manylinux2014_x86_64.whl (127.9 MB)\n",
            "\u001b[2K   \u001b[90m━━━━━━━━━━━━━━━━━━━━━━━━━━━━━━━━━━━━━━━━\u001b[0m \u001b[32m127.9/127.9 MB\u001b[0m \u001b[31m10.1 MB/s\u001b[0m eta \u001b[36m0:00:00\u001b[0m\n",
            "\u001b[?25hDownloading nvidia_cusparse_cu12-12.3.1.170-py3-none-manylinux2014_x86_64.whl (207.5 MB)\n",
            "\u001b[2K   \u001b[90m━━━━━━━━━━━━━━━━━━━━━━━━━━━━━━━━━━━━━━━━\u001b[0m \u001b[32m207.5/207.5 MB\u001b[0m \u001b[31m6.7 MB/s\u001b[0m eta \u001b[36m0:00:00\u001b[0m\n",
            "\u001b[?25hDownloading nvidia_nvjitlink_cu12-12.4.127-py3-none-manylinux2014_x86_64.whl (21.1 MB)\n",
            "\u001b[2K   \u001b[90m━━━━━━━━━━━━━━━━━━━━━━━━━━━━━━━━━━━━━━━━\u001b[0m \u001b[32m21.1/21.1 MB\u001b[0m \u001b[31m49.4 MB/s\u001b[0m eta \u001b[36m0:00:00\u001b[0m\n",
            "\u001b[?25hInstalling collected packages: nvidia-nvjitlink-cu12, nvidia-curand-cu12, nvidia-cufft-cu12, nvidia-cuda-runtime-cu12, nvidia-cuda-nvrtc-cu12, nvidia-cuda-cupti-cu12, nvidia-cublas-cu12, nvidia-cusparse-cu12, nvidia-cudnn-cu12, nvidia-cusolver-cu12\n",
            "  Attempting uninstall: nvidia-nvjitlink-cu12\n",
            "    Found existing installation: nvidia-nvjitlink-cu12 12.5.82\n",
            "    Uninstalling nvidia-nvjitlink-cu12-12.5.82:\n",
            "      Successfully uninstalled nvidia-nvjitlink-cu12-12.5.82\n",
            "  Attempting uninstall: nvidia-curand-cu12\n",
            "    Found existing installation: nvidia-curand-cu12 10.3.6.82\n",
            "    Uninstalling nvidia-curand-cu12-10.3.6.82:\n",
            "      Successfully uninstalled nvidia-curand-cu12-10.3.6.82\n",
            "  Attempting uninstall: nvidia-cufft-cu12\n",
            "    Found existing installation: nvidia-cufft-cu12 11.2.3.61\n",
            "    Uninstalling nvidia-cufft-cu12-11.2.3.61:\n",
            "      Successfully uninstalled nvidia-cufft-cu12-11.2.3.61\n",
            "  Attempting uninstall: nvidia-cuda-runtime-cu12\n",
            "    Found existing installation: nvidia-cuda-runtime-cu12 12.5.82\n",
            "    Uninstalling nvidia-cuda-runtime-cu12-12.5.82:\n",
            "      Successfully uninstalled nvidia-cuda-runtime-cu12-12.5.82\n",
            "  Attempting uninstall: nvidia-cuda-nvrtc-cu12\n",
            "    Found existing installation: nvidia-cuda-nvrtc-cu12 12.5.82\n",
            "    Uninstalling nvidia-cuda-nvrtc-cu12-12.5.82:\n",
            "      Successfully uninstalled nvidia-cuda-nvrtc-cu12-12.5.82\n",
            "  Attempting uninstall: nvidia-cuda-cupti-cu12\n",
            "    Found existing installation: nvidia-cuda-cupti-cu12 12.5.82\n",
            "    Uninstalling nvidia-cuda-cupti-cu12-12.5.82:\n",
            "      Successfully uninstalled nvidia-cuda-cupti-cu12-12.5.82\n",
            "  Attempting uninstall: nvidia-cublas-cu12\n",
            "    Found existing installation: nvidia-cublas-cu12 12.5.3.2\n",
            "    Uninstalling nvidia-cublas-cu12-12.5.3.2:\n",
            "      Successfully uninstalled nvidia-cublas-cu12-12.5.3.2\n",
            "  Attempting uninstall: nvidia-cusparse-cu12\n",
            "    Found existing installation: nvidia-cusparse-cu12 12.5.1.3\n",
            "    Uninstalling nvidia-cusparse-cu12-12.5.1.3:\n",
            "      Successfully uninstalled nvidia-cusparse-cu12-12.5.1.3\n",
            "  Attempting uninstall: nvidia-cudnn-cu12\n",
            "    Found existing installation: nvidia-cudnn-cu12 9.3.0.75\n",
            "    Uninstalling nvidia-cudnn-cu12-9.3.0.75:\n",
            "      Successfully uninstalled nvidia-cudnn-cu12-9.3.0.75\n",
            "  Attempting uninstall: nvidia-cusolver-cu12\n",
            "    Found existing installation: nvidia-cusolver-cu12 11.6.3.83\n",
            "    Uninstalling nvidia-cusolver-cu12-11.6.3.83:\n",
            "      Successfully uninstalled nvidia-cusolver-cu12-11.6.3.83\n",
            "Successfully installed nvidia-cublas-cu12-12.4.5.8 nvidia-cuda-cupti-cu12-12.4.127 nvidia-cuda-nvrtc-cu12-12.4.127 nvidia-cuda-runtime-cu12-12.4.127 nvidia-cudnn-cu12-9.1.0.70 nvidia-cufft-cu12-11.2.1.3 nvidia-curand-cu12-10.3.5.147 nvidia-cusolver-cu12-11.6.1.9 nvidia-cusparse-cu12-12.3.1.170 nvidia-nvjitlink-cu12-12.4.127\n"
          ]
        }
      ]
    },
    {
      "cell_type": "code",
      "source": [
        "df_sampled.columns"
      ],
      "metadata": {
        "colab": {
          "base_uri": "https://localhost:8080/"
        },
        "id": "3TfPvmHtMg4K",
        "outputId": "9b7d05a3-7065-4bf2-a25a-b3daf30685d8"
      },
      "execution_count": 48,
      "outputs": [
        {
          "output_type": "execute_result",
          "data": {
            "text/plain": [
              "Index(['abstract', 'authors', 'n_citation', 'references', 'title', 'venue',\n",
              "       'year', 'id', 'clean_title', 'clean_abstract', 'combined_text'],\n",
              "      dtype='object')"
            ]
          },
          "metadata": {},
          "execution_count": 48
        }
      ]
    },
    {
      "cell_type": "code",
      "source": [
        "# Split data\n",
        "X_train, X_test, y_train, y_test = train_test_split(\n",
        "    df_sampled['combined_text'], author_matrix, test_size=0.2, random_state=42\n",
        ")\n",
        "\n",
        "from transformers import BertTokenizer\n",
        "\n",
        "tokenizer = BertTokenizer.from_pretrained('bert-base-uncased')\n",
        "\n",
        "# Tokenize text (title + abstract)\n",
        "train_encodings = tokenizer(\n",
        "    X_train.tolist(),\n",
        "    truncation=True,\n",
        "    padding=True,\n",
        "    max_length=512  # BERT's max input length\n",
        ")\n",
        "test_encodings = tokenizer(\n",
        "    X_test.tolist(),\n",
        "    truncation=True,\n",
        "    padding=True,\n",
        "    max_length=512\n",
        ")\n",
        "\n",
        "import torch\n",
        "from torch.utils.data import Dataset\n",
        "\n",
        "class AuthorDataset(Dataset):\n",
        "    def __init__(self, encodings, labels):\n",
        "        self.encodings = encodings\n",
        "        self.labels = labels\n",
        "\n",
        "    def __getitem__(self, idx):\n",
        "        return {\n",
        "            'input_ids': torch.tensor(self.encodings['input_ids'][idx]),\n",
        "            'attention_mask': torch.tensor(self.encodings['attention_mask'][idx]),\n",
        "            'labels': torch.tensor(self.labels[idx], dtype=torch.float)  # Multi-label requires float\n",
        "        }\n",
        "\n",
        "    def __len__(self):\n",
        "        return len(self.labels)\n",
        "\n",
        "train_dataset = AuthorDataset(train_encodings, y_train)\n",
        "test_dataset = AuthorDataset(test_encodings, y_test)\n",
        "\n",
        "from transformers import BertForSequenceClassification, Trainer, TrainingArguments\n",
        "\n",
        "model = BertForSequenceClassification.from_pretrained(\n",
        "    'bert-base-uncased',\n",
        "    num_labels=len(mlb.classes_),  # Number of authors\n",
        "    problem_type=\"multi_label_classification\"\n",
        ")\n",
        "\n",
        "training_args = TrainingArguments(\n",
        "    output_dir='./results',\n",
        "    num_train_epochs=3,\n",
        "    per_device_train_batch_size=4,  # Reduce if OOM errors\n",
        "    per_device_eval_batch_size=4,\n",
        "    logging_dir='./logs',\n",
        ")\n",
        "\n",
        "trainer = Trainer(\n",
        "    model=model,\n",
        "    args=training_args,\n",
        "    train_dataset=train_dataset,\n",
        "    eval_dataset=test_dataset,\n",
        ")\n",
        "\n",
        "trainer.train()\n",
        "\n",
        "from sklearn.metrics import f1_score, precision_score, recall_score\n",
        "\n",
        "# Predict\n",
        "predictions = trainer.predict(test_dataset)\n",
        "preds = torch.sigmoid(torch.tensor(predictions.predictions)).numpy() > 0.5  # Threshold\n",
        "\n",
        "# Calculate metrics\n",
        "print(\"Micro F1:\", f1_score(y_test, preds, average='micro'))\n",
        "print(\"Precision:\", precision_score(y_test, preds, average='micro'))\n",
        "print(\"Recall:\", recall_score(y_test, preds, average='micro'))"
      ],
      "metadata": {
        "colab": {
          "base_uri": "https://localhost:8080/",
          "height": 705,
          "referenced_widgets": [
            "3309a99c12404555bbd3f77b5f315c45",
            "83e4302e25224871adda88b6a4a309e0",
            "6e9c799cb3ce4669b5a55c457707a7c6",
            "e2cd41329e9b450197da5bfe015d6bf4",
            "479cde705d3c49d8a1de3411870059ed",
            "eff5fd012f5e442eb278877ff791bdc3",
            "99e5cf46f6354cf998ec0db393e17cde",
            "53d3bdd415de4d45aa8d5400356556dc",
            "bcb27f9446a64b8c948956909e6c301a",
            "5a97a778b57b47459f52deb94dbb194a",
            "d18ad229c10646c2bfb207cccb614b89",
            "53f6b1662bfc40fc82a30bbc13152f0c",
            "2c19e06116804c069dde624fe1986373",
            "97006150d9114bc6a3734861dea661dc",
            "b66494b7cff94d10b96fe30e3941883b",
            "f9526b0859fc4452a897c70b2de3aaff",
            "b5a7314f0fc84ce2ba11f8a2e4bb0474",
            "d95a6fc51aa24b78acbab766bf16d6ae",
            "5a5d26e0e93941cd8f8467dc55c95196",
            "df0ac8c913c54cce84a953298adc5861",
            "0060f2e88bc148088098e20f406a8be0",
            "5cd84b6e94af495bb77cc2c657abb0f1",
            "f5b5c4e81aae4709b674515ba471e20c",
            "28758dc2cfff417c931739c115081219",
            "5ec35252f93f4c8b8a9a614daea49ee9",
            "bbb9b7e9e26c4dc385ead54dcda3ab9d",
            "b1743784bfa4454a87a8c12c64e77fac",
            "fcf42468497040a8b93742d630a23195",
            "efd9138877714d0db02e969092b31d67",
            "d7c68fefd66e4ecda71d8e8c34ecce24",
            "00962375460948b58a4490d24ff0f832",
            "b0d33d256db04d6494c2f8c5df4f5c95",
            "c81cd70c1f014bc7928635d57a528d0e",
            "8602052be01b4535861bf757b598efab",
            "c768d3644c0d489191a732d10ab904a7",
            "ca9fb1f7ff12416eb6f5cecd90a76acf",
            "0b62ad8054914e7ca6098508f84e0b9e",
            "72b42878fd0442c1b88fb9add060f1d3",
            "11e1823eeaf342a29381f71b22e3bdae",
            "88f07cfb37624679aa87614b312febb1",
            "83c4d44772fd40e3ac34863fd1889d80",
            "9687416cd6204c38b67ed174eefbe67d",
            "c875358251994b71b51b4b156832910f",
            "19dd50fa5d3c46708c6fc719839f81be",
            "eb4328019b17485a8b9a3c13282a2e13",
            "e7956496060f405eb4720ce451c3a212",
            "fd4cb1fcf59e4c5b8a76786275120d16",
            "40c442c8751c41ceb37db9d49135db49",
            "cbcc4192dedd409593ae07641a22c4ab",
            "f723882fd30b467f98521d4037709959",
            "513fd3a9e5a84e9eae8a7642d5b5e130",
            "ec66c4ef5f4c4c0299bd08193fff0d78",
            "4acc4c1f30d44481a7afc1e3193fa0f7",
            "2029116eb22046b39c14a9111ddadd9c",
            "a23788af033f4889a0f77d6fba455d96"
          ]
        },
        "id": "JUHZpzYCMalZ",
        "outputId": "c2345c34-9699-4f99-9f64-80ad75451ef3"
      },
      "execution_count": null,
      "outputs": [
        {
          "output_type": "stream",
          "name": "stderr",
          "text": [
            "/usr/local/lib/python3.11/dist-packages/huggingface_hub/utils/_auth.py:94: UserWarning: \n",
            "The secret `HF_TOKEN` does not exist in your Colab secrets.\n",
            "To authenticate with the Hugging Face Hub, create a token in your settings tab (https://huggingface.co/settings/tokens), set it as secret in your Google Colab and restart your session.\n",
            "You will be able to reuse this secret in all of your notebooks.\n",
            "Please note that authentication is recommended but still optional to access public models or datasets.\n",
            "  warnings.warn(\n"
          ]
        },
        {
          "output_type": "display_data",
          "data": {
            "text/plain": [
              "tokenizer_config.json:   0%|          | 0.00/48.0 [00:00<?, ?B/s]"
            ],
            "application/vnd.jupyter.widget-view+json": {
              "version_major": 2,
              "version_minor": 0,
              "model_id": "3309a99c12404555bbd3f77b5f315c45"
            }
          },
          "metadata": {}
        },
        {
          "output_type": "display_data",
          "data": {
            "text/plain": [
              "vocab.txt:   0%|          | 0.00/232k [00:00<?, ?B/s]"
            ],
            "application/vnd.jupyter.widget-view+json": {
              "version_major": 2,
              "version_minor": 0,
              "model_id": "53f6b1662bfc40fc82a30bbc13152f0c"
            }
          },
          "metadata": {}
        },
        {
          "output_type": "display_data",
          "data": {
            "text/plain": [
              "tokenizer.json:   0%|          | 0.00/466k [00:00<?, ?B/s]"
            ],
            "application/vnd.jupyter.widget-view+json": {
              "version_major": 2,
              "version_minor": 0,
              "model_id": "f5b5c4e81aae4709b674515ba471e20c"
            }
          },
          "metadata": {}
        },
        {
          "output_type": "display_data",
          "data": {
            "text/plain": [
              "config.json:   0%|          | 0.00/570 [00:00<?, ?B/s]"
            ],
            "application/vnd.jupyter.widget-view+json": {
              "version_major": 2,
              "version_minor": 0,
              "model_id": "8602052be01b4535861bf757b598efab"
            }
          },
          "metadata": {}
        },
        {
          "output_type": "display_data",
          "data": {
            "text/plain": [
              "model.safetensors:   0%|          | 0.00/440M [00:00<?, ?B/s]"
            ],
            "application/vnd.jupyter.widget-view+json": {
              "version_major": 2,
              "version_minor": 0,
              "model_id": "eb4328019b17485a8b9a3c13282a2e13"
            }
          },
          "metadata": {}
        },
        {
          "output_type": "stream",
          "name": "stderr",
          "text": [
            "Some weights of BertForSequenceClassification were not initialized from the model checkpoint at bert-base-uncased and are newly initialized: ['classifier.bias', 'classifier.weight']\n",
            "You should probably TRAIN this model on a down-stream task to be able to use it for predictions and inference.\n",
            "\u001b[34m\u001b[1mwandb\u001b[0m: \u001b[33mWARNING\u001b[0m The `run_name` is currently set to the same value as `TrainingArguments.output_dir`. If this was not intended, please specify a different run name by setting the `TrainingArguments.run_name` parameter.\n"
          ]
        },
        {
          "output_type": "display_data",
          "data": {
            "text/plain": [
              "<IPython.core.display.Javascript object>"
            ],
            "application/javascript": [
              "\n",
              "        window._wandbApiKey = new Promise((resolve, reject) => {\n",
              "            function loadScript(url) {\n",
              "            return new Promise(function(resolve, reject) {\n",
              "                let newScript = document.createElement(\"script\");\n",
              "                newScript.onerror = reject;\n",
              "                newScript.onload = resolve;\n",
              "                document.body.appendChild(newScript);\n",
              "                newScript.src = url;\n",
              "            });\n",
              "            }\n",
              "            loadScript(\"https://cdn.jsdelivr.net/npm/postmate/build/postmate.min.js\").then(() => {\n",
              "            const iframe = document.createElement('iframe')\n",
              "            iframe.style.cssText = \"width:0;height:0;border:none\"\n",
              "            document.body.appendChild(iframe)\n",
              "            const handshake = new Postmate({\n",
              "                container: iframe,\n",
              "                url: 'https://wandb.ai/authorize'\n",
              "            });\n",
              "            const timeout = setTimeout(() => reject(\"Couldn't auto authenticate\"), 5000)\n",
              "            handshake.then(function(child) {\n",
              "                child.on('authorize', data => {\n",
              "                    clearTimeout(timeout)\n",
              "                    resolve(data)\n",
              "                });\n",
              "            });\n",
              "            })\n",
              "        });\n",
              "    "
            ]
          },
          "metadata": {}
        },
        {
          "output_type": "stream",
          "name": "stderr",
          "text": [
            "\u001b[34m\u001b[1mwandb\u001b[0m: Logging into wandb.ai. (Learn how to deploy a W&B server locally: https://wandb.me/wandb-server)\n",
            "\u001b[34m\u001b[1mwandb\u001b[0m: You can find your API key in your browser here: https://wandb.ai/authorize\n",
            "wandb: Paste an API key from your profile and hit enter:"
          ]
        },
        {
          "name": "stdout",
          "output_type": "stream",
          "text": [
            " ··········\n"
          ]
        },
        {
          "output_type": "stream",
          "name": "stderr",
          "text": [
            "\u001b[34m\u001b[1mwandb\u001b[0m: \u001b[33mWARNING\u001b[0m If you're specifying your api key in code, ensure this code is not shared publicly.\n",
            "\u001b[34m\u001b[1mwandb\u001b[0m: \u001b[33mWARNING\u001b[0m Consider setting the WANDB_API_KEY environment variable, or running `wandb login` from the command line.\n",
            "\u001b[34m\u001b[1mwandb\u001b[0m: Appending key for api.wandb.ai to your netrc file: /root/.netrc\n",
            "\u001b[34m\u001b[1mwandb\u001b[0m: Currently logged in as: \u001b[33mhafismellissa\u001b[0m (\u001b[33mhafismellissa-communaut-paris-saclay\u001b[0m) to \u001b[32mhttps://api.wandb.ai\u001b[0m. Use \u001b[1m`wandb login --relogin`\u001b[0m to force relogin\n",
            "\u001b[34m\u001b[1mwandb\u001b[0m: Using wandb-core as the SDK backend.  Please refer to https://wandb.me/wandb-core for more information.\n"
          ]
        },
        {
          "output_type": "display_data",
          "data": {
            "text/plain": [
              "<IPython.core.display.HTML object>"
            ],
            "text/html": [
              "Tracking run with wandb version 0.19.6"
            ]
          },
          "metadata": {}
        },
        {
          "output_type": "display_data",
          "data": {
            "text/plain": [
              "<IPython.core.display.HTML object>"
            ],
            "text/html": [
              "Run data is saved locally in <code>/content/wandb/run-20250213_213236-j0qyflv3</code>"
            ]
          },
          "metadata": {}
        },
        {
          "output_type": "display_data",
          "data": {
            "text/plain": [
              "<IPython.core.display.HTML object>"
            ],
            "text/html": [
              "Syncing run <strong><a href='https://wandb.ai/hafismellissa-communaut-paris-saclay/huggingface/runs/j0qyflv3' target=\"_blank\">./results</a></strong> to <a href='https://wandb.ai/hafismellissa-communaut-paris-saclay/huggingface' target=\"_blank\">Weights & Biases</a> (<a href='https://wandb.me/developer-guide' target=\"_blank\">docs</a>)<br>"
            ]
          },
          "metadata": {}
        },
        {
          "output_type": "display_data",
          "data": {
            "text/plain": [
              "<IPython.core.display.HTML object>"
            ],
            "text/html": [
              " View project at <a href='https://wandb.ai/hafismellissa-communaut-paris-saclay/huggingface' target=\"_blank\">https://wandb.ai/hafismellissa-communaut-paris-saclay/huggingface</a>"
            ]
          },
          "metadata": {}
        },
        {
          "output_type": "display_data",
          "data": {
            "text/plain": [
              "<IPython.core.display.HTML object>"
            ],
            "text/html": [
              " View run at <a href='https://wandb.ai/hafismellissa-communaut-paris-saclay/huggingface/runs/j0qyflv3' target=\"_blank\">https://wandb.ai/hafismellissa-communaut-paris-saclay/huggingface/runs/j0qyflv3</a>"
            ]
          },
          "metadata": {}
        },
        {
          "output_type": "stream",
          "name": "stderr",
          "text": [
            "\u001b[34m\u001b[1mwandb\u001b[0m: \u001b[33mWARNING\u001b[0m Serializing object of type dict that is 1310800 bytes\n",
            "\u001b[34m\u001b[1mwandb\u001b[0m: \u001b[33mWARNING\u001b[0m Serializing object of type dict that is 961280 bytes\n"
          ]
        },
        {
          "output_type": "display_data",
          "data": {
            "text/plain": [
              "<IPython.core.display.HTML object>"
            ],
            "text/html": [
              "\n",
              "    <div>\n",
              "      \n",
              "      <progress value='332' max='6000' style='width:300px; height:20px; vertical-align: middle;'></progress>\n",
              "      [ 332/6000 02:17 < 39:24, 2.40 it/s, Epoch 0.17/3]\n",
              "    </div>\n",
              "    <table border=\"1\" class=\"dataframe\">\n",
              "  <thead>\n",
              " <tr style=\"text-align: left;\">\n",
              "      <th>Step</th>\n",
              "      <th>Training Loss</th>\n",
              "    </tr>\n",
              "  </thead>\n",
              "  <tbody>\n",
              "  </tbody>\n",
              "</table><p>"
            ]
          },
          "metadata": {}
        }
      ]
    },
    {
      "cell_type": "markdown",
      "source": [
        "### Training method 1: Full batch (with a baseline model)\n",
        "the shapes are too huge so it's not realy possible to do a full batch traininh"
      ],
      "metadata": {
        "id": "r2ZcTTQnbUqF"
      }
    },
    {
      "cell_type": "code",
      "source": [
        "import\n",
        "def train_and_evaluate_dense(X, y):\n",
        "    # Split data into train/test sets\n",
        "    X_train, X_test, y_train, y_test = train_test_split(X, y, test_size=0.3, random_state=42)\n",
        "    # Hyperparameter tuning: You can adjust batch_size, max_iter, or learning rate here.\n",
        "    sgd = SGDClassifier(\n",
        "        loss='log_loss',          # Logistic regression\n",
        "        penalty='l2',\n",
        "        max_iter=1,               # One epoch per batch\n",
        "        learning_rate='adaptive',\n",
        "        eta0=0.1,\n",
        "        random_state=42\n",
        "    )\n",
        "    model = OneVsRestClassifier(sgd)\n",
        "\n",
        "    # Train the model on the full dataset\n",
        "    model.fit(X_train, y_train)\n",
        "\n",
        "    # Predict on the test set\n",
        "    y_pred = model.predict(X_test)\n",
        "\n",
        "    # Evaluate using common metrics\n",
        "    print(\"F1 Score (Micro):\", f1_score(y_test, y_pred, average='micro'))\n",
        "    print(\"Precision (Micro):\", precision_score(y_test, y_pred, average='micro'))\n",
        "    print(\"Recall (Micro):\", recall_score(y_test, y_pred, average='micro'))\n",
        "\n",
        "    return model\n",
        "\n",
        "# Train using dense arrays\n",
        "model = train_and_evaluate_dense(X, author_matrix)\n"
      ],
      "metadata": {
        "id": "eTABe0JeNlqw"
      },
      "execution_count": null,
      "outputs": []
    },
    {
      "cell_type": "markdown",
      "source": [
        "### Methode 2: with batch learning (baseline model)\n",
        "but i have essues with this method and i couldn't to fixe them"
      ],
      "metadata": {
        "id": "8IkqPseUvqW0"
      }
    },
    {
      "cell_type": "code",
      "source": [
        "def train_and_evaluate_batch(X, y, batch_size=1000, test_batch_size=5000, checkpoint_interval=100):\n",
        "    # Split data into train/test indices\n",
        "    indices = np.arange(X.shape[0])\n",
        "    train_idx, test_idx = train_test_split(indices, test_size=0.3, random_state=42)\n",
        "\n",
        "    # Hyperparameter tuning: You can adjust batch_size, max_iter, or learning rate here.\n",
        "    sgd = SGDClassifier(\n",
        "        loss='log_loss',          # Logistic regression\n",
        "        penalty='l2',\n",
        "        max_iter=1,               # One epoch per batch\n",
        "        learning_rate='adaptive',\n",
        "        eta0=0.1,\n",
        "        random_state=42\n",
        "    )\n",
        "    model = OneVsRestClassifier(sgd)\n",
        "\n",
        "    # Initialize MultiLabelBinarizer for multi-label classification\n",
        "    mlb = MultiLabelBinarizer()\n",
        "    # Convert the sparse matrix to a dense array before fitting MultiLabelBinarizer.\n",
        "    # Then, convert each row to a list of author indices.\n",
        "    y_dense = y.toarray()\n",
        "    y_iterable = [np.where(row)[0].tolist() for row in y_dense]\n",
        "    mlb.fit(y_iterable)  # Fit to get all possible classes\n",
        "    classes = mlb.classes_  # Get all unique classes\n",
        "\n",
        "    # Training loop with progress logging and checkpointing\n",
        "    for i in tqdm(range(0, len(train_idx), batch_size), desc=\"Training batches\"):\n",
        "        batch_indices = train_idx[i:i+batch_size]\n",
        "        X_batch = X[batch_indices].tocsr()\n",
        "        y_batch = y[batch_indices].toarray()  # Convert sparse to dense array for training\n",
        "\n",
        "        # Use the fitted MultiLabelBinarizer to transform labels for partial_fit\n",
        "        y_batch_transformed = mlb.transform( [np.where(row)[0].tolist() for row in y_batch] )\n",
        "\n",
        "        model.partial_fit(X_batch, y_batch_transformed, classes=classes) # Pass transformed labels\n",
        "\n",
        "\n",
        "        # Save a checkpoint every checkpoint_interval batches\n",
        "        if ((i // batch_size) + 1) % checkpoint_interval == 0:\n",
        "            checkpoint_filename = f'model_checkpoint_batch_{(i // batch_size) + 1}.pkl'\n",
        "            joblib.dump(model, checkpoint_filename)\n",
        "            print(f\"Checkpoint saved: {checkpoint_filename}\")\n",
        "\n",
        "    # Evaluation loop with progress logging\n",
        "    y_true_batches = []\n",
        "    y_pred_batches = []\n",
        "    for i in tqdm(range(0, len(test_idx), test_batch_size), desc=\"Evaluating batches\"):\n",
        "        batch_indices = test_idx[i:i+test_batch_size]\n",
        "        X_batch = X[batch_indices].tocsr()\n",
        "        y_batch_true = y[batch_indices].toarray()\n",
        "\n",
        "        # Transform true labels for evaluation using the same MultiLabelBinarizer\n",
        "        y_batch_true_transformed = mlb.transform([np.where(row)[0].tolist() for row in y_batch_true])\n",
        "\n",
        "        y_batch_pred = model.predict(X_batch)\n",
        "        y_true_batches.append(y_batch_true_transformed) # Append transformed true labels\n",
        "        y_pred_batches.append(y_batch_pred)\n",
        "\n",
        "    y_true = np.vstack(y_true_batches)\n",
        "    y_pred = np.vstack(y_pred_batches)\n",
        "\n",
        "    print(\"F1 Score (Micro):\", f1_score(y_true, y_pred, average='micro'))\n",
        "    print(\"Precision (Micro):\", precision_score(y_true, y_pred, average='micro'))\n",
        "    print(\"Recall (Micro):\", recall_score(y_true, y_pred, average='micro'))\n",
        "\n",
        "    return model"
      ],
      "metadata": {
        "id": "XLuLDO3cHGPr"
      },
      "execution_count": null,
      "outputs": []
    },
    {
      "cell_type": "code",
      "source": [
        "# Step 1: Filter authors\n",
        "author_counts = np.array(author_matrix_sparse.sum(axis=0)).ravel()\n",
        "top_author_indices = np.argsort(-author_counts)[:1000]\n",
        "author_matrix_filtered = author_matrix_sparse[:, top_author_indices].tocsc()\n",
        "\n",
        "# Step 2: Remove empty papers\n",
        "non_empty_mask = author_matrix_filtered.sum(axis=1) > 0\n",
        "non_empty_indices = np.where(non_empty_mask)[0]  # Get 1D array of indices\n",
        "author_matrix_filtered = author_matrix_filtered[non_empty_indices]\n",
        "X_filtered = X_sparse[non_empty_indices]\n",
        "\n",
        "# Step 3: Convert labels to dense\n",
        "author_matrix_dense = author_matrix_filtered.toarray()\n",
        "\n",
        "# Step 4: Train with classes initialized\n",
        "classes = np.arange(author_matrix_dense.shape[1])\n",
        "model = train_and_evaluate_batch3(X_filtered, author_matrix_dense, classes)"
      ],
      "metadata": {
        "id": "6qc5EtLBLJYX"
      },
      "execution_count": null,
      "outputs": []
    },
    {
      "cell_type": "code",
      "source": [
        "# Example prediction\n",
        "example_idx = 0\n",
        "example_text = df.iloc[example_idx]['text']\n",
        "example_venue = df.iloc[example_idx]['venue']\n",
        "example_year = df.iloc[example_idx]['year']\n",
        "\n",
        "# TF-IDF for text\n",
        "tfidf = TfidfVectorizer(max_features=5000)\n",
        "# One-hot encode venue\n",
        "venue_encoder = OneHotEncoder(handle_unknown='ignore')\n",
        "\n",
        "example_features = hstack([\n",
        "    tfidf.transform([example_text]),\n",
        "    venue_encoder.transform([[example_venue]]),\n",
        "    np.array([[example_year]])\n",
        "])\n",
        "predicted_authors = model.predict(example_features)\n",
        "predicted_author_names = mlb.inverse_transform(predicted_authors)\n",
        "print(f\"Predicted authors for example paper: {predicted_author_names}\")"
      ],
      "metadata": {
        "id": "kiRRJPP37hJ3"
      },
      "execution_count": null,
      "outputs": []
    },
    {
      "cell_type": "markdown",
      "source": [
        "## An advanced model"
      ],
      "metadata": {
        "id": "jgZB_n6kzwhz"
      }
    },
    {
      "cell_type": "markdown",
      "source": [
        "For advanced models we can try the methods:\n",
        "- specter\n",
        "- SCIBERT"
      ],
      "metadata": {
        "id": "Xe5mPWow2oA_"
      }
    },
    {
      "cell_type": "code",
      "source": [
        "! pip install sentence-transformers"
      ],
      "metadata": {
        "id": "3HHlXDU73fIW"
      },
      "execution_count": null,
      "outputs": []
    },
    {
      "cell_type": "code",
      "source": [
        "df_filtered.columns"
      ],
      "metadata": {
        "id": "xaKA7aSV1xTD"
      },
      "execution_count": null,
      "outputs": []
    },
    {
      "cell_type": "code",
      "source": [
        "from sentence_transformers import SentenceTransformer\n",
        "\n",
        "# Load the SPECTER model (suitable for scientific texts)\n",
        "model = SentenceTransformer('allenai-specter')\n",
        "\n",
        "# Generate embeddings for the combined text\n",
        "# Note: For large datasets, you might want to process in batches.\n",
        "embeddings = model.encode(df_filtered['combined_text'].tolist(), show_progress_bar=True)\n",
        "\n",
        "# Convert embeddings to a NumPy array\n",
        "import numpy as np\n",
        "X_embeddings = np.array(embeddings)\n",
        "\n",
        "print(\"Shape of Transformer Embeddings:\", X_embeddings.shape)\n"
      ],
      "metadata": {
        "id": "rSrNORti0GPS"
      },
      "execution_count": null,
      "outputs": []
    },
    {
      "cell_type": "code",
      "source": [],
      "metadata": {
        "id": "eHLhiEZJzz0N"
      },
      "execution_count": null,
      "outputs": []
    },
    {
      "cell_type": "code",
      "source": [],
      "metadata": {
        "id": "XQnjHy885rJb"
      },
      "execution_count": null,
      "outputs": []
    }
  ]
}