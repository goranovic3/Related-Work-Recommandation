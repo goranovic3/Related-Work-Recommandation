{
 "cells": [
  {
   "cell_type": "code",
   "execution_count": null,
   "metadata": {},
   "outputs": [],
   "source": [
    "import pandas as pd\n",
    "import numpy as np\n",
    "import torch\n",
    "\n",
    "from collections import Counter\n",
    "import re\n",
    "from nltk.tokenize import word_tokenize #\n",
    "\n",
    "from sklearn.feature_extraction.text import TfidfVectorizer #\n",
    "\n",
    "from sklearn.model_selection import train_test_split, GridSearchCV #\n",
    "\n",
    "from sklearn.svm import SVC #\n",
    "\n",
    "from sklearn.naive_bayes import MultinomialNB #\n",
    "from sklearn.linear_model import SGDClassifier, LogisticRegression #\n",
    "from sklearn.multiclass import OneVsRestClassifier #\n",
    "from sklearn.metrics import accuracy_score, classification_report # \n",
    "\n",
    "from sklearn.ensemble import RandomForestClassifier\n",
    "\n",
    "\n",
    "import nltk #\n",
    "import string #\n",
    "from nltk.corpus import stopwords #\n",
    "from tqdm import tqdm\n",
    "import joblib\n",
    "\n",
    "\n",
    "from sklearn.preprocessing import LabelEncoder #\n",
    "\n",
    "\n",
    "from transformers import BertTokenizer, BertForSequenceClassification, AdamW, Trainer, TrainingArguments"
   ]
  },
  {
   "cell_type": "code",
   "execution_count": 2,
   "metadata": {},
   "outputs": [
    {
     "name": "stdout",
     "output_type": "stream",
     "text": [
      "Defaulting to user installation because normal site-packages is not writeable\n",
      "Requirement already satisfied: transformers in c:\\users\\dimit\\appdata\\local\\packages\\pythonsoftwarefoundation.python.3.12_qbz5n2kfra8p0\\localcache\\local-packages\\python312\\site-packages (4.48.3)\n",
      "Requirement already satisfied: filelock in c:\\users\\dimit\\appdata\\local\\packages\\pythonsoftwarefoundation.python.3.12_qbz5n2kfra8p0\\localcache\\local-packages\\python312\\site-packages (from transformers) (3.17.0)\n",
      "Requirement already satisfied: huggingface-hub<1.0,>=0.24.0 in c:\\users\\dimit\\appdata\\local\\packages\\pythonsoftwarefoundation.python.3.12_qbz5n2kfra8p0\\localcache\\local-packages\\python312\\site-packages (from transformers) (0.27.1)\n",
      "Requirement already satisfied: numpy>=1.17 in c:\\users\\dimit\\appdata\\local\\packages\\pythonsoftwarefoundation.python.3.12_qbz5n2kfra8p0\\localcache\\local-packages\\python312\\site-packages (from transformers) (2.1.3)\n",
      "Requirement already satisfied: packaging>=20.0 in c:\\users\\dimit\\appdata\\local\\packages\\pythonsoftwarefoundation.python.3.12_qbz5n2kfra8p0\\localcache\\local-packages\\python312\\site-packages (from transformers) (24.1)\n",
      "Requirement already satisfied: pyyaml>=5.1 in c:\\users\\dimit\\appdata\\local\\packages\\pythonsoftwarefoundation.python.3.12_qbz5n2kfra8p0\\localcache\\local-packages\\python312\\site-packages (from transformers) (6.0.2)\n",
      "Requirement already satisfied: regex!=2019.12.17 in c:\\users\\dimit\\appdata\\local\\packages\\pythonsoftwarefoundation.python.3.12_qbz5n2kfra8p0\\localcache\\local-packages\\python312\\site-packages (from transformers) (2024.11.6)\n",
      "Requirement already satisfied: requests in c:\\users\\dimit\\appdata\\local\\packages\\pythonsoftwarefoundation.python.3.12_qbz5n2kfra8p0\\localcache\\local-packages\\python312\\site-packages (from transformers) (2.32.3)\n",
      "Requirement already satisfied: tokenizers<0.22,>=0.21 in c:\\users\\dimit\\appdata\\local\\packages\\pythonsoftwarefoundation.python.3.12_qbz5n2kfra8p0\\localcache\\local-packages\\python312\\site-packages (from transformers) (0.21.0)\n",
      "Requirement already satisfied: safetensors>=0.4.1 in c:\\users\\dimit\\appdata\\local\\packages\\pythonsoftwarefoundation.python.3.12_qbz5n2kfra8p0\\localcache\\local-packages\\python312\\site-packages (from transformers) (0.5.2)\n",
      "Requirement already satisfied: tqdm>=4.27 in c:\\users\\dimit\\appdata\\local\\packages\\pythonsoftwarefoundation.python.3.12_qbz5n2kfra8p0\\localcache\\local-packages\\python312\\site-packages (from transformers) (4.67.1)\n",
      "Requirement already satisfied: fsspec>=2023.5.0 in c:\\users\\dimit\\appdata\\local\\packages\\pythonsoftwarefoundation.python.3.12_qbz5n2kfra8p0\\localcache\\local-packages\\python312\\site-packages (from huggingface-hub<1.0,>=0.24.0->transformers) (2024.9.0)\n",
      "Requirement already satisfied: typing-extensions>=3.7.4.3 in c:\\users\\dimit\\appdata\\local\\packages\\pythonsoftwarefoundation.python.3.12_qbz5n2kfra8p0\\localcache\\local-packages\\python312\\site-packages (from huggingface-hub<1.0,>=0.24.0->transformers) (4.12.2)\n",
      "Requirement already satisfied: colorama in c:\\users\\dimit\\appdata\\local\\packages\\pythonsoftwarefoundation.python.3.12_qbz5n2kfra8p0\\localcache\\local-packages\\python312\\site-packages (from tqdm>=4.27->transformers) (0.4.6)\n",
      "Requirement already satisfied: charset-normalizer<4,>=2 in c:\\users\\dimit\\appdata\\local\\packages\\pythonsoftwarefoundation.python.3.12_qbz5n2kfra8p0\\localcache\\local-packages\\python312\\site-packages (from requests->transformers) (3.4.1)\n",
      "Requirement already satisfied: idna<4,>=2.5 in c:\\users\\dimit\\appdata\\local\\packages\\pythonsoftwarefoundation.python.3.12_qbz5n2kfra8p0\\localcache\\local-packages\\python312\\site-packages (from requests->transformers) (3.10)\n",
      "Requirement already satisfied: urllib3<3,>=1.21.1 in c:\\users\\dimit\\appdata\\local\\packages\\pythonsoftwarefoundation.python.3.12_qbz5n2kfra8p0\\localcache\\local-packages\\python312\\site-packages (from requests->transformers) (2.3.0)\n",
      "Requirement already satisfied: certifi>=2017.4.17 in c:\\users\\dimit\\appdata\\local\\packages\\pythonsoftwarefoundation.python.3.12_qbz5n2kfra8p0\\localcache\\local-packages\\python312\\site-packages (from requests->transformers) (2024.12.14)\n"
     ]
    },
    {
     "name": "stderr",
     "output_type": "stream",
     "text": [
      "\n",
      "[notice] A new release of pip is available: 25.0 -> 25.0.1\n",
      "[notice] To update, run: C:\\Users\\dimit\\AppData\\Local\\Microsoft\\WindowsApps\\PythonSoftwareFoundation.Python.3.12_qbz5n2kfra8p0\\python.exe -m pip install --upgrade pip\n"
     ]
    }
   ],
   "source": [
    "!pip install transformers"
   ]
  },
  {
   "cell_type": "code",
   "execution_count": 2,
   "metadata": {},
   "outputs": [
    {
     "name": "stderr",
     "output_type": "stream",
     "text": [
      "[nltk_data] Downloading package stopwords to\n",
      "[nltk_data]     C:\\Users\\dimit\\AppData\\Roaming\\nltk_data...\n",
      "[nltk_data]   Package stopwords is already up-to-date!\n",
      "[nltk_data] Downloading package punkt to\n",
      "[nltk_data]     C:\\Users\\dimit\\AppData\\Roaming\\nltk_data...\n",
      "[nltk_data]   Package punkt is already up-to-date!\n"
     ]
    },
    {
     "data": {
      "text/plain": [
       "True"
      ]
     },
     "execution_count": 2,
     "metadata": {},
     "output_type": "execute_result"
    }
   ],
   "source": [
    "nltk.download('stopwords')\n",
    "nltk.download('punkt')\n"
   ]
  },
  {
   "cell_type": "code",
   "execution_count": 3,
   "metadata": {},
   "outputs": [],
   "source": [
    "data_path = r'C:\\Users\\dimit\\Desktop\\nlp_data\\dblp-v10.csv'"
   ]
  },
  {
   "cell_type": "code",
   "execution_count": 4,
   "metadata": {},
   "outputs": [
    {
     "name": "stdout",
     "output_type": "stream",
     "text": [
      "File opened successfully!\n"
     ]
    }
   ],
   "source": [
    "with open(data_path, \"r\") as f:\n",
    "    print(\"File opened successfully!\")\n"
   ]
  },
  {
   "cell_type": "code",
   "execution_count": null,
   "metadata": {},
   "outputs": [],
   "source": [
    "#drive.mount('/content/drive')\n",
    "#data_path = r'/content/drive/My Drive/dblp-v10.csv'"
   ]
  },
  {
   "cell_type": "markdown",
   "metadata": {},
   "source": [
    "Data load"
   ]
  },
  {
   "cell_type": "code",
   "execution_count": null,
   "metadata": {},
   "outputs": [
    {
     "name": "stdout",
     "output_type": "stream",
     "text": [
      "(10000, 8)\n"
     ]
    }
   ],
   "source": [
    "df = pd.read_csv(data_path)\n",
    "\n",
    "df.dropna(subset=[\"abstract\", \"venue\"], inplace=True)\n",
    "df[\"abstract\"] = df[\"abstract\"].str.lower()\n",
    "df = df.head(10000)\n",
    "print(df.shape)"
   ]
  },
  {
   "cell_type": "code",
   "execution_count": 6,
   "metadata": {},
   "outputs": [
    {
     "data": {
      "text/html": [
       "<div>\n",
       "<style scoped>\n",
       "    .dataframe tbody tr th:only-of-type {\n",
       "        vertical-align: middle;\n",
       "    }\n",
       "\n",
       "    .dataframe tbody tr th {\n",
       "        vertical-align: top;\n",
       "    }\n",
       "\n",
       "    .dataframe thead th {\n",
       "        text-align: right;\n",
       "    }\n",
       "</style>\n",
       "<table border=\"1\" class=\"dataframe\">\n",
       "  <thead>\n",
       "    <tr style=\"text-align: right;\">\n",
       "      <th></th>\n",
       "      <th>abstract</th>\n",
       "      <th>authors</th>\n",
       "      <th>n_citation</th>\n",
       "      <th>references</th>\n",
       "      <th>title</th>\n",
       "      <th>venue</th>\n",
       "      <th>year</th>\n",
       "      <th>id</th>\n",
       "    </tr>\n",
       "  </thead>\n",
       "  <tbody>\n",
       "    <tr>\n",
       "      <th>0</th>\n",
       "      <td>In this paper, a robust 3D triangular mesh wat...</td>\n",
       "      <td>['S. Ben Jabra', 'Ezzeddine Zagrouba']</td>\n",
       "      <td>50</td>\n",
       "      <td>['09cb2d7d-47d1-4a85-bfe5-faa8221e644b', '10aa...</td>\n",
       "      <td>A new approach of 3D watermarking based on ima...</td>\n",
       "      <td>international symposium on computers and commu...</td>\n",
       "      <td>2008</td>\n",
       "      <td>4ab3735c-80f1-472d-b953-fa0557fed28b</td>\n",
       "    </tr>\n",
       "    <tr>\n",
       "      <th>1</th>\n",
       "      <td>We studied an autoassociative neural network w...</td>\n",
       "      <td>['Joaquín J. Torres', 'Jesús M. Cortés', 'Joaq...</td>\n",
       "      <td>50</td>\n",
       "      <td>['4017c9d2-9845-4ad2-ad5b-ba65523727c5', 'b118...</td>\n",
       "      <td>Attractor neural networks with activity-depend...</td>\n",
       "      <td>Neurocomputing</td>\n",
       "      <td>2007</td>\n",
       "      <td>4ab39729-af77-46f7-a662-16984fb9c1db</td>\n",
       "    </tr>\n",
       "    <tr>\n",
       "      <th>2</th>\n",
       "      <td>It is well-known that Sturmian sequences are t...</td>\n",
       "      <td>['Genevi eve Paquin', 'Laurent Vuillon']</td>\n",
       "      <td>50</td>\n",
       "      <td>['1c655ee2-067d-4bc4-b8cc-bc779e9a7f10', '2e4e...</td>\n",
       "      <td>A characterization of balanced episturmian seq...</td>\n",
       "      <td>Electronic Journal of Combinatorics</td>\n",
       "      <td>2007</td>\n",
       "      <td>4ab3a4cf-1d96-4ce5-ab6f-b3e19fc260de</td>\n",
       "    </tr>\n",
       "    <tr>\n",
       "      <th>3</th>\n",
       "      <td>One of the fundamental challenges of recognizi...</td>\n",
       "      <td>['Yaser Sheikh', 'Mumtaz Sheikh', 'Mubarak Shah']</td>\n",
       "      <td>221</td>\n",
       "      <td>['056116c1-9e7a-4f9b-a918-44eb199e67d6', '05ac...</td>\n",
       "      <td>Exploring the space of a human action</td>\n",
       "      <td>international conference on computer vision</td>\n",
       "      <td>2005</td>\n",
       "      <td>4ab3a98c-3620-47ec-b578-884ecf4a6206</td>\n",
       "    </tr>\n",
       "    <tr>\n",
       "      <th>4</th>\n",
       "      <td>This paper generalizes previous optimal upper ...</td>\n",
       "      <td>['Efraim Laksman', 'Håkan Lennerstad', 'Magnus...</td>\n",
       "      <td>0</td>\n",
       "      <td>['01a765b8-0cb3-495c-996f-29c36756b435', '5dbc...</td>\n",
       "      <td>Generalized upper bounds on the minimum distan...</td>\n",
       "      <td>Ima Journal of Mathematical Control and Inform...</td>\n",
       "      <td>2015</td>\n",
       "      <td>4ab3b585-82b4-4207-91dd-b6bce7e27c4e</td>\n",
       "    </tr>\n",
       "  </tbody>\n",
       "</table>\n",
       "</div>"
      ],
      "text/plain": [
       "                                            abstract  \\\n",
       "0  In this paper, a robust 3D triangular mesh wat...   \n",
       "1  We studied an autoassociative neural network w...   \n",
       "2  It is well-known that Sturmian sequences are t...   \n",
       "3  One of the fundamental challenges of recognizi...   \n",
       "4  This paper generalizes previous optimal upper ...   \n",
       "\n",
       "                                             authors  n_citation  \\\n",
       "0             ['S. Ben Jabra', 'Ezzeddine Zagrouba']          50   \n",
       "1  ['Joaquín J. Torres', 'Jesús M. Cortés', 'Joaq...          50   \n",
       "2           ['Genevi eve Paquin', 'Laurent Vuillon']          50   \n",
       "3  ['Yaser Sheikh', 'Mumtaz Sheikh', 'Mubarak Shah']         221   \n",
       "4  ['Efraim Laksman', 'Håkan Lennerstad', 'Magnus...           0   \n",
       "\n",
       "                                          references  \\\n",
       "0  ['09cb2d7d-47d1-4a85-bfe5-faa8221e644b', '10aa...   \n",
       "1  ['4017c9d2-9845-4ad2-ad5b-ba65523727c5', 'b118...   \n",
       "2  ['1c655ee2-067d-4bc4-b8cc-bc779e9a7f10', '2e4e...   \n",
       "3  ['056116c1-9e7a-4f9b-a918-44eb199e67d6', '05ac...   \n",
       "4  ['01a765b8-0cb3-495c-996f-29c36756b435', '5dbc...   \n",
       "\n",
       "                                               title  \\\n",
       "0  A new approach of 3D watermarking based on ima...   \n",
       "1  Attractor neural networks with activity-depend...   \n",
       "2  A characterization of balanced episturmian seq...   \n",
       "3              Exploring the space of a human action   \n",
       "4  Generalized upper bounds on the minimum distan...   \n",
       "\n",
       "                                               venue  year  \\\n",
       "0  international symposium on computers and commu...  2008   \n",
       "1                                     Neurocomputing  2007   \n",
       "2                Electronic Journal of Combinatorics  2007   \n",
       "3        international conference on computer vision  2005   \n",
       "4  Ima Journal of Mathematical Control and Inform...  2015   \n",
       "\n",
       "                                     id  \n",
       "0  4ab3735c-80f1-472d-b953-fa0557fed28b  \n",
       "1  4ab39729-af77-46f7-a662-16984fb9c1db  \n",
       "2  4ab3a4cf-1d96-4ce5-ab6f-b3e19fc260de  \n",
       "3  4ab3a98c-3620-47ec-b578-884ecf4a6206  \n",
       "4  4ab3b585-82b4-4207-91dd-b6bce7e27c4e  "
      ]
     },
     "execution_count": 6,
     "metadata": {},
     "output_type": "execute_result"
    }
   ],
   "source": [
    "df.head()\n"
   ]
  },
  {
   "cell_type": "code",
   "execution_count": null,
   "metadata": {},
   "outputs": [
    {
     "name": "stdout",
     "output_type": "stream",
     "text": [
      "{'ACM Communications in Computer Algebra': 0, 'ACM Computing Surveys': 1, 'ACM Crossroads Student Magazine': 2, 'ACM Queue': 3, 'ACM Sigapl Apl Quote Quad': 4, 'ACM Sigarch Computer Architecture News': 5, 'ACM Sigois Bulletin': 6, 'ACM Sigsoft Software Engineering Notes': 7, 'ACM Transactions in Embedded Computing Systems': 8, 'ACM Transactions on Architecture and Code Optimization': 9, 'ACM Transactions on Autonomous and Adaptive Systems': 10, 'ACM Transactions on Computational Logic': 11, 'ACM Transactions on Computer Systems': 12, 'ACM Transactions on Computer-Human Interaction': 13, 'ACM Transactions on Database Systems': 14, 'ACM Transactions on Design Automation of Electronic Systems': 15, 'ACM Transactions on Graphics': 16, 'ACM Transactions on Information Systems': 17, 'ACM Transactions on Mathematical Software': 18, 'ACM Transactions on Multimedia Computing, Communications, and Applications': 19, 'ACM Transactions on Programming Languages and Systems': 20, 'ACM Transactions on Sensor Networks': 21, 'ACM Transactions on Software Engineering and Methodology': 22, 'ACM Transactions on The Web': 23, 'Abdominal Imaging': 24, 'Adaptive Behavior': 25, 'Advanced Engineering Informatics': 26, 'Advances in Adaptive Data Analysis': 27, 'Advances in Complex Systems': 28, 'Advances in Computational Mathematics': 29, 'Advances in Computers': 30, 'Advances in Engineering Software': 31, 'Advances in Numerical Analysis': 32, 'Ai & Society': 33, 'Ai Edam Artificial Intelligence for Engineering Design, Analysis and Manufacturing': 34, 'Ai Magazine': 35, 'Algorithmica': 36, 'Algorithms for Molecular Biology': 37, 'Annales Des Télécommunications': 38, 'Annals of Gis \\\\/ Geographic Information Sciences': 39, 'Annals of Mathematics and Artificial Intelligence': 40, 'Annals of Operations Research': 41, 'Annals of Pure and Applied Logic': 42, 'Annals of Statistics': 43, 'Applicable Algebra in Engineering, Communication and Computing': 44, 'Applied Artificial Intelligence': 45, 'Applied Categorical Structures': 46, 'Applied Intelligence': 47, 'Applied Mathematics Letters': 48, 'Applied Mathematics and Computation': 49, 'Applied Soft Computing': 50, 'Applied and Computational Harmonic Analysis': 51, 'Archive for Mathematical Logic': 52, 'Artificial Intelligence': 53, 'Artificial Intelligence Review': 54, 'Artificial Intelligence and Law': 55, 'Artificial Intelligence in Medicine': 56, 'Artificial Life': 57, 'Asia-Pacific Journal of Operational Research': 58, 'Aslib Proceedings': 59, 'Asymptotic Analysis': 60, 'Australasian Journal of Information Systems': 61, 'Automatica': 62, 'Autonomous Agents and Multi-Agent Systems': 63, 'Autonomous Robots': 64, 'BMC Bioinformatics': 65, 'BMC Medical Imaging': 66, 'BMC Medical Informatics and Decision Making': 67, 'BMC Systems Biology': 68, 'Behaviour & Information Technology': 69, 'Bell Labs Technical Journal': 70, 'BioSystems': 71, 'Biodata Mining': 72, 'Bioinformatics': 73, 'Biological Cybernetics': 74, 'Biomedical Signal Processing and Control': 75, 'Bit Numerical Mathematics': 76, 'Briefings in Bioinformatics': 77, 'British Journal of Educational Technology': 78, 'British Journal of Radiology': 79, 'Bulletin of The American Society for Information Science and Technology': 80, 'Business Process Management Journal': 81, 'Cheminform': 82, 'Circuits Systems and Signal Processing': 83, 'Clei Electronic Journal': 84, 'Cognition, Technology & Work': 85, 'Cognitive Science': 86, 'Cognitive Systems Research': 87, 'Combinatorica': 88, 'Combinatorics, Probability & Computing': 89, 'Communication Research': 90, 'Communications of The ACM': 91, 'Communications of The Ais': 92, 'Complexity': 93, 'Computational Biology and Chemistry': 94, 'Computational Geometry: Theory and Applications': 95, 'Computational Linguistics': 96, 'Computational Management Science': 97, 'Computational Mechanics': 98, 'Computational Optimization and Applications': 99, 'Computational Statistics & Data Analysis': 100, 'Computational and Mathematical Methods in Medicine': 101, 'Computational and Mathematical Organization Theory': 102, 'Computer Aided Geometric Design': 103, 'Computer Animation and Virtual Worlds': 104, 'Computer Applications in Engineering Education': 105, 'Computer Communications': 106, 'Computer Graphics Forum': 107, 'Computer Languages': 108, 'Computer Methods and Programs in Biomedicine': 109, 'Computer Networks': 110, 'Computer Networks and Isdn Systems': 111, 'Computer Physics Communications': 112, 'Computer Science Education': 113, 'Computer Speech & Language': 114, 'Computer Standards & Interfaces': 115, 'Computer Systems: Science & Engineering': 116, 'Computer Vision and Image Understanding': 117, 'Computer-aided Civil and Infrastructure Engineering': 118, 'Computer-aided Design': 119, 'Computerized Medical Imaging and Graphics': 120, 'Computers & Chemical Engineering': 121, 'Computers & Electrical Engineering': 122, 'Computers & Geosciences': 123, 'Computers & Graphics': 124, 'Computers & Industrial Engineering': 125, 'Computers & Mathematics With Applications': 126, 'Computers & Operations Research': 127, 'Computers & Security': 128, 'Computers in Biology and Medicine': 129, 'Computers in Education': 130, 'Computers in Human Behavior': 131, 'Computers in Industry': 132, 'Computers, Environment and Urban Systems': 133, 'Computing': 134, 'Computing in Science and Engineering': 135, 'Concurrency and Computation: Practice and Experience': 136, 'Contexts': 137, 'Cryptologia': 138, 'Cybernetics and Systems': 139, 'Cyberpsychology, Behavior, and Social Networking': 140, 'Data Mining and Knowledge Discovery': 141, 'Database': 142, 'Decision Analysis': 143, 'Decision Sciences': 144, 'Designs, Codes and Cryptography': 145, 'Digital Creativity': 146, 'Digital Investigation': 147, 'Discrete Applied Mathematics': 148, 'Discrete Event Dynamic Systems': 149, 'Discrete Mathematics': 150, 'Discrete Mathematics & Theoretical Computer Science': 151, 'Discrete Mathematics, Algorithms and Applications': 152, 'Discrete and Computational Geometry': 153, 'Distributed Computing': 154, 'Distributed Systems Engineering': 155, 'Distributed and Parallel Databases': 156, 'EPJ Data Science': 157, 'EURASIP Journal on Advances in Signal Processing': 158, 'Education and Information Technologies': 159, 'Educational Technology & Society': 160, 'Electronic Commerce Research and Applications': 161, 'Electronic Communication of The European Association of Software Science and Technology': 162, 'Electronic Communications in Probability': 163, 'Electronic Government, An International Journal': 164, 'Electronic Journal of Combinatorics': 165, 'Electronic Markets': 166, 'Electronic Notes in Discrete Mathematics': 167, 'Electronic Notes in Theoretical Computer Science': 168, 'Electronic Proceedings in Theoretical Computer Science': 169, 'Electronic Publishing - Origination, Dissemination and Design': 170, 'Engineering Applications of Artificial Intelligence': 171, 'Engineering With Computers': 172, 'Enterprise Information Systems': 173, 'Entertainment Computing': 174, 'Entropy': 175, 'Environmental Modelling and Software': 176, 'Eurasip Journal on Audio, Speech, and Music Processing': 177, 'Eurasip Journal on Bioinformatics and Systems Biology': 178, 'Eurasip Journal on Embedded Systems': 179, 'Eurasip Journal on Image and Video Processing': 180, 'Eurasip Journal on Wireless Communications and Networking': 181, 'European Journal of Combinatorics': 182, 'European Journal of Control': 183, 'European Journal of Information Systems': 184, 'European Journal of Operational Research': 185, 'European Transactions on Telecommunications': 186, 'Evolutionary Computation': 187, 'Expert Systems With Applications': 188, 'Finance and Stochastics': 189, 'First Monday': 190, 'Foundations of Computational Mathematics': 191, 'Fractals': 192, 'Frontiers in Computational Neuroscience': 193, 'Frontiers in Neuroinformatics': 194, 'Frontiers in Neurorobotics': 195, 'Frontiers of Computer Science in China': 196, 'Fundamenta Informaticae': 197, 'Future Generation Computer Systems': 198, 'Future Internet': 199, 'Fuzzy Optimization and Decision Making': 200, 'Fuzzy Sets and Systems': 201, 'Games': 202, 'Games and Economic Behavior': 203, 'Genetic Programming and Evolvable Machines': 204, 'Geoinformatica': 205, 'Graphical Models \\\\/graphical Models and Image Processing \\\\/computer Vision, Graphics, and Image Processing': 206, 'Graphs and Combinatorics': 207, 'Human Factors': 208, 'Human-Computer Interaction': 209, 'IEEE Access': 210, 'IEEE Annals of the History of Computing': 211, 'IEEE Communications Letters': 212, 'IEEE Communications Magazine': 213, 'IEEE Communications Surveys and Tutorials': 214, 'IEEE Computational Intelligence Magazine': 215, 'IEEE Computer': 216, 'IEEE Computer Graphics and Applications': 217, 'IEEE Design & Test of Computers': 218, 'IEEE Distributed Systems Online': 219, 'IEEE Embedded Systems Letters': 220, 'IEEE Geoscience and Remote Sensing Letters': 221, 'IEEE Instrumentation & Measurement Magazine': 222, 'IEEE Intelligent Systems': 223, 'IEEE Intelligent Systems & Their Applications': 224, 'IEEE Intelligent Transportation Systems Magazine': 225, 'IEEE Internet Computing': 226, 'IEEE Journal of Biomedical and Health Informatics': 227, 'IEEE Journal of Selected Topics in Signal Processing': 228, 'IEEE Journal of Solid-state Circuits': 229, 'IEEE Journal on Emerging and Selected Topics in Circuits and Systems': 230, 'IEEE Journal on Selected Areas in Communications': 231, 'IEEE MultiMedia': 232, 'IEEE Personal Communications': 233, 'IEEE Pervasive Computing': 234, 'IEEE Robotics & Automation Magazine': 235, 'IEEE Signal Processing Letters': 236, 'IEEE Signal Processing Magazine': 237, 'IEEE Software': 238, 'IEEE Systems Journal': 239, 'IEEE Technology and Society Magazine': 240, 'IEEE Transactions on Acoustics, Speech, and Signal Processing': 241, 'IEEE Transactions on Aerospace and Electronic Systems': 242, 'IEEE Transactions on Affective Computing': 243, 'IEEE Transactions on Antennas and Propagation': 244, 'IEEE Transactions on Applications and Industry': 245, 'IEEE Transactions on Audio, Speech, and Language Processing': 246, 'IEEE Transactions on Automatic Control': 247, 'IEEE Transactions on Automation Science and Engineering': 248, 'IEEE Transactions on Biomedical Circuits and Systems': 249, 'IEEE Transactions on Biomedical Engineering': 250, 'IEEE Transactions on Broadcasting': 251, 'IEEE Transactions on Circuits and Systems I-regular Papers': 252, 'IEEE Transactions on Circuits and Systems Ii-express Briefs': 253, 'IEEE Transactions on Circuits and Systems for Video Technology': 254, 'IEEE Transactions on Communications': 255, 'IEEE Transactions on Computer-Aided Design of Integrated Circuits and Systems': 256, 'IEEE Transactions on Computers': 257, 'IEEE Transactions on Consumer Electronics': 258, 'IEEE Transactions on Control Systems and Technology': 259, 'IEEE Transactions on Dependable and Secure Computing': 260, 'IEEE Transactions on Education': 261, 'IEEE Transactions on Electronic Computers': 262, 'IEEE Transactions on Engineering Management': 263, 'IEEE Transactions on Evolutionary Computation': 264, 'IEEE Transactions on Fuzzy Systems': 265, 'IEEE Transactions on Geoscience and Remote Sensing': 266, 'IEEE Transactions on Haptics': 267, 'IEEE Transactions on Image Processing': 268, 'IEEE Transactions on Industrial Electronics': 269, 'IEEE Transactions on Industrial Informatics': 270, 'IEEE Transactions on Information Forensics and Security': 271, 'IEEE Transactions on Information Theory': 272, 'IEEE Transactions on Instrumentation and Measurement': 273, 'IEEE Transactions on Intelligent Transportation Systems': 274, 'IEEE Transactions on Knowledge and Data Engineering': 275, 'IEEE Transactions on Learning Technologies': 276, 'IEEE Transactions on Medical Imaging': 277, 'IEEE Transactions on Mobile Computing': 278, 'IEEE Transactions on Multimedia': 279, 'IEEE Transactions on Network and Service Management': 280, 'IEEE Transactions on Neural Networks': 281, 'IEEE Transactions on Parallel and Distributed Systems': 282, 'IEEE Transactions on Pattern Analysis and Machine Intelligence': 283, 'IEEE Transactions on Professional Communication': 284, 'IEEE Transactions on Reliability': 285, 'IEEE Transactions on Robotics': 286, 'IEEE Transactions on Services Computing': 287, 'IEEE Transactions on Signal Processing': 288, 'IEEE Transactions on Smart Grid': 289, 'IEEE Transactions on Software Engineering': 290, 'IEEE Transactions on Speech and Audio Processing': 291, 'IEEE Transactions on Systems, Man, and Cybernetics': 292, 'IEEE Transactions on Vehicular Technology': 293, 'IEEE Transactions on Very Large Scale Integration Systems': 294, 'IEEE Transactions on Visualization and Computer Graphics': 295, 'IEEE Transactions on Wireless Communications': 296, 'IEEE Wireless Communications': 297, 'IEEE Wireless Communications Letters': 298, 'IEEE-ASME Transactions on Mechatronics': 299, 'IEEE/ACM Transactions on Computational Biology and Bioinformatics': 300, 'IEEE\\\\/ACM Transactions on Networking': 301, 'IEICE Transactions on Communications': 302, 'IEICE Transactions on Electronics': 303, 'IEICE Transactions on Fundamentals of Electronics, Communications and Computer Sciences': 304, 'IEICE Transactions on Information and Systems': 305, 'IET Biometrics': 306, 'IET Software': 307, 'Ibm Journal of Research and Development': 308, 'Ibm Systems Journal': 309, 'Iee Proceedings - Software Engineering': 310, 'Iet Circuits Devices & Systems': 311, 'Iet Communications': 312, 'Iet Computers and Digital Techniques': 313, 'Iet Image Processing': 314, 'Ima Journal of Mathematical Control and Information': 315, 'Image and Vision Computing': 316, 'Informatica (lithuanian Academy of Sciences)': 317, 'Informatik Spektrum': 318, 'Information & Computation': 319, 'Information & Management': 320, 'Information & Software Technology': 321, 'Information Processing Letters': 322, 'Information Processing and Management': 323, 'Information Research': 324, 'Information Sciences': 325, 'Information Security Journal: A Global Perspective': 326, 'Information Systems': 327, 'Information Systems Journal': 328, 'Information Systems Management': 329, 'Information Systems Research': 330, 'Information Visualization': 331, 'Information-an International Interdisciplinary Journal': 332, 'Informs Journal on Computing': 333, 'Innovations in Systems and Software Engineering': 334, 'Integration': 335, 'Inteligencia Artificial,revista Iberoamericana De Inteligencia Artificial': 336, 'Intelligent Decision Technologies': 337, 'Interacting with Computers': 338, 'Interactions': 339, 'Interactive Learning Environments': 340, 'Interactive Technology and Smart Education': 341, 'Interfaces': 342, 'International Game Theory Review': 343, 'International Journal of Advanced Computer Science and Applications': 344, 'International Journal of Approximate Reasoning': 345, 'International Journal of Bifurcation and Chaos': 346, 'International Journal of Bio-inspired Computation': 347, 'International Journal of Bioinformatics Research and Applications': 348, 'International Journal of Business Process Integration and Management': 349, 'International Journal of Communication Systems': 350, 'International Journal of Computational Geometry and Applications': 351, 'International Journal of Computational Intelligence Systems': 352, 'International Journal of Computer Aided Engineering and Technology': 353, 'International Journal of Computer Applications': 354, 'International Journal of Computer Integrated Manufacturing': 355, 'International Journal of Computer Mathematics': 356, 'International Journal of Computer Processing of Languages': 357, 'International Journal of Computer Vision': 358, 'International Journal of Computing Science and Mathematics': 359, 'International Journal of Control': 360, 'International Journal of Cooperative Information Systems': 361, 'International Journal of Critical Infrastructures': 362, 'International Journal of Data Analysis Techniques and Strategies': 363, 'International Journal of Digital Literacy and Digital Competence': 364, 'International Journal of Distributed Sensor Networks': 365, 'International Journal of Electronic Security and Digital Forensics': 366, 'International Journal of Emerging Technologies in Learning (ijet)': 367, 'International Journal of Foundations of Computer Science': 368, 'International Journal of Game Theory': 369, 'International Journal of Geographical Information Science': 370, 'International Journal of Grid and Utility Computing': 371, 'International Journal of Healthcare Information Systems and Informatics': 372, 'International Journal of Human-computer Studies \\\\/ International Journal of Man-machine Studies': 373, 'International Journal of Humanoid Robotics': 374, 'International Journal of Image and Graphics': 375, 'International Journal of Imaging Systems and Technology': 376, 'International Journal of Information Acquisition': 377, 'International Journal of Information Communication Technologies and Human Development': 378, 'International Journal of Information Management': 379, 'International Journal of Information Quality': 380, 'International Journal of Information System Modeling and Design': 381, 'International Journal of Information Systems and Change Management': 382, 'International Journal of Information Systems and Supply Chain Management': 383, 'International Journal of Information Technology and Decision Making': 384, 'International Journal of Information Technology and Management': 385, 'International Journal of Information and Communication Technology': 386, 'International Journal of Information and Computer Security': 387, 'International Journal of Intelligent Information and Database Systems': 388, 'International Journal of Intelligent Systems': 389, 'International Journal of Intelligent Systems Technologies and Applications': 390, 'International Journal of Intelligent Systems in Accounting, Finance & Management': 391, 'International Journal of Intelligent Transportation Systems Research': 392, 'International Journal of Interactive Mobile Technologies (ijim)': 393, 'International Journal of Knowledge-based and Intelligent Engineering Systems': 394, 'International Journal of Law and Information Technology': 395, 'International Journal of Learning Technology': 396, 'International Journal of Manufacturing Technology and Management': 397, 'International Journal of Mathematics and Mathematical Sciences': 398, 'International Journal of Medical Informatics': 399, 'International Journal of Mobile Communications': 400, 'International Journal of Mobile Computing and Multimedia Communications': 401, 'International Journal of Mobile Learning and Organisation': 402, 'International Journal of Modelling, Identification and Control': 403, 'International Journal of Network Security': 404, 'International Journal of Neural Systems': 405, 'International Journal of Parallel Programming': 406, 'International Journal of Pattern Recognition and Artificial Intelligence': 407, 'International Journal of Satellite Communications and Networking': 408, 'International Journal of Sensor Networks': 409, 'International Journal of Services Technology and Management': 410, 'International Journal of Shape Modeling': 411, 'International Journal of Simulation and Process Modelling': 412, 'International Journal of Social Robotics': 413, 'International Journal of Software Engineering and Knowledge Engineering': 414, 'International Journal of Speech Technology': 415, 'International Journal of Systems Assurance Engineering and Management': 416, 'International Journal of Systems Science': 417, 'International Journal of Technology Management': 418, 'International Journal of Technology and Human Interaction': 419, 'International Journal of Ultra Wideband Communications and Systems': 420, 'International Journal of Uncertainty, Fuzziness and Knowledge-Based Systems': 421, 'International Journal of Wavelets, Multiresolution and Information Processing': 422, 'International Journal of Web Engineering and Technology': 423, 'International Journal of Web and Grid Services': 424, 'International Journal of Wireless and Mobile Computing': 425, 'International Journal on Artificial Intelligence Tools': 426, 'International Journal on Digital Libraries': 427, 'International Journal on Software Tools for Technology Transfer': 428, 'Ire Transactions on Electronic Computers': 429, 'J3ea': 430, 'Journal of Algorithms': 431, 'Journal of Applied Mathematics': 432, 'Journal of Applied Probability': 433, 'Journal of Approximation Theory': 434, 'Journal of Artificial Intelligence Research': 435, 'Journal of Artificial Societies and Social Simulation': 436, 'Journal of Automata, Languages and Combinatorics': 437, 'Journal of Automated Reasoning': 438, 'Journal of Bioinformatics and Computational Biology': 439, 'Journal of Biomedical Informatics': 440, 'Journal of Biomedical Semantics': 441, 'Journal of Chemical Information and Computer Sciences': 442, 'Journal of Chemical Information and Modeling': 443, 'Journal of Cheminformatics': 444, 'Journal of Circuits, Systems, and Computers': 445, 'Journal of Clinical Bioinformatics': 446, 'Journal of Cloud Computing': 447, 'Journal of Cognitive Neuroscience': 448, 'Journal of Combinatorial Optimization': 449, 'Journal of Combinatorial Theory': 450, 'Journal of Communications': 451, 'Journal of Communications and Networks': 452, 'Journal of Complex Networks': 453, 'Journal of Complexity': 454, 'Journal of Computational Biology': 455, 'Journal of Computational Chemistry': 456, 'Journal of Computational Physics': 457, 'Journal of Computational and Applied Mathematics': 458, 'Journal of Computer Applications in Technology': 459, 'Journal of Computer Assisted Learning': 460, 'Journal of Computer Security': 461, 'Journal of Computer and System Sciences': 462, 'Journal of Computer-aided Molecular Design': 463, 'Journal of Computers': 464, 'Journal of Discrete Algorithms': 465, 'Journal of Documentation': 466, 'Journal of Economic Theory': 467, 'Journal of Electrical and Computer Engineering': 468, 'Journal of Electronic Imaging': 469, 'Journal of Electronic Testing': 470, 'Journal of Experimental and Theoretical Artificial Intelligence': 471, 'Journal of Field Robotics': 472, 'Journal of Functional Programming': 473, 'Journal of Global Information Management': 474, 'Journal of Global Optimization': 475, 'Journal of Graph Algorithms and Applications': 476, 'Journal of Graph Theory': 477, 'Journal of Graphics Tools': 478, 'Journal of Heuristics': 479, 'Journal of High Speed Networks': 480, 'Journal of Information Processing': 481, 'Journal of Information Science': 482, 'Journal of Information Science and Engineering': 483, 'Journal of Information Security': 484, 'Journal of Information Technology': 485, 'Journal of Informetrics': 486, 'Journal of Instruction-level Parallelism': 487, 'Journal of Integrative Bioinformatics': 488, 'Journal of Intelligent Manufacturing': 489, 'Journal of Intelligent Transportation Systems': 490, 'Journal of Intelligent and Robotic Systems': 491, 'Journal of Internet Services and Applications': 492, 'Journal of Knowledge Management': 493, 'Journal of Librarianship and Information Science': 494, 'Journal of Location Based Services': 495, 'Journal of Logic and Computation': 496, 'Journal of Logic, Language and Information': 497, 'Journal of Machine Learning Research': 498, 'Journal of Machine Vision and Applications': 499, 'Journal of Mathematical Imaging and Vision': 500, 'Journal of Mathematical Modelling and Algorithms': 501, 'Journal of Media Psychology': 502, 'Journal of Medical Systems': 503, 'Journal of Multivariate Analysis': 504, 'Journal of Network and Computer Applications': 505, 'Journal of Networks': 506, 'Journal of Numerical Mathematics': 507, 'Journal of Optimization Theory and Applications': 508, 'Journal of Organizational Computing and Electronic Commerce': 509, 'Journal of Parallel and Distributed Computing': 510, 'Journal of Philosophical Logic': 511, 'Journal of Phonetics': 512, 'Journal of Physics A': 513, 'Journal of Real-time Image Processing': 514, 'Journal of Robotic Systems': 515, 'Journal of Scheduling': 516, 'Journal of Scientific Computing': 517, 'Journal of Simulation': 518, 'Journal of Software': 519, 'Journal of Software: Evolution and Process': 520, 'Journal of Strategic Information Systems': 521, 'Journal of Symbolic Computation': 522, 'Journal of Symbolic Logic': 523, 'Journal of Systems Architecture': 524, 'Journal of Systems Science & Complexity': 525, 'Journal of Systems and Information Technology': 526, 'Journal of Systems and Software': 527, 'Journal of The American Society for Information Science': 528, 'Journal of The London Mathematical Society-second Series': 529, 'Journal of Universal Computer Science': 530, 'Journal of Visual Communication and Image Representation': 531, 'Journal of Visual Languages and Computing': 532, 'Journal of Visualization and Computer Animation': 533, 'Journal of Web Semantics': 534, 'Journal of Zhejiang University Science C': 535, 'Journal of the ACM': 536, 'Journal of the American Medical Informatics Association': 537, 'Journal of the Association for Information Science and Technology': 538, 'Journal of the Brazilian Computer Society': 539, 'Journal of the Operational Research Society': 540, 'Journal of the Royal Society Interface': 541, 'Journal on Data Semantics': 542, 'Knowledge Based Systems': 543, 'Knowledge Engineering Review': 544, 'Knowledge and Information Systems': 545, 'Ksii Transactions on Internet and Information Systems': 546, 'Kybernetika': 547, 'Language and Linguistics Compass': 548, 'Lecture Notes in Computer Science': 549, 'Library Hi Tech': 550, 'Library Trends': 551, 'Literary and Linguistic Computing': 552, 'Logic Journal of The Igpl \\\\/ Bulletin of The Igpl': 553, 'Logica Universalis': 554, 'Logical Methods in Computer Science': 555, 'Machine Learning': 556, 'Machine Translation': 557, 'Malaysian Journal of Library & Information Science': 558, 'Management Information Systems Quarterly': 559, 'Management Science': 560, 'Manufacturing & Service Operations Management': 561, 'Marketing Science': 562, 'Markup Languages': 563, 'Mathematical Logic Quarterly': 564, 'Mathematical Methods of Operations Research': 565, 'Mathematical Programming': 566, 'Mathematical Programming Computation': 567, 'Mathematical Social Sciences': 568, 'Mathematical Structures in Computer Science': 569, 'Mathematical and Computer Modelling': 570, 'Mathematics and Computers in Simulation': 571, 'Mathematics of Computation': 572, 'Mathematics of Control, Signals, and Systems': 573, 'Mathematics of Operations Research': 574, 'Medical & Biological Engineering & Computing': 575, 'Medical Image Analysis': 576, 'Microelectronics Reliability': 577, 'Micromachines': 578, 'Microprocessing and Microprogramming': 579, 'Microsystem Technologies-micro-and Nanosystems-information Storage and Processing Systems': 580, 'Minds and Machines': 581, 'Mobile Computing and Communications Review': 582, 'Mobile Networks and Applications': 583, 'Multimedia Systems': 584, 'Multimedia Tools and Applications': 585, 'Natural Language Engineering': 586, 'Network Protocols and Algorithms': 587, 'Networks': 588, 'Networks and Heterogeneous Media': 589, 'Neural Computation': 590, 'Neural Computing and Applications': 591, 'Neural Networks': 592, 'Neural Processing Letters': 593, 'NeuroImage': 594, 'Neurocomputing': 595, 'Neuroinformatics': 596, 'New Media & Society': 597, 'Nucleic Acids Research': 598, 'Numerical Algorithms': 599, 'Numerical Linear Algebra With Applications': 600, 'Numerische Mathematik': 601, 'Operating Systems Review': 602, 'Operations Research': 603, 'Operations Research Letters': 604, 'Optical Switching and Networking': 605, 'Optimization Letters': 606, 'Optimization Methods & Software': 607, 'Order': 608, 'Organization Science': 609, 'PLOS Computational Biology': 610, 'PLOS ONE': 611, 'Parallel Processing Letters': 612, 'Pattern Analysis and Applications': 613, 'Pattern Recognition': 614, 'Pattern Recognition Letters': 615, 'Performance Evaluation': 616, 'Pervasive and Mobile Computing': 617, 'Phonetica': 618, 'Physical Review E': 619, 'Physics Letters A': 620, 'Poiesis & Praxis': 621, 'Praxis Der Wirtschaftsinformatik': 622, 'Presence: Teleoperators & Virtual Environments': 623, 'Proceedings of SPIE': 624, 'Proceedings of the IEEE': 625, 'Proceedings of the Institution of Mechanical Engineers, Part I: Journal of Systems and Control Engineering': 626, 'Proceedings of the National Academy of Sciences of the United States of America': 627, 'Procesamiento Del Lenguaje Natural': 628, 'Production Engineering': 629, 'Program: Electronic Library and Information Systems': 630, 'Quality and Reliability Engineering International': 631, 'Quantum Information & Computation': 632, 'Queueing Systems': 633, 'Rairo-operations Research': 634, 'Random Structures and Algorithms': 635, 'Real-time Systems': 636, 'Reliability Engineering & System Safety': 637, 'Reliable Computing': 638, 'Rem-revista Escola De Minas': 639, 'Remote Sensing': 640, 'Requirements Engineering': 641, 'Research and Practice in Technology Enhanced Learning': 642, 'Robotica': 643, 'Robotics and Autonomous Systems': 644, 'SIAM Journal on Computing': 645, 'SIAM Journal on Discrete Mathematics': 646, 'SIAM Journal on Matrix Analysis and Applications': 647, 'SIAM Journal on Numerical Analysis': 648, 'SIAM Journal on Scientific Computing': 649, 'Scandinavian Journal of Information Systems': 650, 'Scholarpedia': 651, 'Science and Engineering Ethics': 652, 'Science in China Series F: Information Sciences': 653, 'Science of Computer Programming': 654, 'Scientific Programming': 655, 'Scientometrics': 656, 'Security and Communication Networks': 657, 'Sensors': 658, 'Siam Journal on Applied Dynamical Systems': 659, 'Siam Journal on Applied Mathematics': 660, 'Siam Journal on Control and Optimization': 661, 'Siam Journal on Optimization': 662, 'Siam Review': 663, 'Sigact News': 664, 'Signal Processing': 665, 'Signal Processing-image Communication': 666, 'Signal, Image and Video Processing': 667, 'Sigplan Notices': 668, 'Sigspatial Special': 669, 'Simulation': 670, 'Social Choice and Welfare': 671, 'Social Networks': 672, 'Software - Practice and Experience': 673, 'Software Process: Improvement and Practice': 674, 'Software Testing, Verification & Reliability': 675, 'Software and Systems Modeling': 676, 'Source Code for Biology and Medicine': 677, 'Space Communications': 678, 'Speech Communication': 679, 'Statistical Analysis and Data Mining': 680, 'Statistical Methods and Applications': 681, 'Statistics and Computing': 682, 'Studia Informatica Universalis': 683, 'Studia Logica': 684, 'Swarm Intelligence': 685, 'Symmetry': 686, 'Synthese': 687, 'Synthesis Lectures on Data Mining and Knowledge Discovery': 688, 'Synthesis Lectures on Human Language Technologies': 689, 'Synthesis Lectures on Speech and Audio Processing': 690, 'Systems & Control Letters': 691, 'Systems and Computers in Japan': 692, 'Technology Analysis & Strategic Management': 693, 'Telecommunication Systems': 694, 'Teleoperators and Virtual Environments': 695, 'The Annals of Applied Statistics': 696, 'The Bulletin of Symbolic Logic': 697, 'The Computer Journal': 698, 'The Information Society': 699, 'The International Journal of Robotics Research': 700, 'The Journal of Logic and Algebraic Programming': 701, 'The Journal of Object Technology': 702, 'The Journal of Supercomputing': 703, 'The Visual Computer': 704, 'Theoretical Computer Science': 705, 'Theoretical Informatics and Applications': 706, 'Theory and Decision': 707, 'Theory and Practice of Logic Programming': 708, 'Theory in Biosciences': 709, 'Topics in Cognitive Science': 710, 'Transactions in Gis': 711, 'Transactions on Computational Systems Biology': 712, 'Transportation Science': 713, 'Ubiquity': 714, 'User Modeling and User-adapted Interaction': 715, 'Web Intelligence and Agent Systems: An International Journal': 716, 'Wiley Interdisciplinary Reviews-Data Mining and Knowledge Discovery': 717, 'Wireless Communications and Mobile Computing': 718, 'Wireless Networks': 719, 'Wireless Personal Communications': 720, 'acm conference on hypertext': 721, 'acm ieee international conference on mobile computing and networking': 722, 'acm ieee joint conference on digital libraries': 723, 'acm multimedia': 724, 'acm sigplan symposium on principles and practice of parallel programming': 725, 'acm special interest group on data communication': 726, 'acm symposium on applied computing': 727, 'acm symposium on parallel algorithms and architectures': 728, 'acm/ieee international conference on mobile computing and networking': 729, 'acm/ieee joint conference on digital libraries': 730, 'acs ieee international conference on computer systems and applications': 731, 'acs/ieee international conference on computer systems and applications': 732, 'ad hoc networks': 733, 'adaptive agents and multi agents systems': 734, 'adaptive agents and multi-agents systems': 735, 'adaptive hardware and systems': 736, 'adaptive multimedia retrieval': 737, 'advanced concepts for intelligent vision systems': 738, 'advanced information networking and applications': 739, 'advanced parallel programming technologies': 740, 'advanced video and signal based surveillance': 741, 'advanced visual interfaces': 742, 'advances in computer games': 743, 'advances in computer-human interaction': 744, 'advances in computing and communications': 745, 'advances in databases and information systems': 746, 'advances in geographic information systems': 747, 'advances in mobile multimedia': 748, 'advances in multimedia': 749, 'advances in social networks analysis and mining': 750, 'affective computing and intelligent interaction': 751, 'agent and multi agent systems technologies and applications': 752, 'agent and multi-agent systems: technologies and applications': 753, 'agent-directed simulation': 754, 'algebraic methodology and software technology': 755, 'algorithmic applications in management': 756, 'algorithmic approaches for transportation modeling optimization and systems': 757, 'algorithmic approaches for transportation modeling, optimization, and systems': 758, 'algorithmic game theory': 759, 'algorithmic learning theory': 760, 'ambient intelligence': 761, 'american control conference': 762, 'annual computer security applications conference': 763, 'annual simulation symposium': 764, 'annual software engineering workshop': 765, 'application specific systems architectures and processors': 766, 'application-specific systems, architectures, and processors': 767, 'applications and theory of petri nets': 768, 'applications of natural language to data bases': 769, 'applied cryptography and network security': 770, 'applied reconfigurable computing': 771, 'arXiv: Adaptation and Self-Organizing Systems': 772, 'arXiv: Artificial Intelligence': 773, 'arXiv: Category Theory': 774, 'arXiv: Commutative Algebra': 775, 'arXiv: Computation and Language': 776, 'arXiv: Computational Complexity': 777, 'arXiv: Computer Science and Game Theory': 778, 'arXiv: Computer Vision and Pattern Recognition': 779, 'arXiv: Cryptography and Security': 780, 'arXiv: Data Structures and Algorithms': 781, 'arXiv: Databases': 782, 'arXiv: Discrete Mathematics': 783, 'arXiv: Distributed, Parallel, and Cluster Computing': 784, 'arXiv: Dynamical Systems': 785, 'arXiv: Hardware Architecture': 786, 'arXiv: High Energy Physics - Theory': 787, 'arXiv: Human-Computer Interaction': 788, 'arXiv: Information Theory': 789, 'arXiv: Instrumentation and Methods for Astrophysics': 790, 'arXiv: Learning': 791, 'arXiv: Machine Learning': 792, 'arXiv: Multiagent Systems': 793, 'arXiv: Networking and Internet Architecture': 794, 'arXiv: Neural and Evolutionary Computing': 795, 'arXiv: Numerical Analysis': 796, 'arXiv: Optimization and Control': 797, 'arXiv: Other Computer Science': 798, 'arXiv: Physics and Society': 799, 'arXiv: Probability': 800, 'arXiv: Quantum Physics': 801, 'arXiv: Social and Information Networks': 802, 'arXiv: Software Engineering': 803, 'arXiv: Statistical Mechanics': 804, 'architectural support for programming languages and operating systems': 805, 'architectures for networking and communications systems': 806, 'artificial general intelligence': 807, 'artificial intelligence and symbolic computation': 808, 'artificial intelligence applications and innovations': 809, 'artificial intelligence in education': 810, 'artificial intelligence in medicine in europe': 811, 'artificial intelligence methodology systems applications': 812, 'asia and south pacific design automation conference': 813, 'asia information retrieval symposium': 814, 'asia pacific conference on circuits and systems': 815, 'asia pacific conference on conceptual modelling': 816, 'asia pacific software engineering conference': 817, 'asia pacific web conference': 818, 'asia-pacific bioinformatics conference': 819, 'asia-pacific computer and human interaction': 820, 'asia-pacific services computing conference': 821, 'asia-pacific software engineering conference': 822, 'asia-pacific web conference': 823, 'asian conference on computer vision': 824, 'asian conference on intelligent information and database systems': 825, 'asian conference on machine learning': 826, 'asian internet engineering conference': 827, 'asian simulation conference': 828, 'asian symposium on programming languages and systems': 829, 'asian test symposium': 830, 'aspect-oriented software development': 831, 'australasian user interface conference': 832, 'australian joint conference on artificial intelligence': 833, 'australian software engineering conference': 834, 'automated software engineering': 835, 'automated technology for verification and analysis': 836, 'autonomic and trusted computing': 837, 'bioinformatics and bioengineering': 838, 'bioinformatics and biomedicine': 839, 'bioinformatics research and development': 840, 'bioinspired models of network, information, and computing systems': 841, 'biomedical engineering and informatics': 842, 'brazilian symposium on artificial intelligence': 843, 'brazilian symposium on neural networks': 844, 'british machine vision conference': 845, 'british national conference on databases': 846, 'broadband and wireless computing, communication and applications': 847, 'broadband communications, networks and systems': 848, 'business information systems': 849, 'business process management': 850, 'canadian conference on artificial intelligence': 851, 'canadian conference on computer and robot vision': 852, 'canadian conference on electrical and computer engineering': 853, 'cluster computing and the grid': 854, 'collaboration technologies and systems': 855, 'collaborative computing': 856, 'cologne twente workshop on graphs and combinatorial optimization': 857, 'combinatorial pattern matching': 858, 'communicating process architectures': 859, 'communication system software and middleware': 860, 'communication systems and networks': 861, 'communications and mobile computing': 862, 'compiler construction': 863, 'compilers, architecture, and synthesis for embedded systems': 864, 'component based software engineering': 865, 'computational intelligence': 866, 'computational intelligence and data mining': 867, 'computational intelligence and games': 868, 'computational intelligence and security': 869, 'computational intelligence for modelling, control and automation': 870, 'computational intelligence in bioinformatics and computational biology': 871, 'computational intelligence in robotics and automation': 872, 'computational intelligence methods for bioinformatics and biostatistics': 873, 'computational learning theory': 874, 'computational methods in systems biology': 875, 'computational science and engineering': 876, 'computational sciences and optimization': 877, 'computational systems bioinformatics': 878, 'computer aided modeling and design of communication links and networks': 879, 'computer aided systems theory': 880, 'computer aided verification': 881, 'computer algebra in scientific computing': 882, 'computer analysis of images and patterns': 883, 'computer and communications security': 884, 'computer and information technology': 885, 'computer animation and social agents': 886, 'computer assisted radiology and surgery': 887, 'computer based medical systems': 888, 'computer games': 889, 'computer graphics international': 890, 'computer science and information engineering': 891, 'computer science and its applications': 892, 'computer science and software engineering': 893, 'computer security foundations workshop': 894, 'computer software and applications conference': 895, 'computer supported collaborative learning': 896, 'computer supported cooperative work in design': 897, 'computer vision and pattern recognition': 898, 'computer, information, and systems sciences, and engineering': 899, 'computer-aided design and computer graphics': 900, 'computer-based medical systems': 901, 'conference of the european chapter of the association for computational linguistics': 902, 'conference of the international speech communication association': 903, 'conference on advanced information systems engineering': 904, 'conference on communication networks and services research': 905, 'conference on computability in europe': 906, 'conference on computational complexity': 907, 'conference on computer supported cooperative work': 908, 'conference on computers and accessibility': 909, 'conference on current trends in theory and practice of informatics': 910, 'conference on decision and control': 911, 'conference on emerging network experiment and technology': 912, 'conference on image and video retrieval': 913, 'conference on information and knowledge management': 914, 'conference on information sciences and systems': 915, 'conference on management of data': 916, 'conference on multimedia modeling': 917, 'conference on network and service management': 918, 'conference on object oriented programming systems languages and applications': 919, 'conference on object-oriented programming systems, languages, and applications': 920, 'conference on recommender systems': 921, 'conference on scientific computing': 922, 'conference on software maintenance and reengineering': 923, 'congress on evolutionary computation': 924, 'consumer communications and networking conference': 925, 'content based multimedia indexing': 926, 'content-based multimedia indexing': 927, 'cooperative information agents': 928, 'cooperative information systems': 929, 'cross language evaluation forum': 930, 'cryptographic hardware and embedded systems': 931, 'custom integrated circuits conference': 932, 'cyberworlds': 933, 'data and knowledge engineering': 934, 'data compression conference': 935, 'data integration in the life sciences': 936, 'data management for sensor networks': 937, 'data management on new hardware': 938, 'data mining and optimization': 939, 'data warehousing and knowledge discovery': 940, 'data warehousing and olap': 941, 'database and expert systems applications': 942, 'decision support systems': 943, 'defect and fault tolerance in vlsi and nanotechnology systems': 944, 'deontic logic in computer science': 945, 'dependable systems and networks': 946, 'design and diagnostics of electronic circuits and systems': 947, 'design automation conference': 948, 'design of reliable communication networks': 949, 'design, automation, and test in europe': 950, 'designing interactive systems': 951, 'digital game and intelligent toy enhanced learning': 952, 'digital identity management': 953, 'digital image computing: techniques and applications': 954, 'digital systems design': 955, 'discrete geometry for computer imagery': 956, 'distributed applications and interoperable systems': 957, 'distributed computing in sensor systems': 958, 'document analysis systems': 959, 'document engineering': 960, 'electro information technology': 961, 'electronic and mechanical engineering and information technology': 962, 'electronic commerce': 963, 'embedded and real-time computing systems and applications': 964, 'embedded and ubiquitous computing': 965, 'embedded software': 966, 'emerging technologies and factory automation': 967, 'empirical methods in natural language processing': 968, 'empirical software engineering and measurement': 969, 'engineering of computer based systems': 970, 'enterprise distributed object computing': 971, 'environmental science and information application technology': 972, 'eurographics symposium on rendering techniques': 973, 'euromicro conference on real time systems': 974, 'euromicro conference on real-time systems': 975, 'european conference on artificial intelligence': 976, 'european conference on artificial life': 977, 'european conference on circuit theory and design': 978, 'european conference on computational biology': 979, 'european conference on computer supported cooperative work': 980, 'european conference on computer systems': 981, 'european conference on computer vision': 982, 'european conference on information retrieval': 983, 'european conference on information systems': 984, 'european conference on object oriented programming': 985, 'european conference on object-oriented programming': 986, 'european conference on parallel processing': 987, 'european conference on principles of data mining and knowledge discovery': 988, 'european conference on research and advanced technology for digital libraries': 989, 'european conference on web services': 990, 'european dependable computing conference': 991, 'european public key infrastructure workshop': 992, 'european semantic web conference': 993, 'european symposium on algorithms': 994, 'european symposium on programming': 995, 'european symposium on research in computer security': 996, 'european test symposium': 997, 'fast software encryption': 998, 'field programmable custom computing machines': 999, 'field programmable gate arrays': 1000, 'field-programmable custom computing machines': 1001, 'field-programmable logic and applications': 1002, 'field-programmable technology': 1003, 'financial cryptography': 1004, 'finite-state methods and natural language processing': 1005, 'flexible query answering systems': 1006, 'formal methods': 1007, 'formal methods in computer-aided design': 1008, 'formal techniques for (networked and) distributed systems': 1009, 'forum on specification and design languages': 1010, 'foundations of computer science': 1011, 'foundations of digital games': 1012, 'foundations of software engineering': 1013, 'foundations of software science and computation structure': 1014, 'frontier of computer science and technology': 1015, 'fundamental approaches to software engineering': 1016, 'fuzzy systems and knowledge discovery': 1017, 'generative programming and component engineering': 1018, 'genetic and evolutionary computation conference': 1019, 'geographic information retrieval': 1020, 'geographic information science': 1021, 'geometric modeling and imaging': 1022, 'geometric modeling and processing': 1023, 'global communications conference': 1024, 'granular computing': 1025, 'great lakes symposium on vlsi': 1026, 'grid and cooperative computing': 1027, 'grid and pervasive computing': 1028, 'grid computing': 1029, 'hawaii international conference on system sciences': 1030, 'high assurance systems engineering': 1031, 'high level design validation and test': 1032, 'high performance computing and communications': 1033, 'high performance computing systems and applications': 1034, 'high performance distributed computing': 1035, 'high performance interconnects': 1036, 'high-assurance systems engineering': 1037, 'high-performance computer architecture': 1038, 'hot topics in operating systems': 1039, 'human factors in computing systems': 1040, 'human-robot interaction': 1041, 'iberian conference on pattern recognition and image analysis': 1042, 'ieee automatic speech recognition and understanding workshop': 1043, 'ieee international conference on automatic face and gesture recognition': 1044, 'ieee international conference on cloud computing technology and science': 1045, 'ieee international conference on fuzzy systems': 1046, 'ieee international conference on high performance computing data and analytics': 1047, 'ieee international conference on pervasive computing and communications': 1048, 'ieee international conference on requirements engineering': 1049, 'ieee international software metrics symposium': 1050, 'ieee international symposium on workload characterization': 1051, 'ieee symposium on information visualization': 1052, 'ieee symposium on security and privacy': 1053, 'ieee virtual reality conference': 1054, 'ieee visualization': 1055, 'ieee-ras international conference on humanoid robots': 1056, 'industrial and engineering applications of artificial intelligence and expert systems': 1057, 'information and communication technologies in tourism': 1058, 'information hiding': 1059, 'information interaction in context': 1060, 'information processing and management of uncertainty': 1061, 'information processing in medical imaging': 1062, 'information processing in sensor networks': 1063, 'information reuse and integration': 1064, 'information sciences, signal processing and their applications': 1065, 'information security': 1066, 'information security for south africa': 1067, 'information technology interfaces': 1068, 'integer programming and combinatorial optimization': 1069, 'integrated network management': 1070, 'integrating technology into computer science education': 1071, 'integration of ai and or techniques in constraint programming': 1072, 'intelligence and security informatics': 1073, 'intelligent agents': 1074, 'intelligent data analysis': 1075, 'intelligent data engineering and automated learning': 1076, 'intelligent information hiding and multimedia signal processing': 1077, 'intelligent information systems': 1078, 'intelligent information technology application': 1079, 'intelligent networking and collaborative systems': 1080, 'intelligent robots and systems': 1081, 'intelligent systems design and applications': 1082, 'intelligent systems in molecular biology': 1083, 'intelligent tutoring systems': 1084, 'intelligent user interfaces': 1085, 'intelligent virtual agents': 1086, 'interactive 3d graphics and games': 1087, 'international acm sigir conference on research and development in information retrieval': 1088, 'international colloquium on automata languages and programming': 1089, 'international colloquium on automata, languages and programming': 1090, 'international colloquium on grammatical inference': 1091, 'international colloquium on theoretical aspects of computing': 1092, 'international conference for young computer scientists': 1093, 'international conference in central europe on computer graphics and visualization': 1094, 'international conference of distributed computing and networking': 1095, 'international conference of the ieee engineering in medicine and biology society': 1096, 'international conference on acoustics speech and signal processing': 1097, 'international conference on acoustics, speech, and signal processing': 1098, 'international conference on advanced learning technologies': 1099, 'international conference on agents and artificial intelligence': 1100, 'international conference on algorithms and complexity': 1101, 'international conference on application of concurrency to system design': 1102, 'international conference on artificial immune systems': 1103, 'international conference on artificial intelligence and law': 1104, 'international conference on artificial neural networks': 1105, 'international conference on asian digital libraries': 1106, 'international conference on asian language processing': 1107, 'international conference on automated planning and scheduling': 1108, 'international conference on autonomic and autonomous systems': 1109, 'international conference on bioinformatics': 1110, 'international conference on bioinformatics and biomedical engineering': 1111, 'international conference on biometrics': 1112, 'international conference on cloud computing': 1113, 'international conference on cluster computing': 1114, 'international conference on communications': 1115, 'international conference on computational linguistics': 1116, 'international conference on computational logistics': 1117, 'international conference on computational science and its applications': 1118, 'international conference on computer aided design': 1119, 'international conference on computer communications': 1120, 'international conference on computer communications and networks': 1121, 'international conference on computer design': 1122, 'international conference on computer graphics and interactive techniques': 1123, 'international conference on computer modeling and simulation': 1124, 'international conference on computer safety reliability and security': 1125, 'international conference on computer safety, reliability, and security': 1126, 'international conference on computer vision': 1127, 'international conference on computer vision systems': 1128, 'international conference on computers in education': 1129, 'international conference on computing theory and applications': 1130, 'international conference on conceptual modeling': 1131, 'international conference on conceptual structures': 1132, 'international conference on concurrency theory': 1133, 'international conference on control and automation': 1134, 'international conference on control, automation, robotics and vision': 1135, 'international conference on coordination models and languages': 1136, 'international conference on cyber-physical systems': 1137, 'international conference on data engineering': 1138, 'international conference on data mining': 1139, 'international conference on database theory': 1140, 'international conference on design of communication': 1141, 'international conference on digital information management': 1142, 'international conference on distributed computing systems': 1143, 'international conference on distributed smart cameras': 1144, 'international conference on document analysis and recognition': 1145, 'international conference on e-business': 1146, 'international conference on e-business and e-government': 1147, 'international conference on e-business engineering': 1148, 'international conference on ehealth, telemedicine, and social medicine': 1149, 'international conference on electrical engineering and informatics': 1150, 'international conference on electronic publishing': 1151, 'international conference on electronics, communications, and computers': 1152, 'international conference on embedded networked sensor systems': 1153, 'international conference on embedded software and systems': 1154, 'international conference on emerging security information, systems and technologies': 1155, 'international conference on engineering of complex computer systems': 1156, 'international conference on formal methods and models for co design': 1157, 'international conference on frontiers in handwriting recognition': 1158, 'international conference on functional programming': 1159, 'international conference on genetic and evolutionary computing': 1160, 'international conference on global software engineering': 1161, 'international conference on human computer interaction': 1162, 'international conference on human-computer interaction': 1163, 'international conference on hybrid information technology': 1164, 'international conference on hybrid learning and education': 1165, 'international conference on image analysis and processing': 1166, 'international conference on image and graphics': 1167, 'international conference on image processing': 1168, 'international conference on information networking': 1169, 'international conference on information security and cryptology': 1170, 'international conference on information systems': 1171, 'international conference on information technology new generations': 1172, 'international conference on information technology: new generations': 1173, 'international conference on innovative computing, information and control': 1174, 'international conference on intelligent computing': 1175, 'international conference on intelligent robotics and applications': 1176, 'international conference on internet and web applications and services': 1177, 'international conference on learning representations': 1178, 'international conference on logic programming': 1179, 'international conference on machine learning': 1180, 'international conference on machine learning and applications': 1181, 'international conference on machine learning and cybernetics': 1182, 'international conference on management of data': 1183, 'international conference on mems, nano, and smart systems': 1184, 'international conference on mobile and ubiquitous systems networking and services': 1185, 'international conference on mobile and ubiquitous systems: networking and services': 1186, 'international conference on mobile systems, applications, and services': 1187, 'international conference on multimedia and expo': 1188, 'international conference on multimedia computing and systems': 1189, 'international conference on multimodal interfaces': 1190, 'international conference on network protocols': 1191, 'international conference on networking': 1192, 'international conference on networking and services': 1193, 'international conference on networking, sensing and control': 1194, 'international conference on networks': 1195, 'international conference on networks and communications': 1196, 'international conference on neural information processing': 1197, 'international conference on parallel and distributed systems': 1198, 'international conference on parallel architectures and compilation techniques': 1199, 'international conference on parallel processing': 1200, 'international conference on pattern recognition': 1201, 'international conference on peer-to-peer computing': 1202, 'international conference on performance engineering': 1203, 'international conference on persuasive technology': 1204, 'international conference on pervasive computing': 1205, 'international conference on pervasive services': 1206, 'international conference on program comprehension': 1207, 'international conference on quality software': 1208, 'international conference on robotics and automation': 1209, 'international conference on security and cryptography': 1210, 'international conference on semantic computing': 1211, 'international conference on sensor networks': 1212, 'international conference on service oriented computing': 1213, 'international conference on signal acquisition and processing': 1214, 'international conference on social computing': 1215, 'international conference on software engineering': 1216, 'international conference on software engineering advances': 1217, 'international conference on software maintenance': 1218, 'international conference on software testing verification and validation': 1219, 'international conference on software testing, verification, and validation': 1220, 'international conference on supercomputing': 1221, 'international conference on systems': 1222, 'international conference on systems engineering': 1223, 'international conference on telecommunications': 1224, 'international conference on the digital society': 1225, 'international conference on tools with artificial intelligence': 1226, 'international conference on ubiquitous information management and communication': 1227, 'international conference on ultra modern telecommunications': 1228, 'international conference on vlsi design': 1229, 'international conference on web engineering': 1230, 'international conference on web services': 1231, 'international conference on weblogs and social media': 1232, 'international conference on wireless communications and mobile computing': 1233, 'international conference on wireless information networks and systems': 1234, 'international convention on information and communication technology, electronics and microelectronics': 1235, 'international cryptology conference': 1236, 'international database engineering and applications symposium': 1237, 'international geoscience and remote sensing symposium': 1238, 'international joint conference on artificial intelligence': 1239, 'international joint conference on automated reasoning': 1240, 'international joint conference on natural language processing': 1241, 'international joint conference on neural network': 1242, 'international joint conferences on bioinformatics, systems biology and intelligent computing': 1243, 'international multiconference on computer science and information technology': 1244, 'international on line testing symposium': 1245, 'international parallel and distributed processing symposium': 1246, 'international performance computing and communications conference': 1247, 'international performance, computing, and communications conference': 1248, 'international professional communication conference': 1249, 'international semantic web conference': 1250, 'international solid-state circuits conference': 1251, 'international symposium on algorithms and computation': 1252, 'international symposium on autonomous decentralized systems': 1253, 'international symposium on bioinformatics research and applications': 1254, 'international symposium on biomedical imaging': 1255, 'international symposium on chinese spoken language processing': 1256, 'international symposium on circuits and systems': 1257, 'international symposium on computer and information sciences': 1258, 'international symposium on computer architecture': 1259, 'international symposium on computers and communications': 1260, 'international symposium on distributed computing': 1261, 'international symposium on electronic commerce and security': 1262, 'international symposium on functional and logic programming': 1263, 'international symposium on imprecise probabilities and their applications': 1264, 'international symposium on industrial embedded systems': 1265, 'international symposium on information theory': 1266, 'international symposium on information theory and its applications': 1267, 'international symposium on low power electronics and design': 1268, 'international symposium on memory management': 1269, 'international symposium on microarchitecture': 1270, 'international symposium on mixed and augmented reality': 1271, 'international symposium on multimedia': 1272, 'international symposium on multiple valued logic': 1273, 'international symposium on multiple-valued logic': 1274, 'international symposium on neural networks': 1275, 'international symposium on object component service oriented real time distributed computing': 1276, 'international symposium on object/component/service-oriented real-time distributed computing': 1277, 'international symposium on parallel and distributed computing': 1278, 'international symposium on parallel and distributed processing and applications': 1279, 'international symposium on performance analysis of systems and software': 1280, 'international symposium on physical design': 1281, 'international symposium on quality electronic design': 1282, 'international symposium on software reliability engineering': 1283, 'international symposium on software testing and analysis': 1284, 'international symposium on symbolic and algebraic computation': 1285, 'international symposium on visual computing': 1286, 'international symposium on wearable computers': 1287, 'international symposium on wireless communication systems': 1288, 'international symposium/conference on music information retrieval': 1289, 'international syposium on methodologies for intelligent systems': 1290, 'international test conference': 1291, 'international work-conference on the interplay between natural and artificial computation': 1292, 'international workshop on quality of service': 1293, 'international workshop on security': 1294, 'international workshop/conference on parsing technologies': 1295, 'international world wide web conferences': 1296, 'internet measurement conference': 1297, 'italian workshop on neural nets': 1298, 'knowledge acquisition, modeling and management': 1299, 'knowledge discovery and data mining': 1300, 'kommunikation in verteilten systemen': 1301, 'language resources and evaluation': 1302, 'languages, compilers, and tools for embedded systems': 1303, 'latin american symposium on theoretical informatics': 1304, 'latin american web congress': 1305, 'local computer networks': 1306, 'logic in computer science': 1307, 'machine learning and data mining in pattern recognition': 1308, 'machine vision applications': 1309, 'mathematical foundations of computer science': 1310, 'mathematical methods models and architectures for network security systems': 1311, 'measurement and modeling of computer systems': 1312, 'medical image computing and computer assisted intervention': 1313, 'meeting of the association for computational linguistics': 1314, 'memory technology design and testing': 1315, 'mexican international conference on artificial intelligence': 1316, 'mexican international conference on computer science': 1317, 'microelectronics systems education': 1318, 'mobile ad hoc and sensor networks': 1319, 'mobile ad hoc networking and computing': 1320, 'mobile ad-hoc and sensor networks': 1321, 'mobile adhoc and sensor systems': 1322, 'mobile and ubiquitous multimedia': 1323, 'mobile and wireless communication networks': 1324, 'mobile data management': 1325, 'mobile lightweight wireless systems': 1326, 'mobility management and wireless access': 1327, 'model based methodologies for pervasive and embedded software': 1328, 'model driven engineering languages and systems': 1329, 'modeling analysis and simulation of wireless and mobile systems': 1330, 'modeling analysis and simulation on computer and telecommunication systems': 1331, 'modeling and optimization in mobile ad hoc and wireless networks': 1332, 'modeling and optimization in mobile, ad-hoc and wireless networks': 1333, 'modeling decisions for artificial intelligence': 1334, 'modeling, analysis, and simulation on computer and telecommunication systems': 1335, 'motion in games': 1336, 'multimedia and ubiquitous engineering': 1337, 'multimedia information retrieval': 1338, 'multimedia signal processing': 1339, 'multiple criteria decision making': 1340, 'nano micro engineered and molecular systems': 1341, 'nano/micro engineered and molecular systems': 1342, 'nasa formal methods': 1343, 'national conference on artificial intelligence': 1344, 'network and operating system support for digital audio and video': 1345, 'network and parallel computing': 1346, 'network and system security': 1347, 'network and system support for games': 1348, 'network computing and applications': 1349, 'network operations and management symposium': 1350, 'network-based information systems': 1351, 'networked computing and advanced information management': 1352, 'networks-on-chips': 1353, 'neural information processing systems': 1354, 'new interfaces for musical expression': 1355, 'new technologies, mobility and security': 1356, 'next generation internet': 1357, 'nordic conference on human-computer interaction': 1358, 'north american chapter of the association for computational linguistics': 1359, 'open source systems': 1360, 'operating systems design and implementation': 1361, 'pacific asia conference on information systems': 1362, 'pacific asia conference on knowledge discovery and data mining': 1363, 'pacific conference on computer graphics and applications': 1364, 'pacific rim international symposium on dependable computing': 1365, 'pacific symposium on biocomputing': 1366, 'pacific-asia conference on circuits, communications and systems': 1367, 'pacific-asia workshop on computational intelligence and industrial application': 1368, 'panhellenic conference on informatics': 1369, 'parallel and distributed computing: applications and technologies': 1370, 'parallel computing': 1371, 'parallel computing in electrical engineering': 1372, 'parallel distributed and network based processing': 1373, 'parallel problem solving from nature': 1374, 'parallel, distributed and network-based processing': 1375, 'partial evaluation and semantic-based program manipulation': 1376, 'passive and active network measurement': 1377, 'pattern recognition and machine intelligence': 1378, 'performance evaluation methodolgies and tools': 1379, 'performance evaluation of wireless ad hoc, sensor, and ubiquitous networks': 1380, 'personal indoor and mobile radio communications': 1381, 'personal, indoor and mobile radio communications': 1382, 'pervasive computing and communications': 1383, 'pervasive technologies related to assistive environments': 1384, 'picture coding symposium': 1385, 'power and timing modeling optimization and simulation': 1386, 'principles and practice of constraint programming': 1387, 'principles and practice of declarative programming': 1388, 'principles of distributed computing': 1389, 'principles of knowledge representation and reasoning': 1390, 'principles, systems and applications of ip telecommunications': 1391, 'product focused software process improvement': 1392, 'programming language design and implementation': 1393, 'public key cryptography': 1394, 'quantitative evaluation of systems': 1395, 'rapid system prototyping': 1396, 'real time systems symposium': 1397, 'real time technology and applications symposium': 1398, 'real-time systems symposium': 1399, 'recent advances in intrusion detection': 1400, 'reconfigurable communication centric systems on chip': 1401, 'reconfigurable computing and fpgas': 1402, 'requirements engineering': 1403, 'research challenges in information science': 1404, 'research in computational molecular biology': 1405, 'rewriting techniques and applications': 1406, 'robot and human interactive communication': 1407, 'robot soccer world cup': 1408, 'robotics and biomimetics': 1409, 'robotics, automation and mechatronics': 1410, 'rough sets and knowledge technology': 1411, 'scalable information systems': 1412, 'secure software integration and reliability improvement': 1413, 'security and privacy in communication networks': 1414, 'self adaptive and self organizing systems': 1415, 'self-adaptive and self-organizing systems': 1416, 'semantics, knowledge and grid': 1417, 'sensor mesh and ad hoc communications and networks': 1418, 'sensor, mesh and ad hoc communications and networks': 1419, 'service oriented software engineering': 1420, 'services science, management and engineering': 1421, 'signal processing systems': 1422, 'signal-image technology and internet-based systems': 1423, 'simulated evolution and learning': 1424, 'soft computing': 1425, 'soft computing and pattern recognition': 1426, 'software - science, technology and engineering': 1427, 'software engineering and advanced applications': 1428, 'software engineering and formal methods': 1429, 'software engineering research and applications': 1430, 'software engineering, artificial intelligence, networking and parallel/distributed computing': 1431, 'software product lines': 1432, 'southwest symposium on image analysis and interpretation': 1433, 'spoken language technology workshop': 1434, 'spring conference on computer graphics': 1435, 'spring simulation multiconference': 1436, 'statistical and scientific database management': 1437, 'supercomputing conference': 1438, 'symbolic and numeric algorithms for scientific computing': 1439, 'symposium on access control models and technologies': 1440, 'symposium on applications and the internet': 1441, 'symposium on applied computational intelligence and informatics': 1442, 'symposium on cloud computing': 1443, 'symposium on code generation and optimization': 1444, 'symposium on computational geometry': 1445, 'symposium on computer architecture and high performance computing': 1446, 'symposium on computer arithmetic': 1447, 'symposium on discrete algorithms': 1448, 'symposium on experimental and efficient algorithms': 1449, 'symposium on integrated circuits and systems design': 1450, 'symposium on operating systems principles': 1451, 'symposium on principles of database systems': 1452, 'symposium on principles of programming languages': 1453, 'symposium on reliable distributed systems': 1454, 'symposium on the theory of computing': 1455, 'symposium on theoretical aspects of computer science': 1456, 'symposium on usable privacy and security': 1457, 'symposium on web systems evolution': 1458, 'symposium/workshop on electronic design, test and applications': 1459, 'symposium/workshop on haskell': 1460, 'system analysis and modeling': 1461, 'systems man and cybernetics': 1462, 'systems, man and cybernetics': 1463, 'technical symposium on computer science education': 1464, 'testbeds and research infrastructures for the development of networks and communities': 1465, 'text retrieval conference': 1466, 'text speech and dialogue': 1467, 'the european symposium on artificial neural networks': 1468, 'the florida ai research society': 1469, 'theoretical aspects of software engineering': 1470, 'theory and application of cryptographic techniques': 1471, 'theory and applications of satisfiability testing': 1472, 'tools and algorithms for construction and analysis of systems': 1473, 'traffic monitoring and analysis': 1474, 'trends in functional programming': 1475, 'trust and trustworthy computing': 1476, 'ubiquitous computing': 1477, 'ubiquitous intelligence and computing': 1478, 'uncertainty in artificial intelligence': 1479, 'usenix large installation systems administration conference': 1480, 'usenix technical conference': 1481, 'user interface software and technology': 1482, 'variability modelling of software intensive systems': 1483, 'vehicular technology conference': 1484, 'very large data bases': 1485, 'virtual environments human computer interfaces and measurement systems': 1486, 'virtual execution environments': 1487, 'virtual reality continuum and its applications in industry': 1488, 'virtual reality software and technology': 1489, 'vision modeling and visualization': 1490, 'visual analytics science and technology': 1491, 'visualization for computer security': 1492, 'vlsi design and test': 1493, 'vlsi test symposium': 1494, 'wearable and implantable body sensor networks': 1495, 'web age information management': 1496, 'web and wireless geographical information systems': 1497, 'web information systems engineering': 1498, 'web intelligence': 1499, 'web search and data mining': 1500, 'winter simulation conference': 1501, 'wireless algorithms systems and applications': 1502, 'wireless and mobile computing, networking and communications': 1503, 'wireless and optical communications conference': 1504, 'wireless and optical communications networks': 1505, 'wireless communications and networking conference': 1506, 'wireless network security': 1507, 'wireless, mobile and ubiquitous technologies in education': 1508, 'working conference on reverse engineering': 1509, 'working ieee/ifip conference on software architecture': 1510, 'workshop in information security theory and practice': 1511, 'workshop on algorithms in bioinformatics': 1512, 'workshop on applications of computer vision': 1513, 'workshop on applications of signal processing to audio and acoustics': 1514, 'workshop on biomedical image registration': 1515, 'workshop on hot topics in operating systems': 1516, 'workshop on internet and network economics': 1517, 'workshop on knowledge discovery and data mining': 1518, 'workshop on parallel and distributed simulation': 1519, 'workshop on positioning navigation and communication': 1520, 'workshop on program analysis for software tools and engineering': 1521, 'workshop on software and performance': 1522, 'workshops on enabling technologies: infrastracture for collaborative enterprises': 1523, 'world haptics conference': 1524, 'world of wireless mobile and multimedia networks': 1525, 'world summit on the knowledge society': 1526, 'worst case execution time analysis': 1527, nan: 1528}\n"
     ]
    }
   ],
   "source": [
    "\n",
    "label_encoder = LabelEncoder()\n",
    "df[\"venue_label\"] = label_encoder.fit_transform(df[\"venue\"])"
   ]
  },
  {
   "cell_type": "code",
   "execution_count": null,
   "metadata": {},
   "outputs": [],
   "source": [
    "train_texts, val_texts, train_labels, val_labels = train_test_split(\n",
    "    df[\"abstract\"].tolist(), df[\"venue_label\"].tolist(), test_size=0.2, random_state=42)\n"
   ]
  },
  {
   "cell_type": "code",
   "execution_count": null,
   "metadata": {},
   "outputs": [],
   "source": [
    "vectorizer = TfidfVectorizer(max_features=10000)\n",
    "X_train_tfidf = vectorizer.fit_transform(train_texts)\n",
    "X_val_tfidf = vectorizer.transform(val_texts)\n"
   ]
  },
  {
   "cell_type": "code",
   "execution_count": null,
   "metadata": {},
   "outputs": [],
   "source": [
    "models = {\n",
    "    \"SVM\": SVC(),\n",
    "    \"Naive Bayes\": MultinomialNB(),\n",
    "    \"Logistic Regression\": LogisticRegression(max_iter=1000),\n",
    "    \"SGD Classifier\": SGDClassifier(),\n",
    "    \"Random Forest\": RandomForestClassifier()\n",
    "}\n",
    "results = {}\n",
    "for name, model in models.items():\n",
    "    model.fit(train_texts, train_labels)\n",
    "    y_pred = model.predict(train_texts)\n",
    "    acc = accuracy_score(val_labels, y_pred)\n",
    "    results[name] = acc\n",
    "    print(f\"{name}: Accuracy = {acc:.4f}\")\n",
    "\n",
    "for name, model in models.items():\n",
    "    y_pred = model.predict(val_texts)\n",
    "    print(f\"Classification Report for {name}:\")\n",
    "    print(classification_report(val_labels, y_pred))\n",
    "\n",
    "\n",
    "param_grid_sgd = {\n",
    "    \"estimator__loss\": [\"hinge\", \"log_loss\"],\n",
    "    \"estimator__alpha\": [1e-4, 1e-3, 1e-2],\n",
    "    \"estimator__max_iter\": [1000, 2000],\n",
    "    \"estimator__tol\": [1e-3, 1e-4],\n",
    "}\n",
    "\n",
    "grid_search_sgd = GridSearchCV(OneVsRestClassifier(SGDClassifier()), param_grid_sgd, cv=5, scoring=\"accuracy\", n_jobs=-1)\n",
    "grid_search_sgd.fit(train_texts, val_texts)\n",
    "\n",
    "print(\"Best param:\", grid_search_sgd.best_params_)\n",
    "print(\"Best score:\", grid_search_sgd.best_score_)"
   ]
  },
  {
   "cell_type": "markdown",
   "metadata": {},
   "source": [
    "###BERT"
   ]
  },
  {
   "cell_type": "code",
   "execution_count": null,
   "metadata": {},
   "outputs": [],
   "source": [
    "\n",
    "tokenizer = BertTokenizer.from_pretrained(\"bert-base-uncased\")\n",
    "train_encodings = tokenizer(train_texts, truncation=True, padding=True, max_length=512)\n",
    "val_encodings = tokenizer(val_texts, truncation=True, padding=True, max_length=512)\n"
   ]
  },
  {
   "cell_type": "code",
   "execution_count": null,
   "metadata": {},
   "outputs": [],
   "source": [
    "class VenueDataset(Dataset):\n",
    "    def __init__(self, encodings, labels):\n",
    "        self.encodings = encodings\n",
    "        self.labels = labels\n",
    "    \n",
    "    def __len__(self):\n",
    "        return len(self.labels)\n",
    "    \n",
    "    def __getitem__(self, idx):\n",
    "        item = {key: torch.tensor(val[idx]) for key, val in self.encodings.items()}\n",
    "        item[\"labels\"] = torch.tensor(self.labels[idx])\n",
    "        return item"
   ]
  },
  {
   "cell_type": "code",
   "execution_count": null,
   "metadata": {},
   "outputs": [],
   "source": [
    "\n",
    "train_dataset = VenueDataset(train_encodings, train_labels)\n",
    "val_dataset = VenueDataset(val_encodings, val_labels)"
   ]
  },
  {
   "cell_type": "code",
   "execution_count": 9,
   "metadata": {},
   "outputs": [],
   "source": [
    "\n",
    "vectorizer = TfidfVectorizer(max_features=5000) \n",
    "X = vectorizer.fit_transform(df['processed_abstract']).toarray()\n",
    "y = df['encoded venue']\n"
   ]
  },
  {
   "cell_type": "code",
   "execution_count": null,
   "metadata": {},
   "outputs": [],
   "source": [
    "model = BertForSequenceClassification.from_pretrained(\"bert-base-uncased\", num_labels=len(set(df[\"venue_label\"])), use_fast = True)\n"
   ]
  },
  {
   "cell_type": "code",
   "execution_count": null,
   "metadata": {},
   "outputs": [],
   "source": [
    "training_args = TrainingArguments(\n",
    "    output_dir=\"./results\",\n",
    "    evaluation_strategy=\"epoch\",\n",
    "    save_strategy=\"epoch\",\n",
    "    learning_rate=2e-5,\n",
    "    per_device_train_batch_size=8,\n",
    "    per_device_eval_batch_size=8,\n",
    "    num_train_epochs=3,\n",
    "    weight_decay=0.01,\n",
    "    logging_dir=\"./logs\",\n",
    ")"
   ]
  },
  {
   "cell_type": "code",
   "execution_count": null,
   "metadata": {},
   "outputs": [],
   "source": [
    "trainer = Trainer( #from the api\n",
    "    model=model,\n",
    "    args=training_args,\n",
    "    train_dataset=train_dataset,\n",
    "    eval_dataset=val_dataset,\n",
    "    compute_metrics=lambda p: {\"accuracy\": accuracy_score(p.label_ids, np.argmax(p.predictions, axis=1))},\n",
    ")\n",
    "trainer.train()"
   ]
  },
  {
   "cell_type": "code",
   "execution_count": null,
   "metadata": {},
   "outputs": [],
   "source": [
    "\n",
    "predictions = trainer.predict(val_dataset)\n",
    "y_preds = np.argmax(predictions.predictions, axis=1)\n",
    "print(classification_report(val_labels, y_preds, target_names=label_encoder.classes_))"
   ]
  },
  {
   "cell_type": "code",
   "execution_count": null,
   "metadata": {},
   "outputs": [],
   "source": [
    "# Save trained model & tokenizer for future inference\n",
    "model.save_pretrained(\"bert_venue_prediction\")\n",
    "tokenizer.save_pretrained(\"bert_venue_prediction\")\n",
    "\n",
    "print(\"Model and tokenizer saved successfully!\")"
   ]
  }
 ],
 "metadata": {
  "kernelspec": {
   "display_name": "Python 3",
   "language": "python",
   "name": "python3"
  },
  "language_info": {
   "codemirror_mode": {
    "name": "ipython",
    "version": 3
   },
   "file_extension": ".py",
   "mimetype": "text/x-python",
   "name": "python",
   "nbconvert_exporter": "python",
   "pygments_lexer": "ipython3",
   "version": "3.12.9"
  }
 },
 "nbformat": 4,
 "nbformat_minor": 2
}
